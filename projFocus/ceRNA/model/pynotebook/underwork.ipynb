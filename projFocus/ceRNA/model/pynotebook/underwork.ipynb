{
 "metadata": {
  "name": ""
 },
 "nbformat": 3,
 "nbformat_minor": 0,
 "worksheets": [
  {
   "cells": [
    {
     "cell_type": "code",
     "collapsed": false,
     "input": [
      "import  sys,getopt\n",
      "from    collections     import defaultdict, Counter, Sequence\n",
      "from    parseGslistFile import parseGslistFile\n",
      "import  numpy           as np\n",
      "import  subprocess\n",
      "import  os.path\n",
      "import  pandas as pd\n",
      "from    pandas import DataFrame\n"
     ],
     "language": "python",
     "metadata": {},
     "outputs": [],
     "prompt_number": 149
    },
    {
     "cell_type": "code",
     "collapsed": false,
     "input": [
      "###inti global variables-----\n",
      "RSCRIPT = \"/ifs/home/c2b2/ac_lab/jh3283/tools/R/R-3-02/bin/Rscript\"\n",
      "RCODE = \"/ifs/home/c2b2/ac_lab/jh3283/scripts/projFocus/ceRNA/model/step6-1_greedyOpt_mutTF.r\"\n",
      "RCODEPERM = \"/ifs/home/c2b2/ac_lab/jh3283/scripts/projFocus/ceRNA/model/step6-1_greedyOpt_mutTF_perm.r\"\n"
     ],
     "language": "python",
     "metadata": {},
     "outputs": [],
     "prompt_number": 150
    },
    {
     "cell_type": "code",
     "collapsed": false,
     "input": [
      "###argvs-----\n",
      "tgfile = \"/Volumes//ifs/data/c2b2/ac_lab/jh3283/projFocus/result/07152014/tfMut/test/input.tfmut.test\" \n",
      "netfile = \"/Volumes//ifs/data/c2b2/ac_lab/jh3283/projFocus/data/networks/brca_tcga_rnaseq851_geneid-regulon.rda.4col.txt.naomit.symbol\"\n",
      "\n",
      "expfile =\"/Volumes/ifs/data/c2b2/ac_lab/jh3283/projFocus/result/03102014/exp/brca_exp_l3_tumor_Mar-21-2014.matrix_Mar-26-2014.voomNormed.matrix\"\n",
      "mutfile =\"/Volumes/ifs/data/c2b2/ac_lab/jh3283/projFocus/result/05012014/tcgal2som/brca_somlevel2_byGene.matrix.inExpSmp.matrix.nonzero\"\n",
      "\n",
      "cntperm = 100\n",
      "nrand = 1000\n",
      "ttol = 'fix'\n",
      "tsel = 'max'\n",
      "\n",
      "output= \"/Volumes//ifs/data/c2b2/ac_lab/jh3283/projFocus/result/07152014/tfMut/test/output.tfmut.test\" \n",
      "logDir =\"/Volumes/ifs/data/c2b2/ac_lab/jh3283/projFocus/result/05012014/sigMut/test/log\"\n"
     ],
     "language": "python",
     "metadata": {},
     "outputs": [],
     "prompt_number": 151
    },
    {
     "cell_type": "code",
     "collapsed": false,
     "input": [
      "###func----\n",
      "def formatSampleName(code19):\n",
      "    if len(code19) >11:\n",
      "        return code19[5:16].replace(\"-\",\".\")\n",
      "    else :\n",
      "        return code19.replace(\"-\", \".\")\n",
      "\n",
      "def loadTgs(genefile):\n",
      "    resL = []\n",
      "    with open(genefile) as f:\n",
      "        line = f.readline()\n",
      "        while line:\n",
      "            resL.append(line.strip().split()[0])\n",
      "            line = f.readline()\n",
      "    return(resL)\n",
      "\n",
      "def getMutExpSmp(expfile, mutfile):\n",
      "    resL = []\n",
      "    with open(expfile) as f:\n",
      "        resL = f.readline().strip().split(\"\\t\")\n",
      "        resL = map(formatSampleName, resL)\n",
      "    with open(mutfile) as f:\n",
      "        allMutSmp = f.readline().strip().split(\"\\t\")\n",
      "        resL = [a for a in map(formatSampleName, allMutSmp) if a in resL]\n",
      "    return resL\n",
      "\n",
      "def format2Dlist(l2d):\n",
      "    out = []\n",
      "    for i in l2d:\n",
      "        out.append(\"[\"+\",\".join(map(str,i)) + \"]\")\n",
      "    return \";\".join(out)\n",
      "\n",
      "def loadTarReg(net, tgL):\n",
      "    '''network file second column target, first column regulator    '''\n",
      "    resD = defaultdict(list)\n",
      "    with (open(netfile) ) as f:\n",
      "\t\tline = f.readline()\n",
      "\t\twhile line:\n",
      "\t\t\tg1, g2 = line.split()[:2]\n",
      "\t\t\tif g2 in tgL:\n",
      "\t\t\t\tresD[g2].append(g1)\n",
      "\t\t\tline = f.readline()\n",
      "    return resD\n",
      "\n",
      "\n",
      "def loadExp(expfile, smpsL):\n",
      "    resD = defaultdict(list)\n",
      "    with open(expfile) as f:\n",
      "        allExpSmp = map(formatSampleName, f.readline().strip().split(\"\\t\"))\n",
      "        line = f.readline()\n",
      "        while line:\n",
      "            crt_g, crt_e = line.strip().split(\"\\t\",1)\n",
      "            temp = map(float,crt_e.split(\"\\t\"))\n",
      "            resD[crt_g] = temp\n",
      "            line = f.readline()\n",
      "    resDF = DataFrame(resD, index=allExpSmp).T[smpsL]\n",
      "    return resDF\n",
      "\n",
      "def loadMut(mutfile, smpsL):\n",
      "    resD = defaultdict(list)\n",
      "    with open(mutfile) as f:\n",
      "        _, allMutSmp = f.readline().strip().split(\"\\t\",1)\n",
      "        allMutSmp = map(formatSampleName, allMutSmp.split(\"\\t\"))\n",
      "        line = f.readline()\n",
      "        while line:\n",
      "            crt_g, crt_v = line.strip().split(\"\\t\",1)\n",
      "            temp =  map(int,crt_v.split(\"\\t\"))\n",
      "            resD[crt_g] = temp\n",
      "            line = f.readline()\n",
      "    resDF = DataFrame(resD,index=allMutSmp).T[smpsL]\n",
      "    return resDF\n"
     ],
     "language": "python",
     "metadata": {},
     "outputs": [],
     "prompt_number": 152
    },
    {
     "cell_type": "code",
     "collapsed": false,
     "input": [
      "###loading data----\n",
      "tgeneList = loadTgs(tgfile)\n",
      "mutExpSmpL = getMutExpSmp(expfile, mutfile)\n",
      "\n",
      "expD = loadExp(expfile, mutExpSmpL).T\n",
      "\n",
      "mutD = loadMut(mutfile, mutExpSmpL).T\n",
      "\n",
      "tarRegD = loadTarReg(netfile, tgeneList)\n"
     ],
     "language": "python",
     "metadata": {},
     "outputs": [],
     "prompt_number": 153
    },
    {
     "cell_type": "code",
     "collapsed": false,
     "input": [
      "def writeTgFile(tgene, mutDF, expDF,allmutgene, allRegsL,output):\n",
      "    allmutgene = list(mutDF.index)\n",
      "    allexpgene = list(expDF.index)\n",
      "    if not tgene in allexpgene:\n",
      "        print tgene, \"not in expreesion matrix\"\n",
      "        return -1\n",
      "    \n",
      "    allRegsL = [g for g in tarRegD[tgene] if g in allmutgene]\n",
      "    if len(allRegsL) < 6:\n",
      "        print \"mutated regulator numbers less than 6\", len(allRegsL)\n",
      "        return -2 \n",
      "    \n",
      "    regExpDF = expDF.loc[[tgene]]\n",
      "    regMutDF = mutDF.loc[allRegsL]\n",
      "\n",
      "    regExpDF.to_csv(output, sep=\"\\t\",mode='w')\n",
      "    regMutDF.to_csv(output, sep=\"\\t\",mode='aw', header=False)\n",
      "    return 1"
     ],
     "language": "python",
     "metadata": {},
     "outputs": [],
     "prompt_number": 154
    },
    {
     "cell_type": "code",
     "collapsed": false,
     "input": [
      "def runTgRjob(tgene, nrand, outTemp, t = 'qsub'):\n",
      "    \n",
      "    outTemp = output + \"_\" + tgene + \".tsv\"\n",
      "    \n",
      "    LOGDIR = logDir\n",
      "    JOBNAME = tgene + \"_selMS\"\n",
      "    TTOL = ttol #\"flex\"\n",
      "    TSEL = tsel #\"max\" \n",
      "    NRAND = nrand\n",
      "    \n",
      "    OUTPUT = output + \"_\" + tgene\n",
      "    cmd = \"qsub -l mem=8g,time=40:: -S /\" +  RSCRIPT + \\\n",
      "            \" -e \" + LOGDIR + \\\n",
      "            \" -o \" + LOGDIR + \\\n",
      "            \" -N \" + JOBNAME + \\\n",
      "            \" -cwd \" + \\\n",
      "            RCODEPERM + \" --vanilla \" + \\\n",
      "            \" --data \" + outTemp + \\\n",
      "            \" --nrandStart \" + NRANDSTART +  \\\n",
      "            \" --nrandk \"  + NRANDK + \\\n",
      "            \" --output \" + OUTPUT    \n",
      "    if not os.path.isfile(outTemp) : \n",
      "        subprocess.Popen(cmd, shell = True)\n",
      "    else:\n",
      "        print outTemp + \" already exist, skip it \" \n",
      "    \n",
      "        Rscript     20  100  $PWD/selMS_cluster\n",
      "def runPermTgRjob(tgene, nperm, nrand, outTemp, t = 'qsub'): \n",
      "    for iperm in range(cntperm):\n",
      "        \n",
      "        JOBNAME = tgene + \"_permu\" + str(iperm)\n",
      "        OUTPUT = output + \"_\" + tgene +  \"_\" + str(iperm) \n",
      "        \n",
      "        cmd = \"qsub -l mem=8g,time=40:: -S /\" +  RSCRIPT + \\\n",
      "                \" -e \" + LOGDIR + \\\n",
      "                \" -o \" + LOGDIR + \\\n",
      "                \" -N \" + JOBNAME + \\\n",
      "                \" -cwd \" + \\\n",
      "                RCODEPERM + \" --vanilla \" + \\\n",
      "                \" --data \" + outTemp + \\\n",
      "                \" --nrandStart \" + NRANDSTART +  \\\n",
      "                \" --nrandk \"  + NRANDK + \\\n",
      "                \" --npermLable \" + NPERMLABLE + \\\n",
      "                \" --output \" + OUTPUT\n",
      "        # print cmd\n",
      "        if not os.path.isfile(outTemp) : \n",
      "            subprocess.Popen(cmd, shell = True)\n",
      "        else:\n",
      "            print outTemp + \" already exist, skip it \" \n",
      "            "
     ],
     "language": "python",
     "metadata": {},
     "outputs": [],
     "prompt_number": 155
    },
    {
     "cell_type": "code",
     "collapsed": false,
     "input": [],
     "language": "python",
     "metadata": {},
     "outputs": [],
     "prompt_number": 135
    },
    {
     "cell_type": "code",
     "collapsed": false,
     "input": [],
     "language": "python",
     "metadata": {},
     "outputs": []
    },
    {
     "cell_type": "code",
     "collapsed": false,
     "input": [
      "###main----\n",
      "for tgene in tgeneList:\n",
      "    outTemp = output + \"_\" + tgene + \".temp\"\n",
      "    writeTgFile(tgene, mutD, expD, allmutgene, allRegsL, outTemp)\n",
      "#     runTgRjob(tgene, nperm, nrand, outTemp, t = 'qsub')\n",
      "#     runPermTgRjob(tgene, nperm, nrand, outTemp, t = 'qsub')\n"
     ],
     "language": "python",
     "metadata": {},
     "outputs": [
      {
       "metadata": {},
       "output_type": "pyout",
       "prompt_number": 143,
       "text": [
        "1"
       ]
      }
     ],
     "prompt_number": 143
    },
    {
     "cell_type": "code",
     "collapsed": false,
     "input": [],
     "language": "python",
     "metadata": {},
     "outputs": [
      {
       "metadata": {},
       "output_type": "pyout",
       "prompt_number": 100,
       "text": [
        "BH.A18Q.01A    6.0351\n",
        "A1.A0SF.01A    3.6070\n",
        "A8.A07B.01A    4.7892\n",
        "BH.A18V.01A    5.0935\n",
        "A2.A04V.01A    2.0758\n",
        "Name: PTPLB, dtype: float64"
       ]
      }
     ],
     "prompt_number": 100
    },
    {
     "cell_type": "code",
     "collapsed": false,
     "input": [],
     "language": "python",
     "metadata": {},
     "outputs": [],
     "prompt_number": 148
    },
    {
     "cell_type": "code",
     "collapsed": false,
     "input": [],
     "language": "python",
     "metadata": {},
     "outputs": [],
     "prompt_number": "*"
    },
    {
     "cell_type": "code",
     "collapsed": false,
     "input": [],
     "language": "python",
     "metadata": {},
     "outputs": [
      {
       "metadata": {},
       "output_type": "pyout",
       "prompt_number": 80,
       "text": [
        "'0.12.0'"
       ]
      }
     ],
     "prompt_number": 80
    },
    {
     "cell_type": "code",
     "collapsed": false,
     "input": [
      "\n"
     ],
     "language": "python",
     "metadata": {},
     "outputs": [],
     "prompt_number": 52
    },
    {
     "cell_type": "code",
     "collapsed": false,
     "input": [],
     "language": "python",
     "metadata": {},
     "outputs": [],
     "prompt_number": 120
    },
    {
     "cell_type": "code",
     "collapsed": false,
     "input": [],
     "language": "python",
     "metadata": {},
     "outputs": [
      {
       "output_type": "stream",
       "stream": "stdout",
       "text": [
        "   v1  v2  v3\n",
        "A   1   2   3\n",
        "B   2   4   6 /Volumes//ifs/data/c2b2/ac_lab/jh3283/projFocus/result/07152014/tfMut/test/output.tfmut.test\n"
       ]
      }
     ],
     "prompt_number": 126
    },
    {
     "cell_type": "code",
     "collapsed": false,
     "input": [],
     "language": "python",
     "metadata": {},
     "outputs": [
      {
       "html": [
        "<div style=\"max-height:1000px;max-width:1500px;overflow:auto;\">\n",
        "<table border=\"1\" class=\"dataframe\">\n",
        "  <thead>\n",
        "    <tr style=\"text-align: right;\">\n",
        "      <th></th>\n",
        "      <th>v1</th>\n",
        "      <th>v2</th>\n",
        "      <th>v3</th>\n",
        "    </tr>\n",
        "  </thead>\n",
        "  <tbody>\n",
        "    <tr>\n",
        "      <th>A</th>\n",
        "      <td> 1</td>\n",
        "      <td> 2</td>\n",
        "      <td> 3</td>\n",
        "    </tr>\n",
        "  </tbody>\n",
        "</table>\n",
        "</div>"
       ],
       "metadata": {},
       "output_type": "pyout",
       "prompt_number": 134,
       "text": [
        "   v1  v2  v3\n",
        "A   1   2   3"
       ]
      }
     ],
     "prompt_number": 134
    },
    {
     "cell_type": "code",
     "collapsed": false,
     "input": [],
     "language": "python",
     "metadata": {},
     "outputs": []
    }
   ],
   "metadata": {}
  }
 ]
}