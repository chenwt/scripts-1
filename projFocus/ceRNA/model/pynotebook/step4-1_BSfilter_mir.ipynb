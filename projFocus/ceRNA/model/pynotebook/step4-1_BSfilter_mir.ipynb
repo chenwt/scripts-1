{
 "metadata": {
  "name": ""
 },
 "nbformat": 3,
 "nbformat_minor": 0,
 "worksheets": [
  {
   "cells": [
    {
     "cell_type": "raw",
     "metadata": {},
     "source": [
      "input : 1> the predicted binding site genomic coordinates, \n",
      "       2> somatic mutation site genomic coordinate\n",
      "output: 1> the mutations occurs in binding site, and the target gene, as well as the modulator(TF/miRNA)"
     ]
    },
    {
     "cell_type": "code",
     "collapsed": false,
     "input": [
      "#!/usr/bin/python\n",
      "#J.HE\n",
      "#Desp.: given predicted binding site, find the mutations that are in the binding\n",
      "#sites for each gene\n",
      "\n",
      "import sys,getopt\n",
      "import re\n",
      "from collections import defaultdict\n",
      "from generalUtils import *\n",
      "\n",
      "# argv = sys.argv[1:]\n",
      "# input = ''\n",
      "# output = ''\n",
      "# usage = 'python ' + sys.argv[0] + ' -s <binding site file> \\\n",
      "# -m <mutations> -o <output> '\n",
      "# example = 'python ' + sys.argv[0] + ' -i <input>  -o <output>'\n",
      "# try:\n",
      "#     opts,args = getopt.getopt(argv,\"hs:m:o:\")\n",
      "# except getopt.GetoptError:\n",
      "#     print usage + \"\\n\" + example\n",
      "#     sys.exit(2)\n",
      "# for opt, arg in opts:\n",
      "#     if opt == '-h':\n",
      "#         print usage + \"\\n\" + example\n",
      "#         sys.exit()\n",
      "#     elif opt in (\"-s\"):\n",
      "#         bsfile = arg\n",
      "#     elif opt in (\"-m\"):\n",
      "#         mutfile = arg\n",
      "#     elif opt in (\"-o\"):\n",
      "#         output = arg\n",
      "# print('Script path:\\t'+ sys.argv[0])\n",
      "# print('Input file:\\t' + bsfile)\n",
      "# print('Input file:\\t' + mutfile)\n",
      "# print('Output file:\\t'+ output)\n",
      "\n"
     ],
     "language": "python",
     "metadata": {},
     "outputs": [],
     "prompt_number": 13
    },
    {
     "cell_type": "code",
     "collapsed": false,
     "input": [
      "##test file\n",
      "mutfile=\"/Volumes//ifs/data/c2b2/ac_lab/jh3283/projFocus/data/03102014/tcgal2som/genome.wustl.edu__Illumina_All.maf\"\n",
      "outputfile=\"/Volumes//ifs/data/c2b2/ac_lab/jh3283/projFocus/result/05012014/fucFilt/mut_in_TFBindSite_05142014.hg19\""
     ],
     "language": "python",
     "metadata": {},
     "outputs": [],
     "prompt_number": 14
    },
    {
     "cell_type": "code",
     "collapsed": false,
     "input": [
      "class GeneRegion:\n",
      "    def __init__(self, gene, chr, ps, pe, strand):\n",
      "        self.gene = gene\n",
      "        self.chr = chr\n",
      "        self.ps = int(ps)\n",
      "        self.pe = int(pe)\n",
      "        self.strand = strand\n",
      "    def __eq__(self,other):\n",
      "        return self.gene == other.gene and \\\n",
      "                self.chr == other.chr and \\\n",
      "                self.ps == other.ps and  \\\n",
      "                self.pe == other.pe\n",
      "                \n",
      "    def __ne__(self, other):\n",
      "        return self.gene == other.gene or \\\n",
      "                self.chr == other.chr or \\\n",
      "                self.ps == other.ps or \\\n",
      "                self.pe == other.pe\n",
      "     \n",
      "    def __str__(self):\n",
      "        return '%s\\t%s:%s-%s' % (self.gene, self.chr, self.ps, self.pe )\n",
      "    \n",
      "    def __expr__(self):\n",
      "        return '%s\\t%s:%s-%s' % (self.gene, self.chr, self.ps, self.pe )\n",
      "    \n",
      "    def __cmp__(self, grObj):\n",
      "        if self.chr == grObj.chr:\n",
      "            if self.pe < grObj.ps:\n",
      "                return -1\n",
      "            elif self.ps > grObj.pe:\n",
      "                return 1\n",
      "            else :\n",
      "                return 0\n",
      "        else:\n",
      "            return -2\n",
      "    \n",
      "    def __intersect__(self, gRObj):\n",
      "        if self.chr == gRObj.chr:\n",
      "            if self.pe < gRObj.ps or self.ps > gRObj.pe:\n",
      "                return 0\n",
      "            else:\n",
      "                return 1\n",
      "        else:\n",
      "            return 0\n",
      "    def info(self):\n",
      "        return(self.gene + \"\\t\" + self.chr + \":\" + \"-\".join(map(str),[self.ps, self.pe]))\n"
     ],
     "language": "python",
     "metadata": {},
     "outputs": [],
     "prompt_number": 15
    },
    {
     "cell_type": "code",
     "collapsed": false,
     "input": [
      "def __test_GRObj():\n",
      "    testGG1 = GeneRegion('ZYX', 1, 23, 23 + 1, '+')\n",
      "    testGG2 = GeneRegion('X', 1, 23, 30, '+')\n",
      "    testGG3 = GeneRegion('Z', 1, 10, 22,'-')\n",
      "    testGG4 = GeneRegion('X', 1, 23, 30, '+')\n",
      "    \n",
      "    print testGG1 == testGG2\n",
      "    print testGG2 == testGG4\n",
      "    print testGG1.__intersect__(testGG2)\n",
      "    print testGG1.__intersect__(testGG3)"
     ],
     "language": "python",
     "metadata": {},
     "outputs": [],
     "prompt_number": 16
    },
    {
     "cell_type": "code",
     "collapsed": false,
     "input": [],
     "language": "python",
     "metadata": {},
     "outputs": [],
     "prompt_number": 16
    },
    {
     "cell_type": "code",
     "collapsed": false,
     "input": [
      "###load mutation info\n",
      "mutDict = defaultdict(list)\n",
      "cnt = 0\n",
      "with(open(mutfile)) as f:\n",
      "    head = f.readline()\n",
      "    line = f.readline()\n",
      "    while line:\n",
      "        g_crt, _, _,  _, chr_crt, ps_crt, pe_crt, strand_crt = \\\n",
      "                line.strip().split(\"\\t\",7)\n",
      "        crtMut = GeneRegion(g_crt, chr_crt, ps_crt, pe_crt, strand_crt)\n",
      "        mutDict[g_crt].append(crtMut)\n",
      "        cnt = cnt + 1\n",
      "        line = f.readline()\n",
      "print \"mutations loaded : %s\" % cnt\n"
     ],
     "language": "python",
     "metadata": {},
     "outputs": [
      {
       "output_type": "stream",
       "stream": "stdout",
       "text": [
        "mutations loaded : 137732\n"
       ]
      }
     ],
     "prompt_number": 17
    },
    {
     "cell_type": "code",
     "collapsed": false,
     "input": [],
     "language": "python",
     "metadata": {},
     "outputs": [],
     "prompt_number": 17
    },
    {
     "cell_type": "code",
     "collapsed": false,
     "input": [
      "\n",
      "def find_intersect(mutObj, bsObjList):\n",
      "    if mutObj.pe < bsObjList[0].ps or \\\n",
      "        mutObj.ps > bsObjList[-1].pe:\n",
      "        return 0\n",
      "    for bsObj_crt in bsObjList :\n",
      "        if mutObj.__intersect__(bsObj_crt):\n",
      "            return(bsObj_crt) \n",
      "    return 0\n"
     ],
     "language": "python",
     "metadata": {},
     "outputs": [],
     "prompt_number": 25
    },
    {
     "cell_type": "code",
     "collapsed": false,
     "input": [
      "mutOrigDict = mutDict"
     ],
     "language": "python",
     "metadata": {},
     "outputs": []
    },
    {
     "cell_type": "code",
     "collapsed": false,
     "input": [
      "mirBSfile = \"/Volumes//ifs/data/c2b2/ac_lab/jh3283/projFocus/data/cupidPrediction/cupid.GenomicCoord\"\n",
      "outputfile=\"/Volumes//ifs/data/c2b2/ac_lab/jh3283/projFocus/result/05012014/fucFilt/mut_in_MiRNABindSite_05152014.hg19\""
     ],
     "language": "python",
     "metadata": {},
     "outputs": [],
     "prompt_number": 45
    },
    {
     "cell_type": "code",
     "collapsed": false,
     "input": [
      "def writeLine(fileH, grObj1, grObj2):\n",
      "    fileH.write( grObj1.gene + \"\\t\" + grObj1.chr + \\\n",
      "                \":\" + \"-\".join(map(str,[grObj1.ps, grObj1.pe])) + \\\n",
      "                \"\\t\" + grObj2.gene + \"\\t\" + grObj2.chr + \\\n",
      "                \":\" + \"-\".join(map(str,[grObj2.ps, grObj2.pe]))  + \"\\n\" ) \n",
      "   \n",
      "bsDict = defaultdict(list)\n",
      "\n",
      "outputH = open(outputfile, 'wt')\n",
      "cnt = 0\n",
      "cntFind = 0 \n",
      "mutDict = mutOrigDict \n",
      "with(open(mirBSfile)) as f:\n",
      "    modType = f.readline().strip().split(\"\\t\")[0]\n",
      "    outHeader = [\"mutGene\", \"mutChr:mutPs-mutPe\",\"targetGene\",\"bsChr:bsPs-bsPe\", \"modulator\" + modType]\n",
      "    outputH.write(\"\\t\".join(outHeader) + \"\\n\" )\n",
      "    line = f.readline()\n",
      "    while line:\n",
      "        cnt  = cnt + 1\n",
      "        if cnt % 100 == 0:\n",
      "            print cnt\n",
      "        g_crt, chr_crt, coor_crt = re.split(r\"\\t|:\", line.strip())\n",
      "        ps_crtL = [pos for pos in re.split(\";\", coor_crt) if pos]\n",
      "        if not ps_crtL:\n",
      "            line = f.readline()\n",
      "            continue\n",
      "        \n",
      "        mutObj_crtL = [m for m in mutDict[g_crt] if m ]\n",
      "        if not mutObj_crtL:\n",
      "            line = f.readline()\n",
      "            continue\n",
      "\n",
      "        bsObj_crtL = map(lambda x: GeneRegion(g_crt, chr_crt, x, int(x) + 6,'+'), ps_crtL)\n",
      "\n",
      "        if min(map(lambda x:x.ps,mutObj_crtL))  > bsObj_crtL[-1].pe or \\\n",
      "            max(map(lambda x:x.pe,mutObj_crtL)) < bsObj_crtL[-1].ps:\n",
      "            line = f.readline()\n",
      "            continue\n",
      "        else:\n",
      "            for crtmut in mutObj_crtL:\n",
      "                bsObj_crt = find_intersect(crtmut, bsObj_crtL)\n",
      "                if bsObj_crt :\n",
      "                    print crtmut, bsObj_crt\n",
      "                    cntFind = cntFind  + 1\n",
      "                    writeLine(outputH, crtmut, bsObj_crt)\n",
      "                    continue\n",
      "        del mutDict[g_crt]\n",
      "        line = f.readline()\n",
      "\n",
      "print \"mutations find in tf binding area:\\t %s\" % cntFind\n",
      "outputH.close()"
     ],
     "language": "python",
     "metadata": {},
     "outputs": [
      {
       "output_type": "stream",
       "stream": "stdout",
       "text": [
        "100\n",
        "200"
       ]
      },
      {
       "output_type": "stream",
       "stream": "stdout",
       "text": [
        "\n",
        "300"
       ]
      },
      {
       "output_type": "stream",
       "stream": "stdout",
       "text": [
        "\n",
        "400"
       ]
      },
      {
       "output_type": "stream",
       "stream": "stdout",
       "text": [
        "\n",
        "500"
       ]
      },
      {
       "output_type": "stream",
       "stream": "stdout",
       "text": [
        "\n",
        "600"
       ]
      },
      {
       "output_type": "stream",
       "stream": "stdout",
       "text": [
        "\n",
        "700"
       ]
      },
      {
       "output_type": "stream",
       "stream": "stdout",
       "text": [
        "\n",
        "800"
       ]
      },
      {
       "output_type": "stream",
       "stream": "stdout",
       "text": [
        "\n",
        "900"
       ]
      },
      {
       "output_type": "stream",
       "stream": "stdout",
       "text": [
        "\n",
        "1000"
       ]
      },
      {
       "output_type": "stream",
       "stream": "stdout",
       "text": [
        "\n",
        "1100"
       ]
      },
      {
       "output_type": "stream",
       "stream": "stdout",
       "text": [
        "\n",
        "1200"
       ]
      },
      {
       "output_type": "stream",
       "stream": "stdout",
       "text": [
        "\n",
        "1300"
       ]
      },
      {
       "output_type": "stream",
       "stream": "stdout",
       "text": [
        "\n",
        "1400"
       ]
      },
      {
       "output_type": "stream",
       "stream": "stdout",
       "text": [
        "\n",
        "1500"
       ]
      },
      {
       "output_type": "stream",
       "stream": "stdout",
       "text": [
        "\n",
        "1600"
       ]
      },
      {
       "output_type": "stream",
       "stream": "stdout",
       "text": [
        "\n",
        "1700"
       ]
      },
      {
       "output_type": "stream",
       "stream": "stdout",
       "text": [
        "\n",
        "1800"
       ]
      },
      {
       "output_type": "stream",
       "stream": "stdout",
       "text": [
        "\n",
        "1900"
       ]
      },
      {
       "output_type": "stream",
       "stream": "stdout",
       "text": [
        "\n",
        "2000"
       ]
      },
      {
       "output_type": "stream",
       "stream": "stdout",
       "text": [
        "\n",
        "2100"
       ]
      },
      {
       "output_type": "stream",
       "stream": "stdout",
       "text": [
        "\n",
        "2200"
       ]
      },
      {
       "output_type": "stream",
       "stream": "stdout",
       "text": [
        "\n",
        "2300"
       ]
      },
      {
       "output_type": "stream",
       "stream": "stdout",
       "text": [
        "\n",
        "2400"
       ]
      },
      {
       "output_type": "stream",
       "stream": "stdout",
       "text": [
        "\n",
        "2500"
       ]
      },
      {
       "output_type": "stream",
       "stream": "stdout",
       "text": [
        "\n",
        "2600"
       ]
      },
      {
       "output_type": "stream",
       "stream": "stdout",
       "text": [
        "\n",
        "2700"
       ]
      },
      {
       "output_type": "stream",
       "stream": "stdout",
       "text": [
        "\n",
        "2800"
       ]
      },
      {
       "output_type": "stream",
       "stream": "stdout",
       "text": [
        "\n",
        "HABP4\t9:99252357-99252357 HABP4\t9:99252355-99252361\n",
        "FSD1L\t9:108226577-108226577"
       ]
      },
      {
       "output_type": "stream",
       "stream": "stdout",
       "text": [
        " FSD1L\t9:108226571-108226577\n",
        "FSD1L\t9:108246676-108246676 FSD1L\t9:108246670-108246676\n",
        "FSD1L\t9:108270913-108270913 FSD1L\t9:108270907-108270913\n",
        "FSD1L\t9:108297397-108297397"
       ]
      },
      {
       "output_type": "stream",
       "stream": "stdout",
       "text": [
        " FSD1L\t9:108297391-108297397\n",
        "FSD1L\t9:108226577-108226577 FSD1L\t9:108226571-108226577\n",
        "FKTN\t9:108370197-108370197"
       ]
      },
      {
       "output_type": "stream",
       "stream": "stdout",
       "text": [
        " FKTN\t9:108370191-108370197\n",
        "FKTN\t9:108380351-108380351 FKTN\t9:108380345-108380351\n",
        "FKTN\t9:108397331-108397331 FKTN\t9:108397325-108397331\n",
        "FKTN\t9:108370197-108370197"
       ]
      },
      {
       "output_type": "stream",
       "stream": "stdout",
       "text": [
        " FKTN\t9:108370191-108370197\n",
        "FKBP15\t9:115983586-115983586"
       ]
      },
      {
       "output_type": "stream",
       "stream": "stdout",
       "text": [
        " FKBP15\t9:115983580-115983586\n",
        "2900\n",
        "3000"
       ]
      },
      {
       "output_type": "stream",
       "stream": "stdout",
       "text": [
        "\n",
        "3100"
       ]
      },
      {
       "output_type": "stream",
       "stream": "stdout",
       "text": [
        "\n",
        "MID1\tX:10442697-10442697"
       ]
      },
      {
       "output_type": "stream",
       "stream": "stdout",
       "text": [
        " MID1\tX:10442691-10442697\n",
        "MID1\tX:10442722-10442722 MID1\tX:10442716-10442722\n",
        "MID1\tX:10442787-10442787"
       ]
      },
      {
       "output_type": "stream",
       "stream": "stdout",
       "text": [
        " MID1\tX:10442781-10442787\n",
        "MID1\tX:10450569-10450569 MID1\tX:10450563-10450569\n",
        "MID1\tX:10491176-10491176 MID1\tX:10491170-10491176\n",
        "MID1\tX:10534972-10534972"
       ]
      },
      {
       "output_type": "stream",
       "stream": "stdout",
       "text": [
        " MID1\tX:10534966-10534972\n",
        "MID1\tX:10535215-10535215 MID1\tX:10535209-10535215\n",
        "MID1\tX:10535323-10535323"
       ]
      },
      {
       "output_type": "stream",
       "stream": "stdout",
       "text": [
        " MID1\tX:10535317-10535323\n",
        "MID1\tX:10535364-10535364 MID1\tX:10535358-10535364\n",
        "MID1\tX:10535385-10535385"
       ]
      },
      {
       "output_type": "stream",
       "stream": "stdout",
       "text": [
        " MID1\tX:10535379-10535385\n",
        "MID1\tX:10442697-10442697 MID1\tX:10442691-10442697\n",
        "MID1\tX:10442722-10442722"
       ]
      },
      {
       "output_type": "stream",
       "stream": "stdout",
       "text": [
        " MID1\tX:10442716-10442722\n",
        "MID1\tX:10491176-10491176 MID1\tX:10491170-10491176\n",
        "MID1\tX:10534972-10534972 MID1\tX:10534966-10534972\n",
        "MID1\tX:10535323-10535323"
       ]
      },
      {
       "output_type": "stream",
       "stream": "stdout",
       "text": [
        " MID1\tX:10535317-10535323\n",
        "3200"
       ]
      },
      {
       "output_type": "stream",
       "stream": "stdout",
       "text": [
        "\n",
        "BEND2\tX:18192346-18192346"
       ]
      },
      {
       "output_type": "stream",
       "stream": "stdout",
       "text": [
        " BEND2\tX:18192340-18192346\n",
        "BEND2\tX:18194144-18194144 BEND2\tX:18194138-18194144\n",
        "BEND2\tX:18195777-18195777 BEND2\tX:18195771-18195777\n",
        "BEND2\tX:18198702-18198702"
       ]
      },
      {
       "output_type": "stream",
       "stream": "stdout",
       "text": [
        " BEND2\tX:18198696-18198702\n",
        "BEND2\tX:18221772-18221772 BEND2\tX:18221766-18221772\n",
        "BEND2\tX:18221806-18221806 BEND2\tX:18221800-18221806\n",
        "BEND2\tX:18234761-18234761 BEND2\tX:18234755-18234761\n",
        "BEND2\tX:18195777-18195777 BEND2\tX:18195771-18195777\n",
        "BEND2\tX:18221806-18221806 BEND2\tX:18221800-18221806\n",
        "BEND2\tX:18234761-18234761 BEND2\tX:18234755-18234761\n",
        "CNKSR2\tX:21444710-21444710"
       ]
      },
      {
       "output_type": "stream",
       "stream": "stdout",
       "text": [
        " CNKSR2\tX:21444704-21444710\n",
        "CNKSR2\tX:21444778-21444778"
       ]
      },
      {
       "output_type": "stream",
       "stream": "stdout",
       "text": [
        " CNKSR2\tX:21444772-21444778\n",
        "CNKSR2\tX:21450738-21450739"
       ]
      },
      {
       "output_type": "stream",
       "stream": "stdout",
       "text": [
        " CNKSR2\tX:21450732-21450738\n",
        "CNKSR2\tX:21450738-21450739"
       ]
      },
      {
       "output_type": "stream",
       "stream": "stdout",
       "text": [
        " CNKSR2\tX:21450732-21450738\n",
        "CNKSR2\tX:21450738-21450739"
       ]
      },
      {
       "output_type": "stream",
       "stream": "stdout",
       "text": [
        " CNKSR2\tX:21450732-21450738\n",
        "CNKSR2\tX:21450849-21450849"
       ]
      },
      {
       "output_type": "stream",
       "stream": "stdout",
       "text": [
        " CNKSR2\tX:21450843-21450849\n",
        "CNKSR2\tX:21450881-21450881"
       ]
      },
      {
       "output_type": "stream",
       "stream": "stdout",
       "text": [
        " CNKSR2\tX:21450875-21450881\n",
        "CNKSR2\tX:21450902-21450902"
       ]
      },
      {
       "output_type": "stream",
       "stream": "stdout",
       "text": [
        " CNKSR2\tX:21450896-21450902\n",
        "CNKSR2\tX:21458841-21458841"
       ]
      },
      {
       "output_type": "stream",
       "stream": "stdout",
       "text": [
        " CNKSR2\tX:21458835-21458841\n",
        "CNKSR2\tX:21581525-21581525 CNKSR2\tX:21581519-21581525\n",
        "CNKSR2\tX:21581525-21581525"
       ]
      },
      {
       "output_type": "stream",
       "stream": "stdout",
       "text": [
        " CNKSR2\tX:21581519-21581525\n",
        "CNKSR2\tX:21627213-21627213"
       ]
      },
      {
       "output_type": "stream",
       "stream": "stdout",
       "text": [
        " CNKSR2\tX:21627207-21627213\n",
        "CNKSR2\tX:21627269-21627269"
       ]
      },
      {
       "output_type": "stream",
       "stream": "stdout",
       "text": [
        " CNKSR2\tX:21627263-21627269\n",
        "CNKSR2\tX:21627677-21627678"
       ]
      },
      {
       "output_type": "stream",
       "stream": "stdout",
       "text": [
        " CNKSR2\tX:21627671-21627677\n",
        "CNKSR2\tX:21666975-21666975"
       ]
      },
      {
       "output_type": "stream",
       "stream": "stdout",
       "text": [
        " CNKSR2\tX:21666969-21666975\n",
        "CNKSR2\tX:21667121-21667121"
       ]
      },
      {
       "output_type": "stream",
       "stream": "stdout",
       "text": [
        " CNKSR2\tX:21667115-21667121\n",
        "CNKSR2\tX:21670489-21670489"
       ]
      },
      {
       "output_type": "stream",
       "stream": "stdout",
       "text": [
        " CNKSR2\tX:21670483-21670489\n",
        "CNKSR2\tX:21670583-21670583"
       ]
      },
      {
       "output_type": "stream",
       "stream": "stdout",
       "text": [
        " CNKSR2\tX:21670577-21670583\n",
        "CNKSR2\tX:21450738-21450739"
       ]
      },
      {
       "output_type": "stream",
       "stream": "stdout",
       "text": [
        " CNKSR2\tX:21450732-21450738\n",
        "CNKSR2\tX:21450849-21450849"
       ]
      },
      {
       "output_type": "stream",
       "stream": "stdout",
       "text": [
        " CNKSR2\tX:21450843-21450849\n",
        "CNKSR2\tX:21450902-21450902"
       ]
      },
      {
       "output_type": "stream",
       "stream": "stdout",
       "text": [
        " CNKSR2\tX:21450896-21450902\n",
        "CNKSR2\tX:21458841-21458841"
       ]
      },
      {
       "output_type": "stream",
       "stream": "stdout",
       "text": [
        " CNKSR2\tX:21458835-21458841\n",
        "CNKSR2\tX:21627269-21627269"
       ]
      },
      {
       "output_type": "stream",
       "stream": "stdout",
       "text": [
        " CNKSR2\tX:21627263-21627269\n",
        "CNKSR2\tX:21627677-21627678"
       ]
      },
      {
       "output_type": "stream",
       "stream": "stdout",
       "text": [
        " CNKSR2\tX:21627671-21627677\n",
        "CNKSR2\tX:21666975-21666975"
       ]
      },
      {
       "output_type": "stream",
       "stream": "stdout",
       "text": [
        " CNKSR2\tX:21666969-21666975\n",
        "LANCL3\tX:37431625-37431625"
       ]
      },
      {
       "output_type": "stream",
       "stream": "stdout",
       "text": [
        " LANCL3\tX:37431619-37431625\n",
        "LANCL3\tX:37515015-37515015 LANCL3\tX:37515009-37515015\n",
        "LANCL3\tX:37515047-37515047 LANCL3\tX:37515041-37515047\n",
        "3300"
       ]
      },
      {
       "output_type": "stream",
       "stream": "stdout",
       "text": [
        "\n",
        "CASK\tX:41782237-41782262"
       ]
      },
      {
       "output_type": "stream",
       "stream": "stdout",
       "text": [
        " CASK\tX:41782246-41782252\n",
        "SYN1\tX:47432291-47432291"
       ]
      },
      {
       "output_type": "stream",
       "stream": "stdout",
       "text": [
        " SYN1\tX:47432285-47432291\n",
        "SYN1\tX:47432351-47432351 SYN1\tX:47432345-47432351\n",
        "SYN1\tX:47436004-47436004 SYN1\tX:47435998-47436004\n",
        "SYN1\tX:47436041-47436041"
       ]
      },
      {
       "output_type": "stream",
       "stream": "stdout",
       "text": [
        " SYN1\tX:47436035-47436041\n",
        "SYN1\tX:47464780-47464780 SYN1\tX:47464774-47464780\n",
        "SYN1\tX:47464683-47464683 SYN1\tX:47464677-47464683\n",
        "CCDC120\tX:48921410-48921410"
       ]
      },
      {
       "output_type": "stream",
       "stream": "stdout",
       "text": [
        " CCDC120\tX:48921404-48921410\n",
        "CCDC120\tX:48921458-48921458 CCDC120\tX:48921452-48921458\n",
        "CCDC120\tX:48922006-48922006 CCDC120\tX:48922000-48922006\n",
        "CCDC120\tX:48922181-48922181 CCDC120\tX:48922175-48922181\n",
        "CCDC120\tX:48924824-48924824 CCDC120\tX:48924818-48924824\n",
        "CCDC120\tX:48924824-48924824 CCDC120\tX:48924818-48924824\n",
        "GPKOW\tX:48980041-48980041 GPKOW\tX:48980041-48980047\n",
        "3400\n",
        "PHF8\tX:53966665-53966665"
       ]
      },
      {
       "output_type": "stream",
       "stream": "stdout",
       "text": [
        " PHF8\tX:53966659-53966665\n",
        "PHF8\tX:53966853-53966853 PHF8\tX:53966847-53966853\n",
        "PHF8\tX:53966871-53966871"
       ]
      },
      {
       "output_type": "stream",
       "stream": "stdout",
       "text": [
        " PHF8\tX:53966865-53966871\n",
        "PHF8\tX:54012304-54012304 PHF8\tX:54012298-54012304\n",
        "PHF8\tX:54014274-54014274 PHF8\tX:54014268-54014274\n",
        "PHF8\tX:54020123-54020123 PHF8\tX:54020117-54020123\n",
        "PHF8\tX:54020225-54020225 PHF8\tX:54020219-54020225\n",
        "PHF8\tX:54026388-54026388 PHF8\tX:54026382-54026388\n",
        "PHF8\tX:54028588-54028588"
       ]
      },
      {
       "output_type": "stream",
       "stream": "stdout",
       "text": [
        " PHF8\tX:54028582-54028588\n",
        "PHF8\tX:54029058-54029059 PHF8\tX:54029052-54029058\n",
        "PHF8\tX:54037619-54037619 PHF8\tX:54037613-54037619\n",
        "PHF8\tX:54043158-54043158"
       ]
      },
      {
       "output_type": "stream",
       "stream": "stdout",
       "text": [
        " PHF8\tX:54043152-54043158\n",
        "PHF8\tX:54044120-54044120 PHF8\tX:54044114-54044120\n",
        "PHF8\tX:54069105-54069105"
       ]
      },
      {
       "output_type": "stream",
       "stream": "stdout",
       "text": [
        " PHF8\tX:54069099-54069105\n",
        "PHF8\tX:54069225-54069225 PHF8\tX:54069219-54069225\n",
        "PHF8\tX:53966853-53966853"
       ]
      },
      {
       "output_type": "stream",
       "stream": "stdout",
       "text": [
        " PHF8\tX:53966847-53966853\n",
        "PHF8\tX:54014274-54014274 PHF8\tX:54014268-54014274\n",
        "PHF8\tX:54020123-54020123 PHF8\tX:54020117-54020123\n",
        "PHF8\tX:54026388-54026388 PHF8\tX:54026382-54026388\n",
        "PHF8\tX:54028588-54028588 PHF8\tX:54028582-54028588\n",
        "PHF8\tX:54029058-54029059"
       ]
      },
      {
       "output_type": "stream",
       "stream": "stdout",
       "text": [
        " PHF8\tX:54029052-54029058\n",
        "PHF8\tX:54069105-54069105 PHF8\tX:54069099-54069105\n",
        "PHF8\tX:54069156-54069156"
       ]
      },
      {
       "output_type": "stream",
       "stream": "stdout",
       "text": [
        " PHF8\tX:54069150-54069156\n",
        "TRO\tX:54948666-54948666"
       ]
      },
      {
       "output_type": "stream",
       "stream": "stdout",
       "text": [
        " TRO\tX:54948660-54948666\n",
        "TRO\tX:54949181-54949181 TRO\tX:54949175-54949181\n",
        "TRO\tX:54949939-54949939 TRO\tX:54949933-54949939\n",
        "TRO\tX:54950989-54950989 TRO\tX:54950983-54950989\n",
        "TRO\tX:54954167-54954167 TRO\tX:54954161-54954167\n",
        "TRO\tX:54955076-54955076 TRO\tX:54955070-54955076\n",
        "TRO\tX:54955461-54955461 TRO\tX:54955455-54955461\n",
        "TRO\tX:54955699-54955699 TRO\tX:54955693-54955699\n",
        "TRO\tX:54955782-54955782 TRO\tX:54955776-54955782\n",
        "TRO\tX:54956207-54956207 TRO\tX:54956201-54956207\n",
        "TRO\tX:54956593-54956593 TRO\tX:54956587-54956593\n",
        "TRO\tX:54949939-54949939 TRO\tX:54949933-54949939\n",
        "TRO\tX:54950989-54950989 TRO\tX:54950983-54950989\n",
        "TRO\tX:54955461-54955461 TRO\tX:54955455-54955461\n",
        "TRO\tX:54955699-54955699 TRO\tX:54955693-54955699\n",
        "TRO\tX:54955782-54955782 TRO\tX:54955776-54955782\n",
        "TRO\tX:54956207-54956207 TRO\tX:54956201-54956207\n",
        "EDA\tX:68836476-68836476"
       ]
      },
      {
       "output_type": "stream",
       "stream": "stdout",
       "text": [
        " EDA\tX:68836470-68836476\n",
        "EDA\tX:69176943-69176943"
       ]
      },
      {
       "output_type": "stream",
       "stream": "stdout",
       "text": [
        " EDA\tX:69176937-69176943\n",
        "EDA\tX:69177016-69177016"
       ]
      },
      {
       "output_type": "stream",
       "stream": "stdout",
       "text": [
        " EDA\tX:69177010-69177016\n",
        "EDA\tX:69247730-69247730 EDA\tX:69247724-69247730\n",
        "EDA\tX:68836169-68836169 EDA\tX:68836163-68836169\n",
        "EDA\tX:68836476-68836476"
       ]
      },
      {
       "output_type": "stream",
       "stream": "stdout",
       "text": [
        " EDA\tX:68836470-68836476\n",
        "EDA\tX:69247730-69247730 EDA\tX:69247724-69247730\n",
        "NLGN3\tX:70389987-70389987"
       ]
      },
      {
       "output_type": "stream",
       "stream": "stdout",
       "text": [
        " NLGN3\tX:70389982-70389988\n",
        "NLGN3\tX:70390033-70390034 NLGN3\tX:70390031-70390037\n",
        "3500"
       ]
      },
      {
       "output_type": "stream",
       "stream": "stdout",
       "text": [
        "\n",
        "DACH2\tX:85403985-85403985"
       ]
      },
      {
       "output_type": "stream",
       "stream": "stdout",
       "text": [
        " DACH2\tX:85403979-85403985\n",
        "DACH2\tX:85404026-85404026 DACH2\tX:85404020-85404026\n",
        "DACH2\tX:85404051-85404051"
       ]
      },
      {
       "output_type": "stream",
       "stream": "stdout",
       "text": [
        " DACH2\tX:85404045-85404051\n",
        "DACH2\tX:85404052-85404052 DACH2\tX:85404046-85404052\n",
        "DACH2\tX:85769372-85769372"
       ]
      },
      {
       "output_type": "stream",
       "stream": "stdout",
       "text": [
        " DACH2\tX:85769366-85769372\n",
        "DACH2\tX:85950093-85950093"
       ]
      },
      {
       "output_type": "stream",
       "stream": "stdout",
       "text": [
        " DACH2\tX:85950087-85950093\n",
        "DACH2\tX:86071092-86071092 DACH2\tX:86071086-86071092\n",
        "DACH2\tX:86082772-86082772"
       ]
      },
      {
       "output_type": "stream",
       "stream": "stdout",
       "text": [
        " DACH2\tX:86082766-86082772\n",
        "DACH2\tX:85403921-85403921 DACH2\tX:85403915-85403921\n",
        "DACH2\tX:85404051-85404051"
       ]
      },
      {
       "output_type": "stream",
       "stream": "stdout",
       "text": [
        " DACH2\tX:85404045-85404051\n",
        "DACH2\tX:85769372-85769372"
       ]
      },
      {
       "output_type": "stream",
       "stream": "stdout",
       "text": [
        " DACH2\tX:85769366-85769372\n",
        "DACH2\tX:86071092-86071092 DACH2\tX:86071086-86071092\n",
        "PCDH11X\tX:91090834-91090834"
       ]
      },
      {
       "output_type": "stream",
       "stream": "stdout",
       "text": [
        " PCDH11X\tX:91090828-91090834\n",
        "PCDH11X\tX:91090836-91090836 PCDH11X\tX:91090830-91090836\n",
        "PCDH11X\tX:91091032-91091032"
       ]
      },
      {
       "output_type": "stream",
       "stream": "stdout",
       "text": [
        " PCDH11X\tX:91091026-91091032\n",
        "PCDH11X\tX:91131969-91131969"
       ]
      },
      {
       "output_type": "stream",
       "stream": "stdout",
       "text": [
        " PCDH11X\tX:91131963-91131969\n",
        "PCDH11X\tX:91132735-91132735"
       ]
      },
      {
       "output_type": "stream",
       "stream": "stdout",
       "text": [
        " PCDH11X\tX:91132729-91132735\n",
        "PCDH11X\tX:91133182-91133182"
       ]
      },
      {
       "output_type": "stream",
       "stream": "stdout",
       "text": [
        " PCDH11X\tX:91133176-91133182\n",
        "PCDH11X\tX:91133194-91133194"
       ]
      },
      {
       "output_type": "stream",
       "stream": "stdout",
       "text": [
        " PCDH11X\tX:91133188-91133194\n",
        "PCDH11X\tX:91133194-91133194"
       ]
      },
      {
       "output_type": "stream",
       "stream": "stdout",
       "text": [
        " PCDH11X\tX:91133188-91133194\n",
        "PCDH11X\tX:91134145-91134145"
       ]
      },
      {
       "output_type": "stream",
       "stream": "stdout",
       "text": [
        " PCDH11X\tX:91134139-91134145\n",
        "PCDH11X\tX:91134233-91134233"
       ]
      },
      {
       "output_type": "stream",
       "stream": "stdout",
       "text": [
        " PCDH11X\tX:91134227-91134233\n",
        "PCDH11X\tX:91090834-91090834"
       ]
      },
      {
       "output_type": "stream",
       "stream": "stdout",
       "text": [
        " PCDH11X\tX:91090828-91090834\n",
        "PCDH11X\tX:91133182-91133182"
       ]
      },
      {
       "output_type": "stream",
       "stream": "stdout",
       "text": [
        " PCDH11X\tX:91133176-91133182\n",
        "PCDH11X\tX:91133194-91133194"
       ]
      },
      {
       "output_type": "stream",
       "stream": "stdout",
       "text": [
        " PCDH11X\tX:91133188-91133194\n",
        "PCDH11X\tX:91134233-91134233"
       ]
      },
      {
       "output_type": "stream",
       "stream": "stdout",
       "text": [
        " PCDH11X\tX:91134227-91134233\n",
        "DIAPH2\tX:95990781-95990781"
       ]
      },
      {
       "output_type": "stream",
       "stream": "stdout",
       "text": [
        " DIAPH2\tX:95990775-95990781\n",
        "DIAPH2\tX:95993637-95993637"
       ]
      },
      {
       "output_type": "stream",
       "stream": "stdout",
       "text": [
        " DIAPH2\tX:95993631-95993637\n",
        "DIAPH2\tX:95993637-95993637"
       ]
      },
      {
       "output_type": "stream",
       "stream": "stdout",
       "text": [
        " DIAPH2\tX:95993631-95993637\n",
        "DIAPH2\tX:95993750-95993751"
       ]
      },
      {
       "output_type": "stream",
       "stream": "stdout",
       "text": [
        " DIAPH2\tX:95993744-95993750\n",
        "DIAPH2\tX:96185793-96185793"
       ]
      },
      {
       "output_type": "stream",
       "stream": "stdout",
       "text": [
        " DIAPH2\tX:96185787-96185793\n",
        "DIAPH2\tX:96200577-96200577"
       ]
      },
      {
       "output_type": "stream",
       "stream": "stdout",
       "text": [
        " DIAPH2\tX:96200571-96200577\n",
        "DIAPH2\tX:96213049-96213049"
       ]
      },
      {
       "output_type": "stream",
       "stream": "stdout",
       "text": [
        " DIAPH2\tX:96213043-96213049\n",
        "DIAPH2\tX:96369847-96369847"
       ]
      },
      {
       "output_type": "stream",
       "stream": "stdout",
       "text": [
        " DIAPH2\tX:96369841-96369847\n",
        "DIAPH2\tX:96603145-96603145"
       ]
      },
      {
       "output_type": "stream",
       "stream": "stdout",
       "text": [
        " DIAPH2\tX:96603139-96603145\n",
        "DIAPH2\tX:96684718-96684718"
       ]
      },
      {
       "output_type": "stream",
       "stream": "stdout",
       "text": [
        " DIAPH2\tX:96684712-96684718\n",
        "DIAPH2\tX:95993637-95993637"
       ]
      },
      {
       "output_type": "stream",
       "stream": "stdout",
       "text": [
        " DIAPH2\tX:95993631-95993637\n",
        "DIAPH2\tX:96185793-96185793"
       ]
      },
      {
       "output_type": "stream",
       "stream": "stdout",
       "text": [
        " DIAPH2\tX:96185787-96185793\n",
        "DIAPH2\tX:96369847-96369847"
       ]
      },
      {
       "output_type": "stream",
       "stream": "stdout",
       "text": [
        " DIAPH2\tX:96369841-96369847\n",
        "DIAPH2\tX:96603145-96603145"
       ]
      },
      {
       "output_type": "stream",
       "stream": "stdout",
       "text": [
        " DIAPH2\tX:96603139-96603145\n",
        "DIAPH2\tX:96684718-96684718"
       ]
      },
      {
       "output_type": "stream",
       "stream": "stdout",
       "text": [
        " DIAPH2\tX:96684712-96684718\n",
        "PCDH19\tX:99663201-99663201"
       ]
      },
      {
       "output_type": "stream",
       "stream": "stdout",
       "text": [
        " PCDH19\tX:99663198-99663204\n",
        "PCDH19\tX:99663201-99663201 PCDH19\tX:99663198-99663204\n",
        "ARL13A\tX:100229143-100229143"
       ]
      },
      {
       "output_type": "stream",
       "stream": "stdout",
       "text": [
        " ARL13A\tX:100229137-100229143\n",
        "ARL13A\tX:100240741-100240741 ARL13A\tX:100240735-100240741\n",
        "3600\n",
        "TBC1D8B\tX:106065207-106065207"
       ]
      },
      {
       "output_type": "stream",
       "stream": "stdout",
       "text": [
        " TBC1D8B\tX:106065201-106065207\n",
        "TBC1D8B\tX:106065364-106065364 TBC1D8B\tX:106065358-106065364\n",
        "TBC1D8B\tX:106066568-106066568 TBC1D8B\tX:106066562-106066568\n",
        "TBC1D8B\tX:106066621-106066621 TBC1D8B\tX:106066615-106066621\n",
        "TBC1D8B\tX:106069421-106069421 TBC1D8B\tX:106069415-106069421\n",
        "TBC1D8B\tX:106082596-106082596"
       ]
      },
      {
       "output_type": "stream",
       "stream": "stdout",
       "text": [
        " TBC1D8B\tX:106082590-106082596\n",
        "TBC1D8B\tX:106065364-106065364"
       ]
      },
      {
       "output_type": "stream",
       "stream": "stdout",
       "text": [
        " TBC1D8B\tX:106065358-106065364\n",
        "TBC1D8B\tX:106066568-106066568 TBC1D8B\tX:106066562-106066568\n",
        "TBC1D8B\tX:106066621-106066621 TBC1D8B\tX:106066615-106066621\n",
        "TBC1D8B\tX:106069286-106069286"
       ]
      },
      {
       "output_type": "stream",
       "stream": "stdout",
       "text": [
        " TBC1D8B\tX:106069280-106069286\n",
        "TBC1D8B\tX:106069421-106069421 TBC1D8B\tX:106069415-106069421\n",
        "3700"
       ]
      },
      {
       "output_type": "stream",
       "stream": "stdout",
       "text": [
        "\n",
        "IGSF1\tX:130407801-130407801"
       ]
      },
      {
       "output_type": "stream",
       "stream": "stdout",
       "text": [
        " IGSF1\tX:130407795-130407801\n",
        "IGSF1\tX:130408820-130408820 IGSF1\tX:130408814-130408820\n",
        "IGSF1\tX:130409100-130409100 IGSF1\tX:130409094-130409100\n",
        "IGSF1\tX:130409212-130409212 IGSF1\tX:130409206-130409212\n",
        "IGSF1\tX:130409477-130409477 IGSF1\tX:130409471-130409477\n",
        "IGSF1\tX:130409514-130409514 IGSF1\tX:130409508-130409514\n",
        "IGSF1\tX:130409529-130409529 IGSF1\tX:130409523-130409529\n",
        "IGSF1\tX:130409566-130409566 IGSF1\tX:130409560-130409566\n",
        "IGSF1\tX:130410058-130410058 IGSF1\tX:130410052-130410058\n",
        "IGSF1\tX:130410079-130410079 IGSF1\tX:130410073-130410079\n",
        "IGSF1\tX:130410201-130410201 IGSF1\tX:130410195-130410201\n",
        "IGSF1\tX:130411005-130411005"
       ]
      },
      {
       "output_type": "stream",
       "stream": "stdout",
       "text": [
        " IGSF1\tX:130410999-130411005\n",
        "IGSF1\tX:130411977-130411977 IGSF1\tX:130411971-130411977\n",
        "IGSF1\tX:130412089-130412089 IGSF1\tX:130412083-130412089\n",
        "IGSF1\tX:130416483-130416483 IGSF1\tX:130416477-130416483\n",
        "IGSF1\tX:130416513-130416513 IGSF1\tX:130416507-130416513\n",
        "IGSF1\tX:130416574-130416574 IGSF1\tX:130416568-130416574\n",
        "IGSF1\tX:130419141-130419141 IGSF1\tX:130419135-130419141\n",
        "IGSF1\tX:130408820-130408820 IGSF1\tX:130408814-130408820\n",
        "IGSF1\tX:130409100-130409100 IGSF1\tX:130409094-130409100\n",
        "IGSF1\tX:130409529-130409529"
       ]
      },
      {
       "output_type": "stream",
       "stream": "stdout",
       "text": [
        " IGSF1\tX:130409523-130409529\n",
        "IGSF1\tX:130410058-130410058 IGSF1\tX:130410052-130410058\n",
        "IGSF1\tX:130410201-130410201 IGSF1\tX:130410195-130410201\n",
        "IGSF1\tX:130411977-130411977 IGSF1\tX:130411971-130411977\n",
        "IGSF1\tX:130412089-130412089 IGSF1\tX:130412083-130412089\n",
        "IGSF1\tX:130416483-130416483 IGSF1\tX:130416477-130416483\n",
        "IGSF1\tX:130419141-130419141 IGSF1\tX:130419135-130419141\n",
        "MBNL3\tX:131540295-131540295 MBNL3\tX:131540291-131540297\n",
        "FAM122C\tX:133941483-133941483"
       ]
      },
      {
       "output_type": "stream",
       "stream": "stdout",
       "text": [
        " FAM122C\tX:133941477-133941483\n",
        "FAM122C\tX:133955536-133955536 FAM122C\tX:133955530-133955536\n",
        "FAM122C\tX:133955536-133955536 FAM122C\tX:133955530-133955536\n",
        "FAM127A\tX:134167088-134167088"
       ]
      },
      {
       "output_type": "stream",
       "stream": "stdout",
       "text": [
        " FAM127A\tX:134167082-134167088\n",
        "SOX3\tX:139586809-139586809"
       ]
      },
      {
       "output_type": "stream",
       "stream": "stdout",
       "text": [
        " SOX3\tX:139586803-139586809\n",
        "SOX3\tX:139586809-139586809 SOX3\tX:139586803-139586809\n",
        "SLITRK4\tX:142717799-142717799 SLITRK4\tX:142717799-142717805\n",
        "SLITRK4\tX:142717848-142717848 SLITRK4\tX:142717844-142717850\n",
        "SLITRK4\tX:142718155-142718155 SLITRK4\tX:142718151-142718157\n",
        "SLITRK4\tX:142718314-142718314 SLITRK4\tX:142718312-142718318\n",
        "SLITRK4\tX:142718155-142718155 SLITRK4\tX:142718151-142718157\n",
        "SLITRK4\tX:142718314-142718314 SLITRK4\tX:142718312-142718318\n",
        "3800"
       ]
      },
      {
       "output_type": "stream",
       "stream": "stdout",
       "text": [
        "\n",
        "ATP2B3\tX:152807210-152807210"
       ]
      },
      {
       "output_type": "stream",
       "stream": "stdout",
       "text": [
        " ATP2B3\tX:152807204-152807210\n",
        "ATP2B3\tX:152807217-152807217 ATP2B3\tX:152807211-152807217\n",
        "ATP2B3\tX:152807837-152807837 ATP2B3\tX:152807831-152807837\n",
        "ATP2B3\tX:152818568-152818568"
       ]
      },
      {
       "output_type": "stream",
       "stream": "stdout",
       "text": [
        " ATP2B3\tX:152818562-152818568\n",
        "ATP2B3\tX:152821597-152821597 ATP2B3\tX:152821591-152821597\n",
        "ATP2B3\tX:152821798-152821798 ATP2B3\tX:152821792-152821798\n",
        "ATP2B3\tX:152822475-152822475"
       ]
      },
      {
       "output_type": "stream",
       "stream": "stdout",
       "text": [
        " ATP2B3\tX:152822469-152822475\n",
        "ATP2B3\tX:152825294-152825294 ATP2B3\tX:152825288-152825294\n",
        "ATP2B3\tX:152825329-152825329 ATP2B3\tX:152825323-152825329\n",
        "ATP2B3\tX:152826285-152826285"
       ]
      },
      {
       "output_type": "stream",
       "stream": "stdout",
       "text": [
        " ATP2B3\tX:152826279-152826285\n",
        "ATP2B3\tX:152827663-152827663 ATP2B3\tX:152827657-152827663\n",
        "ATP2B3\tX:152827699-152827699 ATP2B3\tX:152827693-152827699\n",
        "ATP2B3\tX:152835130-152835130"
       ]
      },
      {
       "output_type": "stream",
       "stream": "stdout",
       "text": [
        " ATP2B3\tX:152835124-152835130\n",
        "ATP2B3\tX:152845591-152845591 ATP2B3\tX:152845585-152845591\n",
        "ATP2B3\tX:152807210-152807210 ATP2B3\tX:152807204-152807210\n",
        "ATP2B3\tX:152807217-152807217 ATP2B3\tX:152807211-152807217\n",
        "ATP2B3\tX:152807837-152807837 ATP2B3\tX:152807831-152807837\n",
        "ATP2B3\tX:152808551-152808551"
       ]
      },
      {
       "output_type": "stream",
       "stream": "stdout",
       "text": [
        " ATP2B3\tX:152808545-152808551\n",
        "ATP2B3\tX:152822411-152822411 ATP2B3\tX:152822405-152822411\n",
        "ATP2B3\tX:152822475-152822475 ATP2B3\tX:152822469-152822475\n",
        "ATP2B3\tX:152827663-152827663"
       ]
      },
      {
       "output_type": "stream",
       "stream": "stdout",
       "text": [
        " ATP2B3\tX:152827657-152827663\n",
        "ATP2B3\tX:152827699-152827699 ATP2B3\tX:152827693-152827699\n",
        "ATP2B3\tX:152830499-152830499 ATP2B3\tX:152830493-152830499\n",
        "ATP2B3\tX:152835130-152835130 ATP2B3\tX:152835124-152835130\n",
        "ATP2B3\tX:152845591-152845591 ATP2B3\tX:152845585-152845591\n",
        "RAB39B\tX:154493495-154493495"
       ]
      },
      {
       "output_type": "stream",
       "stream": "stdout",
       "text": [
        " RAB39B\tX:154493491-154493497\n",
        "RAB39B\tX:154493495-154493495 RAB39B\tX:154493491-154493497\n",
        "3900"
       ]
      },
      {
       "output_type": "stream",
       "stream": "stdout",
       "text": [
        "\n",
        "4000"
       ]
      },
      {
       "output_type": "stream",
       "stream": "stdout",
       "text": [
        "\n",
        "MLLT10\t10:21827790-21827790"
       ]
      },
      {
       "output_type": "stream",
       "stream": "stdout",
       "text": [
        " MLLT10\t10:21827784-21827790\n",
        "MLLT10\t10:21827779-21827779"
       ]
      },
      {
       "output_type": "stream",
       "stream": "stdout",
       "text": [
        " MLLT10\t10:21827773-21827779\n",
        "MLLT10\t10:21827779-21827779 MLLT10\t10:21827773-21827779\n",
        "CREM\t10:35437567-35437567"
       ]
      },
      {
       "output_type": "stream",
       "stream": "stdout",
       "text": [
        " CREM\t10:35437561-35437567\n",
        "CREM\t10:35467876-35467876 CREM\t10:35467870-35467876\n",
        "4100"
       ]
      },
      {
       "output_type": "stream",
       "stream": "stdout",
       "text": [
        "\n",
        "FAM170B\t10:50341903-50341903"
       ]
      },
      {
       "output_type": "stream",
       "stream": "stdout",
       "text": [
        " FAM170B\t10:50341900-50341906\n",
        "VPS26A\t10:70892783-70892783"
       ]
      },
      {
       "output_type": "stream",
       "stream": "stdout",
       "text": [
        " VPS26A\t10:70892777-70892783\n",
        "VPS26A\t10:70916861-70916861 VPS26A\t10:70916855-70916861\n",
        "VPS26A\t10:70917832-70917832 VPS26A\t10:70917826-70917832\n",
        "VPS26A\t10:70892783-70892783 VPS26A\t10:70892777-70892783\n",
        "VPS26A\t10:70917832-70917832 VPS26A\t10:70917826-70917832\n",
        "CDH23\t10:73270737-73270737"
       ]
      },
      {
       "output_type": "stream",
       "stream": "stdout",
       "text": [
        " CDH23\t10:73270731-73270737\n",
        "CDH23\t10:73326553-73326553"
       ]
      },
      {
       "output_type": "stream",
       "stream": "stdout",
       "text": [
        " CDH23\t10:73326547-73326553\n",
        "CDH23\t10:73326568-73326568"
       ]
      },
      {
       "output_type": "stream",
       "stream": "stdout",
       "text": [
        " CDH23\t10:73326562-73326568\n",
        "CDH23\t10:73377107-73377107"
       ]
      },
      {
       "output_type": "stream",
       "stream": "stdout",
       "text": [
        " CDH23\t10:73377101-73377107\n",
        "CDH23\t10:73439160-73439160 CDH23\t10:73439154-73439160\n",
        "CDH23\t10:73461950-73461950 CDH23\t10:73461944-73461950\n",
        "CDH23\t10:73483820-73483820"
       ]
      },
      {
       "output_type": "stream",
       "stream": "stdout",
       "text": [
        " CDH23\t10:73483814-73483820\n",
        "CDH23\t10:73485220-73485220 CDH23\t10:73485214-73485220\n",
        "CDH23\t10:73491898-73491898"
       ]
      },
      {
       "output_type": "stream",
       "stream": "stdout",
       "text": [
        " CDH23\t10:73491892-73491898\n",
        "CDH23\t10:73326553-73326553"
       ]
      },
      {
       "output_type": "stream",
       "stream": "stdout",
       "text": [
        " CDH23\t10:73326547-73326553\n",
        "CDH23\t10:73326622-73326622"
       ]
      },
      {
       "output_type": "stream",
       "stream": "stdout",
       "text": [
        " CDH23\t10:73326616-73326622\n",
        "4200"
       ]
      },
      {
       "output_type": "stream",
       "stream": "stdout",
       "text": [
        "\n",
        "DNAJC9\t10:75006522-75006522"
       ]
      },
      {
       "output_type": "stream",
       "stream": "stdout",
       "text": [
        " DNAJC9\t10:75006521-75006527\n",
        "DNAJC9\t10:75006522-75006522 DNAJC9\t10:75006521-75006527\n",
        "LRIT1\t10:86001143-86001144"
       ]
      },
      {
       "output_type": "stream",
       "stream": "stdout",
       "text": [
        " LRIT1\t10:86001143-86001149\n",
        "LDB3\t10:88441388-88441388"
       ]
      },
      {
       "output_type": "stream",
       "stream": "stdout",
       "text": [
        " LDB3\t10:88441382-88441388\n",
        "LDB3\t10:88447007-88447007 LDB3\t10:88447001-88447007\n",
        "LDB3\t10:88469670-88469670"
       ]
      },
      {
       "output_type": "stream",
       "stream": "stdout",
       "text": [
        " LDB3\t10:88469664-88469670\n",
        "LDB3\t10:88476372-88476372 LDB3\t10:88476366-88476372\n",
        "LDB3\t10:88476470-88476470 LDB3\t10:88476464-88476470\n",
        "LDB3\t10:88476372-88476372 LDB3\t10:88476366-88476372\n",
        "RNLS\t10:90122432-90122432"
       ]
      },
      {
       "output_type": "stream",
       "stream": "stdout",
       "text": [
        " RNLS\t10:90122426-90122432\n",
        "RNLS\t10:90332663-90332663"
       ]
      },
      {
       "output_type": "stream",
       "stream": "stdout",
       "text": [
        " RNLS\t10:90332657-90332663\n",
        "RNLS\t10:90332666-90332666"
       ]
      },
      {
       "output_type": "stream",
       "stream": "stdout",
       "text": [
        " RNLS\t10:90332660-90332666\n",
        "RNLS\t10:90332723-90332723"
       ]
      },
      {
       "output_type": "stream",
       "stream": "stdout",
       "text": [
        " RNLS\t10:90332717-90332723\n",
        "RNLS\t10:90332770-90332772"
       ]
      },
      {
       "output_type": "stream",
       "stream": "stdout",
       "text": [
        " RNLS\t10:90332764-90332770\n",
        "RNLS\t10:90332770-90332772"
       ]
      },
      {
       "output_type": "stream",
       "stream": "stdout",
       "text": [
        " RNLS\t10:90332764-90332770\n",
        "RNLS\t10:90341439-90341439"
       ]
      },
      {
       "output_type": "stream",
       "stream": "stdout",
       "text": [
        " RNLS\t10:90341433-90341439\n",
        "RNLS\t10:90341439-90341439"
       ]
      },
      {
       "output_type": "stream",
       "stream": "stdout",
       "text": [
        " RNLS\t10:90341433-90341439\n",
        "RNLS\t10:90341456-90341456"
       ]
      },
      {
       "output_type": "stream",
       "stream": "stdout",
       "text": [
        " RNLS\t10:90341450-90341456\n",
        "RNLS\t10:90122432-90122432"
       ]
      },
      {
       "output_type": "stream",
       "stream": "stdout",
       "text": [
        " RNLS\t10:90122426-90122432\n",
        "RNLS\t10:90332770-90332772"
       ]
      },
      {
       "output_type": "stream",
       "stream": "stdout",
       "text": [
        " RNLS\t10:90332764-90332770\n",
        "RNLS\t10:90341439-90341439"
       ]
      },
      {
       "output_type": "stream",
       "stream": "stdout",
       "text": [
        " RNLS\t10:90341433-90341439\n",
        "HTR7\t10:92617141-92617141"
       ]
      },
      {
       "output_type": "stream",
       "stream": "stdout",
       "text": [
        " HTR7\t10:92617135-92617141\n",
        "4300"
       ]
      },
      {
       "output_type": "stream",
       "stream": "stdout",
       "text": [
        "\n",
        "HECTD2\t10:93220311-93220311"
       ]
      },
      {
       "output_type": "stream",
       "stream": "stdout",
       "text": [
        " HECTD2\t10:93220305-93220311\n",
        "HECTD2\t10:93220311-93220311 HECTD2\t10:93220305-93220311\n",
        "HECTD2\t10:93185103-93185103"
       ]
      },
      {
       "output_type": "stream",
       "stream": "stdout",
       "text": [
        " HECTD2\t10:93185097-93185103\n",
        "PGAM1\t10:99192356-99192356"
       ]
      },
      {
       "output_type": "stream",
       "stream": "stdout",
       "text": [
        " PGAM1\t10:99192350-99192356\n",
        "HPSE2\t10:100219345-100219346"
       ]
      },
      {
       "output_type": "stream",
       "stream": "stdout",
       "text": [
        " HPSE2\t10:100219339-100219345\n",
        "HPSE2\t10:100374727-100374727"
       ]
      },
      {
       "output_type": "stream",
       "stream": "stdout",
       "text": [
        " HPSE2\t10:100374721-100374727\n",
        "HPSE2\t10:100401668-100401668"
       ]
      },
      {
       "output_type": "stream",
       "stream": "stdout",
       "text": [
        " HPSE2\t10:100401662-100401668\n",
        "HPSE2\t10:100401677-100401677"
       ]
      },
      {
       "output_type": "stream",
       "stream": "stdout",
       "text": [
        " HPSE2\t10:100401671-100401677\n",
        "HPSE2\t10:100503657-100503657"
       ]
      },
      {
       "output_type": "stream",
       "stream": "stdout",
       "text": [
        " HPSE2\t10:100503651-100503657\n",
        "HPSE2\t10:100503739-100503739"
       ]
      },
      {
       "output_type": "stream",
       "stream": "stdout",
       "text": [
        " HPSE2\t10:100503733-100503739\n",
        "HPSE2\t10:100503739-100503739"
       ]
      },
      {
       "output_type": "stream",
       "stream": "stdout",
       "text": [
        " HPSE2\t10:100503733-100503739\n",
        "HPSE2\t10:100503739-100503739"
       ]
      },
      {
       "output_type": "stream",
       "stream": "stdout",
       "text": [
        " HPSE2\t10:100503733-100503739\n",
        "HPSE2\t10:100904059-100904059"
       ]
      },
      {
       "output_type": "stream",
       "stream": "stdout",
       "text": [
        " HPSE2\t10:100904053-100904059\n",
        "HPSE2\t10:100219345-100219346"
       ]
      },
      {
       "output_type": "stream",
       "stream": "stdout",
       "text": [
        " HPSE2\t10:100219339-100219345\n",
        "HPSE2\t10:100374727-100374727"
       ]
      },
      {
       "output_type": "stream",
       "stream": "stdout",
       "text": [
        " HPSE2\t10:100374721-100374727\n",
        "HPSE2\t10:100904059-100904059"
       ]
      },
      {
       "output_type": "stream",
       "stream": "stdout",
       "text": [
        " HPSE2\t10:100904053-100904059\n",
        "4400"
       ]
      },
      {
       "output_type": "stream",
       "stream": "stdout",
       "text": [
        "\n",
        "SORCS1\t10:108923816-108923816"
       ]
      },
      {
       "output_type": "stream",
       "stream": "stdout",
       "text": [
        " SORCS1\t10:108923810-108923816\n",
        "TCF7L2\t10:114724346-114724346"
       ]
      },
      {
       "output_type": "stream",
       "stream": "stdout",
       "text": [
        " TCF7L2\t10:114724340-114724346\n",
        "TCF7L2\t10:114849224-114849224 TCF7L2\t10:114849218-114849224\n",
        "TCF7L2\t10:114849235-114849235 TCF7L2\t10:114849229-114849235\n",
        "TCF7L2\t10:114849277-114849277 TCF7L2\t10:114849271-114849277\n",
        "TCF7L2\t10:114910812-114910812"
       ]
      },
      {
       "output_type": "stream",
       "stream": "stdout",
       "text": [
        " TCF7L2\t10:114910806-114910812\n",
        "TCF7L2\t10:114918464-114918464"
       ]
      },
      {
       "output_type": "stream",
       "stream": "stdout",
       "text": [
        " TCF7L2\t10:114918458-114918464\n",
        "TCF7L2\t10:114925317-114925317"
       ]
      },
      {
       "output_type": "stream",
       "stream": "stdout",
       "text": [
        " TCF7L2\t10:114925311-114925317\n",
        "TCF7L2\t10:114925317-114925317"
       ]
      },
      {
       "output_type": "stream",
       "stream": "stdout",
       "text": [
        " TCF7L2\t10:114925311-114925317\n",
        "TCF7L2\t10:114849224-114849224 TCF7L2\t10:114849218-114849224\n",
        "TCF7L2\t10:114849277-114849277 TCF7L2\t10:114849271-114849277\n",
        "TCF7L2\t10:114910812-114910812"
       ]
      },
      {
       "output_type": "stream",
       "stream": "stdout",
       "text": [
        " TCF7L2\t10:114910806-114910812\n",
        "TCF7L2\t10:114912185-114912185 TCF7L2\t10:114912179-114912185\n",
        "4500"
       ]
      },
      {
       "output_type": "stream",
       "stream": "stdout",
       "text": [
        "\n",
        "BCCIP\t10:127519144-127519144"
       ]
      },
      {
       "output_type": "stream",
       "stream": "stdout",
       "text": [
        " BCCIP\t10:127519138-127519144\n",
        "BCCIP\t10:127519171-127519171 BCCIP\t10:127519165-127519171\n",
        "BCCIP\t10:127522354-127522354 BCCIP\t10:127522348-127522354\n",
        "BCCIP\t10:127541804-127541804 BCCIP\t10:127541798-127541804\n",
        "BCCIP\t10:127519144-127519144 BCCIP\t10:127519138-127519144\n",
        "BCCIP\t10:127519171-127519171 BCCIP\t10:127519165-127519171\n",
        "LRRC27\t10:134151163-134151163"
       ]
      },
      {
       "output_type": "stream",
       "stream": "stdout",
       "text": [
        " LRRC27\t10:134151157-134151163\n",
        "LRRC27\t10:134151186-134151186 LRRC27\t10:134151180-134151186\n",
        "LRRC27\t10:134158119-134158119 LRRC27\t10:134158113-134158119\n",
        "LRRC27\t10:134158188-134158188 LRRC27\t10:134158182-134158188\n",
        "LRRC27\t10:134161507-134161507 LRRC27\t10:134161501-134161507\n",
        "LRRC27\t10:134151186-134151186 LRRC27\t10:134151180-134151186\n",
        "LRRC27\t10:134161507-134161507 LRRC27\t10:134161501-134161507\n",
        "LRRC27\t10:134165200-134165200"
       ]
      },
      {
       "output_type": "stream",
       "stream": "stdout",
       "text": [
        " LRRC27\t10:134165194-134165200\n",
        "PSMD13\t11:252640-252640"
       ]
      },
      {
       "output_type": "stream",
       "stream": "stdout",
       "text": [
        " PSMD13\t11:252636-252642\n",
        "PSMD13\t11:252640-252640 PSMD13\t11:252636-252642\n",
        "4600\n",
        "KRTAP5-4\t11:1643049-1643049 KRTAP5-4\t11:1643044-1643050\n",
        "4700"
       ]
      },
      {
       "output_type": "stream",
       "stream": "stdout",
       "text": [
        "\n",
        "ARFIP2\t11:6501239-6501239 ARFIP2\t11:6501235-6501241\n",
        "DNHD1\t11:6519529-6519529"
       ]
      },
      {
       "output_type": "stream",
       "stream": "stdout",
       "text": [
        " DNHD1\t11:6519523-6519529\n",
        "DNHD1\t11:6540945-6540945 DNHD1\t11:6540939-6540945\n",
        "DNHD1\t11:6541509-6541509 DNHD1\t11:6541503-6541509\n",
        "DNHD1\t11:6519529-6519529"
       ]
      },
      {
       "output_type": "stream",
       "stream": "stdout",
       "text": [
        " DNHD1\t11:6519523-6519529\n",
        "DNHD1\t11:6541509-6541509 DNHD1\t11:6541503-6541509\n",
        "EIF4G2\t11:10828816-10828816"
       ]
      },
      {
       "output_type": "stream",
       "stream": "stdout",
       "text": [
        " EIF4G2\t11:10828811-10828817\n",
        "USP47\t11:11979020-11979020 USP47\t11:11979014-11979020\n",
        "PIK3C2A\t11:17191032-17191033 PIK3C2A\t11:17191026-17191032\n",
        "KCNJ11\t11:17408655-17408655 KCNJ11\t11:17408653-17408659\n",
        "KCNJ11\t11:17408781-17408781 KCNJ11\t11:17408776-17408782\n",
        "KCNJ11\t11:17408655-17408655 KCNJ11\t11:17408653-17408659\n",
        "KCNJ11\t11:17408781-17408781 KCNJ11\t11:17408776-17408782\n",
        "4800"
       ]
      },
      {
       "output_type": "stream",
       "stream": "stdout",
       "text": [
        "\n",
        "4900"
       ]
      },
      {
       "output_type": "stream",
       "stream": "stdout",
       "text": [
        "\n",
        "MADD\t11:47296127-47296127"
       ]
      },
      {
       "output_type": "stream",
       "stream": "stdout",
       "text": [
        " MADD\t11:47296121-47296127\n",
        "MADD\t11:47296330-47296330 MADD\t11:47296324-47296330\n",
        "MADD\t11:47296330-47296330 MADD\t11:47296324-47296330\n",
        "MADD\t11:47296497-47296497"
       ]
      },
      {
       "output_type": "stream",
       "stream": "stdout",
       "text": [
        " MADD\t11:47296491-47296497\n",
        "MADD\t11:47297573-47297573 MADD\t11:47297567-47297573\n",
        "MADD\t11:47297700-47297700 MADD\t11:47297694-47297700\n",
        "MADD\t11:47300612-47300612"
       ]
      },
      {
       "output_type": "stream",
       "stream": "stdout",
       "text": [
        " MADD\t11:47300606-47300612\n",
        "MADD\t11:47303974-47303974 MADD\t11:47303968-47303974\n",
        "MADD\t11:47304060-47304060 MADD\t11:47304054-47304060\n",
        "MADD\t11:47304168-47304168"
       ]
      },
      {
       "output_type": "stream",
       "stream": "stdout",
       "text": [
        " MADD\t11:47304162-47304168\n",
        "MADD\t11:47306022-47306022 MADD\t11:47306016-47306022\n",
        "MADD\t11:47314093-47314093"
       ]
      },
      {
       "output_type": "stream",
       "stream": "stdout",
       "text": [
        " MADD\t11:47314087-47314093\n",
        "MADD\t11:47315517-47315517 MADD\t11:47315511-47315517\n",
        "MADD\t11:47317507-47317507 MADD\t11:47317501-47317507\n",
        "MADD\t11:47330180-47330180 MADD\t11:47330174-47330180\n",
        "MADD\t11:47330183-47330183 MADD\t11:47330177-47330183\n",
        "MADD\t11:47330876-47330876"
       ]
      },
      {
       "output_type": "stream",
       "stream": "stdout",
       "text": [
        " MADD\t11:47330870-47330876\n",
        "MADD\t11:47331104-47331104 MADD\t11:47331098-47331104\n",
        "MADD\t11:47336775-47336775 MADD\t11:47336769-47336775\n",
        "MADD\t11:47345258-47345258 MADD\t11:47345252-47345258\n",
        "MADD\t11:47345270-47345270"
       ]
      },
      {
       "output_type": "stream",
       "stream": "stdout",
       "text": [
        " MADD\t11:47345264-47345270\n",
        "MADD\t11:47296330-47296330 MADD\t11:47296324-47296330\n",
        "MADD\t11:47300612-47300612 MADD\t11:47300606-47300612\n",
        "MADD\t11:47303974-47303974"
       ]
      },
      {
       "output_type": "stream",
       "stream": "stdout",
       "text": [
        " MADD\t11:47303968-47303974\n",
        "MADD\t11:47304060-47304060 MADD\t11:47304054-47304060\n",
        "MADD\t11:47304168-47304168 MADD\t11:47304162-47304168\n",
        "MADD\t11:47306022-47306022"
       ]
      },
      {
       "output_type": "stream",
       "stream": "stdout",
       "text": [
        " MADD\t11:47306016-47306022\n",
        "MADD\t11:47315517-47315517 MADD\t11:47315511-47315517\n",
        "MADD\t11:47331104-47331104 MADD\t11:47331098-47331104\n",
        "MADD\t11:47336775-47336775 MADD\t11:47336769-47336775\n",
        "MADD\t11:47345258-47345258"
       ]
      },
      {
       "output_type": "stream",
       "stream": "stdout",
       "text": [
        " MADD\t11:47345252-47345258\n",
        "MADD\t11:47345270-47345270 MADD\t11:47345264-47345270\n",
        "MADD\t11:47350233-47350233 MADD\t11:47350227-47350233\n",
        "5000"
       ]
      },
      {
       "output_type": "stream",
       "stream": "stdout",
       "text": [
        "\n",
        "MEN1\t11:64577258-64577258"
       ]
      },
      {
       "output_type": "stream",
       "stream": "stdout",
       "text": [
        " MEN1\t11:64577255-64577261\n",
        "MEN1\t11:64577259-64577259 MEN1\t11:64577255-64577261\n",
        "5100\n",
        "5200"
       ]
      },
      {
       "output_type": "stream",
       "stream": "stdout",
       "text": [
        "\n",
        "CPT1A\t11:68530198-68530199"
       ]
      },
      {
       "output_type": "stream",
       "stream": "stdout",
       "text": [
        " CPT1A\t11:68530192-68530198\n",
        "CPT1A\t11:68542877-68542877 CPT1A\t11:68542871-68542877\n",
        "CPT1A\t11:68548116-68548116"
       ]
      },
      {
       "output_type": "stream",
       "stream": "stdout",
       "text": [
        " CPT1A\t11:68548110-68548116\n",
        "CPT1A\t11:68552320-68552320 CPT1A\t11:68552314-68552320\n",
        "CPT1A\t11:68566686-68566686 CPT1A\t11:68566680-68566686\n",
        "CPT1A\t11:68566804-68566804 CPT1A\t11:68566798-68566804\n",
        "CPT1A\t11:68574941-68574941 CPT1A\t11:68574935-68574941\n",
        "CPT1A\t11:68579905-68579905 CPT1A\t11:68579899-68579905\n",
        "CPT1A\t11:68548116-68548116"
       ]
      },
      {
       "output_type": "stream",
       "stream": "stdout",
       "text": [
        " CPT1A\t11:68548110-68548116\n",
        "CPT1A\t11:68566686-68566686 CPT1A\t11:68566680-68566686\n",
        "CPT1A\t11:68566804-68566804 CPT1A\t11:68566798-68566804\n",
        "CPT1A\t11:68574941-68574941 CPT1A\t11:68574935-68574941\n",
        "CPT1A\t11:68579905-68579905 CPT1A\t11:68579899-68579905\n",
        "PPFIA1\t11:70171060-70171060"
       ]
      },
      {
       "output_type": "stream",
       "stream": "stdout",
       "text": [
        " PPFIA1\t11:70171054-70171060\n",
        "PPFIA1\t11:70171069-70171069 PPFIA1\t11:70171063-70171069\n",
        "PPFIA1\t11:70189979-70189979"
       ]
      },
      {
       "output_type": "stream",
       "stream": "stdout",
       "text": [
        " PPFIA1\t11:70189973-70189979\n",
        "PPFIA1\t11:70194314-70194314 PPFIA1\t11:70194308-70194314\n",
        "PPFIA1\t11:70202291-70202291"
       ]
      },
      {
       "output_type": "stream",
       "stream": "stdout",
       "text": [
        " PPFIA1\t11:70202285-70202291\n",
        "PPFIA1\t11:70202345-70202345 PPFIA1\t11:70202339-70202345\n",
        "PPFIA1\t11:70211384-70211384"
       ]
      },
      {
       "output_type": "stream",
       "stream": "stdout",
       "text": [
        " PPFIA1\t11:70211378-70211384\n",
        "PPFIA1\t11:70221193-70221193"
       ]
      },
      {
       "output_type": "stream",
       "stream": "stdout",
       "text": [
        " PPFIA1\t11:70221187-70221193\n",
        "PPFIA1\t11:70224272-70224272"
       ]
      },
      {
       "output_type": "stream",
       "stream": "stdout",
       "text": [
        " PPFIA1\t11:70224266-70224272\n",
        "PPFIA1\t11:70118391-70118391"
       ]
      },
      {
       "output_type": "stream",
       "stream": "stdout",
       "text": [
        " PPFIA1\t11:70118385-70118391\n",
        "PPFIA1\t11:70171060-70171060 PPFIA1\t11:70171054-70171060\n",
        "PPFIA1\t11:70171069-70171069"
       ]
      },
      {
       "output_type": "stream",
       "stream": "stdout",
       "text": [
        " PPFIA1\t11:70171063-70171069\n",
        "PPFIA1\t11:70189979-70189979 PPFIA1\t11:70189973-70189979\n",
        "PPFIA1\t11:70202291-70202291"
       ]
      },
      {
       "output_type": "stream",
       "stream": "stdout",
       "text": [
        " PPFIA1\t11:70202285-70202291\n",
        "PPFIA1\t11:70202345-70202345 PPFIA1\t11:70202339-70202345\n",
        "PPFIA1\t11:70218382-70218382"
       ]
      },
      {
       "output_type": "stream",
       "stream": "stdout",
       "text": [
        " PPFIA1\t11:70218376-70218382\n",
        "PPFIA1\t11:70224272-70224272"
       ]
      },
      {
       "output_type": "stream",
       "stream": "stdout",
       "text": [
        " PPFIA1\t11:70224266-70224272\n",
        "5300"
       ]
      },
      {
       "output_type": "stream",
       "stream": "stdout",
       "text": [
        "\n",
        "DLG2\t11:83984277-83984277 DLG2\t11:83984275-83984281\n",
        "DLG2\t11:83984277-83984277 DLG2\t11:83984275-83984281\n",
        "EED\t11:85961453-85961453"
       ]
      },
      {
       "output_type": "stream",
       "stream": "stdout",
       "text": [
        " EED\t11:85961447-85961453\n",
        "EED\t11:85961453-85961453 EED\t11:85961447-85961453\n",
        "EED\t11:85966327-85966327 EED\t11:85966321-85966327\n",
        "EED\t11:85977150-85977150 EED\t11:85977144-85977150\n",
        "EED\t11:85988119-85988119 EED\t11:85988113-85988119\n",
        "EED\t11:85961453-85961453 EED\t11:85961447-85961453\n",
        "EED\t11:85961453-85961453 EED\t11:85961447-85961453\n",
        "EED\t11:85966327-85966327"
       ]
      },
      {
       "output_type": "stream",
       "stream": "stdout",
       "text": [
        " EED\t11:85966321-85966327\n",
        "EED\t11:85977150-85977150 EED\t11:85977144-85977150\n",
        "GRIA4\t11:105481745-105481745"
       ]
      },
      {
       "output_type": "stream",
       "stream": "stdout",
       "text": [
        " GRIA4\t11:105481739-105481745\n",
        "GRIA4\t11:105481779-105481779 GRIA4\t11:105481773-105481779\n",
        "GRIA4\t11:105623816-105623816"
       ]
      },
      {
       "output_type": "stream",
       "stream": "stdout",
       "text": [
        " GRIA4\t11:105623810-105623816\n",
        "GRIA4\t11:105769081-105769081"
       ]
      },
      {
       "output_type": "stream",
       "stream": "stdout",
       "text": [
        " GRIA4\t11:105769075-105769081\n",
        "GRIA4\t11:105781241-105781241"
       ]
      },
      {
       "output_type": "stream",
       "stream": "stdout",
       "text": [
        " GRIA4\t11:105781235-105781241\n",
        "GRIA4\t11:105481745-105481745"
       ]
      },
      {
       "output_type": "stream",
       "stream": "stdout",
       "text": [
        " GRIA4\t11:105481739-105481745\n",
        "GRIA4\t11:105481779-105481779 GRIA4\t11:105481773-105481779\n",
        "GRIA4\t11:105623906-105623906"
       ]
      },
      {
       "output_type": "stream",
       "stream": "stdout",
       "text": [
        " GRIA4\t11:105623900-105623906\n",
        "GRIA4\t11:105781241-105781241"
       ]
      },
      {
       "output_type": "stream",
       "stream": "stdout",
       "text": [
        " GRIA4\t11:105781235-105781241\n",
        "5400"
       ]
      },
      {
       "output_type": "stream",
       "stream": "stdout",
       "text": [
        "\n",
        "C1orf86\t1:2125495-2125495"
       ]
      },
      {
       "output_type": "stream",
       "stream": "stdout",
       "text": [
        " C1orf86\t1:2125489-2125495\n",
        "C1orf86\t1:2125495-2125495 C1orf86\t1:2125489-2125495\n",
        "5500"
       ]
      },
      {
       "output_type": "stream",
       "stream": "stdout",
       "text": [
        "\n",
        "TMEM201\t1:9656053-9656053"
       ]
      },
      {
       "output_type": "stream",
       "stream": "stdout",
       "text": [
        " TMEM201\t1:9656047-9656053\n",
        "TMEM201\t1:9657089-9657089 TMEM201\t1:9657083-9657089\n",
        "TMEM201\t1:9656053-9656053 TMEM201\t1:9656047-9656053\n",
        "TMEM201\t1:9657089-9657089 TMEM201\t1:9657083-9657089\n",
        "APITD1-CORT\t1:10511637-10511639"
       ]
      },
      {
       "output_type": "stream",
       "stream": "stdout",
       "text": [
        " APITD1-CORT\t1:10511633-10511639\n",
        "APITD1-CORT\t1:10511647-10511647 APITD1-CORT\t1:10511642-10511648\n",
        "KAZN\t1:14925608-14925608"
       ]
      },
      {
       "output_type": "stream",
       "stream": "stdout",
       "text": [
        " KAZN\t1:14925602-14925608\n",
        "KAZN\t1:15392250-15392250"
       ]
      },
      {
       "output_type": "stream",
       "stream": "stdout",
       "text": [
        " KAZN\t1:15392244-15392250\n",
        "CLCNKA\t1:16360190-16360190"
       ]
      },
      {
       "output_type": "stream",
       "stream": "stdout",
       "text": [
        " CLCNKA\t1:16360185-16360191\n",
        "CLCNKA\t1:16360382-16360382 CLCNKA\t1:16360380-16360386\n",
        "5600\n",
        "NECAP2\t1:16770220-16770220"
       ]
      },
      {
       "output_type": "stream",
       "stream": "stdout",
       "text": [
        " NECAP2\t1:16770214-16770220\n",
        "NECAP2\t1:16774558-16774558 NECAP2\t1:16774552-16774558\n",
        "NECAP2\t1:16774759-16774759 NECAP2\t1:16774753-16774759\n",
        "NECAP2\t1:16778398-16778398 NECAP2\t1:16778392-16778398\n",
        "NECAP2\t1:16770220-16770220 NECAP2\t1:16770214-16770220\n",
        "AKR7L\t1:19595111-19595111"
       ]
      },
      {
       "output_type": "stream",
       "stream": "stdout",
       "text": [
        " AKR7L\t1:19595105-19595111\n",
        "AKR7L\t1:19595190-19595190 AKR7L\t1:19595184-19595190\n",
        "AKR7L\t1:19596145-19596145 AKR7L\t1:19596139-19596145\n",
        "AKR7L\t1:19595111-19595111 AKR7L\t1:19595105-19595111\n",
        "5700"
       ]
      },
      {
       "output_type": "stream",
       "stream": "stdout",
       "text": [
        "\n",
        "RHCE\t1:25747153-25747153 RHCE\t1:25747152-25747158\n",
        "RHCE\t1:25747153-25747153 RHCE\t1:25747152-25747158\n",
        "STMN1\t1:26227357-26227357"
       ]
      },
      {
       "output_type": "stream",
       "stream": "stdout",
       "text": [
        " STMN1\t1:26227351-26227357\n",
        "STMN1\t1:26212229-26212229 STMN1\t1:26212223-26212229\n",
        "RPA2\t1:28240899-28240901 RPA2\t1:28240893-28240899\n",
        "EPB41\t1:29314067-29314067"
       ]
      },
      {
       "output_type": "stream",
       "stream": "stdout",
       "text": [
        " EPB41\t1:29314061-29314067\n",
        "EPB41\t1:29314146-29314146"
       ]
      },
      {
       "output_type": "stream",
       "stream": "stdout",
       "text": [
        " EPB41\t1:29314140-29314146\n",
        "EPB41\t1:29314172-29314172"
       ]
      },
      {
       "output_type": "stream",
       "stream": "stdout",
       "text": [
        " EPB41\t1:29314166-29314172\n",
        "EPB41\t1:29344886-29344886"
       ]
      },
      {
       "output_type": "stream",
       "stream": "stdout",
       "text": [
        " EPB41\t1:29344880-29344886\n",
        "EPB41\t1:29362384-29362384 EPB41\t1:29362378-29362384\n",
        "EPB41\t1:29443675-29443675"
       ]
      },
      {
       "output_type": "stream",
       "stream": "stdout",
       "text": [
        " EPB41\t1:29443669-29443675\n",
        "EPB41\t1:29445598-29445598"
       ]
      },
      {
       "output_type": "stream",
       "stream": "stdout",
       "text": [
        " EPB41\t1:29445592-29445598\n",
        "EPB41\t1:29314146-29314146"
       ]
      },
      {
       "output_type": "stream",
       "stream": "stdout",
       "text": [
        " EPB41\t1:29314140-29314146\n",
        "EPB41\t1:29314172-29314172"
       ]
      },
      {
       "output_type": "stream",
       "stream": "stdout",
       "text": [
        " EPB41\t1:29314166-29314172\n",
        "EPB41\t1:29344900-29344900"
       ]
      },
      {
       "output_type": "stream",
       "stream": "stdout",
       "text": [
        " EPB41\t1:29344894-29344900\n",
        "SNRNP40\t1:31769474-31769474"
       ]
      },
      {
       "output_type": "stream",
       "stream": "stdout",
       "text": [
        " SNRNP40\t1:31769469-31769475\n",
        "5800\n",
        "SYNC\t1:33160479-33160479"
       ]
      },
      {
       "output_type": "stream",
       "stream": "stdout",
       "text": [
        " SYNC\t1:33160473-33160479\n",
        "SYNC\t1:33160553-33160553 SYNC\t1:33160547-33160553\n",
        "SYNC\t1:33160900-33160900 SYNC\t1:33160894-33160900\n",
        "SYNC\t1:33161497-33161497 SYNC\t1:33161491-33161497\n",
        "SYNC\t1:33160479-33160479 SYNC\t1:33160473-33160479\n",
        "SYNC\t1:33160900-33160900"
       ]
      },
      {
       "output_type": "stream",
       "stream": "stdout",
       "text": [
        " SYNC\t1:33160894-33160900\n",
        "S100PBP\t1:33292196-33292196"
       ]
      },
      {
       "output_type": "stream",
       "stream": "stdout",
       "text": [
        " S100PBP\t1:33292190-33292196\n",
        "S100PBP\t1:33321706-33321706 S100PBP\t1:33321700-33321706\n",
        "S100PBP\t1:33292196-33292196 S100PBP\t1:33292190-33292196\n",
        "DLGAP3\t1:35370730-35370731"
       ]
      },
      {
       "output_type": "stream",
       "stream": "stdout",
       "text": [
        " DLGAP3\t1:35370726-35370732\n",
        "MACF1\t1:39951984-39951984"
       ]
      },
      {
       "output_type": "stream",
       "stream": "stdout",
       "text": [
        " MACF1\t1:39951984-39951990\n",
        "5900"
       ]
      },
      {
       "output_type": "stream",
       "stream": "stdout",
       "text": [
        "\n",
        "SZT2\t1:43868973-43868973"
       ]
      },
      {
       "output_type": "stream",
       "stream": "stdout",
       "text": [
        " SZT2\t1:43868967-43868973\n",
        "SZT2\t1:43888866-43888866 SZT2\t1:43888860-43888866\n",
        "SZT2\t1:43889967-43889967"
       ]
      },
      {
       "output_type": "stream",
       "stream": "stdout",
       "text": [
        " SZT2\t1:43889961-43889967\n",
        "SZT2\t1:43892390-43892390 SZT2\t1:43892384-43892390\n",
        "SZT2\t1:43892771-43892771"
       ]
      },
      {
       "output_type": "stream",
       "stream": "stdout",
       "text": [
        " SZT2\t1:43892765-43892771\n",
        "SZT2\t1:43892848-43892848 SZT2\t1:43892842-43892848\n",
        "SZT2\t1:43892993-43892993"
       ]
      },
      {
       "output_type": "stream",
       "stream": "stdout",
       "text": [
        " SZT2\t1:43892987-43892993\n",
        "SZT2\t1:43893678-43893678 SZT2\t1:43893672-43893678\n",
        "SZT2\t1:43895456-43895456"
       ]
      },
      {
       "output_type": "stream",
       "stream": "stdout",
       "text": [
        " SZT2\t1:43895450-43895456\n",
        "SZT2\t1:43896169-43896169 SZT2\t1:43896163-43896169\n",
        "SZT2\t1:43896998-43896998"
       ]
      },
      {
       "output_type": "stream",
       "stream": "stdout",
       "text": [
        " SZT2\t1:43896992-43896998\n",
        "SZT2\t1:43898263-43898263 SZT2\t1:43898257-43898263\n",
        "SZT2\t1:43902853-43902853"
       ]
      },
      {
       "output_type": "stream",
       "stream": "stdout",
       "text": [
        " SZT2\t1:43902847-43902853\n",
        "SZT2\t1:43906177-43906177 SZT2\t1:43906171-43906177\n",
        "SZT2\t1:43906183-43906183"
       ]
      },
      {
       "output_type": "stream",
       "stream": "stdout",
       "text": [
        " SZT2\t1:43906177-43906183\n",
        "SZT2\t1:43907741-43907744 SZT2\t1:43907735-43907741\n",
        "SZT2\t1:43908006-43908006"
       ]
      },
      {
       "output_type": "stream",
       "stream": "stdout",
       "text": [
        " SZT2\t1:43908000-43908006\n",
        "SZT2\t1:43908290-43908290 SZT2\t1:43908284-43908290\n",
        "SZT2\t1:43908579-43908579"
       ]
      },
      {
       "output_type": "stream",
       "stream": "stdout",
       "text": [
        " SZT2\t1:43908573-43908579\n",
        "SZT2\t1:43908673-43908673 SZT2\t1:43908667-43908673\n",
        "SZT2\t1:43908748-43908748"
       ]
      },
      {
       "output_type": "stream",
       "stream": "stdout",
       "text": [
        " SZT2\t1:43908742-43908748\n",
        "SZT2\t1:43908878-43908878 SZT2\t1:43908872-43908878\n",
        "SZT2\t1:43911636-43911636 SZT2\t1:43911630-43911636\n",
        "IPO13\t1:44433375-44433375"
       ]
      },
      {
       "output_type": "stream",
       "stream": "stdout",
       "text": [
        " IPO13\t1:44433372-44433378\n",
        "EIF2B3\t1:45323458-45323458"
       ]
      },
      {
       "output_type": "stream",
       "stream": "stdout",
       "text": [
        " EIF2B3\t1:45323452-45323458\n",
        "EIF2B3\t1:45363093-45363093 EIF2B3\t1:45363087-45363093\n",
        "EIF2B3\t1:45424509-45424509"
       ]
      },
      {
       "output_type": "stream",
       "stream": "stdout",
       "text": [
        " EIF2B3\t1:45424503-45424509\n",
        "EIF2B3\t1:45444133-45444133"
       ]
      },
      {
       "output_type": "stream",
       "stream": "stdout",
       "text": [
        " EIF2B3\t1:45444127-45444133\n",
        "EIF2B3\t1:45323458-45323458"
       ]
      },
      {
       "output_type": "stream",
       "stream": "stdout",
       "text": [
        " EIF2B3\t1:45323452-45323458\n",
        "EIF2B3\t1:45363093-45363093 EIF2B3\t1:45363087-45363093\n",
        "TSPAN1\t1:46651256-46651256"
       ]
      },
      {
       "output_type": "stream",
       "stream": "stdout",
       "text": [
        " TSPAN1\t1:46651252-46651258\n",
        "LRRC41\t1:46768864-46768864 LRRC41\t1:46768859-46768865\n",
        "LRRC41\t1:46768864-46768864 LRRC41\t1:46768859-46768865\n",
        "6000"
       ]
      },
      {
       "output_type": "stream",
       "stream": "stdout",
       "text": [
        "\n",
        "NCAM1\t11:113076329-113076329"
       ]
      },
      {
       "output_type": "stream",
       "stream": "stdout",
       "text": [
        " NCAM1\t11:113076323-113076329\n",
        "NCAM1\t11:113076802-113076802"
       ]
      },
      {
       "output_type": "stream",
       "stream": "stdout",
       "text": [
        " NCAM1\t11:113076796-113076802\n",
        "NCAM1\t11:113076824-113076824"
       ]
      },
      {
       "output_type": "stream",
       "stream": "stdout",
       "text": [
        " NCAM1\t11:113076818-113076824\n",
        "NCAM1\t11:113078048-113078048"
       ]
      },
      {
       "output_type": "stream",
       "stream": "stdout",
       "text": [
        " NCAM1\t11:113078042-113078048\n",
        "NCAM1\t11:113103076-113103076"
       ]
      },
      {
       "output_type": "stream",
       "stream": "stdout",
       "text": [
        " NCAM1\t11:113103070-113103076\n",
        "NCAM1\t11:113130919-113130919"
       ]
      },
      {
       "output_type": "stream",
       "stream": "stdout",
       "text": [
        " NCAM1\t11:113130913-113130919\n",
        "NCAM1\t11:113076802-113076802"
       ]
      },
      {
       "output_type": "stream",
       "stream": "stdout",
       "text": [
        " NCAM1\t11:113076796-113076802\n",
        "NCAM1\t11:113076824-113076824"
       ]
      },
      {
       "output_type": "stream",
       "stream": "stdout",
       "text": [
        " NCAM1\t11:113076818-113076824\n",
        "NCAM1\t11:113103076-113103076"
       ]
      },
      {
       "output_type": "stream",
       "stream": "stdout",
       "text": [
        " NCAM1\t11:113103070-113103076\n",
        "NCAM1\t11:113105772-113105772"
       ]
      },
      {
       "output_type": "stream",
       "stream": "stdout",
       "text": [
        " NCAM1\t11:113105766-113105772\n",
        "NCAM1\t11:113130919-113130919"
       ]
      },
      {
       "output_type": "stream",
       "stream": "stdout",
       "text": [
        " NCAM1\t11:113130913-113130919\n",
        "CADM1\t11:115375030-115375035"
       ]
      },
      {
       "output_type": "stream",
       "stream": "stdout",
       "text": [
        " CADM1\t11:115375029-115375035\n",
        "NLRX1\t11:119043070-119043070"
       ]
      },
      {
       "output_type": "stream",
       "stream": "stdout",
       "text": [
        " NLRX1\t11:119043064-119043070\n",
        "NLRX1\t11:119043620-119043620 NLRX1\t11:119043614-119043620\n",
        "NLRX1\t11:119044705-119044705 NLRX1\t11:119044699-119044705\n",
        "NLRX1\t11:119045285-119045285 NLRX1\t11:119045279-119045285\n",
        "NLRX1\t11:119050480-119050480 NLRX1\t11:119050474-119050480\n",
        "NLRX1\t11:119050497-119050497 NLRX1\t11:119050491-119050497\n",
        "NLRX1\t11:119050610-119050611 NLRX1\t11:119050604-119050610\n",
        "NLRX1\t11:119050981-119050981 NLRX1\t11:119050975-119050981\n",
        "NLRX1\t11:119043070-119043070 NLRX1\t11:119043064-119043070\n",
        "PVRL1\t11:119535688-119535688"
       ]
      },
      {
       "output_type": "stream",
       "stream": "stdout",
       "text": [
        " PVRL1\t11:119535682-119535688\n",
        "PVRL1\t11:119535816-119535816"
       ]
      },
      {
       "output_type": "stream",
       "stream": "stdout",
       "text": [
        " PVRL1\t11:119535810-119535816\n",
        "PVRL1\t11:119547861-119547861 PVRL1\t11:119547855-119547861\n",
        "PVRL1\t11:119535677-119535678"
       ]
      },
      {
       "output_type": "stream",
       "stream": "stdout",
       "text": [
        " PVRL1\t11:119535671-119535677\n",
        "PVRL1\t11:119535677-119535678"
       ]
      },
      {
       "output_type": "stream",
       "stream": "stdout",
       "text": [
        " PVRL1\t11:119535671-119535677\n",
        "6100\n",
        "C11orf63\t11:122756560-122756560"
       ]
      },
      {
       "output_type": "stream",
       "stream": "stdout",
       "text": [
        " C11orf63\t11:122756554-122756560\n",
        "C11orf63\t11:122756780-122756780 C11orf63\t11:122756774-122756780\n",
        "C11orf63\t11:122774779-122774779 C11orf63\t11:122774773-122774779\n",
        "C11orf63\t11:122774895-122774895"
       ]
      },
      {
       "output_type": "stream",
       "stream": "stdout",
       "text": [
        " C11orf63\t11:122774889-122774895\n",
        "C11orf63\t11:122805129-122805129 C11orf63\t11:122805123-122805129\n",
        "C11orf63\t11:122805197-122805197"
       ]
      },
      {
       "output_type": "stream",
       "stream": "stdout",
       "text": [
        " C11orf63\t11:122805191-122805197\n",
        "C11orf63\t11:122828073-122828073 C11orf63\t11:122828067-122828073\n",
        "C11orf63\t11:122756780-122756780 C11orf63\t11:122756774-122756780\n",
        "C11orf63\t11:122774779-122774779 C11orf63\t11:122774773-122774779\n",
        "C11orf63\t11:122774895-122774895"
       ]
      },
      {
       "output_type": "stream",
       "stream": "stdout",
       "text": [
        " C11orf63\t11:122774889-122774895\n",
        "C11orf63\t11:122805197-122805197 C11orf63\t11:122805191-122805197\n",
        "C11orf63\t11:122828073-122828073"
       ]
      },
      {
       "output_type": "stream",
       "stream": "stdout",
       "text": [
        " C11orf63\t11:122828067-122828073\n",
        "VWA5A\t11:123993833-123993833"
       ]
      },
      {
       "output_type": "stream",
       "stream": "stdout",
       "text": [
        " VWA5A\t11:123993827-123993833\n",
        "VWA5A\t11:123994096-123994096 VWA5A\t11:123994090-123994096\n",
        "VWA5A\t11:123994096-123994096 VWA5A\t11:123994090-123994096\n",
        "C11orf45\t11:128773376-128773376"
       ]
      },
      {
       "output_type": "stream",
       "stream": "stdout",
       "text": [
        " C11orf45\t11:128773375-128773381\n",
        "C11orf45\t11:128773376-128773376 C11orf45\t11:128773375-128773381\n",
        "NTM\t11:131781424-131781424"
       ]
      },
      {
       "output_type": "stream",
       "stream": "stdout",
       "text": [
        " NTM\t11:131781418-131781424\n",
        "NTM\t11:132177693-132177693 NTM\t11:132177687-132177693\n",
        "NTM\t11:132180029-132180029"
       ]
      },
      {
       "output_type": "stream",
       "stream": "stdout",
       "text": [
        " NTM\t11:132180023-132180029\n",
        "NTM\t11:132205064-132205064"
       ]
      },
      {
       "output_type": "stream",
       "stream": "stdout",
       "text": [
        " NTM\t11:132205058-132205064\n",
        "NTM\t11:132180029-132180029 NTM\t11:132180023-132180029\n",
        "6200"
       ]
      },
      {
       "output_type": "stream",
       "stream": "stdout",
       "text": [
        "\n",
        "6300"
       ]
      },
      {
       "output_type": "stream",
       "stream": "stdout",
       "text": [
        "\n",
        "GUCY2C\t12:14849213-14849213"
       ]
      },
      {
       "output_type": "stream",
       "stream": "stdout",
       "text": [
        " GUCY2C\t12:14849208-14849214\n",
        "GUCY2C\t12:14849213-14849213 GUCY2C\t12:14849208-14849214\n",
        "ETNK1\t12:22796922-22796922"
       ]
      },
      {
       "output_type": "stream",
       "stream": "stdout",
       "text": [
        " ETNK1\t12:22796916-22796922\n",
        "ETNK1\t12:22797164-22797164 ETNK1\t12:22797158-22797164\n",
        "ETNK1\t12:22797179-22797179 ETNK1\t12:22797173-22797179\n",
        "ETNK1\t12:22796922-22796922"
       ]
      },
      {
       "output_type": "stream",
       "stream": "stdout",
       "text": [
        " ETNK1\t12:22796916-22796922\n",
        "ETNK1\t12:22797164-22797164 ETNK1\t12:22797158-22797164\n",
        "ETNK1\t12:22797179-22797179 ETNK1\t12:22797173-22797179\n",
        "FGFR1OP2\t12:27107176-27107176"
       ]
      },
      {
       "output_type": "stream",
       "stream": "stdout",
       "text": [
        " FGFR1OP2\t12:27107170-27107176\n",
        "MED21\t12:27181513-27181513 MED21\t12:27181507-27181513\n",
        "6400\n",
        "PTHLH\t12:28114898-28114898"
       ]
      },
      {
       "output_type": "stream",
       "stream": "stdout",
       "text": [
        " PTHLH\t12:28114892-28114898\n",
        "PTHLH\t12:28114898-28114898 PTHLH\t12:28114892-28114898\n",
        "PTHLH\t12:28114898-28114898 PTHLH\t12:28114892-28114898\n",
        "PTHLH\t12:28114898-28114898 PTHLH\t12:28114892-28114898\n",
        "PTHLH\t12:28116284-28116284 PTHLH\t12:28116278-28116284\n",
        "PTHLH\t12:28116533-28116533 PTHLH\t12:28116527-28116533\n",
        "PTHLH\t12:28116584-28116584 PTHLH\t12:28116578-28116584\n",
        "PTHLH\t12:28116284-28116284 PTHLH\t12:28116278-28116284\n",
        "PTHLH\t12:28116584-28116584 PTHLH\t12:28116578-28116584\n",
        "BICD1\t12:32369267-32369267"
       ]
      },
      {
       "output_type": "stream",
       "stream": "stdout",
       "text": [
        " BICD1\t12:32369261-32369267\n",
        "BICD1\t12:32369283-32369283"
       ]
      },
      {
       "output_type": "stream",
       "stream": "stdout",
       "text": [
        " BICD1\t12:32369277-32369283\n",
        "BICD1\t12:32491811-32491811"
       ]
      },
      {
       "output_type": "stream",
       "stream": "stdout",
       "text": [
        " BICD1\t12:32491805-32491811\n",
        "BICD1\t12:32491861-32491861"
       ]
      },
      {
       "output_type": "stream",
       "stream": "stdout",
       "text": [
        " BICD1\t12:32491855-32491861\n",
        "BICD1\t12:32520614-32520614 BICD1\t12:32520608-32520614\n",
        "BICD1\t12:32369283-32369283"
       ]
      },
      {
       "output_type": "stream",
       "stream": "stdout",
       "text": [
        " BICD1\t12:32369277-32369283\n",
        "BICD1\t12:32491861-32491861"
       ]
      },
      {
       "output_type": "stream",
       "stream": "stdout",
       "text": [
        " BICD1\t12:32491855-32491861\n",
        "BICD1\t12:32520614-32520614 BICD1\t12:32520608-32520614\n",
        "YAF2\t12:42554570-42554570"
       ]
      },
      {
       "output_type": "stream",
       "stream": "stdout",
       "text": [
        " YAF2\t12:42554564-42554570\n",
        "YAF2\t12:42555485-42555485 YAF2\t12:42555479-42555485\n",
        "YAF2\t12:42629602-42629602 YAF2\t12:42629596-42629602\n",
        "YAF2\t12:42554570-42554570"
       ]
      },
      {
       "output_type": "stream",
       "stream": "stdout",
       "text": [
        " YAF2\t12:42554564-42554570\n",
        "TMEM117\t12:44783123-44783123"
       ]
      },
      {
       "output_type": "stream",
       "stream": "stdout",
       "text": [
        " TMEM117\t12:44783121-44783127\n",
        "SLC38A2\t12:46764983-46764983"
       ]
      },
      {
       "output_type": "stream",
       "stream": "stdout",
       "text": [
        " SLC38A2\t12:46764978-46764984\n",
        "SLC38A2\t12:46765205-46765205 SLC38A2\t12:46765201-46765207\n",
        "ENDOU\t12:48119180-48119180 ENDOU\t12:48119175-48119181\n",
        "ADCY6\t12:49176977-49176977 ADCY6\t12:49176977-49176983\n",
        "6500\n",
        "LARP4\t12:50822769-50822769"
       ]
      },
      {
       "output_type": "stream",
       "stream": "stdout",
       "text": [
        " LARP4\t12:50822763-50822769\n",
        "LARP4\t12:50855013-50855013 LARP4\t12:50855007-50855013\n",
        "LARP4\t12:50860767-50860767 LARP4\t12:50860761-50860767\n",
        "LARP4\t12:50860824-50860824"
       ]
      },
      {
       "output_type": "stream",
       "stream": "stdout",
       "text": [
        " LARP4\t12:50860818-50860824\n",
        "KRT72\t12:52981449-52981449"
       ]
      },
      {
       "output_type": "stream",
       "stream": "stdout",
       "text": [
        " KRT72\t12:52981443-52981449\n",
        "KRT72\t12:52981502-52981502 KRT72\t12:52981496-52981502\n",
        "KRT72\t12:52981585-52981585 KRT72\t12:52981579-52981585\n",
        "KRT72\t12:52992731-52992731 KRT72\t12:52992725-52992731\n",
        "KRT72\t12:52981502-52981502 KRT72\t12:52981496-52981502\n",
        "KRT72\t12:52981585-52981585 KRT72\t12:52981579-52981585\n",
        "KRT72\t12:52992731-52992731 KRT72\t12:52992725-52992731\n",
        "KRT4\t12:53207641-53207641 KRT4\t12:53207635-53207641\n",
        "6600"
       ]
      },
      {
       "output_type": "stream",
       "stream": "stdout",
       "text": [
        "\n",
        "ERBB3\t12:56478826-56478826"
       ]
      },
      {
       "output_type": "stream",
       "stream": "stdout",
       "text": [
        " ERBB3\t12:56478820-56478826\n",
        "ERBB3\t12:56478957-56478957 ERBB3\t12:56478951-56478957\n",
        "ERBB3\t12:56478957-56478957 ERBB3\t12:56478951-56478957\n",
        "ERBB3\t12:56479001-56479001 ERBB3\t12:56478995-56479001\n",
        "ERBB3\t12:56481922-56481922 ERBB3\t12:56481916-56481922\n",
        "ERBB3\t12:56482341-56482341 ERBB3\t12:56482335-56482341\n",
        "ERBB3\t12:56482607-56482607 ERBB3\t12:56482601-56482607\n",
        "ERBB3\t12:56482607-56482607 ERBB3\t12:56482601-56482607\n",
        "ERBB3\t12:56486553-56486553"
       ]
      },
      {
       "output_type": "stream",
       "stream": "stdout",
       "text": [
        " ERBB3\t12:56486547-56486553\n",
        "ERBB3\t12:56487649-56487649 ERBB3\t12:56487643-56487649\n",
        "ERBB3\t12:56488228-56488228 ERBB3\t12:56488222-56488228\n",
        "ERBB3\t12:56488300-56488300 ERBB3\t12:56488294-56488300\n",
        "ERBB3\t12:56488314-56488314 ERBB3\t12:56488308-56488314\n",
        "ERBB3\t12:56489535-56489535"
       ]
      },
      {
       "output_type": "stream",
       "stream": "stdout",
       "text": [
        " ERBB3\t12:56489529-56489535\n",
        "ERBB3\t12:56490388-56490388 ERBB3\t12:56490382-56490388\n",
        "ERBB3\t12:56490901-56490901 ERBB3\t12:56490895-56490901\n",
        "ERBB3\t12:56490928-56490928 ERBB3\t12:56490922-56490928\n",
        "ERBB3\t12:56493763-56493763 ERBB3\t12:56493757-56493763\n",
        "ERBB3\t12:56495328-56495328 ERBB3\t12:56495322-56495328\n",
        "ERBB3\t12:56495502-56495502 ERBB3\t12:56495496-56495502\n",
        "ERBB3\t12:56495557-56495557 ERBB3\t12:56495551-56495557\n",
        "ERBB3\t12:56478826-56478826 ERBB3\t12:56478820-56478826\n",
        "ERBB3\t12:56479001-56479001"
       ]
      },
      {
       "output_type": "stream",
       "stream": "stdout",
       "text": [
        " ERBB3\t12:56478995-56479001\n",
        "ERBB3\t12:56482341-56482341 ERBB3\t12:56482335-56482341\n",
        "ERBB3\t12:56482607-56482607 ERBB3\t12:56482601-56482607\n",
        "ERBB3\t12:56486553-56486553 ERBB3\t12:56486547-56486553\n",
        "ERBB3\t12:56487649-56487649 ERBB3\t12:56487643-56487649\n",
        "ERBB3\t12:56489535-56489535 ERBB3\t12:56489529-56489535\n",
        "ERBB3\t12:56490901-56490901"
       ]
      },
      {
       "output_type": "stream",
       "stream": "stdout",
       "text": [
        " ERBB3\t12:56490895-56490901\n",
        "ERBB3\t12:56490928-56490928 ERBB3\t12:56490922-56490928\n",
        "ERBB3\t12:56495315-56495315 ERBB3\t12:56495309-56495315\n",
        "ERBB3\t12:56495592-56495592 ERBB3\t12:56495586-56495592\n",
        "ANKRD52\t12:56647896-56647896 ANKRD52\t12:56647894-56647900\n",
        "ANKRD52\t12:56651611-56651611 ANKRD52\t12:56651605-56651611\n",
        "ANKRD52\t12:56651611-56651611 ANKRD52\t12:56651605-56651611\n",
        "6700"
       ]
      },
      {
       "output_type": "stream",
       "stream": "stdout",
       "text": [
        "\n",
        "HMGA2\t12:66308905-66308905"
       ]
      },
      {
       "output_type": "stream",
       "stream": "stdout",
       "text": [
        " HMGA2\t12:66308899-66308905\n",
        "HMGA2\t12:66357061-66357061 HMGA2\t12:66357055-66357061\n",
        "HMGA2\t12:66308905-66308905"
       ]
      },
      {
       "output_type": "stream",
       "stream": "stdout",
       "text": [
        " HMGA2\t12:66308899-66308905\n",
        "BBS10\t12:76741020-76741020"
       ]
      },
      {
       "output_type": "stream",
       "stream": "stdout",
       "text": [
        " BBS10\t12:76741015-76741021\n",
        "BBS10\t12:76741035-76741035 BBS10\t12:76741029-76741035\n",
        "BBS10\t12:76741020-76741020 BBS10\t12:76741015-76741021\n",
        "BBS10\t12:76741035-76741035 BBS10\t12:76741029-76741035\n",
        "LRRIQ1\t12:85438525-85438525"
       ]
      },
      {
       "output_type": "stream",
       "stream": "stdout",
       "text": [
        " LRRIQ1\t12:85438519-85438525\n",
        "LRRIQ1\t12:85439870-85439870"
       ]
      },
      {
       "output_type": "stream",
       "stream": "stdout",
       "text": [
        " LRRIQ1\t12:85439864-85439870\n",
        "LRRIQ1\t12:85449664-85449664"
       ]
      },
      {
       "output_type": "stream",
       "stream": "stdout",
       "text": [
        " LRRIQ1\t12:85449658-85449664\n",
        "LRRIQ1\t12:85449848-85449848"
       ]
      },
      {
       "output_type": "stream",
       "stream": "stdout",
       "text": [
        " LRRIQ1\t12:85449842-85449848\n",
        "LRRIQ1\t12:85449849-85449849"
       ]
      },
      {
       "output_type": "stream",
       "stream": "stdout",
       "text": [
        " LRRIQ1\t12:85449843-85449849\n",
        "LRRIQ1\t12:85449856-85449856"
       ]
      },
      {
       "output_type": "stream",
       "stream": "stdout",
       "text": [
        " LRRIQ1\t12:85449850-85449856\n",
        "LRRIQ1\t12:85450905-85450905"
       ]
      },
      {
       "output_type": "stream",
       "stream": "stdout",
       "text": [
        " LRRIQ1\t12:85450899-85450905\n",
        "LRRIQ1\t12:85459061-85459061 LRRIQ1\t12:85459055-85459061\n",
        "LRRIQ1\t12:85460647-85460647 LRRIQ1\t12:85460641-85460647\n",
        "LRRIQ1\t12:85460647-85460647 LRRIQ1\t12:85460641-85460647\n",
        "LRRIQ1\t12:85515540-85515540 LRRIQ1\t12:85515534-85515540\n",
        "LRRIQ1\t12:85518188-85518188"
       ]
      },
      {
       "output_type": "stream",
       "stream": "stdout",
       "text": [
        " LRRIQ1\t12:85518182-85518188\n",
        "LRRIQ1\t12:85531727-85531727 LRRIQ1\t12:85531721-85531727\n",
        "LRRIQ1\t12:85546835-85546835"
       ]
      },
      {
       "output_type": "stream",
       "stream": "stdout",
       "text": [
        " LRRIQ1\t12:85546829-85546835\n",
        "LRRIQ1\t12:85547514-85547515"
       ]
      },
      {
       "output_type": "stream",
       "stream": "stdout",
       "text": [
        " LRRIQ1\t12:85547508-85547514\n",
        "LRRIQ1\t12:85626496-85626496"
       ]
      },
      {
       "output_type": "stream",
       "stream": "stdout",
       "text": [
        " LRRIQ1\t12:85626490-85626496\n",
        "LRRIQ1\t12:85438525-85438525"
       ]
      },
      {
       "output_type": "stream",
       "stream": "stdout",
       "text": [
        " LRRIQ1\t12:85438519-85438525\n",
        "LRRIQ1\t12:85449856-85449856"
       ]
      },
      {
       "output_type": "stream",
       "stream": "stdout",
       "text": [
        " LRRIQ1\t12:85449850-85449856\n",
        "LRRIQ1\t12:85450282-85450282"
       ]
      },
      {
       "output_type": "stream",
       "stream": "stdout",
       "text": [
        " LRRIQ1\t12:85450276-85450282\n",
        "LRRIQ1\t12:85460647-85460647 LRRIQ1\t12:85460641-85460647\n",
        "LRRIQ1\t12:85515540-85515540 LRRIQ1\t12:85515534-85515540\n",
        "LRRIQ1\t12:85518188-85518188"
       ]
      },
      {
       "output_type": "stream",
       "stream": "stdout",
       "text": [
        " LRRIQ1\t12:85518182-85518188\n",
        "LRRIQ1\t12:85546835-85546835 LRRIQ1\t12:85546829-85546835\n",
        "6800"
       ]
      },
      {
       "output_type": "stream",
       "stream": "stdout",
       "text": [
        "\n",
        "TMPO\t12:98925509-98925509"
       ]
      },
      {
       "output_type": "stream",
       "stream": "stdout",
       "text": [
        " TMPO\t12:98925503-98925509\n",
        "TMPO\t12:98926657-98926657 TMPO\t12:98926651-98926657\n",
        "TMPO\t12:98926744-98926744 TMPO\t12:98926738-98926744\n",
        "TMPO\t12:98927870-98927870 TMPO\t12:98927864-98927870\n",
        "TMPO\t12:98926744-98926744 TMPO\t12:98926738-98926744\n",
        "APAF1\t12:99042154-99042154"
       ]
      },
      {
       "output_type": "stream",
       "stream": "stdout",
       "text": [
        " APAF1\t12:99042148-99042154\n",
        "APAF1\t12:99042512-99042512 APAF1\t12:99042506-99042512\n",
        "APAF1\t12:99042512-99042512 APAF1\t12:99042506-99042512\n",
        "APAF1\t12:99043418-99043418"
       ]
      },
      {
       "output_type": "stream",
       "stream": "stdout",
       "text": [
        " APAF1\t12:99043412-99043418\n",
        "APAF1\t12:99043451-99043451 APAF1\t12:99043445-99043451\n",
        "APAF1\t12:99059461-99059461 APAF1\t12:99059455-99059461\n",
        "APAF1\t12:99065489-99065489"
       ]
      },
      {
       "output_type": "stream",
       "stream": "stdout",
       "text": [
        " APAF1\t12:99065483-99065489\n",
        "APAF1\t12:99074100-99074100 APAF1\t12:99074094-99074100\n",
        "APAF1\t12:99074109-99074109"
       ]
      },
      {
       "output_type": "stream",
       "stream": "stdout",
       "text": [
        " APAF1\t12:99074103-99074109\n",
        "APAF1\t12:99074131-99074131 APAF1\t12:99074125-99074131\n",
        "APAF1\t12:99076931-99076931"
       ]
      },
      {
       "output_type": "stream",
       "stream": "stdout",
       "text": [
        " APAF1\t12:99076925-99076931\n",
        "APAF1\t12:99080547-99080547 APAF1\t12:99080541-99080547\n",
        "APAF1\t12:99120975-99120977"
       ]
      },
      {
       "output_type": "stream",
       "stream": "stdout",
       "text": [
        " APAF1\t12:99120969-99120975\n",
        "APAF1\t12:99042512-99042512 APAF1\t12:99042506-99042512\n",
        "APAF1\t12:99074109-99074109 APAF1\t12:99074103-99074109\n",
        "APAF1\t12:99074131-99074131"
       ]
      },
      {
       "output_type": "stream",
       "stream": "stdout",
       "text": [
        " APAF1\t12:99074125-99074131\n",
        "ANKS1B\t12:99166817-99166817"
       ]
      },
      {
       "output_type": "stream",
       "stream": "stdout",
       "text": [
        " ANKS1B\t12:99166811-99166817\n",
        "ANKS1B\t12:99192725-99192725 ANKS1B\t12:99192719-99192725\n",
        "ANKS1B\t12:99194847-99194847"
       ]
      },
      {
       "output_type": "stream",
       "stream": "stdout",
       "text": [
        " ANKS1B\t12:99194841-99194847\n",
        "ANKS1B\t12:99288516-99288516"
       ]
      },
      {
       "output_type": "stream",
       "stream": "stdout",
       "text": [
        " ANKS1B\t12:99288510-99288516\n",
        "ANKS1B\t12:99288516-99288516"
       ]
      },
      {
       "output_type": "stream",
       "stream": "stdout",
       "text": [
        " ANKS1B\t12:99288510-99288516\n",
        "ANKS1B\t12:99192725-99192725"
       ]
      },
      {
       "output_type": "stream",
       "stream": "stdout",
       "text": [
        " ANKS1B\t12:99192719-99192725\n",
        "DEPDC4\t12:100660730-100660730"
       ]
      },
      {
       "output_type": "stream",
       "stream": "stdout",
       "text": [
        " DEPDC4\t12:100660726-100660732\n",
        "DEPDC4\t12:100660825-100660825 DEPDC4\t12:100660821-100660827\n",
        "DEPDC4\t12:100660730-100660730 DEPDC4\t12:100660726-100660732\n",
        "ARL1\t12:101801431-101801431 ARL1\t12:101801430-101801436\n",
        "SSH1\t12:109181920-109181920"
       ]
      },
      {
       "output_type": "stream",
       "stream": "stdout",
       "text": [
        " SSH1\t12:109181914-109181920\n",
        "SSH1\t12:109182841-109182841 SSH1\t12:109182835-109182841\n",
        "SSH1\t12:109182866-109182867"
       ]
      },
      {
       "output_type": "stream",
       "stream": "stdout",
       "text": [
        " SSH1\t12:109182860-109182866\n",
        "SSH1\t12:109182866-109182867 SSH1\t12:109182860-109182866\n",
        "SSH1\t12:109185905-109185905 SSH1\t12:109185899-109185905\n",
        "SSH1\t12:109185991-109185991 SSH1\t12:109185985-109185991\n",
        "SSH1\t12:109186215-109186215 SSH1\t12:109186209-109186215\n",
        "SSH1\t12:109186303-109186303 SSH1\t12:109186297-109186303\n",
        "SSH1\t12:109186593-109186593 SSH1\t12:109186587-109186593\n",
        "SSH1\t12:109192941-109192941 SSH1\t12:109192935-109192941\n",
        "SSH1\t12:109200108-109200108"
       ]
      },
      {
       "output_type": "stream",
       "stream": "stdout",
       "text": [
        " SSH1\t12:109200102-109200108\n",
        "SSH1\t12:109201438-109201438 SSH1\t12:109201432-109201438\n",
        "SSH1\t12:109181920-109181920 SSH1\t12:109181914-109181920\n",
        "SSH1\t12:109185905-109185905 SSH1\t12:109185899-109185905\n",
        "SSH1\t12:109186215-109186215 SSH1\t12:109186209-109186215\n",
        "6900"
       ]
      },
      {
       "output_type": "stream",
       "stream": "stdout",
       "text": [
        "\n",
        "ERP29\t12:112457615-112457615"
       ]
      },
      {
       "output_type": "stream",
       "stream": "stdout",
       "text": [
        " ERP29\t12:112457609-112457615\n",
        "ERP29\t12:112460034-112460034 ERP29\t12:112460028-112460034\n",
        "ERP29\t12:112460145-112460145 ERP29\t12:112460139-112460145\n",
        "ERP29\t12:112460145-112460145 ERP29\t12:112460139-112460145\n",
        "ERP29\t12:112460210-112460210 ERP29\t12:112460204-112460210\n",
        "ERP29\t12:112457615-112457615 ERP29\t12:112457609-112457615\n",
        "ERP29\t12:112460034-112460034 ERP29\t12:112460028-112460034\n",
        "ERP29\t12:112460210-112460210 ERP29\t12:112460204-112460210\n",
        "OAS1\t12:113346375-113346375"
       ]
      },
      {
       "output_type": "stream",
       "stream": "stdout",
       "text": [
        " OAS1\t12:113346369-113346375\n",
        "OAS1\t12:113355524-113355524 OAS1\t12:113355518-113355524\n",
        "OAS1\t12:113346375-113346375 OAS1\t12:113346369-113346375\n",
        "TBX3\t12:115120697-115120698"
       ]
      },
      {
       "output_type": "stream",
       "stream": "stdout",
       "text": [
        " TBX3\t12:115120693-115120699\n",
        "TBX3\t12:115120697-115120698 TBX3\t12:115120693-115120699\n",
        "OASL\t12:121458630-121458631"
       ]
      },
      {
       "output_type": "stream",
       "stream": "stdout",
       "text": [
        " OASL\t12:121458624-121458630\n",
        "OASL\t12:121458644-121458645 OASL\t12:121458638-121458644\n",
        "OASL\t12:121458768-121458768 OASL\t12:121458762-121458768\n",
        "OASL\t12:121458802-121458802 OASL\t12:121458796-121458802\n",
        "OASL\t12:121461839-121461839 OASL\t12:121461833-121461839\n",
        "OASL\t12:121461911-121461911 OASL\t12:121461905-121461911\n",
        "OASL\t12:121469412-121469412 OASL\t12:121469406-121469412\n",
        "OASL\t12:121471334-121471334 OASL\t12:121471328-121471334\n",
        "OASL\t12:121471506-121471506 OASL\t12:121471500-121471506\n",
        "OASL\t12:121476654-121476654 OASL\t12:121476648-121476654\n",
        "OASL\t12:121461839-121461839 OASL\t12:121461833-121461839\n",
        "OASL\t12:121469412-121469412 OASL\t12:121469406-121469412\n",
        "OASL\t12:121476669-121476669 OASL\t12:121476663-121476669\n",
        "7000\n",
        "KDM2B\t12:121868126-121868126"
       ]
      },
      {
       "output_type": "stream",
       "stream": "stdout",
       "text": [
        " KDM2B\t12:121868120-121868126\n",
        "KDM2B\t12:121878692-121878692"
       ]
      },
      {
       "output_type": "stream",
       "stream": "stdout",
       "text": [
        " KDM2B\t12:121878686-121878692\n",
        "KDM2B\t12:121878877-121878877"
       ]
      },
      {
       "output_type": "stream",
       "stream": "stdout",
       "text": [
        " KDM2B\t12:121878871-121878877\n",
        "KDM2B\t12:121878877-121878877"
       ]
      },
      {
       "output_type": "stream",
       "stream": "stdout",
       "text": [
        " KDM2B\t12:121878871-121878877\n",
        "KDM2B\t12:121878877-121878877"
       ]
      },
      {
       "output_type": "stream",
       "stream": "stdout",
       "text": [
        " KDM2B\t12:121878871-121878877\n",
        "KDM2B\t12:121878934-121878934"
       ]
      },
      {
       "output_type": "stream",
       "stream": "stdout",
       "text": [
        " KDM2B\t12:121878928-121878934\n",
        "KDM2B\t12:121880537-121880538"
       ]
      },
      {
       "output_type": "stream",
       "stream": "stdout",
       "text": [
        " KDM2B\t12:121880531-121880537\n",
        "KDM2B\t12:121880537-121880538"
       ]
      },
      {
       "output_type": "stream",
       "stream": "stdout",
       "text": [
        " KDM2B\t12:121880531-121880537\n",
        "KDM2B\t12:121880585-121880585"
       ]
      },
      {
       "output_type": "stream",
       "stream": "stdout",
       "text": [
        " KDM2B\t12:121880579-121880585\n",
        "KDM2B\t12:121947738-121947738 KDM2B\t12:121947732-121947738\n",
        "KDM2B\t12:121986850-121986850"
       ]
      },
      {
       "output_type": "stream",
       "stream": "stdout",
       "text": [
        " KDM2B\t12:121986844-121986850\n",
        "KDM2B\t12:122017957-122017957"
       ]
      },
      {
       "output_type": "stream",
       "stream": "stdout",
       "text": [
        " KDM2B\t12:122017951-122017957\n",
        "KDM2B\t12:121878877-121878877"
       ]
      },
      {
       "output_type": "stream",
       "stream": "stdout",
       "text": [
        " KDM2B\t12:121878871-121878877\n",
        "KDM2B\t12:121878934-121878934"
       ]
      },
      {
       "output_type": "stream",
       "stream": "stdout",
       "text": [
        " KDM2B\t12:121878928-121878934\n",
        "KDM2B\t12:121880585-121880585"
       ]
      },
      {
       "output_type": "stream",
       "stream": "stdout",
       "text": [
        " KDM2B\t12:121880579-121880585\n",
        "KDM2B\t12:121986850-121986850 KDM2B\t12:121986844-121986850\n",
        "WDR66\t12:122359385-122359385"
       ]
      },
      {
       "output_type": "stream",
       "stream": "stdout",
       "text": [
        " WDR66\t12:122359379-122359385\n",
        "WDR66\t12:122359385-122359385 WDR66\t12:122359379-122359385\n",
        "WDR66\t12:122359392-122359392 WDR66\t12:122359386-122359392\n",
        "WDR66\t12:122361793-122361793 WDR66\t12:122361787-122361793\n",
        "WDR66\t12:122361879-122361880 WDR66\t12:122361873-122361879\n",
        "WDR66\t12:122395019-122395019"
       ]
      },
      {
       "output_type": "stream",
       "stream": "stdout",
       "text": [
        " WDR66\t12:122395013-122395019\n",
        "WDR66\t12:122395061-122395061 WDR66\t12:122395055-122395061\n",
        "WDR66\t12:122395093-122395093"
       ]
      },
      {
       "output_type": "stream",
       "stream": "stdout",
       "text": [
        " WDR66\t12:122395087-122395093\n",
        "WDR66\t12:122396244-122396244 WDR66\t12:122396238-122396244\n",
        "WDR66\t12:122399920-122399920"
       ]
      },
      {
       "output_type": "stream",
       "stream": "stdout",
       "text": [
        " WDR66\t12:122399914-122399920\n",
        "WDR66\t12:122404947-122404947 WDR66\t12:122404941-122404947\n",
        "WDR66\t12:122413473-122413473"
       ]
      },
      {
       "output_type": "stream",
       "stream": "stdout",
       "text": [
        " WDR66\t12:122413467-122413473\n",
        "WDR66\t12:122413496-122413496 WDR66\t12:122413490-122413496\n",
        "WDR66\t12:122413586-122413586"
       ]
      },
      {
       "output_type": "stream",
       "stream": "stdout",
       "text": [
        " WDR66\t12:122413580-122413586\n",
        "WDR66\t12:122437780-122437780 WDR66\t12:122437774-122437780\n",
        "WDR66\t12:122437845-122437845 WDR66\t12:122437839-122437845\n",
        "WDR66\t12:122441575-122441575 WDR66\t12:122441569-122441575\n",
        "WDR66\t12:122441598-122441598 WDR66\t12:122441592-122441598\n",
        "WDR66\t12:122359379-122359381"
       ]
      },
      {
       "output_type": "stream",
       "stream": "stdout",
       "text": [
        " WDR66\t12:122359373-122359379\n",
        "WDR66\t12:122359397-122359398 WDR66\t12:122359391-122359397\n",
        "WDR66\t12:122361793-122361793 WDR66\t12:122361787-122361793\n",
        "WDR66\t12:122361879-122361880 WDR66\t12:122361873-122361879\n",
        "WDR66\t12:122396206-122396206"
       ]
      },
      {
       "output_type": "stream",
       "stream": "stdout",
       "text": [
        " WDR66\t12:122396200-122396206\n",
        "WDR66\t12:122404947-122404947 WDR66\t12:122404941-122404947\n",
        "WDR66\t12:122413473-122413473"
       ]
      },
      {
       "output_type": "stream",
       "stream": "stdout",
       "text": [
        " WDR66\t12:122413467-122413473\n",
        "WDR66\t12:122413496-122413496 WDR66\t12:122413490-122413496\n",
        "WDR66\t12:122413586-122413586"
       ]
      },
      {
       "output_type": "stream",
       "stream": "stdout",
       "text": [
        " WDR66\t12:122413580-122413586\n",
        "WDR66\t12:122437780-122437780 WDR66\t12:122437774-122437780\n",
        "WDR66\t12:122441598-122441598 WDR66\t12:122441592-122441598\n",
        "PIWIL1\t12:130827144-130827144"
       ]
      },
      {
       "output_type": "stream",
       "stream": "stdout",
       "text": [
        " PIWIL1\t12:130827138-130827144\n",
        "PIWIL1\t12:130827159-130827159 PIWIL1\t12:130827153-130827159\n",
        "PIWIL1\t12:130827177-130827177 PIWIL1\t12:130827171-130827177\n",
        "PIWIL1\t12:130827204-130827204 PIWIL1\t12:130827198-130827204\n",
        "PIWIL1\t12:130827556-130827556 PIWIL1\t12:130827550-130827556\n",
        "PIWIL1\t12:130831527-130831527 PIWIL1\t12:130831521-130831527\n",
        "PIWIL1\t12:130833872-130833872 PIWIL1\t12:130833866-130833872\n",
        "PIWIL1\t12:130833872-130833872 PIWIL1\t12:130833866-130833872\n",
        "PIWIL1\t12:130833916-130833916 PIWIL1\t12:130833910-130833916\n",
        "PIWIL1\t12:130833950-130833950 PIWIL1\t12:130833944-130833950\n",
        "PIWIL1\t12:130834421-130834421"
       ]
      },
      {
       "output_type": "stream",
       "stream": "stdout",
       "text": [
        " PIWIL1\t12:130834415-130834421\n",
        "PIWIL1\t12:130834441-130834441 PIWIL1\t12:130834435-130834441\n",
        "PIWIL1\t12:130834474-130834474 PIWIL1\t12:130834468-130834474\n",
        "PIWIL1\t12:130839094-130839094 PIWIL1\t12:130839088-130839094\n",
        "PIWIL1\t12:130839167-130839167 PIWIL1\t12:130839161-130839167\n",
        "PIWIL1\t12:130839517-130839517 PIWIL1\t12:130839511-130839517\n",
        "PIWIL1\t12:130839528-130839528"
       ]
      },
      {
       "output_type": "stream",
       "stream": "stdout",
       "text": [
        " PIWIL1\t12:130839522-130839528\n",
        "PIWIL1\t12:130847321-130847321 PIWIL1\t12:130847315-130847321\n",
        "PIWIL1\t12:130855727-130855728 PIWIL1\t12:130855721-130855727\n",
        "PIWIL1\t12:130827144-130827144"
       ]
      },
      {
       "output_type": "stream",
       "stream": "stdout",
       "text": [
        " PIWIL1\t12:130827138-130827144\n",
        "PIWIL1\t12:130827177-130827177 PIWIL1\t12:130827171-130827177\n",
        "PIWIL1\t12:130831527-130831527 PIWIL1\t12:130831521-130831527\n",
        "PIWIL1\t12:130833872-130833872 PIWIL1\t12:130833866-130833872\n",
        "PIWIL1\t12:130833916-130833916 PIWIL1\t12:130833910-130833916\n",
        "PIWIL1\t12:130833950-130833950 PIWIL1\t12:130833944-130833950\n",
        "PIWIL1\t12:130834441-130834441 PIWIL1\t12:130834435-130834441\n",
        "PIWIL1\t12:130839517-130839517"
       ]
      },
      {
       "output_type": "stream",
       "stream": "stdout",
       "text": [
        " PIWIL1\t12:130839511-130839517\n",
        "PIWIL1\t12:130847321-130847321 PIWIL1\t12:130847315-130847321\n",
        "SFSWAP\t12:132284271-132284271 SFSWAP\t12:132284266-132284272\n",
        "7100"
       ]
      },
      {
       "output_type": "stream",
       "stream": "stdout",
       "text": [
        "\n",
        "N4BP2L2\t13:33017767-33017767"
       ]
      },
      {
       "output_type": "stream",
       "stream": "stdout",
       "text": [
        " N4BP2L2\t13:33017761-33017767\n",
        "N4BP2L2\t13:33018233-33018233 N4BP2L2\t13:33018227-33018233\n",
        "N4BP2L2\t13:33092110-33092110"
       ]
      },
      {
       "output_type": "stream",
       "stream": "stdout",
       "text": [
        " N4BP2L2\t13:33092104-33092110\n",
        "N4BP2L2\t13:33109915-33109915 N4BP2L2\t13:33109909-33109915\n",
        "N4BP2L2\t13:33110048-33110048"
       ]
      },
      {
       "output_type": "stream",
       "stream": "stdout",
       "text": [
        " N4BP2L2\t13:33110042-33110048\n",
        "N4BP2L2\t13:33110066-33110066 N4BP2L2\t13:33110060-33110066\n",
        "N4BP2L2\t13:33017767-33017767"
       ]
      },
      {
       "output_type": "stream",
       "stream": "stdout",
       "text": [
        " N4BP2L2\t13:33017761-33017767\n",
        "N4BP2L2\t13:33018233-33018233 N4BP2L2\t13:33018227-33018233\n",
        "N4BP2L2\t13:33092110-33092110"
       ]
      },
      {
       "output_type": "stream",
       "stream": "stdout",
       "text": [
        " N4BP2L2\t13:33092104-33092110\n",
        "N4BP2L2\t13:33109915-33109915 N4BP2L2\t13:33109909-33109915\n",
        "MAB21L1\t13:36050059-36050059"
       ]
      },
      {
       "output_type": "stream",
       "stream": "stdout",
       "text": [
        " MAB21L1\t13:36050056-36050062\n",
        "MAB21L1\t13:36050059-36050059 MAB21L1\t13:36050056-36050062\n",
        "DCLK1\t13:36348770-36348770"
       ]
      },
      {
       "output_type": "stream",
       "stream": "stdout",
       "text": [
        " DCLK1\t13:36348764-36348770\n",
        "DCLK1\t13:36367617-36367617 DCLK1\t13:36367611-36367617\n",
        "DCLK1\t13:36402431-36402431"
       ]
      },
      {
       "output_type": "stream",
       "stream": "stdout",
       "text": [
        " DCLK1\t13:36402425-36402431\n",
        "DCLK1\t13:36410237-36410237 DCLK1\t13:36410231-36410237\n",
        "DCLK1\t13:36424764-36424764"
       ]
      },
      {
       "output_type": "stream",
       "stream": "stdout",
       "text": [
        " DCLK1\t13:36424758-36424764\n",
        "DCLK1\t13:36348770-36348770"
       ]
      },
      {
       "output_type": "stream",
       "stream": "stdout",
       "text": [
        " DCLK1\t13:36348764-36348770\n",
        "DCLK1\t13:36367617-36367617 DCLK1\t13:36367611-36367617\n",
        "CCDC169\t13:36805331-36805331"
       ]
      },
      {
       "output_type": "stream",
       "stream": "stdout",
       "text": [
        " CCDC169\t13:36805325-36805331\n",
        "CCDC169\t13:36855373-36855373 CCDC169\t13:36855367-36855373\n",
        "CCDC169\t13:36857639-36857639 CCDC169\t13:36857633-36857639\n",
        "NAA16\t13:41885599-41885599"
       ]
      },
      {
       "output_type": "stream",
       "stream": "stdout",
       "text": [
        " NAA16\t13:41885593-41885599\n",
        "NAA16\t13:41891017-41891017 NAA16\t13:41891011-41891017\n",
        "NAA16\t13:41899887-41899887 NAA16\t13:41899881-41899887\n",
        "7200"
       ]
      },
      {
       "output_type": "stream",
       "stream": "stdout",
       "text": [
        "\n",
        "EPSTI1\t13:43469228-43469229"
       ]
      },
      {
       "output_type": "stream",
       "stream": "stdout",
       "text": [
        " EPSTI1\t13:43469222-43469228\n",
        "EPSTI1\t13:43500514-43500514"
       ]
      },
      {
       "output_type": "stream",
       "stream": "stdout",
       "text": [
        " EPSTI1\t13:43500508-43500514\n",
        "EPSTI1\t13:43537413-43537414 EPSTI1\t13:43537407-43537413\n",
        "LRCH1\t13:47127578-47127578"
       ]
      },
      {
       "output_type": "stream",
       "stream": "stdout",
       "text": [
        " LRCH1\t13:47127572-47127578\n",
        "LRCH1\t13:47127611-47127611"
       ]
      },
      {
       "output_type": "stream",
       "stream": "stdout",
       "text": [
        " LRCH1\t13:47127605-47127611\n",
        "LRCH1\t13:47243213-47243213 LRCH1\t13:47243207-47243213\n",
        "LRCH1\t13:47260119-47260119"
       ]
      },
      {
       "output_type": "stream",
       "stream": "stdout",
       "text": [
        " LRCH1\t13:47260113-47260119\n",
        "LRCH1\t13:47262104-47262104 LRCH1\t13:47262098-47262104\n",
        "LRCH1\t13:47279264-47279264"
       ]
      },
      {
       "output_type": "stream",
       "stream": "stdout",
       "text": [
        " LRCH1\t13:47279258-47279264\n",
        "LRCH1\t13:47286664-47286664"
       ]
      },
      {
       "output_type": "stream",
       "stream": "stdout",
       "text": [
        " LRCH1\t13:47286658-47286664\n",
        "LRCH1\t13:47297426-47297426"
       ]
      },
      {
       "output_type": "stream",
       "stream": "stdout",
       "text": [
        " LRCH1\t13:47297420-47297426\n",
        "LRCH1\t13:47297460-47297460"
       ]
      },
      {
       "output_type": "stream",
       "stream": "stdout",
       "text": [
        " LRCH1\t13:47297454-47297460\n",
        "LRCH1\t13:47303080-47303080"
       ]
      },
      {
       "output_type": "stream",
       "stream": "stdout",
       "text": [
        " LRCH1\t13:47303074-47303080\n",
        "LRCH1\t13:47315872-47315872"
       ]
      },
      {
       "output_type": "stream",
       "stream": "stdout",
       "text": [
        " LRCH1\t13:47315866-47315872\n",
        "LRCH1\t13:47315875-47315875"
       ]
      },
      {
       "output_type": "stream",
       "stream": "stdout",
       "text": [
        " LRCH1\t13:47315869-47315875\n",
        "LRCH1\t13:47127578-47127578"
       ]
      },
      {
       "output_type": "stream",
       "stream": "stdout",
       "text": [
        " LRCH1\t13:47127572-47127578\n",
        "LRCH1\t13:47262104-47262104 LRCH1\t13:47262098-47262104\n",
        "LRCH1\t13:47279264-47279264"
       ]
      },
      {
       "output_type": "stream",
       "stream": "stdout",
       "text": [
        " LRCH1\t13:47279258-47279264\n",
        "LRCH1\t13:47286664-47286664"
       ]
      },
      {
       "output_type": "stream",
       "stream": "stdout",
       "text": [
        " LRCH1\t13:47286658-47286664\n",
        "KLHL1\t13:70681654-70681654"
       ]
      },
      {
       "output_type": "stream",
       "stream": "stdout",
       "text": [
        " KLHL1\t13:70681649-70681655\n",
        "KLHL1\t13:70681654-70681654 KLHL1\t13:70681649-70681655\n",
        "POU4F1\t13:79177419-79177419"
       ]
      },
      {
       "output_type": "stream",
       "stream": "stdout",
       "text": [
        " POU4F1\t13:79177413-79177419\n",
        "7300\n",
        "FARP1\t13:98865603-98865603"
       ]
      },
      {
       "output_type": "stream",
       "stream": "stdout",
       "text": [
        " FARP1\t13:98865597-98865603\n",
        "FARP1\t13:99083458-99083458"
       ]
      },
      {
       "output_type": "stream",
       "stream": "stdout",
       "text": [
        " FARP1\t13:99083452-99083458\n",
        "FARP1\t13:99088137-99088137"
       ]
      },
      {
       "output_type": "stream",
       "stream": "stdout",
       "text": [
        " FARP1\t13:99088131-99088137\n",
        "FARP1\t13:99092236-99092237 FARP1\t13:99092230-99092236\n",
        "FARP1\t13:99093081-99093081 FARP1\t13:99093075-99093081\n",
        "FARP1\t13:98865603-98865603 FARP1\t13:98865597-98865603\n",
        "FARP1\t13:99061690-99061690"
       ]
      },
      {
       "output_type": "stream",
       "stream": "stdout",
       "text": [
        " FARP1\t13:99061684-99061690\n",
        "FARP1\t13:99083458-99083458"
       ]
      },
      {
       "output_type": "stream",
       "stream": "stdout",
       "text": [
        " FARP1\t13:99083452-99083458\n",
        "ZIC5\t13:100622505-100622505"
       ]
      },
      {
       "output_type": "stream",
       "stream": "stdout",
       "text": [
        " ZIC5\t13:100622503-100622509\n",
        "ZIC5\t13:100623858-100623858 ZIC5\t13:100623853-100623859\n",
        "ARHGEF7\t13:111806290-111806290"
       ]
      },
      {
       "output_type": "stream",
       "stream": "stdout",
       "text": [
        " ARHGEF7\t13:111806284-111806290\n",
        "ARHGEF7\t13:111919984-111919984"
       ]
      },
      {
       "output_type": "stream",
       "stream": "stdout",
       "text": [
        " ARHGEF7\t13:111919978-111919984\n",
        "ARHGEF7\t13:111927099-111927099"
       ]
      },
      {
       "output_type": "stream",
       "stream": "stdout",
       "text": [
        " ARHGEF7\t13:111927093-111927099\n",
        "ARHGEF7\t13:111927123-111927123"
       ]
      },
      {
       "output_type": "stream",
       "stream": "stdout",
       "text": [
        " ARHGEF7\t13:111927117-111927123\n",
        "ARHGEF7\t13:111927898-111927898"
       ]
      },
      {
       "output_type": "stream",
       "stream": "stdout",
       "text": [
        " ARHGEF7\t13:111927892-111927898\n",
        "ARHGEF7\t13:111930018-111930018"
       ]
      },
      {
       "output_type": "stream",
       "stream": "stdout",
       "text": [
        " ARHGEF7\t13:111930012-111930018\n",
        "ARHGEF7\t13:111938540-111938540"
       ]
      },
      {
       "output_type": "stream",
       "stream": "stdout",
       "text": [
        " ARHGEF7\t13:111938534-111938540\n",
        "ARHGEF7\t13:111806290-111806290"
       ]
      },
      {
       "output_type": "stream",
       "stream": "stdout",
       "text": [
        " ARHGEF7\t13:111806284-111806290\n",
        "ARHGEF7\t13:111927898-111927898"
       ]
      },
      {
       "output_type": "stream",
       "stream": "stdout",
       "text": [
        " ARHGEF7\t13:111927892-111927898\n",
        "ARHGEF7\t13:111930018-111930018"
       ]
      },
      {
       "output_type": "stream",
       "stream": "stdout",
       "text": [
        " ARHGEF7\t13:111930012-111930018\n",
        "7400"
       ]
      },
      {
       "output_type": "stream",
       "stream": "stdout",
       "text": [
        "\n",
        "PCK2\t14:24567421-24567421"
       ]
      },
      {
       "output_type": "stream",
       "stream": "stdout",
       "text": [
        " PCK2\t14:24567415-24567421\n",
        "PCK2\t14:24568928-24568928 PCK2\t14:24568922-24568928\n",
        "PCK2\t14:24569343-24569343 PCK2\t14:24569337-24569343\n",
        "PCK2\t14:24567421-24567421 PCK2\t14:24567415-24567421\n",
        "PCK2\t14:24568928-24568928 PCK2\t14:24568922-24568928\n",
        "7500"
       ]
      },
      {
       "output_type": "stream",
       "stream": "stdout",
       "text": [
        "\n",
        "RALGAPA1\t14:36039830-36039830"
       ]
      },
      {
       "output_type": "stream",
       "stream": "stdout",
       "text": [
        " RALGAPA1\t14:36039824-36039830\n",
        "RALGAPA1\t14:36096648-36096648"
       ]
      },
      {
       "output_type": "stream",
       "stream": "stdout",
       "text": [
        " RALGAPA1\t14:36096642-36096648\n",
        "RALGAPA1\t14:36096681-36096681"
       ]
      },
      {
       "output_type": "stream",
       "stream": "stdout",
       "text": [
        " RALGAPA1\t14:36096675-36096681\n",
        "RALGAPA1\t14:36147276-36147276"
       ]
      },
      {
       "output_type": "stream",
       "stream": "stdout",
       "text": [
        " RALGAPA1\t14:36147270-36147276\n",
        "RALGAPA1\t14:36155786-36155786"
       ]
      },
      {
       "output_type": "stream",
       "stream": "stdout",
       "text": [
        " RALGAPA1\t14:36155780-36155786\n",
        "RALGAPA1\t14:36159078-36159078"
       ]
      },
      {
       "output_type": "stream",
       "stream": "stdout",
       "text": [
        " RALGAPA1\t14:36159072-36159078\n",
        "RALGAPA1\t14:36192403-36192403 RALGAPA1\t14:36192397-36192403\n",
        "RALGAPA1\t14:36207803-36207803 RALGAPA1\t14:36207797-36207803\n",
        "RALGAPA1\t14:36221341-36221341"
       ]
      },
      {
       "output_type": "stream",
       "stream": "stdout",
       "text": [
        " RALGAPA1\t14:36221335-36221341\n",
        "RALGAPA1\t14:36221341-36221341 RALGAPA1\t14:36221335-36221341\n",
        "RALGAPA1\t14:36244884-36244884"
       ]
      },
      {
       "output_type": "stream",
       "stream": "stdout",
       "text": [
        " RALGAPA1\t14:36244878-36244884\n",
        "RALGAPA1\t14:36096648-36096648"
       ]
      },
      {
       "output_type": "stream",
       "stream": "stdout",
       "text": [
        " RALGAPA1\t14:36096642-36096648\n",
        "RALGAPA1\t14:36155819-36155819"
       ]
      },
      {
       "output_type": "stream",
       "stream": "stdout",
       "text": [
        " RALGAPA1\t14:36155813-36155819\n",
        "RALGAPA1\t14:36192403-36192403 RALGAPA1\t14:36192397-36192403\n",
        "RALGAPA1\t14:36207803-36207803 RALGAPA1\t14:36207797-36207803\n",
        "GCH1\t14:55309825-55309825"
       ]
      },
      {
       "output_type": "stream",
       "stream": "stdout",
       "text": [
        " GCH1\t14:55309819-55309825\n",
        "GCH1\t14:55310747-55310747 GCH1\t14:55310741-55310747\n",
        "GCH1\t14:55369216-55369216"
       ]
      },
      {
       "output_type": "stream",
       "stream": "stdout",
       "text": [
        " GCH1\t14:55369210-55369216\n",
        "GCH1\t14:55310747-55310747 GCH1\t14:55310741-55310747\n",
        "GCH1\t14:55369216-55369216"
       ]
      },
      {
       "output_type": "stream",
       "stream": "stdout",
       "text": [
        " GCH1\t14:55369210-55369216\n",
        "LGALS3\t14:55604413-55604413"
       ]
      },
      {
       "output_type": "stream",
       "stream": "stdout",
       "text": [
        " LGALS3\t14:55604407-55604413\n",
        "LGALS3\t14:55605046-55605046 LGALS3\t14:55605040-55605046\n",
        "LGALS3\t14:55611885-55611885 LGALS3\t14:55611879-55611885\n",
        "KTN1\t14:56085923-56085923"
       ]
      },
      {
       "output_type": "stream",
       "stream": "stdout",
       "text": [
        " KTN1\t14:56085917-56085923\n",
        "KTN1\t14:56101368-56101368 KTN1\t14:56101362-56101368\n",
        "KTN1\t14:56107112-56107112 KTN1\t14:56107106-56107112\n",
        "KTN1\t14:56114770-56114770 KTN1\t14:56114764-56114770\n",
        "KTN1\t14:56114796-56114796 KTN1\t14:56114790-56114796\n",
        "KTN1\t14:56116507-56116507 KTN1\t14:56116501-56116507\n",
        "KTN1\t14:56130713-56130713"
       ]
      },
      {
       "output_type": "stream",
       "stream": "stdout",
       "text": [
        " KTN1\t14:56130707-56130713\n",
        "KTN1\t14:56138368-56138368 KTN1\t14:56138362-56138368\n",
        "KTN1\t14:56146398-56146398"
       ]
      },
      {
       "output_type": "stream",
       "stream": "stdout",
       "text": [
        " KTN1\t14:56146392-56146398\n",
        "KTN1\t14:56085923-56085923 KTN1\t14:56085917-56085923\n",
        "KTN1\t14:56107112-56107112 KTN1\t14:56107106-56107112\n",
        "KTN1\t14:56114770-56114770"
       ]
      },
      {
       "output_type": "stream",
       "stream": "stdout",
       "text": [
        " KTN1\t14:56114764-56114770\n",
        "KTN1\t14:56114796-56114796 KTN1\t14:56114790-56114796\n",
        "KTN1\t14:56116507-56116507 KTN1\t14:56116501-56116507\n",
        "KTN1\t14:56130713-56130713 KTN1\t14:56130707-56130713\n",
        "KTN1\t14:56138368-56138368"
       ]
      },
      {
       "output_type": "stream",
       "stream": "stdout",
       "text": [
        " KTN1\t14:56138362-56138368\n",
        "7600\n",
        "SIX4\t14:61190202-61190202"
       ]
      },
      {
       "output_type": "stream",
       "stream": "stdout",
       "text": [
        " SIX4\t14:61190200-61190206\n",
        "KCNH5\t14:63174294-63174294"
       ]
      },
      {
       "output_type": "stream",
       "stream": "stdout",
       "text": [
        " KCNH5\t14:63174288-63174294\n",
        "KCNH5\t14:63174802-63174802 KCNH5\t14:63174796-63174802\n",
        "KCNH5\t14:63174802-63174802"
       ]
      },
      {
       "output_type": "stream",
       "stream": "stdout",
       "text": [
        " KCNH5\t14:63174796-63174802\n",
        "KCNH5\t14:63174898-63174898 KCNH5\t14:63174892-63174898\n",
        "KCNH5\t14:63246532-63246532"
       ]
      },
      {
       "output_type": "stream",
       "stream": "stdout",
       "text": [
        " KCNH5\t14:63246526-63246532\n",
        "KCNH5\t14:63316565-63316565"
       ]
      },
      {
       "output_type": "stream",
       "stream": "stdout",
       "text": [
        " KCNH5\t14:63316559-63316565\n",
        "KCNH5\t14:63416872-63416872"
       ]
      },
      {
       "output_type": "stream",
       "stream": "stdout",
       "text": [
        " KCNH5\t14:63416866-63416872\n",
        "KCNH5\t14:63473099-63473099 KCNH5\t14:63473093-63473099\n",
        "KCNH5\t14:63473181-63473181 KCNH5\t14:63473175-63473181\n",
        "KCNH5\t14:63174294-63174294"
       ]
      },
      {
       "output_type": "stream",
       "stream": "stdout",
       "text": [
        " KCNH5\t14:63174288-63174294\n",
        "KCNH5\t14:63174802-63174802 KCNH5\t14:63174796-63174802\n",
        "KCNH5\t14:63174898-63174898"
       ]
      },
      {
       "output_type": "stream",
       "stream": "stdout",
       "text": [
        " KCNH5\t14:63174892-63174898\n",
        "KCNH5\t14:63416872-63416872"
       ]
      },
      {
       "output_type": "stream",
       "stream": "stdout",
       "text": [
        " KCNH5\t14:63416866-63416872\n",
        "KCNH5\t14:63473099-63473099 KCNH5\t14:63473093-63473099\n",
        "KCNH5\t14:63473181-63473181 KCNH5\t14:63473175-63473181\n",
        "RAD51B\t14:68292285-68292285"
       ]
      },
      {
       "output_type": "stream",
       "stream": "stdout",
       "text": [
        " RAD51B\t14:68292279-68292285\n",
        "RAD51B\t14:68353784-68353784 RAD51B\t14:68353778-68353784\n",
        "RAD51B\t14:68353916-68353916"
       ]
      },
      {
       "output_type": "stream",
       "stream": "stdout",
       "text": [
        " RAD51B\t14:68353910-68353916\n",
        "7700"
       ]
      },
      {
       "output_type": "stream",
       "stream": "stdout",
       "text": [
        "\n",
        "MOAP1\t14:93650587-93650587"
       ]
      },
      {
       "output_type": "stream",
       "stream": "stdout",
       "text": [
        " MOAP1\t14:93650582-93650588\n",
        "MOAP1\t14:93650587-93650587 MOAP1\t14:93650582-93650588\n",
        "7800"
       ]
      },
      {
       "output_type": "stream",
       "stream": "stdout",
       "text": [
        "\n",
        "SETD3\t14:99865091-99865091"
       ]
      },
      {
       "output_type": "stream",
       "stream": "stdout",
       "text": [
        " SETD3\t14:99865085-99865091\n",
        "SETD3\t14:99865308-99865308 SETD3\t14:99865302-99865308\n",
        "SETD3\t14:99924822-99924822"
       ]
      },
      {
       "output_type": "stream",
       "stream": "stdout",
       "text": [
        " SETD3\t14:99924816-99924822\n",
        "SETD3\t14:99925516-99925516 SETD3\t14:99925510-99925516\n",
        "SETD3\t14:99932119-99932119"
       ]
      },
      {
       "output_type": "stream",
       "stream": "stdout",
       "text": [
        " SETD3\t14:99932113-99932119\n",
        "SETD3\t14:99865308-99865308 SETD3\t14:99865302-99865308\n",
        "WDR20\t14:102606230-102606230"
       ]
      },
      {
       "output_type": "stream",
       "stream": "stdout",
       "text": [
        " WDR20\t14:102606224-102606230\n",
        "WDR20\t14:102675017-102675017 WDR20\t14:102675011-102675017\n",
        "WDR20\t14:102675094-102675094"
       ]
      },
      {
       "output_type": "stream",
       "stream": "stdout",
       "text": [
        " WDR20\t14:102675088-102675094\n",
        "WDR20\t14:102675570-102675570 WDR20\t14:102675564-102675570\n",
        "WDR20\t14:102675930-102675930"
       ]
      },
      {
       "output_type": "stream",
       "stream": "stdout",
       "text": [
        " WDR20\t14:102675924-102675930\n",
        "WDR20\t14:102675094-102675094 WDR20\t14:102675088-102675094\n",
        "WDR20\t14:102675570-102675570"
       ]
      },
      {
       "output_type": "stream",
       "stream": "stdout",
       "text": [
        " WDR20\t14:102675564-102675570\n",
        "TECPR2\t14:102843158-102843158"
       ]
      },
      {
       "output_type": "stream",
       "stream": "stdout",
       "text": [
        " TECPR2\t14:102843152-102843158\n",
        "TECPR2\t14:102881013-102881013 TECPR2\t14:102881007-102881013\n",
        "TECPR2\t14:102881035-102881035"
       ]
      },
      {
       "output_type": "stream",
       "stream": "stdout",
       "text": [
        " TECPR2\t14:102881029-102881035\n",
        "TECPR2\t14:102898394-102898394 TECPR2\t14:102898388-102898394\n",
        "TECPR2\t14:102901119-102901119"
       ]
      },
      {
       "output_type": "stream",
       "stream": "stdout",
       "text": [
        " TECPR2\t14:102901113-102901119\n",
        "TECPR2\t14:102901119-102901119 TECPR2\t14:102901113-102901119\n",
        "TECPR2\t14:102916920-102916920"
       ]
      },
      {
       "output_type": "stream",
       "stream": "stdout",
       "text": [
        " TECPR2\t14:102916914-102916920\n",
        "TECPR2\t14:102901119-102901119 TECPR2\t14:102901113-102901119\n",
        "7900"
       ]
      },
      {
       "output_type": "stream",
       "stream": "stdout",
       "text": [
        "\n",
        "FAN1\t15:31197787-31197788"
       ]
      },
      {
       "output_type": "stream",
       "stream": "stdout",
       "text": [
        " FAN1\t15:31197781-31197787\n",
        "FAN1\t15:31197787-31197788 FAN1\t15:31197781-31197787\n",
        "FAN1\t15:31197852-31197852 FAN1\t15:31197846-31197852\n",
        "FMN1\t15:33359400-33359400"
       ]
      },
      {
       "output_type": "stream",
       "stream": "stdout",
       "text": [
        " FMN1\t15:33359394-33359400\n",
        "FMN1\t15:33359400-33359400 FMN1\t15:33359394-33359400\n",
        "MEIS2\t15:37183628-37183628"
       ]
      },
      {
       "output_type": "stream",
       "stream": "stdout",
       "text": [
        " MEIS2\t15:37183622-37183628\n",
        "MEIS2\t15:37184468-37184468"
       ]
      },
      {
       "output_type": "stream",
       "stream": "stdout",
       "text": [
        " MEIS2\t15:37184462-37184468\n",
        "MEIS2\t15:37184562-37184562"
       ]
      },
      {
       "output_type": "stream",
       "stream": "stdout",
       "text": [
        " MEIS2\t15:37184556-37184562\n",
        "MEIS2\t15:37184562-37184562"
       ]
      },
      {
       "output_type": "stream",
       "stream": "stdout",
       "text": [
        " MEIS2\t15:37184556-37184562\n",
        "MEIS2\t15:37186920-37186920"
       ]
      },
      {
       "output_type": "stream",
       "stream": "stdout",
       "text": [
        " MEIS2\t15:37186914-37186920\n",
        "MEIS2\t15:37186997-37186997"
       ]
      },
      {
       "output_type": "stream",
       "stream": "stdout",
       "text": [
        " MEIS2\t15:37186991-37186997\n",
        "MEIS2\t15:37376049-37376049"
       ]
      },
      {
       "output_type": "stream",
       "stream": "stdout",
       "text": [
        " MEIS2\t15:37376043-37376049\n",
        "MEIS2\t15:37388588-37388588"
       ]
      },
      {
       "output_type": "stream",
       "stream": "stdout",
       "text": [
        " MEIS2\t15:37388582-37388588\n",
        "MEIS2\t15:37390168-37390168"
       ]
      },
      {
       "output_type": "stream",
       "stream": "stdout",
       "text": [
        " MEIS2\t15:37390162-37390168\n",
        "MEIS2\t15:37390202-37390202"
       ]
      },
      {
       "output_type": "stream",
       "stream": "stdout",
       "text": [
        " MEIS2\t15:37390196-37390202\n",
        "MEIS2\t15:37390322-37390322"
       ]
      },
      {
       "output_type": "stream",
       "stream": "stdout",
       "text": [
        " MEIS2\t15:37390316-37390322\n",
        "MEIS2\t15:37184562-37184562"
       ]
      },
      {
       "output_type": "stream",
       "stream": "stdout",
       "text": [
        " MEIS2\t15:37184556-37184562\n",
        "MEIS2\t15:37184576-37184592"
       ]
      },
      {
       "output_type": "stream",
       "stream": "stdout",
       "text": [
        " MEIS2\t15:37184570-37184576\n",
        "MEIS2\t15:37390202-37390202"
       ]
      },
      {
       "output_type": "stream",
       "stream": "stdout",
       "text": [
        " MEIS2\t15:37390196-37390202\n",
        "8000"
       ]
      },
      {
       "output_type": "stream",
       "stream": "stdout",
       "text": [
        "\n",
        "GABPB1\t15:50593097-50593097"
       ]
      },
      {
       "output_type": "stream",
       "stream": "stdout",
       "text": [
        " GABPB1\t15:50593091-50593097\n",
        "GABPB1\t15:50596224-50596224 GABPB1\t15:50596218-50596224\n",
        "8100\n",
        "GCOM1\t15:57921967-57921967"
       ]
      },
      {
       "output_type": "stream",
       "stream": "stdout",
       "text": [
        " GCOM1\t15:57921961-57921967\n",
        "GCOM1\t15:57929916-57929916"
       ]
      },
      {
       "output_type": "stream",
       "stream": "stdout",
       "text": [
        " GCOM1\t15:57929910-57929916\n",
        "GCOM1\t15:57931737-57931737"
       ]
      },
      {
       "output_type": "stream",
       "stream": "stdout",
       "text": [
        " GCOM1\t15:57931731-57931737\n",
        "GCOM1\t15:57967241-57967241 GCOM1\t15:57967235-57967241\n",
        "GCOM1\t15:57931737-57931737"
       ]
      },
      {
       "output_type": "stream",
       "stream": "stdout",
       "text": [
        " GCOM1\t15:57931731-57931737\n",
        "IQCH\t15:67555536-67555536"
       ]
      },
      {
       "output_type": "stream",
       "stream": "stdout",
       "text": [
        " IQCH\t15:67555530-67555536\n",
        "IQCH\t15:67652219-67652219 IQCH\t15:67652213-67652219\n",
        "IQCH\t15:67652219-67652219 IQCH\t15:67652213-67652219\n",
        "IQCH\t15:67664804-67664804 IQCH\t15:67664798-67664804\n",
        "IQCH\t15:67555536-67555536"
       ]
      },
      {
       "output_type": "stream",
       "stream": "stdout",
       "text": [
        " IQCH\t15:67555530-67555536\n",
        "IQCH\t15:67652219-67652219 IQCH\t15:67652213-67652219\n",
        "IQCH\t15:67664804-67664804 IQCH\t15:67664798-67664804\n",
        "8200"
       ]
      },
      {
       "output_type": "stream",
       "stream": "stdout",
       "text": [
        "\n",
        "PML\t15:74317242-74317242"
       ]
      },
      {
       "output_type": "stream",
       "stream": "stdout",
       "text": [
        " PML\t15:74317236-74317242\n",
        "PML\t15:74324915-74324915 PML\t15:74324909-74324915\n",
        "PML\t15:74327676-74327676 PML\t15:74327670-74327676\n",
        "PML\t15:74328401-74328401 PML\t15:74328395-74328401\n",
        "PML\t15:74324915-74324915 PML\t15:74324909-74324915\n",
        "PML\t15:74327557-74327558 PML\t15:74327551-74327557\n",
        "FBXO22\t15:76196845-76196845"
       ]
      },
      {
       "output_type": "stream",
       "stream": "stdout",
       "text": [
        " FBXO22\t15:76196839-76196845\n",
        "FBXO22\t15:76222285-76222285 FBXO22\t15:76222279-76222285\n",
        "FBXO22\t15:76196845-76196845 FBXO22\t15:76196839-76196845\n",
        "CHRNA3\t15:78894311-78894311"
       ]
      },
      {
       "output_type": "stream",
       "stream": "stdout",
       "text": [
        " CHRNA3\t15:78894305-78894311\n",
        "CHRNA3\t15:78911198-78911198 CHRNA3\t15:78911192-78911198\n",
        "CHRNA3\t15:78894311-78894311 CHRNA3\t15:78894305-78894311\n",
        "8300\n",
        "ZSCAN2\t15:85147402-85147402"
       ]
      },
      {
       "output_type": "stream",
       "stream": "stdout",
       "text": [
        " ZSCAN2\t15:85147396-85147402\n",
        "PRC1\t15:91537757-91537757"
       ]
      },
      {
       "output_type": "stream",
       "stream": "stdout",
       "text": [
        " PRC1\t15:91537752-91537758\n",
        "MCTP2\t15:94882595-94882595"
       ]
      },
      {
       "output_type": "stream",
       "stream": "stdout",
       "text": [
        " MCTP2\t15:94882589-94882595\n",
        "MCTP2\t15:94910918-94910918 MCTP2\t15:94910912-94910918\n",
        "MCTP2\t15:94927324-94927324 MCTP2\t15:94927318-94927324\n",
        "MCTP2\t15:94945131-94945131"
       ]
      },
      {
       "output_type": "stream",
       "stream": "stdout",
       "text": [
        " MCTP2\t15:94945125-94945131\n",
        "MCTP2\t15:94945131-94945131 MCTP2\t15:94945125-94945131\n",
        "MCTP2\t15:94945238-94945238"
       ]
      },
      {
       "output_type": "stream",
       "stream": "stdout",
       "text": [
        " MCTP2\t15:94945232-94945238\n",
        "MCTP2\t15:94983526-94983526"
       ]
      },
      {
       "output_type": "stream",
       "stream": "stdout",
       "text": [
        " MCTP2\t15:94983520-94983526\n",
        "MCTP2\t15:95013628-95013628"
       ]
      },
      {
       "output_type": "stream",
       "stream": "stdout",
       "text": [
        " MCTP2\t15:95013622-95013628\n",
        "MCTP2\t15:95022241-95022241"
       ]
      },
      {
       "output_type": "stream",
       "stream": "stdout",
       "text": [
        " MCTP2\t15:95022235-95022241\n",
        "MCTP2\t15:94882595-94882595"
       ]
      },
      {
       "output_type": "stream",
       "stream": "stdout",
       "text": [
        " MCTP2\t15:94882589-94882595\n",
        "MCTP2\t15:94910918-94910918 MCTP2\t15:94910912-94910918\n",
        "MCTP2\t15:94927324-94927324 MCTP2\t15:94927318-94927324\n",
        "MCTP2\t15:94945238-94945238"
       ]
      },
      {
       "output_type": "stream",
       "stream": "stdout",
       "text": [
        " MCTP2\t15:94945232-94945238\n",
        "MCTP2\t15:94983504-94983504 MCTP2\t15:94983498-94983504\n",
        "MCTP2\t15:95022241-95022241"
       ]
      },
      {
       "output_type": "stream",
       "stream": "stdout",
       "text": [
        " MCTP2\t15:95022235-95022241\n",
        "ASB7\t15:101152633-101152636"
       ]
      },
      {
       "output_type": "stream",
       "stream": "stdout",
       "text": [
        " ASB7\t15:101152627-101152633\n",
        "ASB7\t15:101169774-101169774 ASB7\t15:101169768-101169774\n",
        "ASB7\t15:101152633-101152636 ASB7\t15:101152627-101152633\n",
        "ASB7\t15:101169774-101169774"
       ]
      },
      {
       "output_type": "stream",
       "stream": "stdout",
       "text": [
        " ASB7\t15:101169768-101169774\n",
        "8400"
       ]
      },
      {
       "output_type": "stream",
       "stream": "stdout",
       "text": [
        "\n",
        "HAGHL\t16:777579-777579"
       ]
      },
      {
       "output_type": "stream",
       "stream": "stdout",
       "text": [
        " HAGHL\t16:777573-777579\n",
        "HAGHL\t16:779103-779103 HAGHL\t16:779097-779103\n",
        "8500"
       ]
      },
      {
       "output_type": "stream",
       "stream": "stdout",
       "text": [
        "\n",
        "ADCY9\t16:4164945-4164945"
       ]
      },
      {
       "output_type": "stream",
       "stream": "stdout",
       "text": [
        " ADCY9\t16:4164944-4164950\n",
        "MGRN1\t16:4715104-4715104"
       ]
      },
      {
       "output_type": "stream",
       "stream": "stdout",
       "text": [
        " MGRN1\t16:4715098-4715104\n",
        "MGRN1\t16:4723519-4723519 MGRN1\t16:4723513-4723519\n",
        "MGRN1\t16:4715104-4715104 MGRN1\t16:4715098-4715104\n",
        "MGRN1\t16:4723519-4723519 MGRN1\t16:4723513-4723519\n",
        "SHISA9\t16:12996267-12996267"
       ]
      },
      {
       "output_type": "stream",
       "stream": "stdout",
       "text": [
        " SHISA9\t16:12996261-12996267\n",
        "SHISA9\t16:13002435-13002435 SHISA9\t16:13002429-13002435\n",
        "SHISA9\t16:13002435-13002435 SHISA9\t16:13002429-13002435\n",
        "NDE1\t16:15818991-15818992"
       ]
      },
      {
       "output_type": "stream",
       "stream": "stdout",
       "text": [
        " NDE1\t16:15818988-15818994\n",
        "8600"
       ]
      },
      {
       "output_type": "stream",
       "stream": "stdout",
       "text": [
        "\n",
        "ACSM3\t16:20788842-20788842"
       ]
      },
      {
       "output_type": "stream",
       "stream": "stdout",
       "text": [
        " ACSM3\t16:20788836-20788842\n",
        "ACSM3\t16:20788842-20788842 ACSM3\t16:20788836-20788842\n",
        "ACSM3\t16:20788847-20788847 ACSM3\t16:20788841-20788847\n",
        "ACSM3\t16:20788842-20788842 ACSM3\t16:20788836-20788842\n",
        "PRKCB\t16:24043543-24043543"
       ]
      },
      {
       "output_type": "stream",
       "stream": "stdout",
       "text": [
        " PRKCB\t16:24043537-24043543\n",
        "PRKCB\t16:24104239-24104239"
       ]
      },
      {
       "output_type": "stream",
       "stream": "stdout",
       "text": [
        " PRKCB\t16:24104233-24104239\n",
        "PRKCB\t16:24124299-24124299 PRKCB\t16:24124293-24124299\n",
        "PRKCB\t16:24135278-24135278 PRKCB\t16:24135272-24135278\n",
        "PRKCB\t16:24135281-24135281 PRKCB\t16:24135275-24135281\n",
        "PRKCB\t16:24166032-24166032"
       ]
      },
      {
       "output_type": "stream",
       "stream": "stdout",
       "text": [
        " PRKCB\t16:24166026-24166032\n",
        "PRKCB\t16:24183606-24183606 PRKCB\t16:24183600-24183606\n",
        "PRKCB\t16:24192242-24192242"
       ]
      },
      {
       "output_type": "stream",
       "stream": "stdout",
       "text": [
        " PRKCB\t16:24192236-24192242\n",
        "PRKCB\t16:24196452-24196452 PRKCB\t16:24196446-24196452\n",
        "PRKCB\t16:24202462-24202462"
       ]
      },
      {
       "output_type": "stream",
       "stream": "stdout",
       "text": [
        " PRKCB\t16:24202456-24202462\n",
        "PRKCB\t16:24202522-24202522 PRKCB\t16:24202516-24202522\n",
        "PRKCB\t16:24226123-24226123"
       ]
      },
      {
       "output_type": "stream",
       "stream": "stdout",
       "text": [
        " PRKCB\t16:24226117-24226123\n",
        "PRKCB\t16:24043543-24043543"
       ]
      },
      {
       "output_type": "stream",
       "stream": "stdout",
       "text": [
        " PRKCB\t16:24043537-24043543\n",
        "PRKCB\t16:24104239-24104239"
       ]
      },
      {
       "output_type": "stream",
       "stream": "stdout",
       "text": [
        " PRKCB\t16:24104233-24104239\n",
        "PRKCB\t16:24124299-24124299 PRKCB\t16:24124293-24124299\n",
        "PRKCB\t16:24135278-24135278 PRKCB\t16:24135272-24135278\n",
        "PRKCB\t16:24135281-24135281 PRKCB\t16:24135275-24135281\n",
        "PRKCB\t16:24166032-24166032"
       ]
      },
      {
       "output_type": "stream",
       "stream": "stdout",
       "text": [
        " PRKCB\t16:24166026-24166032\n",
        "PRKCB\t16:24183606-24183606 PRKCB\t16:24183600-24183606\n",
        "PRKCB\t16:24192242-24192242"
       ]
      },
      {
       "output_type": "stream",
       "stream": "stdout",
       "text": [
        " PRKCB\t16:24192236-24192242\n",
        "PRKCB\t16:24202462-24202462 PRKCB\t16:24202456-24202462\n",
        "8700"
       ]
      },
      {
       "output_type": "stream",
       "stream": "stdout",
       "text": [
        "\n",
        "C16orf54\t16:29756060-29756060 C16orf54\t16:29756058-29756064\n",
        "C16orf54\t16:29756060-29756060 C16orf54\t16:29756058-29756064\n",
        "MAZ\t16:29818053-29818054 MAZ\t16:29818047-29818053\n",
        "MAZ\t16:29819170-29819170 MAZ\t16:29819164-29819170\n",
        "MAZ\t16:29819563-29819563 MAZ\t16:29819557-29819563\n",
        "MAZ\t16:29819563-29819563 MAZ\t16:29819557-29819563\n",
        "MAZ\t16:29819914-29819914 MAZ\t16:29819908-29819914\n",
        "MAZ\t16:29820003-29820003 MAZ\t16:29819997-29820003\n",
        "MAZ\t16:29821425-29821425 MAZ\t16:29821419-29821425\n",
        "MAZ\t16:29821425-29821425 MAZ\t16:29821419-29821425\n",
        "MAZ\t16:29821425-29821425 MAZ\t16:29821419-29821425\n",
        "MAZ\t16:29821425-29821425 MAZ\t16:29821419-29821425\n",
        "MAZ\t16:29821526-29821526 MAZ\t16:29821520-29821526\n",
        "MAZ\t16:29819563-29819563 MAZ\t16:29819557-29819563\n",
        "MAZ\t16:29821421-29821435 MAZ\t16:29821415-29821421\n",
        "MAZ\t16:29821425-29821425 MAZ\t16:29821419-29821425\n",
        "MAZ\t16:29821425-29821425 MAZ\t16:29821419-29821425\n",
        "MAZ\t16:29821526-29821526 MAZ\t16:29821520-29821526\n",
        "C16orf93\t16:30768802-30768802"
       ]
      },
      {
       "output_type": "stream",
       "stream": "stdout",
       "text": [
        " C16orf93\t16:30768796-30768802\n",
        "C16orf93\t16:30770365-30770365 C16orf93\t16:30770359-30770365\n",
        "C16orf93\t16:30771679-30771679 C16orf93\t16:30771673-30771679\n",
        "C16orf93\t16:30772925-30772925 C16orf93\t16:30772919-30772925\n",
        "C16orf93\t16:30768802-30768802 C16orf93\t16:30768796-30768802\n",
        "C16orf93\t16:30770365-30770365 C16orf93\t16:30770359-30770365\n",
        "VKORC1\t16:31104727-31104727 VKORC1\t16:31104721-31104727\n",
        "VKORC1\t16:31105925-31105925 VKORC1\t16:31105919-31105925\n",
        "VKORC1\t16:31104727-31104727 VKORC1\t16:31104721-31104727\n",
        "VKORC1\t16:31105925-31105925 VKORC1\t16:31105919-31105925\n",
        "BCKDK\t16:31123511-31123511 BCKDK\t16:31123505-31123511\n",
        "BCKDK\t16:31123564-31123564 BCKDK\t16:31123558-31123564\n",
        "BCKDK\t16:31123564-31123564 BCKDK\t16:31123558-31123564\n",
        "8800"
       ]
      },
      {
       "output_type": "stream",
       "stream": "stdout",
       "text": [
        "\n",
        "CNGB1\t16:57921789-57921789"
       ]
      },
      {
       "output_type": "stream",
       "stream": "stdout",
       "text": [
        " CNGB1\t16:57921783-57921789\n",
        "CNGB1\t16:57921825-57921825 CNGB1\t16:57921819-57921825\n",
        "CNGB1\t16:57921861-57921861"
       ]
      },
      {
       "output_type": "stream",
       "stream": "stdout",
       "text": [
        " CNGB1\t16:57921855-57921861\n",
        "CNGB1\t16:57935527-57935527 CNGB1\t16:57935521-57935527\n",
        "CNGB1\t16:57951250-57951250 CNGB1\t16:57951244-57951250\n",
        "CNGB1\t16:57965655-57965655 CNGB1\t16:57965649-57965655\n",
        "CNGB1\t16:57965657-57965657 CNGB1\t16:57965651-57965657\n",
        "CNGB1\t16:57974198-57974198"
       ]
      },
      {
       "output_type": "stream",
       "stream": "stdout",
       "text": [
        " CNGB1\t16:57974192-57974198\n",
        "CNGB1\t16:57994422-57994422 CNGB1\t16:57994416-57994422\n",
        "CNGB1\t16:57994814-57994814"
       ]
      },
      {
       "output_type": "stream",
       "stream": "stdout",
       "text": [
        " CNGB1\t16:57994808-57994814\n",
        "CNGB1\t16:57921789-57921789 CNGB1\t16:57921783-57921789\n",
        "CNGB1\t16:57921825-57921825"
       ]
      },
      {
       "output_type": "stream",
       "stream": "stdout",
       "text": [
        " CNGB1\t16:57921819-57921825\n",
        "CNGB1\t16:57951250-57951250 CNGB1\t16:57951244-57951250\n",
        "CNGB1\t16:57994422-57994422 CNGB1\t16:57994416-57994422\n",
        "CNGB1\t16:57994814-57994814"
       ]
      },
      {
       "output_type": "stream",
       "stream": "stdout",
       "text": [
        " CNGB1\t16:57994808-57994814\n",
        "CBFB\t16:67063313-67063313"
       ]
      },
      {
       "output_type": "stream",
       "stream": "stdout",
       "text": [
        " CBFB\t16:67063307-67063313\n",
        "CBFB\t16:67063371-67063371 CBFB\t16:67063365-67063371\n",
        "CBFB\t16:67063684-67063684 CBFB\t16:67063678-67063684\n",
        "CBFB\t16:67063695-67063695 CBFB\t16:67063689-67063695\n",
        "CBFB\t16:67070543-67070543"
       ]
      },
      {
       "output_type": "stream",
       "stream": "stdout",
       "text": [
        " CBFB\t16:67070537-67070543\n",
        "CBFB\t16:67070564-67070564 CBFB\t16:67070558-67070564\n",
        "CBFB\t16:67070577-67070578 CBFB\t16:67070571-67070577\n",
        "CBFB\t16:67070577-67070578"
       ]
      },
      {
       "output_type": "stream",
       "stream": "stdout",
       "text": [
        " CBFB\t16:67070571-67070577\n",
        "CBFB\t16:67070595-67070595 CBFB\t16:67070589-67070595\n",
        "CBFB\t16:67070595-67070595 CBFB\t16:67070589-67070595\n",
        "CBFB\t16:67070596-67070596"
       ]
      },
      {
       "output_type": "stream",
       "stream": "stdout",
       "text": [
        " CBFB\t16:67070590-67070596\n",
        "CBFB\t16:67070600-67070601 CBFB\t16:67070594-67070600\n",
        "CBFB\t16:67070600-67070601 CBFB\t16:67070594-67070600\n",
        "CBFB\t16:67070624-67070624 CBFB\t16:67070618-67070624\n",
        "CBFB\t16:67070629-67070638"
       ]
      },
      {
       "output_type": "stream",
       "stream": "stdout",
       "text": [
        " CBFB\t16:67070623-67070629\n",
        "CBFB\t16:67070634-67070634 CBFB\t16:67070628-67070634\n",
        "CBFB\t16:67070640-67070643 CBFB\t16:67070634-67070640\n",
        "CBFB\t16:67100598-67100598"
       ]
      },
      {
       "output_type": "stream",
       "stream": "stdout",
       "text": [
        " CBFB\t16:67100592-67100598\n",
        "CBFB\t16:67100607-67100607 CBFB\t16:67100601-67100607\n",
        "CBFB\t16:67100608-67100608"
       ]
      },
      {
       "output_type": "stream",
       "stream": "stdout",
       "text": [
        " CBFB\t16:67100602-67100608\n",
        "CBFB\t16:67100613-67100613 CBFB\t16:67100607-67100613\n",
        "CBFB\t16:67100664-67100664"
       ]
      },
      {
       "output_type": "stream",
       "stream": "stdout",
       "text": [
        " CBFB\t16:67100658-67100664\n",
        "CBFB\t16:67100669-67100669 CBFB\t16:67100663-67100669\n",
        "CBFB\t16:67100696-67100696"
       ]
      },
      {
       "output_type": "stream",
       "stream": "stdout",
       "text": [
        " CBFB\t16:67100690-67100696\n",
        "CBFB\t16:67100703-67100703 CBFB\t16:67100697-67100703\n",
        "CBFB\t16:67116170-67116170 CBFB\t16:67116164-67116170\n",
        "CBFB\t16:67063313-67063313"
       ]
      },
      {
       "output_type": "stream",
       "stream": "stdout",
       "text": [
        " CBFB\t16:67063307-67063313\n",
        "CBFB\t16:67063371-67063371 CBFB\t16:67063365-67063371\n",
        "CBFB\t16:67070543-67070543 CBFB\t16:67070537-67070543\n",
        "CBFB\t16:67070564-67070564 CBFB\t16:67070558-67070564\n",
        "CBFB\t16:67070577-67070578"
       ]
      },
      {
       "output_type": "stream",
       "stream": "stdout",
       "text": [
        " CBFB\t16:67070571-67070577\n",
        "CBFB\t16:67070595-67070595 CBFB\t16:67070589-67070595\n",
        "CBFB\t16:67070600-67070601 CBFB\t16:67070594-67070600\n",
        "CBFB\t16:67070624-67070624"
       ]
      },
      {
       "output_type": "stream",
       "stream": "stdout",
       "text": [
        " CBFB\t16:67070618-67070624\n",
        "CBFB\t16:67070634-67070634 CBFB\t16:67070628-67070634\n",
        "CBFB\t16:67070640-67070643 CBFB\t16:67070634-67070640\n",
        "CBFB\t16:67100598-67100598"
       ]
      },
      {
       "output_type": "stream",
       "stream": "stdout",
       "text": [
        " CBFB\t16:67100592-67100598\n",
        "CBFB\t16:67100607-67100607 CBFB\t16:67100601-67100607\n",
        "CBFB\t16:67100608-67100608"
       ]
      },
      {
       "output_type": "stream",
       "stream": "stdout",
       "text": [
        " CBFB\t16:67100602-67100608\n",
        "CBFB\t16:67100613-67100613 CBFB\t16:67100607-67100613\n",
        "CBFB\t16:67100664-67100664"
       ]
      },
      {
       "output_type": "stream",
       "stream": "stdout",
       "text": [
        " CBFB\t16:67100658-67100664\n",
        "CBFB\t16:67100696-67100696 CBFB\t16:67100690-67100696\n",
        "CBFB\t16:67100703-67100703"
       ]
      },
      {
       "output_type": "stream",
       "stream": "stdout",
       "text": [
        " CBFB\t16:67100697-67100703\n",
        "8900\n",
        "NFATC3\t16:68156087-68156087"
       ]
      },
      {
       "output_type": "stream",
       "stream": "stdout",
       "text": [
        " NFATC3\t16:68156081-68156087\n",
        "NFATC3\t16:68156494-68156494"
       ]
      },
      {
       "output_type": "stream",
       "stream": "stdout",
       "text": [
        " NFATC3\t16:68156488-68156494\n",
        "NFATC3\t16:68156617-68156617"
       ]
      },
      {
       "output_type": "stream",
       "stream": "stdout",
       "text": [
        " NFATC3\t16:68156611-68156617\n",
        "NFATC3\t16:68200796-68200796 NFATC3\t16:68200790-68200796\n",
        "NFATC3\t16:68215432-68215432"
       ]
      },
      {
       "output_type": "stream",
       "stream": "stdout",
       "text": [
        " NFATC3\t16:68215426-68215432\n",
        "NFATC3\t16:68224697-68224697 NFATC3\t16:68224691-68224697\n",
        "NFATC3\t16:68224697-68224697"
       ]
      },
      {
       "output_type": "stream",
       "stream": "stdout",
       "text": [
        " NFATC3\t16:68224691-68224697\n",
        "NFATC3\t16:68224886-68224886 NFATC3\t16:68224880-68224886\n",
        "NFATC3\t16:68224886-68224886"
       ]
      },
      {
       "output_type": "stream",
       "stream": "stdout",
       "text": [
        " NFATC3\t16:68224880-68224886\n",
        "NFATC3\t16:68225648-68225648 NFATC3\t16:68225642-68225648\n",
        "NFATC3\t16:68260336-68260336"
       ]
      },
      {
       "output_type": "stream",
       "stream": "stdout",
       "text": [
        " NFATC3\t16:68260330-68260336\n",
        "NFATC3\t16:68156087-68156087"
       ]
      },
      {
       "output_type": "stream",
       "stream": "stdout",
       "text": [
        " NFATC3\t16:68156081-68156087\n",
        "NFATC3\t16:68215432-68215432 NFATC3\t16:68215426-68215432\n",
        "NFATC3\t16:68224697-68224697"
       ]
      },
      {
       "output_type": "stream",
       "stream": "stdout",
       "text": [
        " NFATC3\t16:68224691-68224697\n",
        "NFATC3\t16:68224886-68224886 NFATC3\t16:68224880-68224886\n",
        "WWP2\t16:69832690-69832690"
       ]
      },
      {
       "output_type": "stream",
       "stream": "stdout",
       "text": [
        " WWP2\t16:69832684-69832690\n",
        "WWP2\t16:69874100-69874100 WWP2\t16:69874094-69874100\n",
        "WWP2\t16:69922069-69922069"
       ]
      },
      {
       "output_type": "stream",
       "stream": "stdout",
       "text": [
        " WWP2\t16:69922063-69922069\n",
        "WWP2\t16:69832690-69832690"
       ]
      },
      {
       "output_type": "stream",
       "stream": "stdout",
       "text": [
        " WWP2\t16:69832684-69832690\n",
        "WWP2\t16:69921986-69921986"
       ]
      },
      {
       "output_type": "stream",
       "stream": "stdout",
       "text": [
        " WWP2\t16:69921980-69921986\n",
        "WWP2\t16:69922069-69922069"
       ]
      },
      {
       "output_type": "stream",
       "stream": "stdout",
       "text": [
        " WWP2\t16:69922063-69922069\n",
        "9000"
       ]
      },
      {
       "output_type": "stream",
       "stream": "stdout",
       "text": [
        "\n",
        "9100"
       ]
      },
      {
       "output_type": "stream",
       "stream": "stdout",
       "text": [
        "\n",
        "VPS53\t17:422463-422463"
       ]
      },
      {
       "output_type": "stream",
       "stream": "stdout",
       "text": [
        " VPS53\t17:422457-422463\n",
        "VPS53\t17:436129-436129"
       ]
      },
      {
       "output_type": "stream",
       "stream": "stdout",
       "text": [
        " VPS53\t17:436123-436129\n",
        "VPS53\t17:489514-489514"
       ]
      },
      {
       "output_type": "stream",
       "stream": "stdout",
       "text": [
        " VPS53\t17:489508-489514\n",
        "VPS53\t17:505056-505056"
       ]
      },
      {
       "output_type": "stream",
       "stream": "stdout",
       "text": [
        " VPS53\t17:505050-505056\n",
        "VPS53\t17:505056-505056"
       ]
      },
      {
       "output_type": "stream",
       "stream": "stdout",
       "text": [
        " VPS53\t17:505050-505056\n",
        "VPS53\t17:556562-556562 VPS53\t17:556556-556562\n",
        "VPS53\t17:559191-559191 VPS53\t17:559185-559191\n",
        "VPS53\t17:440372-440372"
       ]
      },
      {
       "output_type": "stream",
       "stream": "stdout",
       "text": [
        " VPS53\t17:440366-440372\n",
        "VPS53\t17:489514-489514"
       ]
      },
      {
       "output_type": "stream",
       "stream": "stdout",
       "text": [
        " VPS53\t17:489508-489514\n",
        "VPS53\t17:505056-505056"
       ]
      },
      {
       "output_type": "stream",
       "stream": "stdout",
       "text": [
        " VPS53\t17:505050-505056\n",
        "VPS53\t17:556562-556562 VPS53\t17:556556-556562\n",
        "VPS53\t17:559191-559191"
       ]
      },
      {
       "output_type": "stream",
       "stream": "stdout",
       "text": [
        " VPS53\t17:559185-559191\n",
        "CAMTA2\t17:4872102-4872102"
       ]
      },
      {
       "output_type": "stream",
       "stream": "stdout",
       "text": [
        " CAMTA2\t17:4872096-4872102\n",
        "CAMTA2\t17:4872988-4872988 CAMTA2\t17:4872982-4872988\n",
        "CAMTA2\t17:4875737-4875738 CAMTA2\t17:4875731-4875737\n",
        "CAMTA2\t17:4875737-4875738 CAMTA2\t17:4875731-4875737\n",
        "CAMTA2\t17:4875737-4875738 CAMTA2\t17:4875731-4875737\n",
        "CAMTA2\t17:4875737-4875738 CAMTA2\t17:4875731-4875737\n",
        "CAMTA2\t17:4875737-4875738 CAMTA2\t17:4875731-4875737\n",
        "CAMTA2\t17:4875737-4875738 CAMTA2\t17:4875731-4875737\n",
        "CAMTA2\t17:4876514-4876514"
       ]
      },
      {
       "output_type": "stream",
       "stream": "stdout",
       "text": [
        " CAMTA2\t17:4876508-4876514\n",
        "CAMTA2\t17:4881837-4881837 CAMTA2\t17:4881831-4881837\n",
        "CAMTA2\t17:4883016-4883016 CAMTA2\t17:4883010-4883016\n",
        "CAMTA2\t17:4883751-4883751 CAMTA2\t17:4883745-4883751\n",
        "CAMTA2\t17:4872102-4872102 CAMTA2\t17:4872096-4872102\n",
        "CAMTA2\t17:4872988-4872988 CAMTA2\t17:4872982-4872988\n",
        "CAMTA2\t17:4876086-4876086 CAMTA2\t17:4876080-4876086\n",
        "CAMTA2\t17:4876514-4876514 CAMTA2\t17:4876508-4876514\n",
        "CAMTA2\t17:4883016-4883016 CAMTA2\t17:4883010-4883016\n",
        "CAMTA2\t17:4883751-4883751 CAMTA2\t17:4883745-4883751\n",
        "9200\n",
        "SAT2\t17:7531048-7531048"
       ]
      },
      {
       "output_type": "stream",
       "stream": "stdout",
       "text": [
        " SAT2\t17:7531047-7531053\n",
        "SAT2\t17:7531048-7531048 SAT2\t17:7531047-7531053\n",
        "TP53\t17:7574002-7574002 TP53\t17:7573996-7574002\n",
        "TP53\t17:7574002-7574002 TP53\t17:7573996-7574002\n",
        "TP53\t17:7574003-7574003 TP53\t17:7573997-7574003\n",
        "TP53\t17:7574003-7574003 TP53\t17:7573997-7574003\n",
        "TP53\t17:7574003-7574003 TP53\t17:7573997-7574003\n",
        "TP53\t17:7574003-7574003 TP53\t17:7573997-7574003\n",
        "TP53\t17:7574003-7574003 TP53\t17:7573997-7574003\n",
        "TP53\t17:7574003-7574003 TP53\t17:7573997-7574003\n",
        "TP53\t17:7574003-7574003 TP53\t17:7573997-7574003\n",
        "TP53\t17:7574003-7574003 TP53\t17:7573997-7574003\n",
        "TP53\t17:7574005-7574005 TP53\t17:7573999-7574005\n",
        "TP53\t17:7574012-7574012 TP53\t17:7574006-7574012\n",
        "TP53\t17:7574030-7574030 TP53\t17:7574024-7574030\n",
        "TP53\t17:7576852-7576852 TP53\t17:7576846-7576852\n",
        "TP53\t17:7576852-7576852 TP53\t17:7576846-7576852\n",
        "TP53\t17:7576855-7576855 TP53\t17:7576849-7576855\n",
        "TP53\t17:7576855-7576855"
       ]
      },
      {
       "output_type": "stream",
       "stream": "stdout",
       "text": [
        " TP53\t17:7576849-7576855\n",
        "TP53\t17:7576855-7576855 TP53\t17:7576849-7576855\n",
        "TP53\t17:7576863-7576863 TP53\t17:7576857-7576863\n",
        "TP53\t17:7576924-7576925 TP53\t17:7576918-7576924\n",
        "TP53\t17:7577018-7577018 TP53\t17:7577012-7577018\n",
        "TP53\t17:7577022-7577022 TP53\t17:7577016-7577022\n",
        "TP53\t17:7577022-7577022 TP53\t17:7577016-7577022\n",
        "TP53\t17:7577022-7577022 TP53\t17:7577016-7577022\n",
        "TP53\t17:7577027-7577027 TP53\t17:7577021-7577027\n",
        "TP53\t17:7577027-7577027 TP53\t17:7577021-7577027\n",
        "TP53\t17:7577031-7577031 TP53\t17:7577025-7577031\n",
        "TP53\t17:7577058-7577058 TP53\t17:7577052-7577058\n",
        "TP53\t17:7577061-7577064 TP53\t17:7577055-7577061\n",
        "TP53\t17:7577073-7577073 TP53\t17:7577067-7577073\n",
        "TP53\t17:7577077-7577077 TP53\t17:7577071-7577077\n",
        "TP53\t17:7577081-7577081 TP53\t17:7577075-7577081\n",
        "TP53\t17:7577081-7577081 TP53\t17:7577075-7577081\n",
        "TP53\t17:7577082-7577082"
       ]
      },
      {
       "output_type": "stream",
       "stream": "stdout",
       "text": [
        " TP53\t17:7577076-7577082\n",
        "TP53\t17:7577082-7577082 TP53\t17:7577076-7577082\n",
        "TP53\t17:7577082-7577082 TP53\t17:7577076-7577082\n",
        "TP53\t17:7577085-7577085 TP53\t17:7577079-7577085\n",
        "TP53\t17:7577085-7577085 TP53\t17:7577079-7577085\n",
        "TP53\t17:7577085-7577085 TP53\t17:7577079-7577085\n",
        "TP53\t17:7577094-7577094 TP53\t17:7577088-7577094\n",
        "TP53\t17:7577095-7577095 TP53\t17:7577089-7577095\n",
        "TP53\t17:7577096-7577096 TP53\t17:7577090-7577096\n",
        "TP53\t17:7577097-7577097 TP53\t17:7577091-7577097\n",
        "TP53\t17:7577097-7577097 TP53\t17:7577091-7577097\n",
        "TP53\t17:7577098-7577098 TP53\t17:7577092-7577098\n",
        "TP53\t17:7577099-7577099 TP53\t17:7577093-7577099\n",
        "TP53\t17:7577099-7577099 TP53\t17:7577093-7577099\n",
        "TP53\t17:7577100-7577100 TP53\t17:7577094-7577100\n",
        "TP53\t17:7577102-7577102 TP53\t17:7577096-7577102\n",
        "TP53\t17:7577105-7577105 TP53\t17:7577099-7577105\n",
        "TP53\t17:7577106-7577106"
       ]
      },
      {
       "output_type": "stream",
       "stream": "stdout",
       "text": [
        " TP53\t17:7577100-7577106\n",
        "TP53\t17:7577106-7577106 TP53\t17:7577100-7577106\n",
        "TP53\t17:7577110-7577110 TP53\t17:7577104-7577110\n",
        "TP53\t17:7577112-7577112 TP53\t17:7577106-7577112\n",
        "TP53\t17:7577118-7577118 TP53\t17:7577112-7577118\n",
        "TP53\t17:7577120-7577120 TP53\t17:7577114-7577120\n",
        "TP53\t17:7577120-7577120 TP53\t17:7577114-7577120\n",
        "TP53\t17:7577120-7577120 TP53\t17:7577114-7577120\n",
        "TP53\t17:7577120-7577120 TP53\t17:7577114-7577120\n",
        "TP53\t17:7577120-7577120 TP53\t17:7577114-7577120\n",
        "TP53\t17:7577120-7577120 TP53\t17:7577114-7577120\n",
        "TP53\t17:7577120-7577120 TP53\t17:7577114-7577120\n",
        "TP53\t17:7577120-7577120 TP53\t17:7577114-7577120\n",
        "TP53\t17:7577120-7577120 TP53\t17:7577114-7577120\n",
        "TP53\t17:7577120-7577120 TP53\t17:7577114-7577120\n",
        "TP53\t17:7577120-7577120"
       ]
      },
      {
       "output_type": "stream",
       "stream": "stdout",
       "text": [
        " TP53\t17:7577114-7577120\n",
        "TP53\t17:7577120-7577120 TP53\t17:7577114-7577120\n",
        "TP53\t17:7577121-7577121 TP53\t17:7577115-7577121\n",
        "TP53\t17:7577121-7577121 TP53\t17:7577115-7577121\n",
        "TP53\t17:7577121-7577121 TP53\t17:7577115-7577121\n",
        "TP53\t17:7577121-7577121 TP53\t17:7577115-7577121\n",
        "TP53\t17:7577121-7577121 TP53\t17:7577115-7577121\n",
        "TP53\t17:7577124-7577124 TP53\t17:7577118-7577124\n",
        "TP53\t17:7577124-7577124 TP53\t17:7577118-7577124\n",
        "TP53\t17:7577129-7577129 TP53\t17:7577123-7577129\n",
        "TP53\t17:7577130-7577130 TP53\t17:7577124-7577130\n",
        "TP53\t17:7577141-7577141 TP53\t17:7577135-7577141\n",
        "TP53\t17:7577141-7577141 TP53\t17:7577135-7577141\n",
        "TP53\t17:7577141-7577141 TP53\t17:7577135-7577141\n",
        "TP53\t17:7577144-7577144 TP53\t17:7577138-7577144\n",
        "TP53\t17:7577144-7577144"
       ]
      },
      {
       "output_type": "stream",
       "stream": "stdout",
       "text": [
        " TP53\t17:7577138-7577144\n",
        "TP53\t17:7577156-7577156 TP53\t17:7577150-7577156\n",
        "TP53\t17:7577156-7577156 TP53\t17:7577150-7577156\n",
        "TP53\t17:7577498-7577498 TP53\t17:7577492-7577498\n",
        "TP53\t17:7577500-7577501 TP53\t17:7577494-7577500\n",
        "TP53\t17:7577509-7577509 TP53\t17:7577503-7577509\n",
        "TP53\t17:7577509-7577509 TP53\t17:7577503-7577509\n",
        "TP53\t17:7577509-7577509 TP53\t17:7577503-7577509\n",
        "TP53\t17:7577514-7577515 TP53\t17:7577508-7577514\n",
        "TP53\t17:7577515-7577517 TP53\t17:7577509-7577515\n",
        "TP53\t17:7577517-7577517 TP53\t17:7577511-7577517\n",
        "TP53\t17:7577517-7577517 TP53\t17:7577511-7577517\n",
        "TP53\t17:7577518-7577518 TP53\t17:7577512-7577518\n",
        "TP53\t17:7577525-7577526 TP53\t17:7577519-7577525\n",
        "TP53\t17:7577526-7577526 TP53\t17:7577520-7577526\n",
        "TP53\t17:7577527-7577527 TP53\t17:7577521-7577527\n",
        "TP53\t17:7577531-7577531"
       ]
      },
      {
       "output_type": "stream",
       "stream": "stdout",
       "text": [
        " TP53\t17:7577525-7577531\n",
        "TP53\t17:7577539-7577539 TP53\t17:7577533-7577539\n",
        "TP53\t17:7577539-7577539 TP53\t17:7577533-7577539\n",
        "TP53\t17:7577539-7577539 TP53\t17:7577533-7577539\n",
        "TP53\t17:7577539-7577539 TP53\t17:7577533-7577539\n",
        "TP53\t17:7577539-7577539 TP53\t17:7577533-7577539\n",
        "TP53\t17:7577539-7577539 TP53\t17:7577533-7577539\n",
        "TP53\t17:7577539-7577539 TP53\t17:7577533-7577539\n",
        "TP53\t17:7577539-7577539 TP53\t17:7577533-7577539\n",
        "TP53\t17:7577539-7577539 TP53\t17:7577533-7577539\n",
        "TP53\t17:7577541-7577541 TP53\t17:7577535-7577541\n",
        "TP53\t17:7577543-7577543 TP53\t17:7577537-7577543\n",
        "TP53\t17:7577547-7577547 TP53\t17:7577541-7577547\n",
        "TP53\t17:7577547-7577547 TP53\t17:7577541-7577547\n",
        "TP53\t17:7577547-7577547 TP53\t17:7577541-7577547\n",
        "TP53\t17:7577557-7577557 TP53\t17:7577551-7577557\n",
        "TP53\t17:7577558-7577558"
       ]
      },
      {
       "output_type": "stream",
       "stream": "stdout",
       "text": [
        " TP53\t17:7577552-7577558\n",
        "TP53\t17:7577558-7577558 TP53\t17:7577552-7577558\n",
        "TP53\t17:7577558-7577558 TP53\t17:7577552-7577558\n",
        "TP53\t17:7577558-7577558 TP53\t17:7577552-7577558\n",
        "TP53\t17:7577558-7577558 TP53\t17:7577552-7577558\n",
        "TP53\t17:7577559-7577559 TP53\t17:7577553-7577559\n",
        "TP53\t17:7577566-7577567 TP53\t17:7577560-7577566\n",
        "TP53\t17:7577566-7577567 TP53\t17:7577560-7577566\n",
        "TP53\t17:7577568-7577568 TP53\t17:7577562-7577568\n",
        "TP53\t17:7577568-7577568 TP53\t17:7577562-7577568\n",
        "TP53\t17:7577568-7577568 TP53\t17:7577562-7577568\n",
        "TP53\t17:7577568-7577568 TP53\t17:7577562-7577568\n",
        "TP53\t17:7577570-7577570"
       ]
      },
      {
       "output_type": "stream",
       "stream": "stdout",
       "text": [
        " TP53\t17:7577564-7577570\n",
        "TP53\t17:7577570-7577570 TP53\t17:7577564-7577570\n",
        "TP53\t17:7577580-7577580 TP53\t17:7577574-7577580\n",
        "TP53\t17:7577580-7577580 TP53\t17:7577574-7577580\n",
        "TP53\t17:7577586-7577586 TP53\t17:7577580-7577586\n",
        "TP53\t17:7577609-7577609 TP53\t17:7577603-7577609\n",
        "TP53\t17:7577610-7577610 TP53\t17:7577604-7577610\n",
        "TP53\t17:7577610-7577610 TP53\t17:7577604-7577610\n",
        "TP53\t17:7577610-7577610"
       ]
      },
      {
       "output_type": "stream",
       "stream": "stdout",
       "text": [
        " TP53\t17:7577604-7577610\n",
        "TP53\t17:7578188-7578188 TP53\t17:7578182-7578188\n",
        "TP53\t17:7578188-7578188 TP53\t17:7578182-7578188\n",
        "TP53\t17:7578190-7578190 TP53\t17:7578184-7578190\n",
        "TP53\t17:7578190-7578190 TP53\t17:7578184-7578190\n",
        "TP53\t17:7578190-7578190 TP53\t17:7578184-7578190\n",
        "TP53\t17:7578190-7578190 TP53\t17:7578184-7578190\n",
        "TP53\t17:7578190-7578190 TP53\t17:7578184-7578190\n",
        "TP53\t17:7578190-7578190 TP53\t17:7578184-7578190\n",
        "TP53\t17:7578190-7578190"
       ]
      },
      {
       "output_type": "stream",
       "stream": "stdout",
       "text": [
        " TP53\t17:7578184-7578190\n",
        "TP53\t17:7578191-7578191 TP53\t17:7578185-7578191\n",
        "TP53\t17:7578203-7578203 TP53\t17:7578197-7578203\n",
        "TP53\t17:7578203-7578203 TP53\t17:7578197-7578203\n",
        "TP53\t17:7578203-7578203 TP53\t17:7578197-7578203\n",
        "TP53\t17:7578203-7578203 TP53\t17:7578197-7578203\n",
        "TP53\t17:7578205-7578205 TP53\t17:7578199-7578205\n",
        "TP53\t17:7578212-7578212 TP53\t17:7578206-7578212\n",
        "TP53\t17:7578212-7578212 TP53\t17:7578206-7578212\n",
        "TP53\t17:7578212-7578212"
       ]
      },
      {
       "output_type": "stream",
       "stream": "stdout",
       "text": [
        " TP53\t17:7578206-7578212\n",
        "TP53\t17:7578212-7578212 TP53\t17:7578206-7578212\n",
        "TP53\t17:7578212-7578212 TP53\t17:7578206-7578212\n",
        "TP53\t17:7578212-7578212 TP53\t17:7578206-7578212\n",
        "TP53\t17:7578212-7578212 TP53\t17:7578206-7578212\n",
        "TP53\t17:7578213-7578214 TP53\t17:7578207-7578213\n",
        "TP53\t17:7578217-7578218 TP53\t17:7578211-7578217\n",
        "TP53\t17:7578218-7578218 TP53\t17:7578212-7578218\n",
        "TP53\t17:7578222-7578223 TP53\t17:7578216-7578222\n",
        "TP53\t17:7578222-7578223 TP53\t17:7578216-7578222\n",
        "TP53\t17:7578222-7578223"
       ]
      },
      {
       "output_type": "stream",
       "stream": "stdout",
       "text": [
        " TP53\t17:7578216-7578222\n",
        "TP53\t17:7578222-7578223 TP53\t17:7578216-7578222\n",
        "TP53\t17:7578226-7578226 TP53\t17:7578220-7578226\n",
        "TP53\t17:7578235-7578235 TP53\t17:7578229-7578235\n",
        "TP53\t17:7578236-7578236 TP53\t17:7578230-7578236\n",
        "TP53\t17:7578239-7578239 TP53\t17:7578233-7578239\n",
        "TP53\t17:7578239-7578239 TP53\t17:7578233-7578239\n",
        "TP53\t17:7578246-7578247 TP53\t17:7578240-7578246\n",
        "TP53\t17:7578253-7578253 TP53\t17:7578247-7578253\n",
        "TP53\t17:7578253-7578253 TP53\t17:7578247-7578253\n",
        "TP53\t17:7578257-7578257 TP53\t17:7578251-7578257\n",
        "TP53\t17:7578259-7578259 TP53\t17:7578253-7578259\n",
        "TP53\t17:7578263-7578263 TP53\t17:7578257-7578263\n",
        "TP53\t17:7578263-7578263"
       ]
      },
      {
       "output_type": "stream",
       "stream": "stdout",
       "text": [
        " TP53\t17:7578257-7578263\n",
        "TP53\t17:7578263-7578263 TP53\t17:7578257-7578263\n",
        "TP53\t17:7578263-7578263 TP53\t17:7578257-7578263\n",
        "TP53\t17:7578263-7578263 TP53\t17:7578257-7578263\n",
        "TP53\t17:7578263-7578263 TP53\t17:7578257-7578263\n",
        "TP53\t17:7578263-7578263 TP53\t17:7578257-7578263\n",
        "TP53\t17:7578263-7578263 TP53\t17:7578257-7578263\n",
        "TP53\t17:7578263-7578263 TP53\t17:7578257-7578263\n",
        "TP53\t17:7578265-7578265 TP53\t17:7578259-7578265\n",
        "TP53\t17:7578265-7578265 TP53\t17:7578259-7578265\n",
        "TP53\t17:7578265-7578265 TP53\t17:7578259-7578265\n",
        "TP53\t17:7578265-7578265 TP53\t17:7578259-7578265\n",
        "TP53\t17:7578265-7578265"
       ]
      },
      {
       "output_type": "stream",
       "stream": "stdout",
       "text": [
        " TP53\t17:7578259-7578265\n",
        "TP53\t17:7578268-7578268 TP53\t17:7578262-7578268\n",
        "TP53\t17:7578268-7578268 TP53\t17:7578262-7578268\n",
        "TP53\t17:7578268-7578268 TP53\t17:7578262-7578268\n",
        "TP53\t17:7578268-7578268 TP53\t17:7578262-7578268\n",
        "TP53\t17:7578268-7578268 TP53\t17:7578262-7578268\n",
        "TP53\t17:7578271-7578271 TP53\t17:7578265-7578271\n",
        "TP53\t17:7578271-7578271 TP53\t17:7578265-7578271\n",
        "TP53\t17:7578271-7578271 TP53\t17:7578265-7578271\n",
        "TP53\t17:7578271-7578271 TP53\t17:7578265-7578271\n",
        "TP53\t17:7578271-7578271 TP53\t17:7578265-7578271\n",
        "TP53\t17:7578271-7578271 TP53\t17:7578265-7578271\n",
        "TP53\t17:7578271-7578271"
       ]
      },
      {
       "output_type": "stream",
       "stream": "stdout",
       "text": [
        " TP53\t17:7578265-7578271\n",
        "TP53\t17:7578271-7578271 TP53\t17:7578265-7578271\n",
        "TP53\t17:7578271-7578271 TP53\t17:7578265-7578271\n",
        "TP53\t17:7578272-7578272 TP53\t17:7578266-7578272\n",
        "TP53\t17:7578275-7578275 TP53\t17:7578269-7578275\n",
        "TP53\t17:7578278-7578279 TP53\t17:7578272-7578278\n",
        "TP53\t17:7578290-7578290 TP53\t17:7578284-7578290\n",
        "TP53\t17:7578290-7578290 TP53\t17:7578284-7578290\n",
        "TP53\t17:7578290-7578290 TP53\t17:7578284-7578290\n",
        "TP53\t17:7578370-7578370 TP53\t17:7578364-7578370\n",
        "TP53\t17:7578370-7578370 TP53\t17:7578364-7578370\n",
        "TP53\t17:7578371-7578371 TP53\t17:7578365-7578371\n",
        "TP53\t17:7578382-7578382"
       ]
      },
      {
       "output_type": "stream",
       "stream": "stdout",
       "text": [
        " TP53\t17:7578376-7578382\n",
        "TP53\t17:7578393-7578393 TP53\t17:7578387-7578393\n",
        "TP53\t17:7578394-7578394 TP53\t17:7578388-7578394\n",
        "TP53\t17:7578394-7578394 TP53\t17:7578388-7578394\n",
        "TP53\t17:7578394-7578394 TP53\t17:7578388-7578394\n",
        "TP53\t17:7578395-7578395 TP53\t17:7578389-7578395\n",
        "TP53\t17:7578402-7578402 TP53\t17:7578396-7578402\n",
        "TP53\t17:7578403-7578403 TP53\t17:7578397-7578403\n",
        "TP53\t17:7578403-7578403 TP53\t17:7578397-7578403\n",
        "TP53\t17:7578403-7578403 TP53\t17:7578397-7578403\n",
        "TP53\t17:7578403-7578403 TP53\t17:7578397-7578403\n",
        "TP53\t17:7578403-7578403"
       ]
      },
      {
       "output_type": "stream",
       "stream": "stdout",
       "text": [
        " TP53\t17:7578397-7578403\n",
        "TP53\t17:7578403-7578403 TP53\t17:7578397-7578403\n",
        "TP53\t17:7578406-7578406 TP53\t17:7578400-7578406\n",
        "TP53\t17:7578406-7578406 TP53\t17:7578400-7578406\n",
        "TP53\t17:7578406-7578406 TP53\t17:7578400-7578406\n",
        "TP53\t17:7578406-7578406 TP53\t17:7578400-7578406\n",
        "TP53\t17:7578406-7578406 TP53\t17:7578400-7578406\n",
        "TP53\t17:7578406-7578406 TP53\t17:7578400-7578406\n",
        "TP53\t17:7578406-7578406 TP53\t17:7578400-7578406\n",
        "TP53\t17:7578406-7578406 TP53\t17:7578400-7578406\n",
        "TP53\t17:7578406-7578406 TP53\t17:7578400-7578406\n",
        "TP53\t17:7578406-7578406 TP53\t17:7578400-7578406\n",
        "TP53\t17:7578406-7578406"
       ]
      },
      {
       "output_type": "stream",
       "stream": "stdout",
       "text": [
        " TP53\t17:7578400-7578406\n",
        "TP53\t17:7578406-7578406 TP53\t17:7578400-7578406\n",
        "TP53\t17:7578406-7578406 TP53\t17:7578400-7578406\n",
        "TP53\t17:7578406-7578406 TP53\t17:7578400-7578406\n",
        "TP53\t17:7578406-7578406 TP53\t17:7578400-7578406\n",
        "TP53\t17:7578406-7578406 TP53\t17:7578400-7578406\n",
        "TP53\t17:7578406-7578406 TP53\t17:7578400-7578406\n",
        "TP53\t17:7578406-7578406 TP53\t17:7578400-7578406\n",
        "TP53\t17:7578406-7578406 TP53\t17:7578400-7578406\n",
        "TP53\t17:7578406-7578406 TP53\t17:7578400-7578406\n",
        "TP53\t17:7578406-7578406 TP53\t17:7578400-7578406\n",
        "TP53\t17:7578408-7578408 TP53\t17:7578402-7578408\n",
        "TP53\t17:7578413-7578413"
       ]
      },
      {
       "output_type": "stream",
       "stream": "stdout",
       "text": [
        " TP53\t17:7578407-7578413\n",
        "TP53\t17:7578413-7578413 TP53\t17:7578407-7578413\n",
        "TP53\t17:7578413-7578413 TP53\t17:7578407-7578413\n",
        "TP53\t17:7578413-7578413 TP53\t17:7578407-7578413\n",
        "TP53\t17:7578416-7578419 TP53\t17:7578410-7578416\n",
        "TP53\t17:7578423-7578423 TP53\t17:7578417-7578423\n",
        "TP53\t17:7578427-7578427 TP53\t17:7578421-7578427\n",
        "TP53\t17:7578429-7578429 TP53\t17:7578423-7578429\n",
        "TP53\t17:7578431-7578431 TP53\t17:7578425-7578431\n",
        "TP53\t17:7578440-7578440 TP53\t17:7578434-7578440\n",
        "TP53\t17:7578442-7578442 TP53\t17:7578436-7578442\n",
        "TP53\t17:7578443-7578445 TP53\t17:7578437-7578443\n",
        "TP53\t17:7578445-7578445"
       ]
      },
      {
       "output_type": "stream",
       "stream": "stdout",
       "text": [
        " TP53\t17:7578439-7578445\n",
        "TP53\t17:7578449-7578449 TP53\t17:7578443-7578449\n",
        "TP53\t17:7578458-7578458 TP53\t17:7578452-7578458\n",
        "TP53\t17:7578460-7578460 TP53\t17:7578454-7578460\n",
        "TP53\t17:7578460-7578461 TP53\t17:7578454-7578460\n",
        "TP53\t17:7578461-7578461 TP53\t17:7578455-7578461\n",
        "TP53\t17:7578462-7578464 TP53\t17:7578456-7578462\n",
        "TP53\t17:7578465-7578465 TP53\t17:7578459-7578465\n",
        "TP53\t17:7578467-7578467 TP53\t17:7578461-7578467\n",
        "TP53\t17:7578478-7578478 TP53\t17:7578472-7578478\n",
        "TP53\t17:7578478-7578478 TP53\t17:7578472-7578478\n",
        "TP53\t17:7578479-7578479 TP53\t17:7578473-7578479\n",
        "TP53\t17:7578479-7578479"
       ]
      },
      {
       "output_type": "stream",
       "stream": "stdout",
       "text": [
        " TP53\t17:7578473-7578479\n",
        "TP53\t17:7578491-7578491 TP53\t17:7578485-7578491\n",
        "TP53\t17:7578500-7578500 TP53\t17:7578494-7578500\n",
        "TP53\t17:7578500-7578500 TP53\t17:7578494-7578500\n",
        "TP53\t17:7578508-7578508 TP53\t17:7578502-7578508\n",
        "TP53\t17:7578508-7578508 TP53\t17:7578502-7578508\n",
        "TP53\t17:7578508-7578508 TP53\t17:7578502-7578508\n",
        "TP53\t17:7578509-7578509 TP53\t17:7578503-7578509\n",
        "TP53\t17:7578524-7578524 TP53\t17:7578518-7578524\n",
        "TP53\t17:7578524-7578524 TP53\t17:7578518-7578524\n",
        "TP53\t17:7578525-7578525 TP53\t17:7578519-7578525\n",
        "TP53\t17:7578526-7578526 TP53\t17:7578520-7578526\n",
        "TP53\t17:7578526-7578526"
       ]
      },
      {
       "output_type": "stream",
       "stream": "stdout",
       "text": [
        " TP53\t17:7578520-7578526\n",
        "TP53\t17:7578527-7578527 TP53\t17:7578521-7578527\n",
        "TP53\t17:7578532-7578532 TP53\t17:7578526-7578532\n",
        "TP53\t17:7578534-7578534 TP53\t17:7578528-7578534\n",
        "TP53\t17:7578534-7578534 TP53\t17:7578528-7578534\n",
        "TP53\t17:7578535-7578535 TP53\t17:7578529-7578535\n",
        "TP53\t17:7578536-7578536 TP53\t17:7578530-7578536\n",
        "TP53\t17:7578536-7578536 TP53\t17:7578530-7578536\n",
        "TP53\t17:7578538-7578538 TP53\t17:7578532-7578538\n",
        "TP53\t17:7578542-7578542 TP53\t17:7578536-7578542\n",
        "TP53\t17:7578542-7578542 TP53\t17:7578536-7578542\n",
        "TP53\t17:7578547-7578547 TP53\t17:7578541-7578547\n",
        "TP53\t17:7578551-7578551"
       ]
      },
      {
       "output_type": "stream",
       "stream": "stdout",
       "text": [
        " TP53\t17:7578545-7578551\n",
        "TP53\t17:7578553-7578553 TP53\t17:7578547-7578553\n",
        "TP53\t17:7578554-7578554 TP53\t17:7578548-7578554\n",
        "TP53\t17:7578555-7578555 TP53\t17:7578549-7578555\n",
        "TP53\t17:7578556-7578556 TP53\t17:7578550-7578556\n",
        "TP53\t17:7578556-7578556 TP53\t17:7578550-7578556\n",
        "TP53\t17:7574002-7574002"
       ]
      },
      {
       "output_type": "stream",
       "stream": "stdout",
       "text": [
        " TP53\t17:7573996-7574002\n",
        "TP53\t17:7574003-7574003 TP53\t17:7573997-7574003\n",
        "TP53\t17:7574003-7574003 TP53\t17:7573997-7574003\n",
        "TP53\t17:7574003-7574003 TP53\t17:7573997-7574003\n",
        "TP53\t17:7574003-7574003 TP53\t17:7573997-7574003\n",
        "TP53\t17:7574003-7574003 TP53\t17:7573997-7574003\n",
        "TP53\t17:7574030-7574030 TP53\t17:7574024-7574030\n",
        "TP53\t17:7576851-7576851 TP53\t17:7576845-7576851\n",
        "TP53\t17:7576852-7576852 TP53\t17:7576846-7576852\n",
        "TP53\t17:7576852-7576852 TP53\t17:7576846-7576852\n",
        "TP53\t17:7576855-7576855 TP53\t17:7576849-7576855\n",
        "TP53\t17:7576855-7576855 TP53\t17:7576849-7576855\n",
        "TP53\t17:7576863-7576863 TP53\t17:7576857-7576863\n",
        "TP53\t17:7576885-7576895 TP53\t17:7576879-7576885\n",
        "TP53\t17:7576924-7576925 TP53\t17:7576918-7576924\n",
        "TP53\t17:7577018-7577018 TP53\t17:7577012-7577018\n",
        "TP53\t17:7577022-7577022 TP53\t17:7577016-7577022\n",
        "TP53\t17:7577022-7577022 TP53\t17:7577016-7577022\n",
        "TP53\t17:7577031-7577031"
       ]
      },
      {
       "output_type": "stream",
       "stream": "stdout",
       "text": [
        " TP53\t17:7577025-7577031\n",
        "TP53\t17:7577051-7577079 TP53\t17:7577045-7577051\n",
        "TP53\t17:7577061-7577064 TP53\t17:7577055-7577061\n",
        "TP53\t17:7577067-7577085 TP53\t17:7577061-7577067\n",
        "TP53\t17:7577073-7577073 TP53\t17:7577067-7577073\n",
        "TP53\t17:7577081-7577081 TP53\t17:7577075-7577081\n",
        "TP53\t17:7577082-7577082 TP53\t17:7577076-7577082\n",
        "TP53\t17:7577082-7577082 TP53\t17:7577076-7577082\n",
        "TP53\t17:7577082-7577082 TP53\t17:7577076-7577082\n",
        "TP53\t17:7577094-7577094 TP53\t17:7577088-7577094\n",
        "TP53\t17:7577094-7577094 TP53\t17:7577088-7577094\n",
        "TP53\t17:7577094-7577094 TP53\t17:7577088-7577094\n",
        "TP53\t17:7577096-7577096 TP53\t17:7577090-7577096\n",
        "TP53\t17:7577099-7577099 TP53\t17:7577093-7577099\n",
        "TP53\t17:7577100-7577100 TP53\t17:7577094-7577100\n",
        "TP53\t17:7577102-7577102"
       ]
      },
      {
       "output_type": "stream",
       "stream": "stdout",
       "text": [
        " TP53\t17:7577096-7577102\n",
        "TP53\t17:7577105-7577105 TP53\t17:7577099-7577105\n",
        "TP53\t17:7577106-7577106 TP53\t17:7577100-7577106\n",
        "TP53\t17:7577106-7577106 TP53\t17:7577100-7577106\n",
        "TP53\t17:7577107-7577116 TP53\t17:7577101-7577107\n",
        "TP53\t17:7577112-7577112 TP53\t17:7577106-7577112\n",
        "TP53\t17:7577118-7577118 TP53\t17:7577112-7577118\n",
        "TP53\t17:7577120-7577120 TP53\t17:7577114-7577120\n",
        "TP53\t17:7577120-7577120 TP53\t17:7577114-7577120\n",
        "TP53\t17:7577120-7577120 TP53\t17:7577114-7577120\n",
        "TP53\t17:7577120-7577120 TP53\t17:7577114-7577120\n",
        "TP53\t17:7577120-7577120 TP53\t17:7577114-7577120\n",
        "TP53\t17:7577120-7577120 TP53\t17:7577114-7577120\n",
        "TP53\t17:7577121-7577121 TP53\t17:7577115-7577121\n",
        "TP53\t17:7577121-7577121 TP53\t17:7577115-7577121\n",
        "TP53\t17:7577121-7577121 TP53\t17:7577115-7577121\n",
        "TP53\t17:7577121-7577121"
       ]
      },
      {
       "output_type": "stream",
       "stream": "stdout",
       "text": [
        " TP53\t17:7577115-7577121\n",
        "TP53\t17:7577121-7577121 TP53\t17:7577115-7577121\n",
        "TP53\t17:7577124-7577124 TP53\t17:7577118-7577124\n",
        "TP53\t17:7577127-7577128 TP53\t17:7577121-7577127\n",
        "TP53\t17:7577129-7577129 TP53\t17:7577123-7577129\n",
        "TP53\t17:7577130-7577130 TP53\t17:7577124-7577130\n",
        "TP53\t17:7577141-7577141 TP53\t17:7577135-7577141\n",
        "TP53\t17:7577141-7577141 TP53\t17:7577135-7577141\n",
        "TP53\t17:7577144-7577144 TP53\t17:7577138-7577144\n",
        "TP53\t17:7577144-7577144 TP53\t17:7577138-7577144\n",
        "TP53\t17:7577498-7577498 TP53\t17:7577492-7577498\n",
        "TP53\t17:7577509-7577509 TP53\t17:7577503-7577509\n",
        "TP53\t17:7577509-7577509 TP53\t17:7577503-7577509\n",
        "TP53\t17:7577514-7577515 TP53\t17:7577508-7577514\n",
        "TP53\t17:7577515-7577517 TP53\t17:7577509-7577515\n",
        "TP53\t17:7577517-7577517 TP53\t17:7577511-7577517\n",
        "TP53\t17:7577517-7577517 TP53\t17:7577511-7577517\n",
        "TP53\t17:7577518-7577518"
       ]
      },
      {
       "output_type": "stream",
       "stream": "stdout",
       "text": [
        " TP53\t17:7577512-7577518\n",
        "TP53\t17:7577526-7577526 TP53\t17:7577520-7577526\n",
        "TP53\t17:7577531-7577531 TP53\t17:7577525-7577531\n",
        "TP53\t17:7577538-7577538 TP53\t17:7577532-7577538\n",
        "TP53\t17:7577538-7577538 TP53\t17:7577532-7577538\n",
        "TP53\t17:7577539-7577539 TP53\t17:7577533-7577539\n",
        "TP53\t17:7577539-7577539 TP53\t17:7577533-7577539\n",
        "TP53\t17:7577539-7577539 TP53\t17:7577533-7577539\n",
        "TP53\t17:7577539-7577539 TP53\t17:7577533-7577539\n",
        "TP53\t17:7577539-7577539 TP53\t17:7577533-7577539\n",
        "TP53\t17:7577539-7577539 TP53\t17:7577533-7577539\n",
        "TP53\t17:7577541-7577541 TP53\t17:7577535-7577541\n",
        "TP53\t17:7577543-7577543 TP53\t17:7577537-7577543\n",
        "TP53\t17:7577547-7577547 TP53\t17:7577541-7577547\n",
        "TP53\t17:7577547-7577547 TP53\t17:7577541-7577547\n",
        "TP53\t17:7577547-7577547"
       ]
      },
      {
       "output_type": "stream",
       "stream": "stdout",
       "text": [
        " TP53\t17:7577541-7577547\n",
        "TP53\t17:7577548-7577548 TP53\t17:7577542-7577548\n",
        "TP53\t17:7577558-7577558 TP53\t17:7577552-7577558\n",
        "TP53\t17:7577558-7577558 TP53\t17:7577552-7577558\n",
        "TP53\t17:7577559-7577559 TP53\t17:7577553-7577559\n",
        "TP53\t17:7577566-7577567 TP53\t17:7577560-7577566\n",
        "TP53\t17:7577566-7577567 TP53\t17:7577560-7577566\n",
        "TP53\t17:7577568-7577568 TP53\t17:7577562-7577568\n",
        "TP53\t17:7577568-7577568 TP53\t17:7577562-7577568\n",
        "TP53\t17:7577568-7577568 TP53\t17:7577562-7577568\n",
        "TP53\t17:7577568-7577568 TP53\t17:7577562-7577568\n",
        "TP53\t17:7577580-7577580 TP53\t17:7577574-7577580\n",
        "TP53\t17:7577580-7577580 TP53\t17:7577574-7577580\n",
        "TP53\t17:7577586-7577586 TP53\t17:7577580-7577586\n",
        "TP53\t17:7577609-7577609 TP53\t17:7577603-7577609\n",
        "TP53\t17:7577610-7577610"
       ]
      },
      {
       "output_type": "stream",
       "stream": "stdout",
       "text": [
        " TP53\t17:7577604-7577610\n",
        "TP53\t17:7577610-7577610 TP53\t17:7577604-7577610\n",
        "TP53\t17:7578142-7578142 TP53\t17:7578136-7578142\n",
        "TP53\t17:7578175-7578175 TP53\t17:7578169-7578175\n",
        "TP53\t17:7578175-7578176 TP53\t17:7578169-7578175\n",
        "TP53\t17:7578188-7578188 TP53\t17:7578182-7578188\n",
        "TP53\t17:7578190-7578190 TP53\t17:7578184-7578190\n",
        "TP53\t17:7578190-7578190 TP53\t17:7578184-7578190\n",
        "TP53\t17:7578190-7578190 TP53\t17:7578184-7578190\n",
        "TP53\t17:7578190-7578190 TP53\t17:7578184-7578190\n",
        "TP53\t17:7578190-7578190 TP53\t17:7578184-7578190\n",
        "TP53\t17:7578190-7578190 TP53\t17:7578184-7578190\n",
        "TP53\t17:7578190-7578190 TP53\t17:7578184-7578190\n",
        "TP53\t17:7578190-7578190 TP53\t17:7578184-7578190\n",
        "TP53\t17:7578191-7578191"
       ]
      },
      {
       "output_type": "stream",
       "stream": "stdout",
       "text": [
        " TP53\t17:7578185-7578191\n",
        "TP53\t17:7578203-7578203 TP53\t17:7578197-7578203\n",
        "TP53\t17:7578203-7578203 TP53\t17:7578197-7578203\n",
        "TP53\t17:7578203-7578203 TP53\t17:7578197-7578203\n",
        "TP53\t17:7578204-7578204 TP53\t17:7578198-7578204\n",
        "TP53\t17:7578205-7578205 TP53\t17:7578199-7578205\n",
        "TP53\t17:7578212-7578212 TP53\t17:7578206-7578212\n",
        "TP53\t17:7578212-7578212 TP53\t17:7578206-7578212\n",
        "TP53\t17:7578212-7578212 TP53\t17:7578206-7578212\n",
        "TP53\t17:7578212-7578212 TP53\t17:7578206-7578212\n",
        "TP53\t17:7578212-7578212 TP53\t17:7578206-7578212\n",
        "TP53\t17:7578212-7578212 TP53\t17:7578206-7578212\n",
        "TP53\t17:7578212-7578212 TP53\t17:7578206-7578212\n",
        "TP53\t17:7578218-7578218 TP53\t17:7578212-7578218\n",
        "TP53\t17:7578222-7578223"
       ]
      },
      {
       "output_type": "stream",
       "stream": "stdout",
       "text": [
        " TP53\t17:7578216-7578222\n",
        "TP53\t17:7578222-7578223 TP53\t17:7578216-7578222\n",
        "TP53\t17:7578235-7578235 TP53\t17:7578229-7578235\n",
        "TP53\t17:7578236-7578236 TP53\t17:7578230-7578236\n",
        "TP53\t17:7578239-7578239 TP53\t17:7578233-7578239\n",
        "TP53\t17:7578246-7578247 TP53\t17:7578240-7578246\n",
        "TP53\t17:7578253-7578253 TP53\t17:7578247-7578253\n",
        "TP53\t17:7578253-7578253 TP53\t17:7578247-7578253\n",
        "TP53\t17:7578257-7578257 TP53\t17:7578251-7578257\n",
        "TP53\t17:7578259-7578259 TP53\t17:7578253-7578259\n",
        "TP53\t17:7578263-7578263 TP53\t17:7578257-7578263\n",
        "TP53\t17:7578263-7578263 TP53\t17:7578257-7578263\n",
        "TP53\t17:7578263-7578263"
       ]
      },
      {
       "output_type": "stream",
       "stream": "stdout",
       "text": [
        " TP53\t17:7578257-7578263\n",
        "TP53\t17:7578263-7578263 TP53\t17:7578257-7578263\n",
        "TP53\t17:7578263-7578263 TP53\t17:7578257-7578263\n",
        "TP53\t17:7578263-7578263 TP53\t17:7578257-7578263\n",
        "TP53\t17:7578263-7578263 TP53\t17:7578257-7578263\n",
        "TP53\t17:7578263-7578263 TP53\t17:7578257-7578263\n",
        "TP53\t17:7578265-7578265 TP53\t17:7578259-7578265\n",
        "TP53\t17:7578265-7578265 TP53\t17:7578259-7578265\n",
        "TP53\t17:7578265-7578265 TP53\t17:7578259-7578265\n",
        "TP53\t17:7578265-7578265 TP53\t17:7578259-7578265\n",
        "TP53\t17:7578268-7578268 TP53\t17:7578262-7578268\n",
        "TP53\t17:7578268-7578268 TP53\t17:7578262-7578268\n",
        "TP53\t17:7578268-7578268 TP53\t17:7578262-7578268\n",
        "TP53\t17:7578271-7578271"
       ]
      },
      {
       "output_type": "stream",
       "stream": "stdout",
       "text": [
        " TP53\t17:7578265-7578271\n",
        "TP53\t17:7578271-7578271 TP53\t17:7578265-7578271\n",
        "TP53\t17:7578271-7578271 TP53\t17:7578265-7578271\n",
        "TP53\t17:7578271-7578271 TP53\t17:7578265-7578271\n",
        "TP53\t17:7578271-7578271 TP53\t17:7578265-7578271\n",
        "TP53\t17:7578271-7578271 TP53\t17:7578265-7578271\n",
        "TP53\t17:7578271-7578271 TP53\t17:7578265-7578271\n",
        "TP53\t17:7578271-7578271 TP53\t17:7578265-7578271\n",
        "TP53\t17:7578271-7578271 TP53\t17:7578265-7578271\n",
        "TP53\t17:7578272-7578272 TP53\t17:7578266-7578272\n",
        "TP53\t17:7578272-7578272 TP53\t17:7578266-7578272\n",
        "TP53\t17:7578275-7578275 TP53\t17:7578269-7578275\n",
        "TP53\t17:7578278-7578279 TP53\t17:7578272-7578278\n",
        "TP53\t17:7578290-7578290"
       ]
      },
      {
       "output_type": "stream",
       "stream": "stdout",
       "text": [
        " TP53\t17:7578284-7578290\n",
        "TP53\t17:7578290-7578290 TP53\t17:7578284-7578290\n",
        "TP53\t17:7578370-7578370 TP53\t17:7578364-7578370\n",
        "TP53\t17:7578371-7578371 TP53\t17:7578365-7578371\n",
        "TP53\t17:7578382-7578382 TP53\t17:7578376-7578382\n",
        "TP53\t17:7578394-7578394 TP53\t17:7578388-7578394\n",
        "TP53\t17:7578394-7578394 TP53\t17:7578388-7578394\n",
        "TP53\t17:7578394-7578394 TP53\t17:7578388-7578394\n",
        "TP53\t17:7578394-7578394 TP53\t17:7578388-7578394\n",
        "TP53\t17:7578395-7578395 TP53\t17:7578389-7578395\n",
        "TP53\t17:7578402-7578402 TP53\t17:7578396-7578402\n",
        "TP53\t17:7578403-7578403 TP53\t17:7578397-7578403\n",
        "TP53\t17:7578403-7578403 TP53\t17:7578397-7578403\n",
        "TP53\t17:7578403-7578403"
       ]
      },
      {
       "output_type": "stream",
       "stream": "stdout",
       "text": [
        " TP53\t17:7578397-7578403\n",
        "TP53\t17:7578403-7578403 TP53\t17:7578397-7578403\n",
        "TP53\t17:7578406-7578406 TP53\t17:7578400-7578406\n",
        "TP53\t17:7578406-7578406 TP53\t17:7578400-7578406\n",
        "TP53\t17:7578406-7578406 TP53\t17:7578400-7578406\n",
        "TP53\t17:7578406-7578406 TP53\t17:7578400-7578406\n",
        "TP53\t17:7578406-7578406 TP53\t17:7578400-7578406\n",
        "TP53\t17:7578406-7578406 TP53\t17:7578400-7578406\n",
        "TP53\t17:7578406-7578406 TP53\t17:7578400-7578406\n",
        "TP53\t17:7578406-7578406 TP53\t17:7578400-7578406\n",
        "TP53\t17:7578406-7578406 TP53\t17:7578400-7578406\n",
        "TP53\t17:7578406-7578406"
       ]
      },
      {
       "output_type": "stream",
       "stream": "stdout",
       "text": [
        " TP53\t17:7578400-7578406\n",
        "TP53\t17:7578406-7578406 TP53\t17:7578400-7578406\n",
        "TP53\t17:7578406-7578406 TP53\t17:7578400-7578406\n",
        "TP53\t17:7578406-7578406 TP53\t17:7578400-7578406\n",
        "TP53\t17:7578406-7578406 TP53\t17:7578400-7578406\n",
        "TP53\t17:7578406-7578406 TP53\t17:7578400-7578406\n",
        "TP53\t17:7578409-7578437 TP53\t17:7578403-7578409\n",
        "TP53\t17:7578413-7578413 TP53\t17:7578407-7578413\n",
        "TP53\t17:7578413-7578413 TP53\t17:7578407-7578413\n",
        "TP53\t17:7578413-7578413 TP53\t17:7578407-7578413\n",
        "TP53\t17:7578413-7578413 TP53\t17:7578407-7578413\n",
        "TP53\t17:7578416-7578419 TP53\t17:7578410-7578416\n",
        "TP53\t17:7578427-7578427 TP53\t17:7578421-7578427\n",
        "TP53\t17:7578429-7578429"
       ]
      },
      {
       "output_type": "stream",
       "stream": "stdout",
       "text": [
        " TP53\t17:7578423-7578429\n",
        "TP53\t17:7578431-7578431 TP53\t17:7578425-7578431\n",
        "TP53\t17:7578442-7578442 TP53\t17:7578436-7578442\n",
        "TP53\t17:7578442-7578442 TP53\t17:7578436-7578442\n",
        "TP53\t17:7578443-7578445 TP53\t17:7578437-7578443\n",
        "TP53\t17:7578446-7578447 TP53\t17:7578440-7578446\n",
        "TP53\t17:7578449-7578449 TP53\t17:7578443-7578449\n",
        "TP53\t17:7578458-7578458 TP53\t17:7578452-7578458\n",
        "TP53\t17:7578458-7578464 TP53\t17:7578452-7578458\n",
        "TP53\t17:7578460-7578460 TP53\t17:7578454-7578460\n",
        "TP53\t17:7578460-7578461 TP53\t17:7578454-7578460\n",
        "TP53\t17:7578461-7578461 TP53\t17:7578455-7578461\n",
        "TP53\t17:7578464-7578476 TP53\t17:7578458-7578464\n",
        "TP53\t17:7578465-7578465"
       ]
      },
      {
       "output_type": "stream",
       "stream": "stdout",
       "text": [
        " TP53\t17:7578459-7578465\n",
        "TP53\t17:7578467-7578467 TP53\t17:7578461-7578467\n",
        "TP53\t17:7578478-7578478 TP53\t17:7578472-7578478\n",
        "TP53\t17:7578491-7578491 TP53\t17:7578485-7578491\n",
        "TP53\t17:7578503-7578518 TP53\t17:7578497-7578503\n",
        "TP53\t17:7578505-7578516 TP53\t17:7578499-7578505\n",
        "TP53\t17:7578508-7578508 TP53\t17:7578502-7578508\n",
        "TP53\t17:7578508-7578508 TP53\t17:7578502-7578508\n",
        "TP53\t17:7578508-7578508 TP53\t17:7578502-7578508\n",
        "TP53\t17:7578509-7578509 TP53\t17:7578503-7578509\n",
        "TP53\t17:7578524-7578524 TP53\t17:7578518-7578524\n",
        "TP53\t17:7578525-7578525 TP53\t17:7578519-7578525\n",
        "TP53\t17:7578526-7578526 TP53\t17:7578520-7578526\n",
        "TP53\t17:7578532-7578532"
       ]
      },
      {
       "output_type": "stream",
       "stream": "stdout",
       "text": [
        " TP53\t17:7578526-7578532\n",
        "TP53\t17:7578534-7578534 TP53\t17:7578528-7578534\n",
        "TP53\t17:7578534-7578534 TP53\t17:7578528-7578534\n",
        "TP53\t17:7578535-7578535 TP53\t17:7578529-7578535\n",
        "TP53\t17:7578536-7578536 TP53\t17:7578530-7578536\n",
        "TP53\t17:7578538-7578538 TP53\t17:7578532-7578538\n",
        "TP53\t17:7578542-7578542 TP53\t17:7578536-7578542\n",
        "TP53\t17:7578551-7578551 TP53\t17:7578545-7578551\n",
        "TP53\t17:7578553-7578553 TP53\t17:7578547-7578553\n",
        "TP53\t17:7578554-7578554 TP53\t17:7578548-7578554\n",
        "TP53\t17:7578555-7578555 TP53\t17:7578549-7578555\n",
        "TP53\t17:7578556-7578556 TP53\t17:7578550-7578556\n",
        "TP53\t17:7578556-7578556 TP53\t17:7578550-7578556\n",
        "ALOXE3\t17:8022084-8022084"
       ]
      },
      {
       "output_type": "stream",
       "stream": "stdout",
       "text": [
        " ALOXE3\t17:8022078-8022084\n",
        "9300\n",
        "NCOR1\t17:15935743-15935743"
       ]
      },
      {
       "output_type": "stream",
       "stream": "stdout",
       "text": [
        " NCOR1\t17:15935737-15935743\n",
        "NCOR1\t17:15938204-15938204"
       ]
      },
      {
       "output_type": "stream",
       "stream": "stdout",
       "text": [
        " NCOR1\t17:15938198-15938204\n",
        "NCOR1\t17:15942922-15942922"
       ]
      },
      {
       "output_type": "stream",
       "stream": "stdout",
       "text": [
        " NCOR1\t17:15942916-15942922\n",
        "NCOR1\t17:15943783-15943783"
       ]
      },
      {
       "output_type": "stream",
       "stream": "stdout",
       "text": [
        " NCOR1\t17:15943777-15943783\n",
        "NCOR1\t17:15943800-15943800"
       ]
      },
      {
       "output_type": "stream",
       "stream": "stdout",
       "text": [
        " NCOR1\t17:15943794-15943800\n",
        "NCOR1\t17:15961915-15961915"
       ]
      },
      {
       "output_type": "stream",
       "stream": "stdout",
       "text": [
        " NCOR1\t17:15961909-15961915\n",
        "NCOR1\t17:15964871-15964871"
       ]
      },
      {
       "output_type": "stream",
       "stream": "stdout",
       "text": [
        " NCOR1\t17:15964865-15964871\n",
        "NCOR1\t17:15964978-15964978"
       ]
      },
      {
       "output_type": "stream",
       "stream": "stdout",
       "text": [
        " NCOR1\t17:15964972-15964978\n",
        "NCOR1\t17:15965063-15965063"
       ]
      },
      {
       "output_type": "stream",
       "stream": "stdout",
       "text": [
        " NCOR1\t17:15965057-15965063\n",
        "NCOR1\t17:15965075-15965075"
       ]
      },
      {
       "output_type": "stream",
       "stream": "stdout",
       "text": [
        " NCOR1\t17:15965069-15965075\n",
        "NCOR1\t17:15965146-15965146"
       ]
      },
      {
       "output_type": "stream",
       "stream": "stdout",
       "text": [
        " NCOR1\t17:15965140-15965146\n",
        "NCOR1\t17:15965147-15965147"
       ]
      },
      {
       "output_type": "stream",
       "stream": "stdout",
       "text": [
        " NCOR1\t17:15965141-15965147\n",
        "NCOR1\t17:15965426-15965426"
       ]
      },
      {
       "output_type": "stream",
       "stream": "stdout",
       "text": [
        " NCOR1\t17:15965420-15965426\n",
        "NCOR1\t17:15965432-15965432"
       ]
      },
      {
       "output_type": "stream",
       "stream": "stdout",
       "text": [
        " NCOR1\t17:15965426-15965432\n",
        "NCOR1\t17:15965543-15965543"
       ]
      },
      {
       "output_type": "stream",
       "stream": "stdout",
       "text": [
        " NCOR1\t17:15965537-15965543\n",
        "NCOR1\t17:15968868-15968868"
       ]
      },
      {
       "output_type": "stream",
       "stream": "stdout",
       "text": [
        " NCOR1\t17:15968862-15968868\n",
        "NCOR1\t17:15968898-15968898"
       ]
      },
      {
       "output_type": "stream",
       "stream": "stdout",
       "text": [
        " NCOR1\t17:15968892-15968898\n",
        "NCOR1\t17:15973687-15973688"
       ]
      },
      {
       "output_type": "stream",
       "stream": "stdout",
       "text": [
        " NCOR1\t17:15973681-15973687\n",
        "NCOR1\t17:15975531-15975531"
       ]
      },
      {
       "output_type": "stream",
       "stream": "stdout",
       "text": [
        " NCOR1\t17:15975525-15975531\n",
        "NCOR1\t17:15978996-15978996"
       ]
      },
      {
       "output_type": "stream",
       "stream": "stdout",
       "text": [
        " NCOR1\t17:15978990-15978996\n",
        "NCOR1\t17:15983302-15983302"
       ]
      },
      {
       "output_type": "stream",
       "stream": "stdout",
       "text": [
        " NCOR1\t17:15983296-15983302\n",
        "NCOR1\t17:15983302-15983302"
       ]
      },
      {
       "output_type": "stream",
       "stream": "stdout",
       "text": [
        " NCOR1\t17:15983296-15983302\n",
        "NCOR1\t17:15983797-15983797"
       ]
      },
      {
       "output_type": "stream",
       "stream": "stdout",
       "text": [
        " NCOR1\t17:15983791-15983797\n",
        "NCOR1\t17:15984026-15984027"
       ]
      },
      {
       "output_type": "stream",
       "stream": "stdout",
       "text": [
        " NCOR1\t17:15984020-15984026\n",
        "NCOR1\t17:15989636-15989636"
       ]
      },
      {
       "output_type": "stream",
       "stream": "stdout",
       "text": [
        " NCOR1\t17:15989630-15989636\n",
        "NCOR1\t17:15989687-15989687"
       ]
      },
      {
       "output_type": "stream",
       "stream": "stdout",
       "text": [
        " NCOR1\t17:15989681-15989687\n",
        "NCOR1\t17:15989751-15989751"
       ]
      },
      {
       "output_type": "stream",
       "stream": "stdout",
       "text": [
        " NCOR1\t17:15989745-15989751\n",
        "NCOR1\t17:15995175-15995175 NCOR1\t17:15995169-15995175\n",
        "NCOR1\t17:15995175-15995175 NCOR1\t17:15995169-15995175\n",
        "NCOR1\t17:16012112-16012112 NCOR1\t17:16012106-16012112\n",
        "NCOR1\t17:16012203-16012203 NCOR1\t17:16012197-16012203\n",
        "NCOR1\t17:16012217-16012217"
       ]
      },
      {
       "output_type": "stream",
       "stream": "stdout",
       "text": [
        " NCOR1\t17:16012211-16012217\n",
        "NCOR1\t17:16024444-16024444 NCOR1\t17:16024438-16024444\n",
        "NCOR1\t17:16029439-16029439"
       ]
      },
      {
       "output_type": "stream",
       "stream": "stdout",
       "text": [
        " NCOR1\t17:16029433-16029439\n",
        "NCOR1\t17:16029456-16029457 NCOR1\t17:16029450-16029456\n",
        "NCOR1\t17:16029456-16029457"
       ]
      },
      {
       "output_type": "stream",
       "stream": "stdout",
       "text": [
        " NCOR1\t17:16029450-16029456\n",
        "NCOR1\t17:16029456-16029457 NCOR1\t17:16029450-16029456\n",
        "NCOR1\t17:16042501-16042501 "
       ]
      },
      {
       "output_type": "stream",
       "stream": "stdout",
       "text": [
        "NCOR1\t17:16042495-16042501\n",
        "NCOR1\t17:16047011-16047011 NCOR1\t17:16047005-16047011\n",
        "NCOR1\t17:16049835-16049835"
       ]
      },
      {
       "output_type": "stream",
       "stream": "stdout",
       "text": [
        " NCOR1\t17:16049829-16049835\n",
        "NCOR1\t17:16062146-16062146 NCOR1\t17:16062140-16062146\n",
        "NCOR1\t17:16062148-16062148"
       ]
      },
      {
       "output_type": "stream",
       "stream": "stdout",
       "text": [
        " NCOR1\t17:16062142-16062148\n",
        "NCOR1\t17:16068397-16068397 NCOR1\t17:16068391-16068397\n",
        "NCOR1\t17:16068438-16068438"
       ]
      },
      {
       "output_type": "stream",
       "stream": "stdout",
       "text": [
        " NCOR1\t17:16068432-16068438\n",
        "NCOR1\t17:16075194-16075194 NCOR1\t17:16075188-16075194\n",
        "NCOR1\t17:16075275-16075275"
       ]
      },
      {
       "output_type": "stream",
       "stream": "stdout",
       "text": [
        " NCOR1\t17:16075269-16075275\n",
        "NCOR1\t17:15935743-15935743"
       ]
      },
      {
       "output_type": "stream",
       "stream": "stdout",
       "text": [
        " NCOR1\t17:15935737-15935743\n",
        "NCOR1\t17:15938204-15938204 NCOR1\t17:15938198-15938204\n",
        "NCOR1\t17:15942922-15942922"
       ]
      },
      {
       "output_type": "stream",
       "stream": "stdout",
       "text": [
        " NCOR1\t17:15942916-15942922\n",
        "NCOR1\t17:15943783-15943783"
       ]
      },
      {
       "output_type": "stream",
       "stream": "stdout",
       "text": [
        " NCOR1\t17:15943777-15943783\n",
        "NCOR1\t17:15943800-15943800"
       ]
      },
      {
       "output_type": "stream",
       "stream": "stdout",
       "text": [
        " NCOR1\t17:15943794-15943800\n",
        "NCOR1\t17:15965036-15965036"
       ]
      },
      {
       "output_type": "stream",
       "stream": "stdout",
       "text": [
        " NCOR1\t17:15965030-15965036\n",
        "NCOR1\t17:15965075-15965075"
       ]
      },
      {
       "output_type": "stream",
       "stream": "stdout",
       "text": [
        " NCOR1\t17:15965069-15965075\n",
        "NCOR1\t17:15965432-15965432"
       ]
      },
      {
       "output_type": "stream",
       "stream": "stdout",
       "text": [
        " NCOR1\t17:15965426-15965432\n",
        "NCOR1\t17:15973477-15973477"
       ]
      },
      {
       "output_type": "stream",
       "stream": "stdout",
       "text": [
        " NCOR1\t17:15973471-15973477\n",
        "NCOR1\t17:15973571-15973593"
       ]
      },
      {
       "output_type": "stream",
       "stream": "stdout",
       "text": [
        " NCOR1\t17:15973565-15973571\n",
        "NCOR1\t17:15973687-15973687"
       ]
      },
      {
       "output_type": "stream",
       "stream": "stdout",
       "text": [
        " NCOR1\t17:15973681-15973687\n",
        "NCOR1\t17:15975531-15975531"
       ]
      },
      {
       "output_type": "stream",
       "stream": "stdout",
       "text": [
        " NCOR1\t17:15975525-15975531\n",
        "NCOR1\t17:15978874-15978874"
       ]
      },
      {
       "output_type": "stream",
       "stream": "stdout",
       "text": [
        " NCOR1\t17:15978868-15978874\n",
        "NCOR1\t17:15978996-15978996"
       ]
      },
      {
       "output_type": "stream",
       "stream": "stdout",
       "text": [
        " NCOR1\t17:15978990-15978996\n",
        "NCOR1\t17:15983302-15983302"
       ]
      },
      {
       "output_type": "stream",
       "stream": "stdout",
       "text": [
        " NCOR1\t17:15983296-15983302\n",
        "NCOR1\t17:15984026-15984027"
       ]
      },
      {
       "output_type": "stream",
       "stream": "stdout",
       "text": [
        " NCOR1\t17:15984020-15984026\n",
        "NCOR1\t17:15989636-15989636"
       ]
      },
      {
       "output_type": "stream",
       "stream": "stdout",
       "text": [
        " NCOR1\t17:15989630-15989636\n",
        "NCOR1\t17:15989751-15989751"
       ]
      },
      {
       "output_type": "stream",
       "stream": "stdout",
       "text": [
        " NCOR1\t17:15989745-15989751\n",
        "NCOR1\t17:15995175-15995175 NCOR1\t17:15995169-15995175\n",
        "NCOR1\t17:15995308-15995326 NCOR1\t17:15995302-15995308\n",
        "NCOR1\t17:16012112-16012112 NCOR1\t17:16012106-16012112\n",
        "NCOR1\t17:16012203-16012203 NCOR1\t17:16012197-16012203\n",
        "NCOR1\t17:16012215-16012227 NCOR1\t17:16012209-16012215\n",
        "NCOR1\t17:16012217-16012217"
       ]
      },
      {
       "output_type": "stream",
       "stream": "stdout",
       "text": [
        " NCOR1\t17:16012211-16012217\n",
        "NCOR1\t17:16024444-16024444 NCOR1\t17:16024438-16024444\n",
        "NCOR1\t17:16029431-16029435 NCOR1\t17:16029425-16029431\n",
        "NCOR1\t17:16029439-16029439"
       ]
      },
      {
       "output_type": "stream",
       "stream": "stdout",
       "text": [
        " NCOR1\t17:16029433-16029439\n",
        "NCOR1\t17:16029456-16029457 NCOR1\t17:16029450-16029456\n",
        "NCOR1\t17:16049835-16049835"
       ]
      },
      {
       "output_type": "stream",
       "stream": "stdout",
       "text": [
        " NCOR1\t17:16049829-16049835\n",
        "NCOR1\t17:16055257-16055258 NCOR1\t17:16055251-16055257\n",
        "NCOR1\t17:16062146-16062146"
       ]
      },
      {
       "output_type": "stream",
       "stream": "stdout",
       "text": [
        " NCOR1\t17:16062140-16062146\n",
        "NCOR1\t17:16068342-16068352"
       ]
      },
      {
       "output_type": "stream",
       "stream": "stdout",
       "text": [
        " NCOR1\t17:16068336-16068342\n",
        "NCOR1\t17:16068397-16068397"
       ]
      },
      {
       "output_type": "stream",
       "stream": "stdout",
       "text": [
        " NCOR1\t17:16068391-16068397\n",
        "NCOR1\t17:16075115-16075115"
       ]
      },
      {
       "output_type": "stream",
       "stream": "stdout",
       "text": [
        " NCOR1\t17:16075109-16075115\n",
        "9400"
       ]
      },
      {
       "output_type": "stream",
       "stream": "stdout",
       "text": [
        "\n",
        "PIPOX\t17:27383408-27383408"
       ]
      },
      {
       "output_type": "stream",
       "stream": "stdout",
       "text": [
        " PIPOX\t17:27383404-27383410\n",
        "NUFIP2\t17:27613244-27613244 NUFIP2\t17:27613243-27613249\n",
        "NUFIP2\t17:27613780-27613780 NUFIP2\t17:27613778-27613784\n",
        "NUFIP2\t17:27613780-27613780 NUFIP2\t17:27613778-27613784\n",
        "NUFIP2\t17:27621071-27621071 NUFIP2\t17:27621068-27621074\n",
        "EFCAB5\t17:28268766-28268766"
       ]
      },
      {
       "output_type": "stream",
       "stream": "stdout",
       "text": [
        " EFCAB5\t17:28268760-28268766\n",
        "EFCAB5\t17:28295980-28295980"
       ]
      },
      {
       "output_type": "stream",
       "stream": "stdout",
       "text": [
        " EFCAB5\t17:28295974-28295980\n",
        "EFCAB5\t17:28296215-28296215"
       ]
      },
      {
       "output_type": "stream",
       "stream": "stdout",
       "text": [
        " EFCAB5\t17:28296209-28296215\n",
        "EFCAB5\t17:28378166-28378166 EFCAB5\t17:28378160-28378166\n",
        "EFCAB5\t17:28380487-28380487"
       ]
      },
      {
       "output_type": "stream",
       "stream": "stdout",
       "text": [
        " EFCAB5\t17:28380481-28380487\n",
        "EFCAB5\t17:28380671-28380671 EFCAB5\t17:28380665-28380671\n",
        "EFCAB5\t17:28380797-28380797"
       ]
      },
      {
       "output_type": "stream",
       "stream": "stdout",
       "text": [
        " EFCAB5\t17:28380791-28380797\n",
        "EFCAB5\t17:28381157-28381157 EFCAB5\t17:28381151-28381157\n",
        "EFCAB5\t17:28384802-28384802"
       ]
      },
      {
       "output_type": "stream",
       "stream": "stdout",
       "text": [
        " EFCAB5\t17:28384796-28384802\n",
        "EFCAB5\t17:28378166-28378166"
       ]
      },
      {
       "output_type": "stream",
       "stream": "stdout",
       "text": [
        " EFCAB5\t17:28378160-28378166\n",
        "EFCAB5\t17:28380487-28380487 EFCAB5\t17:28380481-28380487\n",
        "EFCAB5\t17:28380797-28380797"
       ]
      },
      {
       "output_type": "stream",
       "stream": "stdout",
       "text": [
        " EFCAB5\t17:28380791-28380797\n",
        "EFCAB5\t17:28381157-28381157 EFCAB5\t17:28381151-28381157\n",
        "9500"
       ]
      },
      {
       "output_type": "stream",
       "stream": "stdout",
       "text": [
        "\n",
        "MYO19\t17:34856996-34856997"
       ]
      },
      {
       "output_type": "stream",
       "stream": "stdout",
       "text": [
        " MYO19\t17:34856990-34856996\n",
        "MYO19\t17:34863744-34863744 MYO19\t17:34863738-34863744\n",
        "MYO19\t17:34883455-34883455 MYO19\t17:34883449-34883455\n",
        "MYO19\t17:34883918-34883918 MYO19\t17:34883912-34883918\n",
        "MYO19\t17:34863744-34863744"
       ]
      },
      {
       "output_type": "stream",
       "stream": "stdout",
       "text": [
        " MYO19\t17:34863738-34863744\n",
        "KRT25\t17:38911447-38911447"
       ]
      },
      {
       "output_type": "stream",
       "stream": "stdout",
       "text": [
        " KRT25\t17:38911442-38911448\n",
        "9600\n",
        "KRTAP3-2\t17:39155871-39155871 KRTAP3-2\t17:39155871-39155877\n",
        "KRTAP3-2\t17:39155916-39155916 KRTAP3-2\t17:39155913-39155919\n",
        "KRTAP3-2\t17:39155871-39155871 KRTAP3-2\t17:39155871-39155877\n",
        "KRTAP4-11\t17:39274087-39274087 KRTAP4-11\t17:39274081-39274087\n",
        "KRT35\t17:39637188-39637188 KRT35\t17:39637183-39637189\n",
        "AARSD1\t17:41103846-41103846"
       ]
      },
      {
       "output_type": "stream",
       "stream": "stdout",
       "text": [
        " AARSD1\t17:41103840-41103846\n",
        "AARSD1\t17:41113324-41113324 AARSD1\t17:41113318-41113324\n",
        "9700\n",
        "NMT1\t17:43183108-43183108"
       ]
      },
      {
       "output_type": "stream",
       "stream": "stdout",
       "text": [
        " NMT1\t17:43183107-43183113\n",
        "9800"
       ]
      },
      {
       "output_type": "stream",
       "stream": "stdout",
       "text": [
        "\n",
        "ABCC3\t17:48735473-48735473"
       ]
      },
      {
       "output_type": "stream",
       "stream": "stdout",
       "text": [
        " ABCC3\t17:48735467-48735473\n",
        "MSI2\t17:55334455-55334455"
       ]
      },
      {
       "output_type": "stream",
       "stream": "stdout",
       "text": [
        " MSI2\t17:55334449-55334455\n",
        "MSI2\t17:55478762-55478762"
       ]
      },
      {
       "output_type": "stream",
       "stream": "stdout",
       "text": [
        " MSI2\t17:55478756-55478762\n",
        "MSI2\t17:55674274-55674274"
       ]
      },
      {
       "output_type": "stream",
       "stream": "stdout",
       "text": [
        " MSI2\t17:55674268-55674274\n",
        "MSI2\t17:55334455-55334455"
       ]
      },
      {
       "output_type": "stream",
       "stream": "stdout",
       "text": [
        " MSI2\t17:55334449-55334455\n",
        "MSI2\t17:55478762-55478762"
       ]
      },
      {
       "output_type": "stream",
       "stream": "stdout",
       "text": [
        " MSI2\t17:55478756-55478762\n",
        "MSI2\t17:55674274-55674274"
       ]
      },
      {
       "output_type": "stream",
       "stream": "stdout",
       "text": [
        " MSI2\t17:55674268-55674274\n",
        "HSF5\t17:56565462-56565463"
       ]
      },
      {
       "output_type": "stream",
       "stream": "stdout",
       "text": [
        " HSF5\t17:56565458-56565464\n",
        "TRIM37\t17:57094720-57094720"
       ]
      },
      {
       "output_type": "stream",
       "stream": "stdout",
       "text": [
        " TRIM37\t17:57094714-57094720\n",
        "TRIM37\t17:57126636-57126636"
       ]
      },
      {
       "output_type": "stream",
       "stream": "stdout",
       "text": [
        " TRIM37\t17:57126630-57126636\n",
        "TRIM37\t17:57139966-57139966"
       ]
      },
      {
       "output_type": "stream",
       "stream": "stdout",
       "text": [
        " TRIM37\t17:57139960-57139966\n",
        "TRIM37\t17:57139966-57139966"
       ]
      },
      {
       "output_type": "stream",
       "stream": "stdout",
       "text": [
        " TRIM37\t17:57139960-57139966\n",
        "TRIM37\t17:57165759-57165759 TRIM37\t17:57165753-57165759\n",
        "TRIM37\t17:57126636-57126636"
       ]
      },
      {
       "output_type": "stream",
       "stream": "stdout",
       "text": [
        " TRIM37\t17:57126630-57126636\n",
        "TRIM37\t17:57126638-57126638"
       ]
      },
      {
       "output_type": "stream",
       "stream": "stdout",
       "text": [
        " TRIM37\t17:57126632-57126638\n",
        "TRIM37\t17:57139966-57139966"
       ]
      },
      {
       "output_type": "stream",
       "stream": "stdout",
       "text": [
        " TRIM37\t17:57139960-57139966\n",
        "INTS2\t17:60005329-60005329"
       ]
      },
      {
       "output_type": "stream",
       "stream": "stdout",
       "text": [
        " INTS2\t17:60005327-60005333\n",
        "9900\n",
        "MED13\t17:60142516-60142516 MED13\t17:60142511-60142517\n",
        "10000"
       ]
      },
      {
       "output_type": "stream",
       "stream": "stdout",
       "text": [
        "\n",
        "CBX2\t17:77755934-77755934"
       ]
      },
      {
       "output_type": "stream",
       "stream": "stdout",
       "text": [
        " CBX2\t17:77755928-77755934\n",
        "CBX2\t17:77755934-77755934 CBX2\t17:77755928-77755934\n",
        "10100"
       ]
      },
      {
       "output_type": "stream",
       "stream": "stdout",
       "text": [
        "\n",
        "SEH1L\t18:12955467-12955467"
       ]
      },
      {
       "output_type": "stream",
       "stream": "stdout",
       "text": [
        " SEH1L\t18:12955461-12955467\n",
        "SEH1L\t18:12955467-12955467 SEH1L\t18:12955461-12955467\n",
        "SEH1L\t18:12971157-12971157 SEH1L\t18:12971151-12971157\n",
        "SEH1L\t18:12971224-12971224 SEH1L\t18:12971218-12971224\n",
        "SEH1L\t18:12984155-12984155 SEH1L\t18:12984149-12984155\n",
        "SEH1L\t18:12984180-12984180 SEH1L\t18:12984174-12984180\n",
        "SEH1L\t18:12971157-12971157"
       ]
      },
      {
       "output_type": "stream",
       "stream": "stdout",
       "text": [
        " SEH1L\t18:12971151-12971157\n",
        "10200\n",
        "SETBP1\t18:42281646-42281646"
       ]
      },
      {
       "output_type": "stream",
       "stream": "stdout",
       "text": [
        " SETBP1\t18:42281640-42281646\n",
        "SETBP1\t18:42456670-42456671"
       ]
      },
      {
       "output_type": "stream",
       "stream": "stdout",
       "text": [
        " SETBP1\t18:42456664-42456670\n",
        "LOXHD1\t18:44057735-44057735"
       ]
      },
      {
       "output_type": "stream",
       "stream": "stdout",
       "text": [
        " LOXHD1\t18:44057734-44057740\n",
        "LOXHD1\t18:44057735-44057735 LOXHD1\t18:44057734-44057740\n",
        "10300"
       ]
      },
      {
       "output_type": "stream",
       "stream": "stdout",
       "text": [
        "\n",
        "DSEL\t18:65179785-65179785"
       ]
      },
      {
       "output_type": "stream",
       "stream": "stdout",
       "text": [
        " DSEL\t18:65179779-65179785\n",
        "DSEL\t18:65179785-65179785 DSEL\t18:65179779-65179785\n",
        "NETO1\t18:70416292-70416292"
       ]
      },
      {
       "output_type": "stream",
       "stream": "stdout",
       "text": [
        " NETO1\t18:70416286-70416292\n",
        "NETO1\t18:70417314-70417314 NETO1\t18:70417308-70417314\n",
        "NETO1\t18:70417577-70417577 NETO1\t18:70417571-70417577\n",
        "NETO1\t18:70526127-70526127 NETO1\t18:70526121-70526127\n",
        "NETO1\t18:70526294-70526294 NETO1\t18:70526288-70526294\n",
        "NETO1\t18:70416292-70416292"
       ]
      },
      {
       "output_type": "stream",
       "stream": "stdout",
       "text": [
        " NETO1\t18:70416286-70416292\n",
        "NETO1\t18:70417314-70417314 NETO1\t18:70417308-70417314\n",
        "NETO1\t18:70417577-70417577 NETO1\t18:70417571-70417577\n",
        "NETO1\t18:70526127-70526127 NETO1\t18:70526121-70526127\n",
        "NETO1\t18:70526294-70526294 NETO1\t18:70526288-70526294\n",
        "CYB5A\t18:71930610-71930610"
       ]
      },
      {
       "output_type": "stream",
       "stream": "stdout",
       "text": [
        " CYB5A\t18:71930604-71930610\n",
        "CYB5A\t18:71930670-71930670 CYB5A\t18:71930664-71930670\n",
        "CYB5A\t18:71959066-71959066 CYB5A\t18:71959060-71959066\n",
        "CYB5A\t18:71959066-71959066 CYB5A\t18:71959060-71959066\n",
        "ZNF407\t18:72343220-72343220"
       ]
      },
      {
       "output_type": "stream",
       "stream": "stdout",
       "text": [
        " ZNF407\t18:72343214-72343220\n",
        "ZNF407\t18:72343892-72343892"
       ]
      },
      {
       "output_type": "stream",
       "stream": "stdout",
       "text": [
        " ZNF407\t18:72343886-72343892\n",
        "ZNF407\t18:72344114-72344114"
       ]
      },
      {
       "output_type": "stream",
       "stream": "stdout",
       "text": [
        " ZNF407\t18:72344108-72344114\n",
        "ZNF407\t18:72345206-72345206"
       ]
      },
      {
       "output_type": "stream",
       "stream": "stdout",
       "text": [
        " ZNF407\t18:72345200-72345206\n",
        "ZNF407\t18:72345907-72345907"
       ]
      },
      {
       "output_type": "stream",
       "stream": "stdout",
       "text": [
        " ZNF407\t18:72345901-72345907\n",
        "ZNF407\t18:72346030-72346030"
       ]
      },
      {
       "output_type": "stream",
       "stream": "stdout",
       "text": [
        " ZNF407\t18:72346024-72346030\n",
        "ZNF407\t18:72347051-72347051"
       ]
      },
      {
       "output_type": "stream",
       "stream": "stdout",
       "text": [
        " ZNF407\t18:72347045-72347051\n",
        "ZNF407\t18:72347245-72347245"
       ]
      },
      {
       "output_type": "stream",
       "stream": "stdout",
       "text": [
        " ZNF407\t18:72347239-72347245\n",
        "ZNF407\t18:72515937-72515937"
       ]
      },
      {
       "output_type": "stream",
       "stream": "stdout",
       "text": [
        " ZNF407\t18:72515931-72515937\n",
        "ZNF407\t18:72343892-72343892"
       ]
      },
      {
       "output_type": "stream",
       "stream": "stdout",
       "text": [
        " ZNF407\t18:72343886-72343892\n",
        "ZNF407\t18:72344114-72344114"
       ]
      },
      {
       "output_type": "stream",
       "stream": "stdout",
       "text": [
        " ZNF407\t18:72344108-72344114\n",
        "ZNF407\t18:72346030-72346030"
       ]
      },
      {
       "output_type": "stream",
       "stream": "stdout",
       "text": [
        " ZNF407\t18:72346024-72346030\n",
        "ZNF407\t18:72347051-72347051"
       ]
      },
      {
       "output_type": "stream",
       "stream": "stdout",
       "text": [
        " ZNF407\t18:72347045-72347051\n",
        "NFATC1\t18:77170736-77170736"
       ]
      },
      {
       "output_type": "stream",
       "stream": "stdout",
       "text": [
        " NFATC1\t18:77170730-77170736\n",
        "NFATC1\t18:77193689-77193689 NFATC1\t18:77193683-77193689\n",
        "NFATC1\t18:77193711-77193711"
       ]
      },
      {
       "output_type": "stream",
       "stream": "stdout",
       "text": [
        " NFATC1\t18:77193705-77193711\n",
        "NFATC1\t18:77208908-77208908 NFATC1\t18:77208902-77208908\n",
        "NFATC1\t18:77211060-77211060 NFATC1\t18:77211054-77211060\n",
        "NFATC1\t18:77227491-77227491 NFATC1\t18:77227485-77227491\n",
        "ODF3L2\t19:474621-474621"
       ]
      },
      {
       "output_type": "stream",
       "stream": "stdout",
       "text": [
        " ODF3L2\t19:474615-474621\n",
        "10400\n",
        "CIRBP\t19:1272448-1272448 CIRBP\t19:1272448-1272454\n",
        "CIRBP\t19:1272581-1272581 CIRBP\t19:1272580-1272586\n",
        "10500"
       ]
      },
      {
       "output_type": "stream",
       "stream": "stdout",
       "text": [
        "\n",
        "CLEC4M\t19:7830731-7830731 CLEC4M\t19:7830725-7830731\n",
        "CLEC4M\t19:7832457-7832457 CLEC4M\t19:7832451-7832457\n",
        "CLEC4M\t19:7833782-7833782 CLEC4M\t19:7833776-7833782\n",
        "CLEC4M\t19:7833813-7833813 CLEC4M\t19:7833807-7833813\n",
        "CLEC4M\t19:7832457-7832457 CLEC4M\t19:7832451-7832457\n",
        "10600"
       ]
      },
      {
       "output_type": "stream",
       "stream": "stdout",
       "text": [
        "\n",
        "LPPR2\t19:11467547-11467547"
       ]
      },
      {
       "output_type": "stream",
       "stream": "stdout",
       "text": [
        " LPPR2\t19:11467541-11467547\n",
        "LPPR2\t19:11468358-11468358 LPPR2\t19:11468352-11468358\n",
        "LPPR2\t19:11470279-11470279 LPPR2\t19:11470273-11470279\n",
        "LPPR2\t19:11473233-11473233 LPPR2\t19:11473227-11473233\n",
        "LPPR2\t19:11474496-11474496 LPPR2\t19:11474490-11474496\n",
        "LPPR2\t19:11475316-11475316 LPPR2\t19:11475310-11475316\n",
        "LPPR2\t19:11468358-11468358 LPPR2\t19:11468352-11468358\n",
        "LPPR2\t19:11470279-11470279 LPPR2\t19:11470273-11470279\n",
        "LPPR2\t19:11473233-11473233 LPPR2\t19:11473227-11473233\n",
        "LPPR2\t19:11474496-11474496 LPPR2\t19:11474490-11474496\n",
        "10700"
       ]
      },
      {
       "output_type": "stream",
       "stream": "stdout",
       "text": [
        "\n",
        "GCDH\t19:13002672-13002672 GCDH\t19:13002666-13002672\n",
        "GCDH\t19:13002750-13002750 GCDH\t19:13002744-13002750\n",
        "GCDH\t19:13010643-13010643 GCDH\t19:13010637-13010643\n",
        "GCDH\t19:13010643-13010643 GCDH\t19:13010637-13010643\n",
        "GCDH\t19:13002750-13002750 GCDH\t19:13002744-13002750\n",
        "MYO9B\t19:17212831-17212831"
       ]
      },
      {
       "output_type": "stream",
       "stream": "stdout",
       "text": [
        " MYO9B\t19:17212825-17212831\n",
        "MYO9B\t19:17212891-17212891 MYO9B\t19:17212885-17212891\n",
        "MYO9B\t19:17212961-17212961"
       ]
      },
      {
       "output_type": "stream",
       "stream": "stdout",
       "text": [
        " MYO9B\t19:17212955-17212961\n",
        "MYO9B\t19:17305621-17305621 MYO9B\t19:17305615-17305621\n",
        "MYO9B\t19:17305942-17305942 MYO9B\t19:17305936-17305942\n",
        "MYO9B\t19:17309065-17309065 MYO9B\t19:17309059-17309065\n",
        "MYO9B\t19:17311482-17311482 MYO9B\t19:17311476-17311482\n",
        "MYO9B\t19:17313011-17313011 MYO9B\t19:17313005-17313011\n",
        "MYO9B\t19:17313052-17313052 MYO9B\t19:17313046-17313052\n",
        "MYO9B\t19:17313112-17313112 MYO9B\t19:17313106-17313112\n",
        "MYO9B\t19:17314024-17314024 MYO9B\t19:17314018-17314024\n",
        "MYO9B\t19:17320474-17320474"
       ]
      },
      {
       "output_type": "stream",
       "stream": "stdout",
       "text": [
        " MYO9B\t19:17320468-17320474\n",
        "MYO9B\t19:17212770-17212770 MYO9B\t19:17212764-17212770\n",
        "MYO9B\t19:17212831-17212831"
       ]
      },
      {
       "output_type": "stream",
       "stream": "stdout",
       "text": [
        " MYO9B\t19:17212825-17212831\n",
        "MYO9B\t19:17212961-17212961 MYO9B\t19:17212955-17212961\n",
        "MYO9B\t19:17313052-17313052 MYO9B\t19:17313046-17313052\n",
        "MYO9B\t19:17313112-17313112 MYO9B\t19:17313106-17313112\n",
        "MYO9B\t19:17314024-17314024 MYO9B\t19:17314018-17314024\n",
        "MYO9B\t19:17317135-17317135"
       ]
      },
      {
       "output_type": "stream",
       "stream": "stdout",
       "text": [
        " MYO9B\t19:17317129-17317135\n",
        "MYO9B\t19:17320474-17320474 MYO9B\t19:17320468-17320474\n",
        "FAM129C\t19:17641688-17641688"
       ]
      },
      {
       "output_type": "stream",
       "stream": "stdout",
       "text": [
        " FAM129C\t19:17641682-17641688\n",
        "FAM129C\t19:17643087-17643087 FAM129C\t19:17643081-17643087\n",
        "FAM129C\t19:17653023-17653023 FAM129C\t19:17653017-17653023\n",
        "FAM129C\t19:17654376-17654376 FAM129C\t19:17654370-17654376\n",
        "FAM129C\t19:17657552-17657552 FAM129C\t19:17657546-17657552\n",
        "FAM129C\t19:17660294-17660294"
       ]
      },
      {
       "output_type": "stream",
       "stream": "stdout",
       "text": [
        " FAM129C\t19:17660288-17660294\n",
        "FAM129C\t19:17662653-17662653 FAM129C\t19:17662647-17662653\n",
        "FAM129C\t19:17653023-17653023 FAM129C\t19:17653017-17653023\n",
        "FAM129C\t19:17654376-17654376"
       ]
      },
      {
       "output_type": "stream",
       "stream": "stdout",
       "text": [
        " FAM129C\t19:17654370-17654376\n",
        "FAM129C\t19:17660294-17660294 FAM129C\t19:17660288-17660294\n",
        "10800\n",
        "SUGP2\t19:19105872-19105872"
       ]
      },
      {
       "output_type": "stream",
       "stream": "stdout",
       "text": [
        " SUGP2\t19:19105866-19105872\n",
        "SUGP2\t19:19112432-19112432 SUGP2\t19:19112426-19112432\n",
        "SUGP2\t19:19115425-19115425 SUGP2\t19:19115419-19115425\n",
        "SUGP2\t19:19136590-19136590 SUGP2\t19:19136584-19136590\n",
        "SUGP2\t19:19136939-19136939 SUGP2\t19:19136933-19136939\n",
        "ZNF493\t19:21587966-21587966"
       ]
      },
      {
       "output_type": "stream",
       "stream": "stdout",
       "text": [
        " ZNF493\t19:21587960-21587966\n",
        "10900\n",
        "11000"
       ]
      },
      {
       "output_type": "stream",
       "stream": "stdout",
       "text": [
        "\n",
        "11100"
       ]
      },
      {
       "output_type": "stream",
       "stream": "stdout",
       "text": [
        "\n",
        "CEACAM1\t19:43023125-43023125"
       ]
      },
      {
       "output_type": "stream",
       "stream": "stdout",
       "text": [
        " CEACAM1\t19:43023119-43023125\n",
        "CEACAM1\t19:43023314-43023314 CEACAM1\t19:43023308-43023314\n",
        "CEACAM1\t19:43026091-43026091 CEACAM1\t19:43026085-43026091\n",
        "CEACAM1\t19:43031415-43031415 CEACAM1\t19:43031409-43031415\n",
        "PSG6\t19:43406569-43406569"
       ]
      },
      {
       "output_type": "stream",
       "stream": "stdout",
       "text": [
        " PSG6\t19:43406563-43406569\n",
        "PSG6\t19:43407829-43407829 PSG6\t19:43407823-43407829\n",
        "PSG6\t19:43411997-43411997 PSG6\t19:43411991-43411997\n",
        "PSG6\t19:43414651-43414651 PSG6\t19:43414645-43414651\n",
        "PSG6\t19:43414746-43414746 PSG6\t19:43414740-43414746\n",
        "PSG6\t19:43414865-43414865 PSG6\t19:43414859-43414865\n",
        "PSG6\t19:43420346-43420346 PSG6\t19:43420340-43420346\n",
        "PSG6\t19:43420539-43420539 PSG6\t19:43420533-43420539\n",
        "PSG6\t19:43411997-43411997 PSG6\t19:43411991-43411997\n",
        "PSG6\t19:43414651-43414651"
       ]
      },
      {
       "output_type": "stream",
       "stream": "stdout",
       "text": [
        " PSG6\t19:43414645-43414651\n",
        "PSG6\t19:43414783-43414783 PSG6\t19:43414777-43414783\n",
        "PSG6\t19:43420539-43420539 PSG6\t19:43420533-43420539\n",
        "11200"
       ]
      },
      {
       "output_type": "stream",
       "stream": "stdout",
       "text": [
        "\n",
        "PNMAL1\t19:46973059-46973059 PNMAL1\t19:46973059-46973065\n",
        "PNMAL1\t19:46973059-46973059 PNMAL1\t19:46973059-46973065\n",
        "PNMAL2\t19:46997335-46997335 PNMAL2\t19:46997330-46997336\n",
        "PNMAL2\t19:46997557-46997571 PNMAL2\t19:46997563-46997569\n",
        "11300"
       ]
      },
      {
       "output_type": "stream",
       "stream": "stdout",
       "text": [
        "\n",
        "SIGLEC11\t19:50463606-50463606 SIGLEC11\t19:50463605-50463611\n",
        "SIGLEC11\t19:50463606-50463606 SIGLEC11\t19:50463605-50463611\n",
        "CD33\t19:51728396-51728396"
       ]
      },
      {
       "output_type": "stream",
       "stream": "stdout",
       "text": [
        " CD33\t19:51728390-51728396\n",
        "CD33\t19:51728821-51728821 CD33\t19:51728815-51728821\n",
        "CD33\t19:51729330-51729330 CD33\t19:51729324-51729330\n",
        "CD33\t19:51738413-51738413 CD33\t19:51738407-51738413\n",
        "CD33\t19:51742871-51742871 CD33\t19:51742865-51742871\n",
        "CD33\t19:51728821-51728821 CD33\t19:51728815-51728821\n",
        "CD33\t19:51729330-51729330 CD33\t19:51729324-51729330\n",
        "CD33\t19:51738413-51738413 CD33\t19:51738407-51738413\n",
        "SIGLEC10\t19:51920051-51920051 SIGLEC10\t19:51920048-51920054\n",
        "SIGLEC14\t19:52149665-52149665 SIGLEC14\t19:52149660-52149666\n",
        "11400\n",
        "LENG1\t19:54663414-54663414"
       ]
      },
      {
       "output_type": "stream",
       "stream": "stdout",
       "text": [
        " LENG1\t19:54663408-54663414\n",
        "MBOAT7\t19:54677852-54677852"
       ]
      },
      {
       "output_type": "stream",
       "stream": "stdout",
       "text": [
        " MBOAT7\t19:54677846-54677852\n",
        "MBOAT7\t19:54677870-54677870 MBOAT7\t19:54677864-54677870\n",
        "MBOAT7\t19:54677970-54677970 MBOAT7\t19:54677964-54677970\n",
        "MBOAT7\t19:54678002-54678002 MBOAT7\t19:54677996-54678002\n",
        "MBOAT7\t19:54691160-54691160 MBOAT7\t19:54691154-54691160\n",
        "MBOAT7\t19:54692350-54692350 MBOAT7\t19:54692344-54692350\n",
        "MBOAT7\t19:54677852-54677852 MBOAT7\t19:54677846-54677852\n",
        "MBOAT7\t19:54691160-54691160 MBOAT7\t19:54691154-54691160\n",
        "LILRA5\t19:54818710-54818710 LILRA5\t19:54818704-54818710\n",
        "LILRA5\t19:54822884-54822884 LILRA5\t19:54822878-54822884\n",
        "LILRA5\t19:54823200-54823200 LILRA5\t19:54823194-54823200\n",
        "LILRA5\t19:54823368-54823368 LILRA5\t19:54823362-54823368\n",
        "LILRA5\t19:54818710-54818710 LILRA5\t19:54818704-54818710\n",
        "LILRA5\t19:54822884-54822884 LILRA5\t19:54822878-54822884\n",
        "LILRA5\t19:54823313-54823313 LILRA5\t19:54823307-54823313\n",
        "11500"
       ]
      },
      {
       "output_type": "stream",
       "stream": "stdout",
       "text": [
        "\n",
        "ZNF772\t19:57985312-57985312 ZNF772\t19:57985308-57985314\n",
        "ZNF135\t19:58571336-58571336 ZNF135\t19:58571330-58571336\n",
        "ZNF135\t19:58573061-58573062 ZNF135\t19:58573055-58573061\n",
        "11600"
       ]
      },
      {
       "output_type": "stream",
       "stream": "stdout",
       "text": [
        "\n",
        "ATRN\t20:3527932-3527932"
       ]
      },
      {
       "output_type": "stream",
       "stream": "stdout",
       "text": [
        " ATRN\t20:3527926-3527932\n",
        "ATRN\t20:3540081-3540081"
       ]
      },
      {
       "output_type": "stream",
       "stream": "stdout",
       "text": [
        " ATRN\t20:3540075-3540081\n",
        "ATRN\t20:3541448-3541448 ATRN\t20:3541442-3541448\n",
        "ATRN\t20:3543051-3543051"
       ]
      },
      {
       "output_type": "stream",
       "stream": "stdout",
       "text": [
        " ATRN\t20:3543045-3543051\n",
        "ATRN\t20:3553410-3553410"
       ]
      },
      {
       "output_type": "stream",
       "stream": "stdout",
       "text": [
        " ATRN\t20:3553404-3553410\n",
        "ATRN\t20:3559378-3559378"
       ]
      },
      {
       "output_type": "stream",
       "stream": "stdout",
       "text": [
        " ATRN\t20:3559372-3559378\n",
        "ATRN\t20:3564721-3564721"
       ]
      },
      {
       "output_type": "stream",
       "stream": "stdout",
       "text": [
        " ATRN\t20:3564715-3564721\n",
        "ATRN\t20:3527932-3527932"
       ]
      },
      {
       "output_type": "stream",
       "stream": "stdout",
       "text": [
        " ATRN\t20:3527926-3527932\n",
        "ATRN\t20:3540081-3540081 ATRN\t20:3540075-3540081\n",
        "ATRN\t20:3541448-3541448"
       ]
      },
      {
       "output_type": "stream",
       "stream": "stdout",
       "text": [
        " ATRN\t20:3541442-3541448\n",
        "ATRN\t20:3553410-3553410"
       ]
      },
      {
       "output_type": "stream",
       "stream": "stdout",
       "text": [
        " ATRN\t20:3553404-3553410\n",
        "ATRN\t20:3559378-3559378"
       ]
      },
      {
       "output_type": "stream",
       "stream": "stdout",
       "text": [
        " ATRN\t20:3559372-3559378\n",
        "PLCB4\t20:9460030-9460030"
       ]
      },
      {
       "output_type": "stream",
       "stream": "stdout",
       "text": [
        " PLCB4\t20:9460024-9460030\n",
        "PLCB4\t20:9460235-9460235 PLCB4\t20:9460231-9460237\n",
        "11700"
       ]
      },
      {
       "output_type": "stream",
       "stream": "stdout",
       "text": [
        "\n",
        "NFIA\t1:61547540-61547541"
       ]
      },
      {
       "output_type": "stream",
       "stream": "stdout",
       "text": [
        " NFIA\t1:61547534-61547540\n",
        "NFIA\t1:61554154-61554154"
       ]
      },
      {
       "output_type": "stream",
       "stream": "stdout",
       "text": [
        " NFIA\t1:61554148-61554154\n",
        "NFIA\t1:61818161-61818161"
       ]
      },
      {
       "output_type": "stream",
       "stream": "stdout",
       "text": [
        " NFIA\t1:61818155-61818161\n",
        "NFIA\t1:61848997-61848997"
       ]
      },
      {
       "output_type": "stream",
       "stream": "stdout",
       "text": [
        " NFIA\t1:61848991-61848997\n",
        "NFIA\t1:61869882-61869882 NFIA\t1:61869876-61869882\n",
        "NFIA\t1:61921583-61921583 NFIA\t1:61921577-61921583\n",
        "NFIA\t1:61848997-61848997"
       ]
      },
      {
       "output_type": "stream",
       "stream": "stdout",
       "text": [
        " NFIA\t1:61848991-61848997\n",
        "NFIA\t1:61869882-61869882 NFIA\t1:61869876-61869882\n",
        "ROR1\t1:64515374-64515374"
       ]
      },
      {
       "output_type": "stream",
       "stream": "stdout",
       "text": [
        " ROR1\t1:64515368-64515374\n",
        "ROR1\t1:64515405-64515405"
       ]
      },
      {
       "output_type": "stream",
       "stream": "stdout",
       "text": [
        " ROR1\t1:64515399-64515405\n",
        "ROR1\t1:64516389-64516389"
       ]
      },
      {
       "output_type": "stream",
       "stream": "stdout",
       "text": [
        " ROR1\t1:64516383-64516389\n",
        "ROR1\t1:64605929-64605929"
       ]
      },
      {
       "output_type": "stream",
       "stream": "stdout",
       "text": [
        " ROR1\t1:64605923-64605929\n",
        "ROR1\t1:64515374-64515374"
       ]
      },
      {
       "output_type": "stream",
       "stream": "stdout",
       "text": [
        " ROR1\t1:64515368-64515374\n",
        "ROR1\t1:64515405-64515405"
       ]
      },
      {
       "output_type": "stream",
       "stream": "stdout",
       "text": [
        " ROR1\t1:64515399-64515405\n",
        "ROR1\t1:64605929-64605929"
       ]
      },
      {
       "output_type": "stream",
       "stream": "stdout",
       "text": [
        " ROR1\t1:64605923-64605929\n",
        "LEPR\t1:66036405-66036405"
       ]
      },
      {
       "output_type": "stream",
       "stream": "stdout",
       "text": [
        " LEPR\t1:66036399-66036405\n",
        "LEPR\t1:66036458-66036458"
       ]
      },
      {
       "output_type": "stream",
       "stream": "stdout",
       "text": [
        " LEPR\t1:66036452-66036458\n",
        "LEPR\t1:66058356-66058356"
       ]
      },
      {
       "output_type": "stream",
       "stream": "stdout",
       "text": [
        " LEPR\t1:66058350-66058356\n",
        "LEPR\t1:66062146-66062146 LEPR\t1:66062140-66062146\n",
        "LEPR\t1:66064359-66064359 LEPR\t1:66064353-66064359\n",
        "LEPR\t1:66081710-66081710 LEPR\t1:66081704-66081710\n",
        "LEPR\t1:66083718-66083718 LEPR\t1:66083712-66083718\n",
        "LEPR\t1:66085699-66085699"
       ]
      },
      {
       "output_type": "stream",
       "stream": "stdout",
       "text": [
        " LEPR\t1:66085693-66085699\n",
        "LEPR\t1:66088677-66088678 LEPR\t1:66088671-66088677\n",
        "LEPR\t1:66036458-66036458"
       ]
      },
      {
       "output_type": "stream",
       "stream": "stdout",
       "text": [
        " LEPR\t1:66036452-66036458\n",
        "LEPR\t1:66064359-66064359 LEPR\t1:66064353-66064359\n",
        "LEPR\t1:66083718-66083718 LEPR\t1:66083712-66083718\n",
        "LEPR\t1:66085699-66085699 LEPR\t1:66085693-66085699\n",
        "LEPR\t1:66098839-66098839"
       ]
      },
      {
       "output_type": "stream",
       "stream": "stdout",
       "text": [
        " LEPR\t1:66098833-66098839\n",
        "INSL5\t1:67266829-67266829"
       ]
      },
      {
       "output_type": "stream",
       "stream": "stdout",
       "text": [
        " INSL5\t1:67266827-67266833\n",
        "INSL5\t1:67266829-67266829 INSL5\t1:67266827-67266833\n",
        "11800\n",
        "WDR78\t1:67292637-67292637"
       ]
      },
      {
       "output_type": "stream",
       "stream": "stdout",
       "text": [
        " WDR78\t1:67292631-67292637\n",
        "WDR78\t1:67293563-67293563 WDR78\t1:67293557-67293563\n",
        "WDR78\t1:67293563-67293563 WDR78\t1:67293557-67293563\n",
        "WDR78\t1:67299695-67299695"
       ]
      },
      {
       "output_type": "stream",
       "stream": "stdout",
       "text": [
        " WDR78\t1:67299689-67299695\n",
        "WDR78\t1:67306238-67306238 WDR78\t1:67306232-67306238\n",
        "WDR78\t1:67371056-67371056 WDR78\t1:67371050-67371056\n",
        "WDR78\t1:67299695-67299695 WDR78\t1:67299689-67299695\n",
        "WDR78\t1:67306238-67306238"
       ]
      },
      {
       "output_type": "stream",
       "stream": "stdout",
       "text": [
        " WDR78\t1:67306232-67306238\n",
        "WDR78\t1:67371056-67371056 WDR78\t1:67371050-67371056\n",
        "ZRANB2\t1:71529633-71529633"
       ]
      },
      {
       "output_type": "stream",
       "stream": "stdout",
       "text": [
        " ZRANB2\t1:71529627-71529633\n",
        "ZRANB2\t1:71532605-71532605 ZRANB2\t1:71532599-71532605\n",
        "ZRANB2\t1:71544146-71544146 ZRANB2\t1:71544140-71544146\n",
        "ZRANB2\t1:71532605-71532605 ZRANB2\t1:71532599-71532605\n",
        "ZRANB2\t1:71544146-71544146 ZRANB2\t1:71544140-71544146\n",
        "FUBP1\t1:78444657-78444657"
       ]
      },
      {
       "output_type": "stream",
       "stream": "stdout",
       "text": [
        " FUBP1\t1:78444652-78444658\n",
        "FUBP1\t1:78444657-78444657 FUBP1\t1:78444652-78444658\n",
        "PRKACB\t1:84662396-84662396"
       ]
      },
      {
       "output_type": "stream",
       "stream": "stdout",
       "text": [
        " PRKACB\t1:84662390-84662396\n",
        "PRKACB\t1:84679970-84679970 PRKACB\t1:84679964-84679970\n",
        "11900"
       ]
      },
      {
       "output_type": "stream",
       "stream": "stdout",
       "text": [
        "\n",
        "CDC14A\t1:100921011-100921011"
       ]
      },
      {
       "output_type": "stream",
       "stream": "stdout",
       "text": [
        " CDC14A\t1:100921005-100921011\n",
        "CDC14A\t1:100928262-100928262 CDC14A\t1:100928256-100928262\n",
        "CDC14A\t1:100960455-100960455 CDC14A\t1:100960449-100960455\n",
        "CDC14A\t1:100961587-100961587 CDC14A\t1:100961581-100961587\n",
        "CDC14A\t1:100964771-100964771"
       ]
      },
      {
       "output_type": "stream",
       "stream": "stdout",
       "text": [
        " CDC14A\t1:100964765-100964771\n",
        "CDC14A\t1:100921011-100921011"
       ]
      },
      {
       "output_type": "stream",
       "stream": "stdout",
       "text": [
        " CDC14A\t1:100921005-100921011\n",
        "CDC14A\t1:100960455-100960455 CDC14A\t1:100960449-100960455\n",
        "CDC14A\t1:100961587-100961587 CDC14A\t1:100961581-100961587\n",
        "CSF1\t1:110458304-110458304"
       ]
      },
      {
       "output_type": "stream",
       "stream": "stdout",
       "text": [
        " CSF1\t1:110458298-110458304\n",
        "CSF1\t1:110465849-110465849 CSF1\t1:110465843-110465849\n",
        "CSF1\t1:110466073-110466073 CSF1\t1:110466067-110466073\n",
        "CSF1\t1:110466401-110466401 CSF1\t1:110466395-110466401\n",
        "CSF1\t1:110466430-110466431 CSF1\t1:110466424-110466430\n",
        "CSF1\t1:110466502-110466502 CSF1\t1:110466496-110466502\n",
        "CSF1\t1:110466073-110466073 CSF1\t1:110466067-110466073\n",
        "CSF1\t1:110466401-110466401 CSF1\t1:110466395-110466401\n",
        "CSF1\t1:110466502-110466502 CSF1\t1:110466496-110466502\n",
        "12000"
       ]
      },
      {
       "output_type": "stream",
       "stream": "stdout",
       "text": [
        "\n",
        "PDE4DIP\t1:144855784-144855784"
       ]
      },
      {
       "output_type": "stream",
       "stream": "stdout",
       "text": [
        " PDE4DIP\t1:144855778-144855784\n",
        "PDE4DIP\t1:144873981-144873981 PDE4DIP\t1:144873975-144873981\n",
        "PDE4DIP\t1:144874746-144874746"
       ]
      },
      {
       "output_type": "stream",
       "stream": "stdout",
       "text": [
        " PDE4DIP\t1:144874740-144874746\n",
        "PDE4DIP\t1:144877067-144877067 PDE4DIP\t1:144877061-144877067\n",
        "PDE4DIP\t1:144879078-144879078"
       ]
      },
      {
       "output_type": "stream",
       "stream": "stdout",
       "text": [
        " PDE4DIP\t1:144879072-144879078\n",
        "PDE4DIP\t1:144879284-144879284 PDE4DIP\t1:144879278-144879284\n",
        "PDE4DIP\t1:144882723-144882723"
       ]
      },
      {
       "output_type": "stream",
       "stream": "stdout",
       "text": [
        " PDE4DIP\t1:144882717-144882723\n",
        "PDE4DIP\t1:144903091-144903091 PDE4DIP\t1:144903085-144903091\n",
        "PDE4DIP\t1:144904729-144904729"
       ]
      },
      {
       "output_type": "stream",
       "stream": "stdout",
       "text": [
        " PDE4DIP\t1:144904723-144904729\n",
        "PDE4DIP\t1:144904729-144904729 PDE4DIP\t1:144904723-144904729\n",
        "PDE4DIP\t1:144917926-144917926"
       ]
      },
      {
       "output_type": "stream",
       "stream": "stdout",
       "text": [
        " PDE4DIP\t1:144917920-144917926\n",
        "PDE4DIP\t1:144918872-144918872 PDE4DIP\t1:144918866-144918872\n",
        "PDE4DIP\t1:144921921-144921921"
       ]
      },
      {
       "output_type": "stream",
       "stream": "stdout",
       "text": [
        " PDE4DIP\t1:144921915-144921921\n",
        "PDE4DIP\t1:144922617-144922617"
       ]
      },
      {
       "output_type": "stream",
       "stream": "stdout",
       "text": [
        " PDE4DIP\t1:144922611-144922617\n",
        "PDE4DIP\t1:144922635-144922635"
       ]
      },
      {
       "output_type": "stream",
       "stream": "stdout",
       "text": [
        " PDE4DIP\t1:144922629-144922635\n",
        "PDE4DIP\t1:144923716-144923716"
       ]
      },
      {
       "output_type": "stream",
       "stream": "stdout",
       "text": [
        " PDE4DIP\t1:144923710-144923716\n",
        "PDE4DIP\t1:144923812-144923812"
       ]
      },
      {
       "output_type": "stream",
       "stream": "stdout",
       "text": [
        " PDE4DIP\t1:144923806-144923812\n",
        "PDE4DIP\t1:144930847-144930847"
       ]
      },
      {
       "output_type": "stream",
       "stream": "stdout",
       "text": [
        " PDE4DIP\t1:144930841-144930847\n",
        "PDE4DIP\t1:144931537-144931537"
       ]
      },
      {
       "output_type": "stream",
       "stream": "stdout",
       "text": [
        " PDE4DIP\t1:144931531-144931537\n",
        "PDE4DIP\t1:144952330-144952330"
       ]
      },
      {
       "output_type": "stream",
       "stream": "stdout",
       "text": [
        " PDE4DIP\t1:144952324-144952330\n",
        "PDE4DIP\t1:144955253-144955253"
       ]
      },
      {
       "output_type": "stream",
       "stream": "stdout",
       "text": [
        " PDE4DIP\t1:144955247-144955253\n",
        "PDE4DIP\t1:144863438-144863438"
       ]
      },
      {
       "output_type": "stream",
       "stream": "stdout",
       "text": [
        " PDE4DIP\t1:144863432-144863438\n",
        "PDE4DIP\t1:144877222-144877222 PDE4DIP\t1:144877216-144877222\n",
        "PDE4DIP\t1:144879284-144879284"
       ]
      },
      {
       "output_type": "stream",
       "stream": "stdout",
       "text": [
        " PDE4DIP\t1:144879278-144879284\n",
        "PDE4DIP\t1:144882723-144882723 PDE4DIP\t1:144882717-144882723\n",
        "PDE4DIP\t1:144904729-144904729"
       ]
      },
      {
       "output_type": "stream",
       "stream": "stdout",
       "text": [
        " PDE4DIP\t1:144904723-144904729\n",
        "PDE4DIP\t1:144921921-144921921 PDE4DIP\t1:144921915-144921921\n",
        "PDE4DIP\t1:144930847-144930847"
       ]
      },
      {
       "output_type": "stream",
       "stream": "stdout",
       "text": [
        " PDE4DIP\t1:144930841-144930847\n",
        "PDE4DIP\t1:144931537-144931537"
       ]
      },
      {
       "output_type": "stream",
       "stream": "stdout",
       "text": [
        " PDE4DIP\t1:144931531-144931537\n",
        "PDE4DIP\t1:144952346-144952346"
       ]
      },
      {
       "output_type": "stream",
       "stream": "stdout",
       "text": [
        " PDE4DIP\t1:144952340-144952346\n",
        "12100"
       ]
      },
      {
       "output_type": "stream",
       "stream": "stdout",
       "text": [
        "\n",
        "FMO5\t1:146656161-146656161"
       ]
      },
      {
       "output_type": "stream",
       "stream": "stdout",
       "text": [
        " FMO5\t1:146656155-146656161\n",
        "FMO5\t1:146680607-146680607 FMO5\t1:146680601-146680607\n",
        "FMO5\t1:146684013-146684013 FMO5\t1:146684007-146684013\n",
        "FMO5\t1:146696664-146696664 FMO5\t1:146696658-146696664\n",
        "FMO5\t1:146680607-146680607 FMO5\t1:146680601-146680607\n",
        "FMO5\t1:146684013-146684013 FMO5\t1:146684007-146684013\n",
        "ENSA\t1:150600017-150600017"
       ]
      },
      {
       "output_type": "stream",
       "stream": "stdout",
       "text": [
        " ENSA\t1:150600011-150600017\n",
        "ENSA\t1:150601942-150601942 ENSA\t1:150601936-150601942\n",
        "ENSA\t1:150600017-150600017 ENSA\t1:150600011-150600017\n",
        "ENSA\t1:150601942-150601942 ENSA\t1:150601936-150601942\n",
        "TDRKH\t1:151747553-151747553"
       ]
      },
      {
       "output_type": "stream",
       "stream": "stdout",
       "text": [
        " TDRKH\t1:151747547-151747553\n",
        "TDRKH\t1:151747553-151747553 TDRKH\t1:151747547-151747553\n",
        "TDRKH\t1:151747603-151747603 TDRKH\t1:151747597-151747603\n",
        "TDRKH\t1:151748589-151748589 TDRKH\t1:151748583-151748589\n",
        "TDRKH\t1:151751327-151751327 TDRKH\t1:151751321-151751327\n",
        "TDRKH\t1:151753992-151753992 TDRKH\t1:151753986-151753992\n",
        "TDRKH\t1:151747553-151747553 TDRKH\t1:151747547-151747553\n",
        "TDRKH\t1:151748589-151748589 TDRKH\t1:151748583-151748589\n",
        "TDRKH\t1:151751327-151751327 TDRKH\t1:151751321-151751327\n",
        "12200"
       ]
      },
      {
       "output_type": "stream",
       "stream": "stdout",
       "text": [
        "\n",
        "UBAP2L\t1:154215409-154215409"
       ]
      },
      {
       "output_type": "stream",
       "stream": "stdout",
       "text": [
        " UBAP2L\t1:154215403-154215409\n",
        "UBAP2L\t1:154223668-154223668 UBAP2L\t1:154223662-154223668\n",
        "UBAP2L\t1:154226531-154226531 UBAP2L\t1:154226525-154226531\n",
        "UBAP2L\t1:154227320-154227320"
       ]
      },
      {
       "output_type": "stream",
       "stream": "stdout",
       "text": [
        " UBAP2L\t1:154227314-154227320\n",
        "UBAP2L\t1:154227755-154227755 UBAP2L\t1:154227749-154227755\n",
        "UBAP2L\t1:154227786-154227786 UBAP2L\t1:154227780-154227786\n",
        "UBAP2L\t1:154229568-154229568"
       ]
      },
      {
       "output_type": "stream",
       "stream": "stdout",
       "text": [
        " UBAP2L\t1:154229562-154229568\n",
        "UBAP2L\t1:154229865-154229865 UBAP2L\t1:154229859-154229865\n",
        "UBAP2L\t1:154231333-154231333"
       ]
      },
      {
       "output_type": "stream",
       "stream": "stdout",
       "text": [
        " UBAP2L\t1:154231327-154231333\n",
        "UBAP2L\t1:154232354-154232354 UBAP2L\t1:154232348-154232354\n",
        "UBAP2L\t1:154227320-154227320"
       ]
      },
      {
       "output_type": "stream",
       "stream": "stdout",
       "text": [
        " UBAP2L\t1:154227314-154227320\n",
        "UBAP2L\t1:154233514-154233514 UBAP2L\t1:154233508-154233514\n",
        "ATP8B2\t1:154300293-154300293"
       ]
      },
      {
       "output_type": "stream",
       "stream": "stdout",
       "text": [
        " ATP8B2\t1:154300287-154300293\n",
        "ATP8B2\t1:154300293-154300293 ATP8B2\t1:154300287-154300293\n",
        "ATP8B2\t1:154302873-154302873 ATP8B2\t1:154302867-154302873\n",
        "ATP8B2\t1:154303324-154303324 ATP8B2\t1:154303318-154303324\n",
        "ATP8B2\t1:154303923-154303923 ATP8B2\t1:154303917-154303923\n",
        "ATP8B2\t1:154303935-154303935 ATP8B2\t1:154303929-154303935\n",
        "ATP8B2\t1:154306644-154306644 ATP8B2\t1:154306638-154306644\n",
        "ATP8B2\t1:154309891-154309891 ATP8B2\t1:154309885-154309891\n",
        "ATP8B2\t1:154309891-154309891 ATP8B2\t1:154309885-154309891\n",
        "ATP8B2\t1:154300293-154300293"
       ]
      },
      {
       "output_type": "stream",
       "stream": "stdout",
       "text": [
        " ATP8B2\t1:154300287-154300293\n",
        "ATP8B2\t1:154302873-154302873 ATP8B2\t1:154302867-154302873\n",
        "ATP8B2\t1:154303324-154303324 ATP8B2\t1:154303318-154303324\n",
        "ATP8B2\t1:154303923-154303923 ATP8B2\t1:154303917-154303923\n",
        "ATP8B2\t1:154303935-154303935 ATP8B2\t1:154303929-154303935\n",
        "IL6R\t1:154401671-154401671"
       ]
      },
      {
       "output_type": "stream",
       "stream": "stdout",
       "text": [
        " IL6R\t1:154401665-154401671\n",
        "IL6R\t1:154401730-154401730 IL6R\t1:154401724-154401730\n",
        "IL6R\t1:154401795-154401795 IL6R\t1:154401789-154401795\n",
        "IL6R\t1:154407479-154407479 IL6R\t1:154407473-154407479\n",
        "PYGB\t20:25277244-25277244"
       ]
      },
      {
       "output_type": "stream",
       "stream": "stdout",
       "text": [
        " PYGB\t20:25277239-25277245\n",
        "12300"
       ]
      },
      {
       "output_type": "stream",
       "stream": "stdout",
       "text": [
        "\n",
        "MYLK2\t20:30422261-30422261"
       ]
      },
      {
       "output_type": "stream",
       "stream": "stdout",
       "text": [
        " MYLK2\t20:30422256-30422262\n",
        "MYLK2\t20:30422261-30422261 MYLK2\t20:30422256-30422262\n",
        "POFUT1\t20:30795824-30795824 POFUT1\t20:30795818-30795824\n",
        "POFUT1\t20:30803131-30803131 POFUT1\t20:30803125-30803131\n",
        "RBL1\t20:35627233-35627233"
       ]
      },
      {
       "output_type": "stream",
       "stream": "stdout",
       "text": [
        " RBL1\t20:35627227-35627233\n",
        "RBL1\t20:35651110-35651110 RBL1\t20:35651104-35651110\n",
        "RBL1\t20:35661256-35661256"
       ]
      },
      {
       "output_type": "stream",
       "stream": "stdout",
       "text": [
        " RBL1\t20:35661250-35661256\n",
        "RBL1\t20:35675538-35675538 RBL1\t20:35675532-35675538\n",
        "RBL1\t20:35684594-35684594 RBL1\t20:35684588-35684594\n",
        "RBL1\t20:35689643-35689643"
       ]
      },
      {
       "output_type": "stream",
       "stream": "stdout",
       "text": [
        " RBL1\t20:35689637-35689643\n",
        "RBL1\t20:35693877-35693877 RBL1\t20:35693871-35693877\n",
        "RBL1\t20:35695166-35695166"
       ]
      },
      {
       "output_type": "stream",
       "stream": "stdout",
       "text": [
        " RBL1\t20:35695160-35695166\n",
        "RBL1\t20:35696493-35696493 RBL1\t20:35696487-35696493\n",
        "RBL1\t20:35627233-35627233"
       ]
      },
      {
       "output_type": "stream",
       "stream": "stdout",
       "text": [
        " RBL1\t20:35627227-35627233\n",
        "RBL1\t20:35651110-35651110 RBL1\t20:35651104-35651110\n",
        "RBL1\t20:35661256-35661256"
       ]
      },
      {
       "output_type": "stream",
       "stream": "stdout",
       "text": [
        " RBL1\t20:35661250-35661256\n",
        "RBL1\t20:35675538-35675538 RBL1\t20:35675532-35675538\n",
        "RBL1\t20:35689643-35689643 RBL1\t20:35689637-35689643\n",
        "RBL1\t20:35696493-35696493"
       ]
      },
      {
       "output_type": "stream",
       "stream": "stdout",
       "text": [
        " RBL1\t20:35696487-35696493\n",
        "12400"
       ]
      },
      {
       "output_type": "stream",
       "stream": "stdout",
       "text": [
        "\n",
        "SNX21\t20:44463689-44463689"
       ]
      },
      {
       "output_type": "stream",
       "stream": "stdout",
       "text": [
        " SNX21\t20:44463683-44463689\n",
        "SNX21\t20:44469004-44469004 SNX21\t20:44468998-44469004\n",
        "SNX21\t20:44470669-44470669 SNX21\t20:44470663-44470669\n",
        "SNX21\t20:44463689-44463689 SNX21\t20:44463683-44463689\n",
        "12500\n",
        "VAPB\t20:57016007-57016007"
       ]
      },
      {
       "output_type": "stream",
       "stream": "stdout",
       "text": [
        " VAPB\t20:57016001-57016007\n",
        "VAPB\t20:57020778-57020778 VAPB\t20:57020772-57020778\n",
        "12600"
       ]
      },
      {
       "output_type": "stream",
       "stream": "stdout",
       "text": [
        "\n",
        "LTN1\t21:30365148-30365148"
       ]
      },
      {
       "output_type": "stream",
       "stream": "stdout",
       "text": [
        " LTN1\t21:30365143-30365149\n",
        "CLDN8\t21:31587872-31587872"
       ]
      },
      {
       "output_type": "stream",
       "stream": "stdout",
       "text": [
        " CLDN8\t21:31587866-31587872\n",
        "KRTAP19-6\t21:31914098-31914098 KRTAP19-6\t21:31914096-31914102\n",
        "KRTAP19-6\t21:31914098-31914098 KRTAP19-6\t21:31914096-31914102\n",
        "MRAP\t21:33671320-33671320"
       ]
      },
      {
       "output_type": "stream",
       "stream": "stdout",
       "text": [
        " MRAP\t21:33671314-33671320\n",
        "MRAP\t21:33679042-33679042 MRAP\t21:33679036-33679042\n",
        "MRAP\t21:33679048-33679048 MRAP\t21:33679042-33679048\n",
        "MRAP\t21:33686921-33686921 MRAP\t21:33686915-33686921\n",
        "MRAP\t21:33686921-33686921 MRAP\t21:33686915-33686921\n",
        "SYNJ1\t21:34003518-34003518"
       ]
      },
      {
       "output_type": "stream",
       "stream": "stdout",
       "text": [
        " SYNJ1\t21:34003512-34003518\n",
        "SYNJ1\t21:34012090-34012090 SYNJ1\t21:34012084-34012090\n",
        "SYNJ1\t21:34014274-34014274 SYNJ1\t21:34014268-34014274\n",
        "SYNJ1\t21:34018835-34018835"
       ]
      },
      {
       "output_type": "stream",
       "stream": "stdout",
       "text": [
        " SYNJ1\t21:34018829-34018835\n",
        "SYNJ1\t21:34072327-34072327"
       ]
      },
      {
       "output_type": "stream",
       "stream": "stdout",
       "text": [
        " SYNJ1\t21:34072321-34072327\n",
        "SYNJ1\t21:34099183-34099183 SYNJ1\t21:34099177-34099183\n",
        "SYNJ1\t21:34012090-34012090 SYNJ1\t21:34012084-34012090\n",
        "SYNJ1\t21:34014274-34014274"
       ]
      },
      {
       "output_type": "stream",
       "stream": "stdout",
       "text": [
        " SYNJ1\t21:34014268-34014274\n",
        "SYNJ1\t21:34099183-34099183 SYNJ1\t21:34099177-34099183\n",
        "ITSN1\t21:35122544-35122544"
       ]
      },
      {
       "output_type": "stream",
       "stream": "stdout",
       "text": [
        " ITSN1\t21:35122538-35122544\n",
        "ITSN1\t21:35138278-35138278 ITSN1\t21:35138272-35138278\n",
        "ITSN1\t21:35147278-35147278 ITSN1\t21:35147272-35147278\n",
        "ITSN1\t21:35154375-35154375 ITSN1\t21:35154369-35154375\n",
        "ITSN1\t21:35172111-35172111"
       ]
      },
      {
       "output_type": "stream",
       "stream": "stdout",
       "text": [
        " ITSN1\t21:35172105-35172111\n",
        "ITSN1\t21:35183328-35183328 ITSN1\t21:35183322-35183328\n",
        "ITSN1\t21:35183459-35183459"
       ]
      },
      {
       "output_type": "stream",
       "stream": "stdout",
       "text": [
        " ITSN1\t21:35183453-35183459\n",
        "ITSN1\t21:35183510-35183510 ITSN1\t21:35183504-35183510\n",
        "ITSN1\t21:35190573-35190573"
       ]
      },
      {
       "output_type": "stream",
       "stream": "stdout",
       "text": [
        " ITSN1\t21:35190567-35190573\n",
        "ITSN1\t21:35190581-35190581"
       ]
      },
      {
       "output_type": "stream",
       "stream": "stdout",
       "text": [
        " ITSN1\t21:35190575-35190581\n",
        "ITSN1\t21:35254747-35254747"
       ]
      },
      {
       "output_type": "stream",
       "stream": "stdout",
       "text": [
        " ITSN1\t21:35254741-35254747\n",
        "ITSN1\t21:35255938-35255938"
       ]
      },
      {
       "output_type": "stream",
       "stream": "stdout",
       "text": [
        " ITSN1\t21:35255932-35255938\n",
        "ITSN1\t21:35258721-35258721"
       ]
      },
      {
       "output_type": "stream",
       "stream": "stdout",
       "text": [
        " ITSN1\t21:35258715-35258721\n",
        "ITSN1\t21:35183459-35183459 ITSN1\t21:35183453-35183459\n",
        "ITSN1\t21:35247757-35247757"
       ]
      },
      {
       "output_type": "stream",
       "stream": "stdout",
       "text": [
        " ITSN1\t21:35247751-35247757\n",
        "ITSN1\t21:35255938-35255938"
       ]
      },
      {
       "output_type": "stream",
       "stream": "stdout",
       "text": [
        " ITSN1\t21:35255932-35255938\n",
        "ITSN1\t21:35258721-35258721"
       ]
      },
      {
       "output_type": "stream",
       "stream": "stdout",
       "text": [
        " ITSN1\t21:35258715-35258721\n",
        "RUNX1\t21:36164851-36164852"
       ]
      },
      {
       "output_type": "stream",
       "stream": "stdout",
       "text": [
        " RUNX1\t21:36164845-36164851\n",
        "RUNX1\t21:36164864-36164864"
       ]
      },
      {
       "output_type": "stream",
       "stream": "stdout",
       "text": [
        " RUNX1\t21:36164858-36164864\n",
        "RUNX1\t21:36171616-36171616"
       ]
      },
      {
       "output_type": "stream",
       "stream": "stdout",
       "text": [
        " RUNX1\t21:36171610-36171616\n",
        "RUNX1\t21:36171619-36171619"
       ]
      },
      {
       "output_type": "stream",
       "stream": "stdout",
       "text": [
        " RUNX1\t21:36171613-36171619\n",
        "RUNX1\t21:36171623-36171624"
       ]
      },
      {
       "output_type": "stream",
       "stream": "stdout",
       "text": [
        " RUNX1\t21:36171617-36171623\n",
        "RUNX1\t21:36171704-36171705"
       ]
      },
      {
       "output_type": "stream",
       "stream": "stdout",
       "text": [
        " RUNX1\t21:36171698-36171704\n",
        "RUNX1\t21:36171704-36171705"
       ]
      },
      {
       "output_type": "stream",
       "stream": "stdout",
       "text": [
        " RUNX1\t21:36171698-36171704\n",
        "RUNX1\t21:36206716-36206716 RUNX1\t21:36206710-36206716\n",
        "RUNX1\t21:36206753-36206753 RUNX1\t21:36206747-36206753\n",
        "RUNX1\t21:36206776-36206777"
       ]
      },
      {
       "output_type": "stream",
       "stream": "stdout",
       "text": [
        " RUNX1\t21:36206770-36206776\n",
        "RUNX1\t21:36206781-36206781 RUNX1\t21:36206775-36206781\n",
        "RUNX1\t21:36206874-36206874 RUNX1\t21:36206868-36206874\n",
        "RUNX1\t21:36231791-36231791"
       ]
      },
      {
       "output_type": "stream",
       "stream": "stdout",
       "text": [
        " RUNX1\t21:36231785-36231791\n",
        "RUNX1\t21:36231819-36231819 RUNX1\t21:36231813-36231819\n",
        "RUNX1\t21:36252853-36252853"
       ]
      },
      {
       "output_type": "stream",
       "stream": "stdout",
       "text": [
        " RUNX1\t21:36252847-36252853\n",
        "RUNX1\t21:36252856-36252857 RUNX1\t21:36252850-36252856\n",
        "RUNX1\t21:36252856-36252857"
       ]
      },
      {
       "output_type": "stream",
       "stream": "stdout",
       "text": [
        " RUNX1\t21:36252850-36252856\n",
        "RUNX1\t21:36252856-36252857"
       ]
      },
      {
       "output_type": "stream",
       "stream": "stdout",
       "text": [
        " RUNX1\t21:36252850-36252856\n",
        "RUNX1\t21:36252860-36252860"
       ]
      },
      {
       "output_type": "stream",
       "stream": "stdout",
       "text": [
        " RUNX1\t21:36252854-36252860\n",
        "RUNX1\t21:36252880-36252880"
       ]
      },
      {
       "output_type": "stream",
       "stream": "stdout",
       "text": [
        " RUNX1\t21:36252874-36252880\n",
        "RUNX1\t21:36252880-36252881"
       ]
      },
      {
       "output_type": "stream",
       "stream": "stdout",
       "text": [
        " RUNX1\t21:36252874-36252880\n",
        "RUNX1\t21:36252946-36252946"
       ]
      },
      {
       "output_type": "stream",
       "stream": "stdout",
       "text": [
        " RUNX1\t21:36252940-36252946\n",
        "RUNX1\t21:36252958-36252958"
       ]
      },
      {
       "output_type": "stream",
       "stream": "stdout",
       "text": [
        " RUNX1\t21:36252952-36252958\n",
        "RUNX1\t21:36252994-36252995"
       ]
      },
      {
       "output_type": "stream",
       "stream": "stdout",
       "text": [
        " RUNX1\t21:36252988-36252994\n",
        "RUNX1\t21:36252994-36252995"
       ]
      },
      {
       "output_type": "stream",
       "stream": "stdout",
       "text": [
        " RUNX1\t21:36252988-36252994\n",
        "RUNX1\t21:36252994-36252995"
       ]
      },
      {
       "output_type": "stream",
       "stream": "stdout",
       "text": [
        " RUNX1\t21:36252988-36252994\n",
        "RUNX1\t21:36252994-36252995"
       ]
      },
      {
       "output_type": "stream",
       "stream": "stdout",
       "text": [
        " RUNX1\t21:36252988-36252994\n",
        "RUNX1\t21:36252994-36252995"
       ]
      },
      {
       "output_type": "stream",
       "stream": "stdout",
       "text": [
        " RUNX1\t21:36252988-36252994\n",
        "RUNX1\t21:36252994-36252995"
       ]
      },
      {
       "output_type": "stream",
       "stream": "stdout",
       "text": [
        " RUNX1\t21:36252988-36252994\n",
        "RUNX1\t21:36252994-36252995"
       ]
      },
      {
       "output_type": "stream",
       "stream": "stdout",
       "text": [
        " RUNX1\t21:36252988-36252994\n",
        "RUNX1\t21:36252994-36252995"
       ]
      },
      {
       "output_type": "stream",
       "stream": "stdout",
       "text": [
        " RUNX1\t21:36252988-36252994\n",
        "RUNX1\t21:36252995-36252995"
       ]
      },
      {
       "output_type": "stream",
       "stream": "stdout",
       "text": [
        " RUNX1\t21:36252989-36252995\n",
        "RUNX1\t21:36252998-36252998"
       ]
      },
      {
       "output_type": "stream",
       "stream": "stdout",
       "text": [
        " RUNX1\t21:36252992-36252998\n",
        "RUNX1\t21:36259142-36259142"
       ]
      },
      {
       "output_type": "stream",
       "stream": "stdout",
       "text": [
        " RUNX1\t21:36259136-36259142\n",
        "RUNX1\t21:36259157-36259157 RUNX1\t21:36259151-36259157\n",
        "RUNX1\t21:36421175-36421175"
       ]
      },
      {
       "output_type": "stream",
       "stream": "stdout",
       "text": [
        " RUNX1\t21:36421169-36421175\n",
        "RUNX1\t21:36164864-36164864"
       ]
      },
      {
       "output_type": "stream",
       "stream": "stdout",
       "text": [
        " RUNX1\t21:36164858-36164864\n",
        "RUNX1\t21:36171595-36171596"
       ]
      },
      {
       "output_type": "stream",
       "stream": "stdout",
       "text": [
        " RUNX1\t21:36171589-36171595\n",
        "RUNX1\t21:36171616-36171616"
       ]
      },
      {
       "output_type": "stream",
       "stream": "stdout",
       "text": [
        " RUNX1\t21:36171610-36171616\n",
        "RUNX1\t21:36171623-36171624"
       ]
      },
      {
       "output_type": "stream",
       "stream": "stdout",
       "text": [
        " RUNX1\t21:36171617-36171623\n",
        "RUNX1\t21:36171674-36171680"
       ]
      },
      {
       "output_type": "stream",
       "stream": "stdout",
       "text": [
        " RUNX1\t21:36171668-36171674\n",
        "RUNX1\t21:36171700-36171715"
       ]
      },
      {
       "output_type": "stream",
       "stream": "stdout",
       "text": [
        " RUNX1\t21:36171694-36171700\n",
        "RUNX1\t21:36171704-36171705"
       ]
      },
      {
       "output_type": "stream",
       "stream": "stdout",
       "text": [
        " RUNX1\t21:36171698-36171704\n",
        "RUNX1\t21:36206716-36206716 RUNX1\t21:36206710-36206716\n",
        "RUNX1\t21:36206729-36206736 RUNX1\t21:36206723-36206729\n",
        "RUNX1\t21:36206753-36206753"
       ]
      },
      {
       "output_type": "stream",
       "stream": "stdout",
       "text": [
        " RUNX1\t21:36206747-36206753\n",
        "RUNX1\t21:36206776-36206777 RUNX1\t21:36206770-36206776\n",
        "RUNX1\t21:36206845-36206861 RUNX1\t21:36206839-36206845\n",
        "RUNX1\t21:36231751-36231751"
       ]
      },
      {
       "output_type": "stream",
       "stream": "stdout",
       "text": [
        " RUNX1\t21:36231745-36231751\n",
        "RUNX1\t21:36231791-36231791 RUNX1\t21:36231785-36231791\n",
        "RUNX1\t21:36231819-36231819"
       ]
      },
      {
       "output_type": "stream",
       "stream": "stdout",
       "text": [
        " RUNX1\t21:36231813-36231819\n",
        "RUNX1\t21:36252853-36252853"
       ]
      },
      {
       "output_type": "stream",
       "stream": "stdout",
       "text": [
        " RUNX1\t21:36252847-36252853\n",
        "RUNX1\t21:36252856-36252857 RUNX1\t21:36252850-36252856\n",
        "RUNX1\t21:36252856-36252857"
       ]
      },
      {
       "output_type": "stream",
       "stream": "stdout",
       "text": [
        " RUNX1\t21:36252850-36252856\n",
        "RUNX1\t21:36252860-36252860 RUNX1\t21:36252854-36252860\n",
        "RUNX1\t21:36252880-36252880"
       ]
      },
      {
       "output_type": "stream",
       "stream": "stdout",
       "text": [
        " RUNX1\t21:36252874-36252880\n",
        "RUNX1\t21:36252880-36252881"
       ]
      },
      {
       "output_type": "stream",
       "stream": "stdout",
       "text": [
        " RUNX1\t21:36252874-36252880\n",
        "RUNX1\t21:36252921-36252935"
       ]
      },
      {
       "output_type": "stream",
       "stream": "stdout",
       "text": [
        " RUNX1\t21:36252915-36252921\n",
        "RUNX1\t21:36252946-36252946 RUNX1\t21:36252940-36252946\n",
        "RUNX1\t21:36252958-36252958"
       ]
      },
      {
       "output_type": "stream",
       "stream": "stdout",
       "text": [
        " RUNX1\t21:36252952-36252958\n",
        "RUNX1\t21:36252990-36252990 RUNX1\t21:36252984-36252990\n",
        "RUNX1\t21:36252994-36252995"
       ]
      },
      {
       "output_type": "stream",
       "stream": "stdout",
       "text": [
        " RUNX1\t21:36252988-36252994\n",
        "RUNX1\t21:36252994-36252995"
       ]
      },
      {
       "output_type": "stream",
       "stream": "stdout",
       "text": [
        " RUNX1\t21:36252988-36252994\n",
        "RUNX1\t21:36259138-36259139 RUNX1\t21:36259132-36259138\n",
        "RUNX1\t21:36259157-36259157"
       ]
      },
      {
       "output_type": "stream",
       "stream": "stdout",
       "text": [
        " RUNX1\t21:36259151-36259157\n",
        "12700"
       ]
      },
      {
       "output_type": "stream",
       "stream": "stdout",
       "text": [
        "\n",
        "BRWD1\t21:40559077-40559078"
       ]
      },
      {
       "output_type": "stream",
       "stream": "stdout",
       "text": [
        " BRWD1\t21:40559071-40559077\n",
        "BRWD1\t21:40568403-40568403 BRWD1\t21:40568397-40568403\n",
        "BRWD1\t21:40569039-40569039"
       ]
      },
      {
       "output_type": "stream",
       "stream": "stdout",
       "text": [
        " BRWD1\t21:40569033-40569039\n",
        "BRWD1\t21:40569277-40569277 BRWD1\t21:40569271-40569277\n",
        "BRWD1\t21:40570751-40570751"
       ]
      },
      {
       "output_type": "stream",
       "stream": "stdout",
       "text": [
        " BRWD1\t21:40570745-40570751\n",
        "BRWD1\t21:40570851-40570851 BRWD1\t21:40570845-40570851\n",
        "BRWD1\t21:40570878-40570878"
       ]
      },
      {
       "output_type": "stream",
       "stream": "stdout",
       "text": [
        " BRWD1\t21:40570872-40570878\n",
        "BRWD1\t21:40570906-40570906 BRWD1\t21:40570900-40570906\n",
        "BRWD1\t21:40570950-40570950"
       ]
      },
      {
       "output_type": "stream",
       "stream": "stdout",
       "text": [
        " BRWD1\t21:40570944-40570950\n",
        "BRWD1\t21:40571052-40571052 BRWD1\t21:40571046-40571052\n",
        "BRWD1\t21:40571202-40571202"
       ]
      },
      {
       "output_type": "stream",
       "stream": "stdout",
       "text": [
        " BRWD1\t21:40571196-40571202\n",
        "BRWD1\t21:40571242-40571242 BRWD1\t21:40571236-40571242\n",
        "BRWD1\t21:40571393-40571393"
       ]
      },
      {
       "output_type": "stream",
       "stream": "stdout",
       "text": [
        " BRWD1\t21:40571387-40571393\n",
        "BRWD1\t21:40571393-40571393 BRWD1\t21:40571387-40571393\n",
        "BRWD1\t21:40571558-40571558"
       ]
      },
      {
       "output_type": "stream",
       "stream": "stdout",
       "text": [
        " BRWD1\t21:40571552-40571558\n",
        "BRWD1\t21:40587280-40587280 BRWD1\t21:40587274-40587280\n",
        "BRWD1\t21:40590186-40590186"
       ]
      },
      {
       "output_type": "stream",
       "stream": "stdout",
       "text": [
        " BRWD1\t21:40590180-40590186\n",
        "BRWD1\t21:40590533-40590533 BRWD1\t21:40590527-40590533\n",
        "BRWD1\t21:40597087-40597087"
       ]
      },
      {
       "output_type": "stream",
       "stream": "stdout",
       "text": [
        " BRWD1\t21:40597081-40597087\n",
        "BRWD1\t21:40600483-40600484 BRWD1\t21:40600477-40600483\n",
        "BRWD1\t21:40619685-40619685"
       ]
      },
      {
       "output_type": "stream",
       "stream": "stdout",
       "text": [
        " BRWD1\t21:40619679-40619685\n",
        "BRWD1\t21:40646341-40646341 BRWD1\t21:40646335-40646341\n",
        "BRWD1\t21:40665954-40665954 BRWD1\t21:40665948-40665954\n",
        "BRWD1\t21:40670464-40670464 BRWD1\t21:40670458-40670464\n",
        "BRWD1\t21:40568382-40568382"
       ]
      },
      {
       "output_type": "stream",
       "stream": "stdout",
       "text": [
        " BRWD1\t21:40568376-40568382\n",
        "BRWD1\t21:40568481-40568485 BRWD1\t21:40568475-40568481\n",
        "BRWD1\t21:40569039-40569039"
       ]
      },
      {
       "output_type": "stream",
       "stream": "stdout",
       "text": [
        " BRWD1\t21:40569033-40569039\n",
        "BRWD1\t21:40570751-40570751 BRWD1\t21:40570745-40570751\n",
        "BRWD1\t21:40570851-40570851"
       ]
      },
      {
       "output_type": "stream",
       "stream": "stdout",
       "text": [
        " BRWD1\t21:40570845-40570851\n",
        "BRWD1\t21:40570878-40570878 BRWD1\t21:40570872-40570878\n",
        "BRWD1\t21:40570950-40570950"
       ]
      },
      {
       "output_type": "stream",
       "stream": "stdout",
       "text": [
        " BRWD1\t21:40570944-40570950\n",
        "BRWD1\t21:40571202-40571202 BRWD1\t21:40571196-40571202\n",
        "BRWD1\t21:40571242-40571242"
       ]
      },
      {
       "output_type": "stream",
       "stream": "stdout",
       "text": [
        " BRWD1\t21:40571236-40571242\n",
        "BRWD1\t21:40571393-40571393 BRWD1\t21:40571387-40571393\n",
        "BRWD1\t21:40571558-40571558"
       ]
      },
      {
       "output_type": "stream",
       "stream": "stdout",
       "text": [
        " BRWD1\t21:40571552-40571558\n",
        "BRWD1\t21:40587280-40587280 BRWD1\t21:40587274-40587280\n",
        "BRWD1\t21:40600483-40600484"
       ]
      },
      {
       "output_type": "stream",
       "stream": "stdout",
       "text": [
        " BRWD1\t21:40600477-40600483\n",
        "BRWD1\t21:40665795-40665795 BRWD1\t21:40665789-40665795\n",
        "BRWD1\t21:40670464-40670464 BRWD1\t21:40670458-40670464\n",
        "PRDM15\t21:43221614-43221614"
       ]
      },
      {
       "output_type": "stream",
       "stream": "stdout",
       "text": [
        " PRDM15\t21:43221608-43221614\n",
        "PRDM15\t21:43222950-43222950 PRDM15\t21:43222944-43222950\n",
        "PRDM15\t21:43223022-43223023 PRDM15\t21:43223016-43223022\n",
        "PRDM15\t21:43248563-43248563"
       ]
      },
      {
       "output_type": "stream",
       "stream": "stdout",
       "text": [
        " PRDM15\t21:43248557-43248563\n",
        "PRDM15\t21:43274714-43274714 PRDM15\t21:43274708-43274714\n",
        "PRDM15\t21:43279763-43279763 PRDM15\t21:43279757-43279763\n",
        "PRDM15\t21:43280475-43280475 PRDM15\t21:43280469-43280475\n",
        "PRDM15\t21:43291676-43291676"
       ]
      },
      {
       "output_type": "stream",
       "stream": "stdout",
       "text": [
        " PRDM15\t21:43291670-43291676\n",
        "PRDM15\t21:43222950-43222950 PRDM15\t21:43222944-43222950\n",
        "PRDM15\t21:43256225-43256225 PRDM15\t21:43256219-43256225\n",
        "PRDM15\t21:43279763-43279763 PRDM15\t21:43279757-43279763\n",
        "PRDM15\t21:43291676-43291676"
       ]
      },
      {
       "output_type": "stream",
       "stream": "stdout",
       "text": [
        " PRDM15\t21:43291670-43291676\n",
        "KRTAP10-1\t21:45959988-45959988"
       ]
      },
      {
       "output_type": "stream",
       "stream": "stdout",
       "text": [
        " KRTAP10-1\t21:45959986-45959992\n",
        "KRTAP10-1\t21:45959988-45959988 KRTAP10-1\t21:45959986-45959992\n",
        "DIP2A\t21:47904738-47904738"
       ]
      },
      {
       "output_type": "stream",
       "stream": "stdout",
       "text": [
        " DIP2A\t21:47904732-47904738\n",
        "DIP2A\t21:47910571-47910571 DIP2A\t21:47910565-47910571\n",
        "DIP2A\t21:47918525-47918525"
       ]
      },
      {
       "output_type": "stream",
       "stream": "stdout",
       "text": [
        " DIP2A\t21:47918519-47918525\n",
        "DIP2A\t21:47931375-47931375 DIP2A\t21:47931369-47931375\n",
        "DIP2A\t21:47931393-47931393"
       ]
      },
      {
       "output_type": "stream",
       "stream": "stdout",
       "text": [
        " DIP2A\t21:47931387-47931393\n",
        "DIP2A\t21:47957380-47957380"
       ]
      },
      {
       "output_type": "stream",
       "stream": "stdout",
       "text": [
        " DIP2A\t21:47957374-47957380\n",
        "DIP2A\t21:47965866-47965866"
       ]
      },
      {
       "output_type": "stream",
       "stream": "stdout",
       "text": [
        " DIP2A\t21:47965860-47965866\n",
        "DIP2A\t21:47966833-47966833"
       ]
      },
      {
       "output_type": "stream",
       "stream": "stdout",
       "text": [
        " DIP2A\t21:47966827-47966833\n",
        "DIP2A\t21:47974118-47974118 DIP2A\t21:47974112-47974118\n",
        "DIP2A\t21:47974150-47974150 DIP2A\t21:47974144-47974150\n",
        "DIP2A\t21:47974547-47974547 DIP2A\t21:47974541-47974547\n",
        "DIP2A\t21:47978254-47978254 DIP2A\t21:47978248-47978254\n",
        "DIP2A\t21:47978305-47978306 DIP2A\t21:47978299-47978305\n",
        "DIP2A\t21:47983680-47983680 DIP2A\t21:47983674-47983680\n",
        "DIP2A\t21:47983837-47983837 DIP2A\t21:47983831-47983837\n",
        "DIP2A\t21:47986581-47986581 DIP2A\t21:47986575-47986581\n",
        "DIP2A\t21:47904738-47904738"
       ]
      },
      {
       "output_type": "stream",
       "stream": "stdout",
       "text": [
        " DIP2A\t21:47904732-47904738\n",
        "DIP2A\t21:47910571-47910571 DIP2A\t21:47910565-47910571\n",
        "DIP2A\t21:47918525-47918525"
       ]
      },
      {
       "output_type": "stream",
       "stream": "stdout",
       "text": [
        " DIP2A\t21:47918519-47918525\n",
        "DIP2A\t21:47931375-47931375 DIP2A\t21:47931369-47931375\n",
        "DIP2A\t21:47931393-47931393"
       ]
      },
      {
       "output_type": "stream",
       "stream": "stdout",
       "text": [
        " DIP2A\t21:47931387-47931393\n",
        "DIP2A\t21:47957380-47957380 DIP2A\t21:47957374-47957380\n",
        "DIP2A\t21:47965866-47965866"
       ]
      },
      {
       "output_type": "stream",
       "stream": "stdout",
       "text": [
        " DIP2A\t21:47965860-47965866\n",
        "DIP2A\t21:47974150-47974150 DIP2A\t21:47974144-47974150\n",
        "DIP2A\t21:47974547-47974547 DIP2A\t21:47974541-47974547\n",
        "DIP2A\t21:47978254-47978254 DIP2A\t21:47978248-47978254\n",
        "12800\n",
        "MICAL3\t22:18293576-18293576"
       ]
      },
      {
       "output_type": "stream",
       "stream": "stdout",
       "text": [
        " MICAL3\t22:18293570-18293576\n",
        "MICAL3\t22:18300541-18300541"
       ]
      },
      {
       "output_type": "stream",
       "stream": "stdout",
       "text": [
        " MICAL3\t22:18300535-18300541\n",
        "MICAL3\t22:18301084-18301084"
       ]
      },
      {
       "output_type": "stream",
       "stream": "stdout",
       "text": [
        " MICAL3\t22:18301078-18301084\n",
        "MICAL3\t22:18301523-18301523"
       ]
      },
      {
       "output_type": "stream",
       "stream": "stdout",
       "text": [
        " MICAL3\t22:18301517-18301523\n",
        "MICAL3\t22:18301616-18301616"
       ]
      },
      {
       "output_type": "stream",
       "stream": "stdout",
       "text": [
        " MICAL3\t22:18301610-18301616\n",
        "MICAL3\t22:18301756-18301756"
       ]
      },
      {
       "output_type": "stream",
       "stream": "stdout",
       "text": [
        " MICAL3\t22:18301750-18301756\n",
        "MICAL3\t22:18305741-18305742"
       ]
      },
      {
       "output_type": "stream",
       "stream": "stdout",
       "text": [
        " MICAL3\t22:18305735-18305741\n",
        "MICAL3\t22:18314698-18314698"
       ]
      },
      {
       "output_type": "stream",
       "stream": "stdout",
       "text": [
        " MICAL3\t22:18314692-18314698\n",
        "MICAL3\t22:18314698-18314698"
       ]
      },
      {
       "output_type": "stream",
       "stream": "stdout",
       "text": [
        " MICAL3\t22:18314692-18314698\n",
        "MICAL3\t22:18314825-18314827"
       ]
      },
      {
       "output_type": "stream",
       "stream": "stdout",
       "text": [
        " MICAL3\t22:18314819-18314825\n",
        "MICAL3\t22:18371885-18371885 MICAL3\t22:18371879-18371885\n",
        "MICAL3\t22:18383700-18383700 MICAL3\t22:18383694-18383700\n",
        "MICAL3\t22:18384696-18384696"
       ]
      },
      {
       "output_type": "stream",
       "stream": "stdout",
       "text": [
        " MICAL3\t22:18384690-18384696\n",
        "MICAL3\t22:18300541-18300541"
       ]
      },
      {
       "output_type": "stream",
       "stream": "stdout",
       "text": [
        " MICAL3\t22:18300535-18300541\n",
        "MICAL3\t22:18305741-18305742"
       ]
      },
      {
       "output_type": "stream",
       "stream": "stdout",
       "text": [
        " MICAL3\t22:18305735-18305741\n",
        "MICAL3\t22:18354628-18354628 MICAL3\t22:18354622-18354628\n",
        "MICAL3\t22:18384696-18384696 MICAL3\t22:18384690-18384696\n",
        "DGCR14\t22:19130257-19130257"
       ]
      },
      {
       "output_type": "stream",
       "stream": "stdout",
       "text": [
        " DGCR14\t22:19130252-19130258\n",
        "DGCR14\t22:19130257-19130257 DGCR14\t22:19130252-19130258\n",
        "BCR\t22:23658007-23658007"
       ]
      },
      {
       "output_type": "stream",
       "stream": "stdout",
       "text": [
        " BCR\t22:23658006-23658012\n",
        "BCR\t22:23658668-23658669 BCR\t22:23658667-23658673\n",
        "12900\n",
        "PITPNB\t22:28315170-28315170 PITPNB\t22:28315166-28315172\n",
        "DEPDC5\t22:32180825-32180825"
       ]
      },
      {
       "output_type": "stream",
       "stream": "stdout",
       "text": [
        " DEPDC5\t22:32180819-32180825\n",
        "DEPDC5\t22:32188070-32188070 DEPDC5\t22:32188064-32188070\n",
        "DEPDC5\t22:32188763-32188763"
       ]
      },
      {
       "output_type": "stream",
       "stream": "stdout",
       "text": [
        " DEPDC5\t22:32188757-32188763\n",
        "DEPDC5\t22:32198762-32198762"
       ]
      },
      {
       "output_type": "stream",
       "stream": "stdout",
       "text": [
        " DEPDC5\t22:32198756-32198762\n",
        "DEPDC5\t22:32211093-32211093"
       ]
      },
      {
       "output_type": "stream",
       "stream": "stdout",
       "text": [
        " DEPDC5\t22:32211087-32211093\n",
        "DEPDC5\t22:32211125-32211125"
       ]
      },
      {
       "output_type": "stream",
       "stream": "stdout",
       "text": [
        " DEPDC5\t22:32211119-32211125\n",
        "DEPDC5\t22:32239673-32239673"
       ]
      },
      {
       "output_type": "stream",
       "stream": "stdout",
       "text": [
        " DEPDC5\t22:32239667-32239673\n",
        "DEPDC5\t22:32241073-32241073"
       ]
      },
      {
       "output_type": "stream",
       "stream": "stdout",
       "text": [
        " DEPDC5\t22:32241067-32241073\n",
        "DEPDC5\t22:32241185-32241185"
       ]
      },
      {
       "output_type": "stream",
       "stream": "stdout",
       "text": [
        " DEPDC5\t22:32241179-32241185\n",
        "DEPDC5\t22:32257357-32257357 DEPDC5\t22:32257351-32257357\n",
        "DEPDC5\t22:32272192-32272192 DEPDC5\t22:32272186-32272192\n",
        "DEPDC5\t22:32272223-32272223 DEPDC5\t22:32272217-32272223\n",
        "DEPDC5\t22:32275716-32275716"
       ]
      },
      {
       "output_type": "stream",
       "stream": "stdout",
       "text": [
        " DEPDC5\t22:32275710-32275716\n",
        "DEPDC5\t22:32289637-32289637 DEPDC5\t22:32289631-32289637\n",
        "DEPDC5\t22:32289734-32289734"
       ]
      },
      {
       "output_type": "stream",
       "stream": "stdout",
       "text": [
        " DEPDC5\t22:32289728-32289734\n",
        "DEPDC5\t22:32293469-32293469 DEPDC5\t22:32293463-32293469\n",
        "DEPDC5\t22:32293469-32293469"
       ]
      },
      {
       "output_type": "stream",
       "stream": "stdout",
       "text": [
        " DEPDC5\t22:32293463-32293469\n",
        "DEPDC5\t22:32293469-32293469 DEPDC5\t22:32293463-32293469\n",
        "DEPDC5\t22:32297755-32297755"
       ]
      },
      {
       "output_type": "stream",
       "stream": "stdout",
       "text": [
        " DEPDC5\t22:32297749-32297755\n",
        "DEPDC5\t22:32180825-32180825 DEPDC5\t22:32180819-32180825\n",
        "DEPDC5\t22:32188070-32188070"
       ]
      },
      {
       "output_type": "stream",
       "stream": "stdout",
       "text": [
        " DEPDC5\t22:32188064-32188070\n",
        "DEPDC5\t22:32257357-32257357 DEPDC5\t22:32257351-32257357\n",
        "DEPDC5\t22:32272223-32272223 DEPDC5\t22:32272217-32272223\n",
        "DEPDC5\t22:32293469-32293469"
       ]
      },
      {
       "output_type": "stream",
       "stream": "stdout",
       "text": [
        " DEPDC5\t22:32293463-32293469\n",
        "13000\n",
        "C1QTNF6\t22:37576362-37576362"
       ]
      },
      {
       "output_type": "stream",
       "stream": "stdout",
       "text": [
        " C1QTNF6\t22:37576356-37576362\n",
        "C1QTNF6\t22:37578279-37578279 C1QTNF6\t22:37578273-37578279\n",
        "C1QTNF6\t22:37578518-37578518 C1QTNF6\t22:37578512-37578518\n",
        "C1QTNF6\t22:37578518-37578518 C1QTNF6\t22:37578512-37578518\n",
        "TRIOBP\t22:38111850-38111850"
       ]
      },
      {
       "output_type": "stream",
       "stream": "stdout",
       "text": [
        " TRIOBP\t22:38111844-38111850\n",
        "TRIOBP\t22:38119536-38119536 TRIOBP\t22:38119530-38119536\n",
        "TRIOBP\t22:38119548-38119548"
       ]
      },
      {
       "output_type": "stream",
       "stream": "stdout",
       "text": [
        " TRIOBP\t22:38119542-38119548\n",
        "TRIOBP\t22:38119578-38119578 TRIOBP\t22:38119572-38119578\n",
        "TRIOBP\t22:38121492-38121492"
       ]
      },
      {
       "output_type": "stream",
       "stream": "stdout",
       "text": [
        " TRIOBP\t22:38121486-38121492\n",
        "TRIOBP\t22:38121705-38121705 TRIOBP\t22:38121699-38121705\n",
        "TRIOBP\t22:38121721-38121721"
       ]
      },
      {
       "output_type": "stream",
       "stream": "stdout",
       "text": [
        " TRIOBP\t22:38121715-38121721\n",
        "TRIOBP\t22:38121788-38121789 TRIOBP\t22:38121782-38121788\n",
        "TRIOBP\t22:38121968-38121971"
       ]
      },
      {
       "output_type": "stream",
       "stream": "stdout",
       "text": [
        " TRIOBP\t22:38121962-38121968\n",
        "TRIOBP\t22:38122318-38122318 TRIOBP\t22:38122312-38122318\n",
        "TRIOBP\t22:38130806-38130806"
       ]
      },
      {
       "output_type": "stream",
       "stream": "stdout",
       "text": [
        " TRIOBP\t22:38130800-38130806\n",
        "TRIOBP\t22:38131260-38131260 TRIOBP\t22:38131254-38131260\n",
        "TRIOBP\t22:38131375-38131375"
       ]
      },
      {
       "output_type": "stream",
       "stream": "stdout",
       "text": [
        " TRIOBP\t22:38131369-38131375\n",
        "TRIOBP\t22:38150910-38150910 TRIOBP\t22:38150904-38150910\n",
        "TRIOBP\t22:38151165-38151165 TRIOBP\t22:38151159-38151165\n",
        "TRIOBP\t22:38155444-38155444 TRIOBP\t22:38155438-38155444\n",
        "TRIOBP\t22:38155468-38155469 TRIOBP\t22:38155462-38155468\n",
        "TRIOBP\t22:38120742-38120742"
       ]
      },
      {
       "output_type": "stream",
       "stream": "stdout",
       "text": [
        " TRIOBP\t22:38120736-38120742\n",
        "TRIOBP\t22:38120815-38120815 TRIOBP\t22:38120809-38120815\n",
        "TRIOBP\t22:38131375-38131375"
       ]
      },
      {
       "output_type": "stream",
       "stream": "stdout",
       "text": [
        " TRIOBP\t22:38131369-38131375\n",
        "13100"
       ]
      },
      {
       "output_type": "stream",
       "stream": "stdout",
       "text": [
        "\n",
        "TCF20\t22:42564676-42564676"
       ]
      },
      {
       "output_type": "stream",
       "stream": "stdout",
       "text": [
        " TCF20\t22:42564670-42564676\n",
        "TCF20\t22:42564715-42564716 TCF20\t22:42564709-42564715\n",
        "TCF20\t22:42564716-42564716 TCF20\t22:42564710-42564716\n",
        "TCF20\t22:42605810-42605810 TCF20\t22:42605804-42605810\n",
        "TCF20\t22:42607000-42607000 TCF20\t22:42606994-42607000\n",
        "TCF20\t22:42607082-42607082 TCF20\t22:42607076-42607082\n",
        "TCF20\t22:42607206-42607206 TCF20\t22:42607200-42607206\n",
        "TCF20\t22:42607383-42607383"
       ]
      },
      {
       "output_type": "stream",
       "stream": "stdout",
       "text": [
        " TCF20\t22:42607377-42607383\n",
        "TCF20\t22:42608681-42608681 TCF20\t22:42608675-42608681\n",
        "TCF20\t22:42609196-42609196 TCF20\t22:42609190-42609196\n",
        "TCF20\t22:42609210-42609210 TCF20\t22:42609204-42609210\n",
        "TCF20\t22:42609249-42609249 TCF20\t22:42609243-42609249\n",
        "TCF20\t22:42609296-42609298 TCF20\t22:42609290-42609296\n",
        "TCF20\t22:42609386-42609386 TCF20\t22:42609380-42609386\n",
        "TCF20\t22:42609449-42609449 TCF20\t22:42609443-42609449\n",
        "TCF20\t22:42609486-42609486"
       ]
      },
      {
       "output_type": "stream",
       "stream": "stdout",
       "text": [
        " TCF20\t22:42609480-42609486\n",
        "TCF20\t22:42609495-42609495 TCF20\t22:42609489-42609495\n",
        "TCF20\t22:42610881-42610881 TCF20\t22:42610875-42610881\n",
        "TCF20\t22:42610948-42610948 TCF20\t22:42610942-42610948\n",
        "TCF20\t22:42564676-42564676 TCF20\t22:42564670-42564676\n",
        "TCF20\t22:42607000-42607000 TCF20\t22:42606994-42607000\n",
        "TCF20\t22:42608681-42608681 TCF20\t22:42608675-42608681\n",
        "TCF20\t22:42609210-42609210"
       ]
      },
      {
       "output_type": "stream",
       "stream": "stdout",
       "text": [
        " TCF20\t22:42609204-42609210\n",
        "TCF20\t22:42609296-42609298 TCF20\t22:42609290-42609296\n",
        "TCF20\t22:42610881-42610881 TCF20\t22:42610875-42610881\n",
        "FBLN1\t22:45958895-45958895"
       ]
      },
      {
       "output_type": "stream",
       "stream": "stdout",
       "text": [
        " FBLN1\t22:45958889-45958895\n",
        "13200"
       ]
      },
      {
       "output_type": "stream",
       "stream": "stdout",
       "text": [
        "\n",
        "13300\n",
        "13400"
       ]
      },
      {
       "output_type": "stream",
       "stream": "stdout",
       "text": [
        "\n",
        "13500"
       ]
      },
      {
       "output_type": "stream",
       "stream": "stdout",
       "text": [
        "\n",
        "FLAD1\t1:154955875-154955875"
       ]
      },
      {
       "output_type": "stream",
       "stream": "stdout",
       "text": [
        " FLAD1\t1:154955869-154955875\n",
        "FLAD1\t1:154956253-154956253 FLAD1\t1:154956247-154956253\n",
        "FLAD1\t1:154956392-154956392 FLAD1\t1:154956386-154956392\n",
        "FLAD1\t1:154956531-154956531 FLAD1\t1:154956525-154956531\n",
        "FLAD1\t1:154960671-154960671 FLAD1\t1:154960665-154960671\n",
        "FLAD1\t1:154960718-154960718 FLAD1\t1:154960712-154960718\n",
        "FLAD1\t1:154961214-154961214 FLAD1\t1:154961208-154961214\n",
        "FLAD1\t1:154961309-154961309 FLAD1\t1:154961303-154961309\n",
        "FLAD1\t1:154965445-154965445 FLAD1\t1:154965439-154965445\n",
        "FLAD1\t1:154961309-154961309 FLAD1\t1:154961303-154961309\n",
        "13600"
       ]
      },
      {
       "output_type": "stream",
       "stream": "stdout",
       "text": [
        "\n",
        "LMNA\t1:156084959-156084959"
       ]
      },
      {
       "output_type": "stream",
       "stream": "stdout",
       "text": [
        " LMNA\t1:156084953-156084959\n",
        "LMNA\t1:156104249-156104249 LMNA\t1:156104243-156104249\n",
        "LMNA\t1:156100489-156100489"
       ]
      },
      {
       "output_type": "stream",
       "stream": "stdout",
       "text": [
        " LMNA\t1:156100483-156100489\n",
        "LMNA\t1:156104249-156104249"
       ]
      },
      {
       "output_type": "stream",
       "stream": "stdout",
       "text": [
        " LMNA\t1:156104243-156104249\n",
        "BCAN\t1:156615885-156615885"
       ]
      },
      {
       "output_type": "stream",
       "stream": "stdout",
       "text": [
        " BCAN\t1:156615879-156615885\n",
        "BCAN\t1:156615886-156615886 BCAN\t1:156615880-156615886\n",
        "BCAN\t1:156617872-156617872 BCAN\t1:156617866-156617872\n",
        "BCAN\t1:156618499-156618499 BCAN\t1:156618493-156618499\n",
        "BCAN\t1:156622303-156622303 BCAN\t1:156622297-156622303\n",
        "BCAN\t1:156622540-156622540 BCAN\t1:156622534-156622540\n",
        "BCAN\t1:156622582-156622582 BCAN\t1:156622576-156622582\n",
        "BCAN\t1:156622303-156622303"
       ]
      },
      {
       "output_type": "stream",
       "stream": "stdout",
       "text": [
        " BCAN\t1:156622297-156622303\n",
        "BCAN\t1:156622540-156622540 BCAN\t1:156622534-156622540\n",
        "BCAN\t1:156622582-156622582 BCAN\t1:156622576-156622582\n",
        "LY9\t1:160769623-160769623"
       ]
      },
      {
       "output_type": "stream",
       "stream": "stdout",
       "text": [
        " LY9\t1:160769617-160769623\n",
        "LY9\t1:160769623-160769623 LY9\t1:160769617-160769623\n",
        "LY9\t1:160769678-160769678 LY9\t1:160769672-160769678\n",
        "LY9\t1:160769718-160769718 LY9\t1:160769712-160769718\n",
        "LY9\t1:160769623-160769623 LY9\t1:160769617-160769623\n",
        "LY9\t1:160769623-160769623 LY9\t1:160769617-160769623\n",
        "LY9\t1:160769678-160769678 LY9\t1:160769672-160769678\n",
        "13700\n",
        "TIPRL\t1:168160639-168160639"
       ]
      },
      {
       "output_type": "stream",
       "stream": "stdout",
       "text": [
        " TIPRL\t1:168160633-168160639\n",
        "TIPRL\t1:168165856-168165856 TIPRL\t1:168165850-168165856\n",
        "TIPRL\t1:168168159-168168159 TIPRL\t1:168168153-168168159\n",
        "TIPRL\t1:168160639-168160639 TIPRL\t1:168160633-168160639\n",
        "TIPRL\t1:168165856-168165856 TIPRL\t1:168165850-168165856\n",
        "TIPRL\t1:168168159-168168159 TIPRL\t1:168168153-168168159\n",
        "PRRX1\t1:170633455-170633455"
       ]
      },
      {
       "output_type": "stream",
       "stream": "stdout",
       "text": [
        " PRRX1\t1:170633449-170633455\n",
        "PRRX1\t1:170688909-170688909 PRRX1\t1:170688903-170688909\n",
        "PRRX1\t1:170695377-170695377 PRRX1\t1:170695371-170695377\n",
        "PRRX1\t1:170695469-170695469"
       ]
      },
      {
       "output_type": "stream",
       "stream": "stdout",
       "text": [
        " PRRX1\t1:170695463-170695469\n",
        "PRRX1\t1:170695522-170695522 PRRX1\t1:170695516-170695522\n",
        "PRRX1\t1:170695530-170695530 PRRX1\t1:170695524-170695530\n",
        "PRRX1\t1:170695530-170695530"
       ]
      },
      {
       "output_type": "stream",
       "stream": "stdout",
       "text": [
        " PRRX1\t1:170695524-170695530\n",
        "PRRX1\t1:170705330-170705330 PRRX1\t1:170705324-170705330\n",
        "PRRX1\t1:170705372-170705372"
       ]
      },
      {
       "output_type": "stream",
       "stream": "stdout",
       "text": [
        " PRRX1\t1:170705366-170705372\n",
        "PRRX1\t1:170688909-170688909 PRRX1\t1:170688903-170688909\n",
        "PRRX1\t1:170695377-170695377 PRRX1\t1:170695371-170695377\n",
        "PRRX1\t1:170695469-170695469"
       ]
      },
      {
       "output_type": "stream",
       "stream": "stdout",
       "text": [
        " PRRX1\t1:170695463-170695469\n",
        "PRRX1\t1:170695522-170695522 PRRX1\t1:170695516-170695522\n",
        "PRRX1\t1:170695530-170695530 PRRX1\t1:170695524-170695530\n",
        "PRRX1\t1:170695530-170695530"
       ]
      },
      {
       "output_type": "stream",
       "stream": "stdout",
       "text": [
        " PRRX1\t1:170695524-170695530\n",
        "13800\n",
        "RC3H1\t1:173962098-173962098 RC3H1\t1:173962098-173962104\n",
        "SMG7\t1:183486940-183486940"
       ]
      },
      {
       "output_type": "stream",
       "stream": "stdout",
       "text": [
        " SMG7\t1:183486934-183486940\n",
        "SMG7\t1:183510225-183510225 SMG7\t1:183510219-183510225\n",
        "SMG7\t1:183511387-183511387 SMG7\t1:183511381-183511387\n",
        "SMG7\t1:183511476-183511476 SMG7\t1:183511470-183511476\n",
        "SMG7\t1:183511502-183511502 SMG7\t1:183511496-183511502\n",
        "SMG7\t1:183511583-183511583 SMG7\t1:183511577-183511583\n",
        "SMG7\t1:183515224-183515224 SMG7\t1:183515218-183515224\n",
        "SMG7\t1:183519915-183519915 SMG7\t1:183519909-183519915\n",
        "SMG7\t1:183522252-183522252"
       ]
      },
      {
       "output_type": "stream",
       "stream": "stdout",
       "text": [
        " SMG7\t1:183522246-183522252\n",
        "SMG7\t1:183511387-183511387 SMG7\t1:183511381-183511387\n",
        "SMG7\t1:183511502-183511502 SMG7\t1:183511496-183511502\n",
        "13900"
       ]
      },
      {
       "output_type": "stream",
       "stream": "stdout",
       "text": [
        "\n",
        "ZBTB41\t1:197169434-197169437 ZBTB41\t1:197169428-197169434\n",
        "ZBTB41\t1:197169544-197169544 ZBTB41\t1:197169538-197169544\n",
        "ZBTB41\t1:197169434-197169437 ZBTB41\t1:197169428-197169434\n",
        "ZBTB41\t1:197169544-197169544 ZBTB41\t1:197169538-197169544\n",
        "ZNF281\t1:200377516-200377516"
       ]
      },
      {
       "output_type": "stream",
       "stream": "stdout",
       "text": [
        " ZNF281\t1:200377514-200377520\n",
        "ZNF281\t1:200377724-200377724 ZNF281\t1:200377718-200377724\n",
        "ZNF281\t1:200377516-200377516 ZNF281\t1:200377514-200377520\n",
        "ZNF281\t1:200377724-200377724 ZNF281\t1:200377718-200377724\n",
        "PPP1R12B\t1:202318211-202318211"
       ]
      },
      {
       "output_type": "stream",
       "stream": "stdout",
       "text": [
        " PPP1R12B\t1:202318205-202318211\n",
        "PPP1R12B\t1:202396302-202396302 PPP1R12B\t1:202396296-202396302\n",
        "PPP1R12B\t1:202398059-202398059 PPP1R12B\t1:202398053-202398059\n",
        "PPP1R12B\t1:202407190-202407190 PPP1R12B\t1:202407184-202407190\n",
        "PPP1R12B\t1:202407190-202407190"
       ]
      },
      {
       "output_type": "stream",
       "stream": "stdout",
       "text": [
        " PPP1R12B\t1:202407184-202407190\n",
        "PPP1R12B\t1:202411672-202411672 PPP1R12B\t1:202411666-202411672\n",
        "PPP1R12B\t1:202418189-202418189 PPP1R12B\t1:202418183-202418189\n",
        "PPP1R12B\t1:202418224-202418224"
       ]
      },
      {
       "output_type": "stream",
       "stream": "stdout",
       "text": [
        " PPP1R12B\t1:202418218-202418224\n",
        "PPP1R12B\t1:202318211-202318211"
       ]
      },
      {
       "output_type": "stream",
       "stream": "stdout",
       "text": [
        " PPP1R12B\t1:202318205-202318211\n",
        "PPP1R12B\t1:202411672-202411672 PPP1R12B\t1:202411666-202411672\n",
        "PPP1R12B\t1:202418189-202418189 PPP1R12B\t1:202418183-202418189\n",
        "ATP2B4\t1:203652420-203652420"
       ]
      },
      {
       "output_type": "stream",
       "stream": "stdout",
       "text": [
        " ATP2B4\t1:203652414-203652420\n",
        "ATP2B4\t1:203668783-203668783"
       ]
      },
      {
       "output_type": "stream",
       "stream": "stdout",
       "text": [
        " ATP2B4\t1:203668777-203668783\n",
        "ATP2B4\t1:203669375-203669375"
       ]
      },
      {
       "output_type": "stream",
       "stream": "stdout",
       "text": [
        " ATP2B4\t1:203669369-203669375\n",
        "ATP2B4\t1:203671192-203671192"
       ]
      },
      {
       "output_type": "stream",
       "stream": "stdout",
       "text": [
        " ATP2B4\t1:203671186-203671192\n",
        "ATP2B4\t1:203680228-203680228"
       ]
      },
      {
       "output_type": "stream",
       "stream": "stdout",
       "text": [
        " ATP2B4\t1:203680222-203680228\n",
        "ATP2B4\t1:203683364-203683364"
       ]
      },
      {
       "output_type": "stream",
       "stream": "stdout",
       "text": [
        " ATP2B4\t1:203683358-203683364\n",
        "ATP2B4\t1:203689684-203689684 ATP2B4\t1:203689678-203689684\n",
        "ATP2B4\t1:203690370-203690370 ATP2B4\t1:203690364-203690370\n",
        "ATP2B4\t1:203691759-203691759 ATP2B4\t1:203691753-203691759\n",
        "ATP2B4\t1:203691759-203691759 ATP2B4\t1:203691753-203691759\n",
        "ATP2B4\t1:203696643-203696643 ATP2B4\t1:203696637-203696643\n",
        "ATP2B4\t1:203702398-203702398 ATP2B4\t1:203702392-203702398\n",
        "ATP2B4\t1:203702418-203702418 ATP2B4\t1:203702412-203702418\n",
        "ATP2B4\t1:203680228-203680228"
       ]
      },
      {
       "output_type": "stream",
       "stream": "stdout",
       "text": [
        " ATP2B4\t1:203680222-203680228\n",
        "ATP2B4\t1:203683364-203683364"
       ]
      },
      {
       "output_type": "stream",
       "stream": "stdout",
       "text": [
        " ATP2B4\t1:203683358-203683364\n",
        "ATP2B4\t1:203702418-203702418 ATP2B4\t1:203702412-203702418\n",
        "PPP1R15B\t1:204379199-204379199 PPP1R15B\t1:204379194-204379200\n",
        "PPP1R15B\t1:204379199-204379199 PPP1R15B\t1:204379194-204379200\n",
        "NFASC\t1:204921156-204921156"
       ]
      },
      {
       "output_type": "stream",
       "stream": "stdout",
       "text": [
        " NFASC\t1:204921150-204921156\n",
        "NFASC\t1:204923466-204923466"
       ]
      },
      {
       "output_type": "stream",
       "stream": "stdout",
       "text": [
        " NFASC\t1:204923460-204923466\n",
        "NFASC\t1:204937936-204937937"
       ]
      },
      {
       "output_type": "stream",
       "stream": "stdout",
       "text": [
        " NFASC\t1:204937930-204937936\n",
        "NFASC\t1:204938069-204938069"
       ]
      },
      {
       "output_type": "stream",
       "stream": "stdout",
       "text": [
        " NFASC\t1:204938063-204938069\n",
        "NFASC\t1:204942492-204942492"
       ]
      },
      {
       "output_type": "stream",
       "stream": "stdout",
       "text": [
        " NFASC\t1:204942486-204942492\n",
        "NFASC\t1:204943796-204943796"
       ]
      },
      {
       "output_type": "stream",
       "stream": "stdout",
       "text": [
        " NFASC\t1:204943790-204943796\n",
        "NFASC\t1:204921156-204921156"
       ]
      },
      {
       "output_type": "stream",
       "stream": "stdout",
       "text": [
        " NFASC\t1:204921150-204921156\n",
        "NFASC\t1:204923466-204923466"
       ]
      },
      {
       "output_type": "stream",
       "stream": "stdout",
       "text": [
        " NFASC\t1:204923460-204923466\n",
        "NFASC\t1:204937936-204937937"
       ]
      },
      {
       "output_type": "stream",
       "stream": "stdout",
       "text": [
        " NFASC\t1:204937930-204937936\n",
        "NFASC\t1:204938069-204938069"
       ]
      },
      {
       "output_type": "stream",
       "stream": "stdout",
       "text": [
        " NFASC\t1:204938063-204938069\n",
        "NFASC\t1:204942492-204942492"
       ]
      },
      {
       "output_type": "stream",
       "stream": "stdout",
       "text": [
        " NFASC\t1:204942486-204942492\n",
        "PM20D1\t1:205819040-205819040"
       ]
      },
      {
       "output_type": "stream",
       "stream": "stdout",
       "text": [
        " PM20D1\t1:205819034-205819040\n",
        "SRGAP2\t1:206516354-206516355"
       ]
      },
      {
       "output_type": "stream",
       "stream": "stdout",
       "text": [
        " SRGAP2\t1:206516348-206516354\n",
        "SRGAP2\t1:206574870-206574870 SRGAP2\t1:206574864-206574870\n",
        "SRGAP2\t1:206579816-206579816 SRGAP2\t1:206579810-206579816\n",
        "SRGAP2\t1:206603567-206603567 SRGAP2\t1:206603561-206603567\n",
        "SRGAP2\t1:206611317-206611317"
       ]
      },
      {
       "output_type": "stream",
       "stream": "stdout",
       "text": [
        " SRGAP2\t1:206611311-206611317\n",
        "SRGAP2\t1:206611342-206611342 SRGAP2\t1:206611336-206611342\n",
        "SRGAP2\t1:206611342-206611342 SRGAP2\t1:206611336-206611342\n",
        "SRGAP2\t1:206611447-206611447"
       ]
      },
      {
       "output_type": "stream",
       "stream": "stdout",
       "text": [
        " SRGAP2\t1:206611441-206611447\n",
        "SRGAP2\t1:206619542-206619542 SRGAP2\t1:206619536-206619542\n",
        "SRGAP2\t1:206628329-206628329"
       ]
      },
      {
       "output_type": "stream",
       "stream": "stdout",
       "text": [
        " SRGAP2\t1:206628323-206628329\n",
        "SRGAP2\t1:206634388-206634388 SRGAP2\t1:206634382-206634388\n",
        "SRGAP2\t1:206634438-206634438"
       ]
      },
      {
       "output_type": "stream",
       "stream": "stdout",
       "text": [
        " SRGAP2\t1:206634432-206634438\n",
        "SRGAP2\t1:206574931-206574931 SRGAP2\t1:206574925-206574931\n",
        "SRGAP2\t1:206579816-206579816 SRGAP2\t1:206579810-206579816\n",
        "SRGAP2\t1:206611342-206611342 SRGAP2\t1:206611336-206611342\n",
        "SRGAP2\t1:206611447-206611447"
       ]
      },
      {
       "output_type": "stream",
       "stream": "stdout",
       "text": [
        " SRGAP2\t1:206611441-206611447\n",
        "SRGAP2\t1:206619542-206619542 SRGAP2\t1:206619536-206619542\n",
        "14000"
       ]
      },
      {
       "output_type": "stream",
       "stream": "stdout",
       "text": [
        "\n",
        "SLC30A1\t1:211751857-211751857"
       ]
      },
      {
       "output_type": "stream",
       "stream": "stdout",
       "text": [
        " SLC30A1\t1:211751853-211751859\n",
        "SLC30A1\t1:211751857-211751857 SLC30A1\t1:211751853-211751859\n",
        "USH2A\t1:215799148-215799148"
       ]
      },
      {
       "output_type": "stream",
       "stream": "stdout",
       "text": [
        " USH2A\t1:215799142-215799148\n",
        "USH2A\t1:215802376-215802376"
       ]
      },
      {
       "output_type": "stream",
       "stream": "stdout",
       "text": [
        " USH2A\t1:215802370-215802376\n",
        "USH2A\t1:215814011-215814011"
       ]
      },
      {
       "output_type": "stream",
       "stream": "stdout",
       "text": [
        " USH2A\t1:215814005-215814011\n",
        "USH2A\t1:215820992-215820992"
       ]
      },
      {
       "output_type": "stream",
       "stream": "stdout",
       "text": [
        " USH2A\t1:215820986-215820992\n",
        "USH2A\t1:215844496-215844496"
       ]
      },
      {
       "output_type": "stream",
       "stream": "stdout",
       "text": [
        " USH2A\t1:215844490-215844496\n",
        "USH2A\t1:215847721-215847721"
       ]
      },
      {
       "output_type": "stream",
       "stream": "stdout",
       "text": [
        " USH2A\t1:215847715-215847721\n",
        "USH2A\t1:215847722-215847722"
       ]
      },
      {
       "output_type": "stream",
       "stream": "stdout",
       "text": [
        " USH2A\t1:215847716-215847722\n",
        "USH2A\t1:215847781-215847781"
       ]
      },
      {
       "output_type": "stream",
       "stream": "stdout",
       "text": [
        " USH2A\t1:215847775-215847781\n",
        "USH2A\t1:215847863-215847863"
       ]
      },
      {
       "output_type": "stream",
       "stream": "stdout",
       "text": [
        " USH2A\t1:215847857-215847863\n",
        "USH2A\t1:215848217-215848217"
       ]
      },
      {
       "output_type": "stream",
       "stream": "stdout",
       "text": [
        " USH2A\t1:215848211-215848217\n",
        "USH2A\t1:215848460-215848460"
       ]
      },
      {
       "output_type": "stream",
       "stream": "stdout",
       "text": [
        " USH2A\t1:215848454-215848460\n",
        "USH2A\t1:215848573-215848573"
       ]
      },
      {
       "output_type": "stream",
       "stream": "stdout",
       "text": [
        " USH2A\t1:215848567-215848573\n",
        "USH2A\t1:215848874-215848874"
       ]
      },
      {
       "output_type": "stream",
       "stream": "stdout",
       "text": [
        " USH2A\t1:215848868-215848874\n",
        "USH2A\t1:215853634-215853634"
       ]
      },
      {
       "output_type": "stream",
       "stream": "stdout",
       "text": [
        " USH2A\t1:215853628-215853634\n",
        "USH2A\t1:215901420-215901420"
       ]
      },
      {
       "output_type": "stream",
       "stream": "stdout",
       "text": [
        " USH2A\t1:215901414-215901420\n",
        "USH2A\t1:215914804-215914804"
       ]
      },
      {
       "output_type": "stream",
       "stream": "stdout",
       "text": [
        " USH2A\t1:215914798-215914804\n",
        "USH2A\t1:215916652-215916652"
       ]
      },
      {
       "output_type": "stream",
       "stream": "stdout",
       "text": [
        " USH2A\t1:215916646-215916652\n",
        "USH2A\t1:215932030-215932030"
       ]
      },
      {
       "output_type": "stream",
       "stream": "stdout",
       "text": [
        " USH2A\t1:215932024-215932030\n",
        "USH2A\t1:215932045-215932045"
       ]
      },
      {
       "output_type": "stream",
       "stream": "stdout",
       "text": [
        " USH2A\t1:215932039-215932045\n",
        "USH2A\t1:215933077-215933077"
       ]
      },
      {
       "output_type": "stream",
       "stream": "stdout",
       "text": [
        " USH2A\t1:215933071-215933077\n",
        "USH2A\t1:215933099-215933099"
       ]
      },
      {
       "output_type": "stream",
       "stream": "stdout",
       "text": [
        " USH2A\t1:215933093-215933099\n",
        "USH2A\t1:215933100-215933100"
       ]
      },
      {
       "output_type": "stream",
       "stream": "stdout",
       "text": [
        " USH2A\t1:215933094-215933100\n",
        "USH2A\t1:215953193-215953193"
       ]
      },
      {
       "output_type": "stream",
       "stream": "stdout",
       "text": [
        " USH2A\t1:215953187-215953193\n",
        "USH2A\t1:215953193-215953193"
       ]
      },
      {
       "output_type": "stream",
       "stream": "stdout",
       "text": [
        " USH2A\t1:215953187-215953193\n",
        "USH2A\t1:215953312-215953312"
       ]
      },
      {
       "output_type": "stream",
       "stream": "stdout",
       "text": [
        " USH2A\t1:215953306-215953312\n",
        "USH2A\t1:215955505-215955505"
       ]
      },
      {
       "output_type": "stream",
       "stream": "stdout",
       "text": [
        " USH2A\t1:215955499-215955505\n",
        "USH2A\t1:215955505-215955505"
       ]
      },
      {
       "output_type": "stream",
       "stream": "stdout",
       "text": [
        " USH2A\t1:215955499-215955505\n",
        "USH2A\t1:215963505-215963505"
       ]
      },
      {
       "output_type": "stream",
       "stream": "stdout",
       "text": [
        " USH2A\t1:215963499-215963505\n",
        "USH2A\t1:216019236-216019236 USH2A\t1:216019230-216019236\n",
        "USH2A\t1:216061968-216061968 USH2A\t1:216061962-216061968\n",
        "USH2A\t1:216061968-216061968"
       ]
      },
      {
       "output_type": "stream",
       "stream": "stdout",
       "text": [
        " USH2A\t1:216061962-216061968\n",
        "USH2A\t1:216062079-216062079 USH2A\t1:216062073-216062079\n",
        "USH2A\t1:216062266-216062266"
       ]
      },
      {
       "output_type": "stream",
       "stream": "stdout",
       "text": [
        " USH2A\t1:216062260-216062266\n",
        "USH2A\t1:216138717-216138717"
       ]
      },
      {
       "output_type": "stream",
       "stream": "stdout",
       "text": [
        " USH2A\t1:216138711-216138717\n",
        "USH2A\t1:216138777-216138777"
       ]
      },
      {
       "output_type": "stream",
       "stream": "stdout",
       "text": [
        " USH2A\t1:216138771-216138777\n",
        "USH2A\t1:216172264-216172264"
       ]
      },
      {
       "output_type": "stream",
       "stream": "stdout",
       "text": [
        " USH2A\t1:216172258-216172264\n",
        "USH2A\t1:216173838-216173838"
       ]
      },
      {
       "output_type": "stream",
       "stream": "stdout",
       "text": [
        " USH2A\t1:216173832-216173838\n",
        "USH2A\t1:216219877-216219877"
       ]
      },
      {
       "output_type": "stream",
       "stream": "stdout",
       "text": [
        " USH2A\t1:216219871-216219877\n",
        "USH2A\t1:216221986-216221986"
       ]
      },
      {
       "output_type": "stream",
       "stream": "stdout",
       "text": [
        " USH2A\t1:216221980-216221986\n",
        "USH2A\t1:216246478-216246479"
       ]
      },
      {
       "output_type": "stream",
       "stream": "stdout",
       "text": [
        " USH2A\t1:216246472-216246478\n",
        "USH2A\t1:216246562-216246562"
       ]
      },
      {
       "output_type": "stream",
       "stream": "stdout",
       "text": [
        " USH2A\t1:216246556-216246562\n",
        "USH2A\t1:216251659-216251659"
       ]
      },
      {
       "output_type": "stream",
       "stream": "stdout",
       "text": [
        " USH2A\t1:216251653-216251659\n",
        "USH2A\t1:216262358-216262358"
       ]
      },
      {
       "output_type": "stream",
       "stream": "stdout",
       "text": [
        " USH2A\t1:216262352-216262358\n",
        "USH2A\t1:216348792-216348792"
       ]
      },
      {
       "output_type": "stream",
       "stream": "stdout",
       "text": [
        " USH2A\t1:216348786-216348792\n",
        "USH2A\t1:216348807-216348807"
       ]
      },
      {
       "output_type": "stream",
       "stream": "stdout",
       "text": [
        " USH2A\t1:216348801-216348807\n",
        "USH2A\t1:216370014-216370014"
       ]
      },
      {
       "output_type": "stream",
       "stream": "stdout",
       "text": [
        " USH2A\t1:216370008-216370014\n",
        "USH2A\t1:216371845-216371845"
       ]
      },
      {
       "output_type": "stream",
       "stream": "stdout",
       "text": [
        " USH2A\t1:216371839-216371845\n",
        "USH2A\t1:216371889-216371889"
       ]
      },
      {
       "output_type": "stream",
       "stream": "stdout",
       "text": [
        " USH2A\t1:216371883-216371889\n",
        "USH2A\t1:216373262-216373262"
       ]
      },
      {
       "output_type": "stream",
       "stream": "stdout",
       "text": [
        " USH2A\t1:216373256-216373262\n",
        "USH2A\t1:216373262-216373262"
       ]
      },
      {
       "output_type": "stream",
       "stream": "stdout",
       "text": [
        " USH2A\t1:216373256-216373262\n",
        "USH2A\t1:216373463-216373463"
       ]
      },
      {
       "output_type": "stream",
       "stream": "stdout",
       "text": [
        " USH2A\t1:216373457-216373463\n",
        "USH2A\t1:216390733-216390733"
       ]
      },
      {
       "output_type": "stream",
       "stream": "stdout",
       "text": [
        " USH2A\t1:216390727-216390733\n",
        "USH2A\t1:216390820-216390820"
       ]
      },
      {
       "output_type": "stream",
       "stream": "stdout",
       "text": [
        " USH2A\t1:216390814-216390820\n",
        "USH2A\t1:216390881-216390881"
       ]
      },
      {
       "output_type": "stream",
       "stream": "stdout",
       "text": [
        " USH2A\t1:216390875-216390881\n",
        "USH2A\t1:216420207-216420207"
       ]
      },
      {
       "output_type": "stream",
       "stream": "stdout",
       "text": [
        " USH2A\t1:216420201-216420207\n",
        "USH2A\t1:216424381-216424381"
       ]
      },
      {
       "output_type": "stream",
       "stream": "stdout",
       "text": [
        " USH2A\t1:216424375-216424381\n",
        "USH2A\t1:216496860-216496860"
       ]
      },
      {
       "output_type": "stream",
       "stream": "stdout",
       "text": [
        " USH2A\t1:216496854-216496860\n",
        "USH2A\t1:216498908-216498908"
       ]
      },
      {
       "output_type": "stream",
       "stream": "stdout",
       "text": [
        " USH2A\t1:216498902-216498908\n",
        "USH2A\t1:216591941-216591941"
       ]
      },
      {
       "output_type": "stream",
       "stream": "stdout",
       "text": [
        " USH2A\t1:216591935-216591941\n",
        "USH2A\t1:216595627-216595627"
       ]
      },
      {
       "output_type": "stream",
       "stream": "stdout",
       "text": [
        " USH2A\t1:216595621-216595627\n",
        "USH2A\t1:215802376-215802376"
       ]
      },
      {
       "output_type": "stream",
       "stream": "stdout",
       "text": [
        " USH2A\t1:215802370-215802376\n",
        "USH2A\t1:215814011-215814011"
       ]
      },
      {
       "output_type": "stream",
       "stream": "stdout",
       "text": [
        " USH2A\t1:215814005-215814011\n",
        "USH2A\t1:215820992-215820992"
       ]
      },
      {
       "output_type": "stream",
       "stream": "stdout",
       "text": [
        " USH2A\t1:215820986-215820992\n",
        "USH2A\t1:215844346-215844346"
       ]
      },
      {
       "output_type": "stream",
       "stream": "stdout",
       "text": [
        " USH2A\t1:215844340-215844346\n",
        "USH2A\t1:215844496-215844496"
       ]
      },
      {
       "output_type": "stream",
       "stream": "stdout",
       "text": [
        " USH2A\t1:215844490-215844496\n",
        "USH2A\t1:215847544-215847544"
       ]
      },
      {
       "output_type": "stream",
       "stream": "stdout",
       "text": [
        " USH2A\t1:215847538-215847544\n",
        "USH2A\t1:215847722-215847722"
       ]
      },
      {
       "output_type": "stream",
       "stream": "stdout",
       "text": [
        " USH2A\t1:215847716-215847722\n",
        "USH2A\t1:215847863-215847863"
       ]
      },
      {
       "output_type": "stream",
       "stream": "stdout",
       "text": [
        " USH2A\t1:215847857-215847863\n",
        "USH2A\t1:215848217-215848217"
       ]
      },
      {
       "output_type": "stream",
       "stream": "stdout",
       "text": [
        " USH2A\t1:215848211-215848217\n",
        "USH2A\t1:215848460-215848460"
       ]
      },
      {
       "output_type": "stream",
       "stream": "stdout",
       "text": [
        " USH2A\t1:215848454-215848460\n",
        "USH2A\t1:215848573-215848573"
       ]
      },
      {
       "output_type": "stream",
       "stream": "stdout",
       "text": [
        " USH2A\t1:215848567-215848573\n",
        "USH2A\t1:215848874-215848874"
       ]
      },
      {
       "output_type": "stream",
       "stream": "stdout",
       "text": [
        " USH2A\t1:215848868-215848874\n",
        "USH2A\t1:215916652-215916652"
       ]
      },
      {
       "output_type": "stream",
       "stream": "stdout",
       "text": [
        " USH2A\t1:215916646-215916652\n",
        "USH2A\t1:215932030-215932030"
       ]
      },
      {
       "output_type": "stream",
       "stream": "stdout",
       "text": [
        " USH2A\t1:215932024-215932030\n",
        "USH2A\t1:215932045-215932045"
       ]
      },
      {
       "output_type": "stream",
       "stream": "stdout",
       "text": [
        " USH2A\t1:215932039-215932045\n",
        "USH2A\t1:215933100-215933100"
       ]
      },
      {
       "output_type": "stream",
       "stream": "stdout",
       "text": [
        " USH2A\t1:215933094-215933100\n",
        "USH2A\t1:215953193-215953193"
       ]
      },
      {
       "output_type": "stream",
       "stream": "stdout",
       "text": [
        " USH2A\t1:215953187-215953193\n",
        "USH2A\t1:215953312-215953312"
       ]
      },
      {
       "output_type": "stream",
       "stream": "stdout",
       "text": [
        " USH2A\t1:215953306-215953312\n",
        "USH2A\t1:215955505-215955505"
       ]
      },
      {
       "output_type": "stream",
       "stream": "stdout",
       "text": [
        " USH2A\t1:215955499-215955505\n",
        "USH2A\t1:216052394-216052394 USH2A\t1:216052388-216052394\n",
        "USH2A\t1:216061968-216061968"
       ]
      },
      {
       "output_type": "stream",
       "stream": "stdout",
       "text": [
        " USH2A\t1:216061962-216061968\n",
        "USH2A\t1:216062079-216062079 USH2A\t1:216062073-216062079\n",
        "USH2A\t1:216108090-216108090"
       ]
      },
      {
       "output_type": "stream",
       "stream": "stdout",
       "text": [
        " USH2A\t1:216108084-216108090\n",
        "USH2A\t1:216138717-216138717"
       ]
      },
      {
       "output_type": "stream",
       "stream": "stdout",
       "text": [
        " USH2A\t1:216138711-216138717\n",
        "USH2A\t1:216138777-216138777"
       ]
      },
      {
       "output_type": "stream",
       "stream": "stdout",
       "text": [
        " USH2A\t1:216138771-216138777\n",
        "USH2A\t1:216172264-216172264"
       ]
      },
      {
       "output_type": "stream",
       "stream": "stdout",
       "text": [
        " USH2A\t1:216172258-216172264\n",
        "USH2A\t1:216173838-216173838"
       ]
      },
      {
       "output_type": "stream",
       "stream": "stdout",
       "text": [
        " USH2A\t1:216173832-216173838\n",
        "USH2A\t1:216219877-216219877"
       ]
      },
      {
       "output_type": "stream",
       "stream": "stdout",
       "text": [
        " USH2A\t1:216219871-216219877\n",
        "USH2A\t1:216221986-216221986"
       ]
      },
      {
       "output_type": "stream",
       "stream": "stdout",
       "text": [
        " USH2A\t1:216221980-216221986\n",
        "USH2A\t1:216246478-216246479"
       ]
      },
      {
       "output_type": "stream",
       "stream": "stdout",
       "text": [
        " USH2A\t1:216246472-216246478\n",
        "USH2A\t1:216246506-216246506"
       ]
      },
      {
       "output_type": "stream",
       "stream": "stdout",
       "text": [
        " USH2A\t1:216246500-216246506\n",
        "USH2A\t1:216246562-216246562"
       ]
      },
      {
       "output_type": "stream",
       "stream": "stdout",
       "text": [
        " USH2A\t1:216246556-216246562\n",
        "USH2A\t1:216251659-216251659"
       ]
      },
      {
       "output_type": "stream",
       "stream": "stdout",
       "text": [
        " USH2A\t1:216251653-216251659\n",
        "USH2A\t1:216348792-216348792"
       ]
      },
      {
       "output_type": "stream",
       "stream": "stdout",
       "text": [
        " USH2A\t1:216348786-216348792\n",
        "USH2A\t1:216348807-216348807"
       ]
      },
      {
       "output_type": "stream",
       "stream": "stdout",
       "text": [
        " USH2A\t1:216348801-216348807\n",
        "USH2A\t1:216371845-216371845"
       ]
      },
      {
       "output_type": "stream",
       "stream": "stdout",
       "text": [
        " USH2A\t1:216371839-216371845\n",
        "USH2A\t1:216371889-216371889"
       ]
      },
      {
       "output_type": "stream",
       "stream": "stdout",
       "text": [
        " USH2A\t1:216371883-216371889\n",
        "USH2A\t1:216373262-216373262"
       ]
      },
      {
       "output_type": "stream",
       "stream": "stdout",
       "text": [
        " USH2A\t1:216373256-216373262\n",
        "USH2A\t1:216390820-216390820"
       ]
      },
      {
       "output_type": "stream",
       "stream": "stdout",
       "text": [
        " USH2A\t1:216390814-216390820\n",
        "USH2A\t1:216390881-216390881"
       ]
      },
      {
       "output_type": "stream",
       "stream": "stdout",
       "text": [
        " USH2A\t1:216390875-216390881\n",
        "USH2A\t1:216420207-216420207"
       ]
      },
      {
       "output_type": "stream",
       "stream": "stdout",
       "text": [
        " USH2A\t1:216420201-216420207\n",
        "USH2A\t1:216498908-216498908"
       ]
      },
      {
       "output_type": "stream",
       "stream": "stdout",
       "text": [
        " USH2A\t1:216498902-216498908\n",
        "USH2A\t1:216591941-216591941"
       ]
      },
      {
       "output_type": "stream",
       "stream": "stdout",
       "text": [
        " USH2A\t1:216591935-216591941\n",
        "ESRRG\t1:216896587-216896587"
       ]
      },
      {
       "output_type": "stream",
       "stream": "stdout",
       "text": [
        " ESRRG\t1:216896582-216896588\n",
        "ESRRG\t1:216896587-216896587 ESRRG\t1:216896582-216896588\n",
        "WDR26\t1:224621463-224621463"
       ]
      },
      {
       "output_type": "stream",
       "stream": "stdout",
       "text": [
        " WDR26\t1:224621460-224621466\n",
        "DNAH14\t1:225140371-225140371"
       ]
      },
      {
       "output_type": "stream",
       "stream": "stdout",
       "text": [
        " DNAH14\t1:225140365-225140371\n",
        "DNAH14\t1:225147894-225147894"
       ]
      },
      {
       "output_type": "stream",
       "stream": "stdout",
       "text": [
        " DNAH14\t1:225147888-225147894\n",
        "DNAH14\t1:225155281-225155281"
       ]
      },
      {
       "output_type": "stream",
       "stream": "stdout",
       "text": [
        " DNAH14\t1:225155275-225155281\n",
        "DNAH14\t1:225195233-225195233"
       ]
      },
      {
       "output_type": "stream",
       "stream": "stdout",
       "text": [
        " DNAH14\t1:225195227-225195233\n",
        "DNAH14\t1:225230754-225230754"
       ]
      },
      {
       "output_type": "stream",
       "stream": "stdout",
       "text": [
        " DNAH14\t1:225230748-225230754\n",
        "DNAH14\t1:225239443-225239443"
       ]
      },
      {
       "output_type": "stream",
       "stream": "stdout",
       "text": [
        " DNAH14\t1:225239437-225239443\n",
        "DNAH14\t1:225266935-225266935"
       ]
      },
      {
       "output_type": "stream",
       "stream": "stdout",
       "text": [
        " DNAH14\t1:225266929-225266935\n",
        "DNAH14\t1:225284921-225284921"
       ]
      },
      {
       "output_type": "stream",
       "stream": "stdout",
       "text": [
        " DNAH14\t1:225284915-225284921\n",
        "DNAH14\t1:225306960-225306960"
       ]
      },
      {
       "output_type": "stream",
       "stream": "stdout",
       "text": [
        " DNAH14\t1:225306954-225306960\n",
        "DNAH14\t1:225332281-225332281"
       ]
      },
      {
       "output_type": "stream",
       "stream": "stdout",
       "text": [
        " DNAH14\t1:225332275-225332281\n",
        "DNAH14\t1:225334811-225334811"
       ]
      },
      {
       "output_type": "stream",
       "stream": "stdout",
       "text": [
        " DNAH14\t1:225334805-225334811\n",
        "DNAH14\t1:225334860-225334860"
       ]
      },
      {
       "output_type": "stream",
       "stream": "stdout",
       "text": [
        " DNAH14\t1:225334854-225334860\n",
        "DNAH14\t1:225341452-225341452"
       ]
      },
      {
       "output_type": "stream",
       "stream": "stdout",
       "text": [
        " DNAH14\t1:225341446-225341452\n",
        "DNAH14\t1:225380398-225380398"
       ]
      },
      {
       "output_type": "stream",
       "stream": "stdout",
       "text": [
        " DNAH14\t1:225380392-225380398\n",
        "DNAH14\t1:225380527-225380527"
       ]
      },
      {
       "output_type": "stream",
       "stream": "stdout",
       "text": [
        " DNAH14\t1:225380521-225380527\n",
        "DNAH14\t1:225452973-225452973 DNAH14\t1:225452967-225452973\n",
        "DNAH14\t1:225488627-225488627"
       ]
      },
      {
       "output_type": "stream",
       "stream": "stdout",
       "text": [
        " DNAH14\t1:225488621-225488627\n",
        "DNAH14\t1:225492634-225492634 DNAH14\t1:225492628-225492634\n",
        "DNAH14\t1:225521159-225521159"
       ]
      },
      {
       "output_type": "stream",
       "stream": "stdout",
       "text": [
        " DNAH14\t1:225521153-225521159\n",
        "DNAH14\t1:225533688-225533688"
       ]
      },
      {
       "output_type": "stream",
       "stream": "stdout",
       "text": [
        " DNAH14\t1:225533682-225533688\n",
        "DNAH14\t1:225533740-225533740"
       ]
      },
      {
       "output_type": "stream",
       "stream": "stdout",
       "text": [
        " DNAH14\t1:225533734-225533740\n",
        "DNAH14\t1:225533752-225533752"
       ]
      },
      {
       "output_type": "stream",
       "stream": "stdout",
       "text": [
        " DNAH14\t1:225533746-225533752\n",
        "DNAH14\t1:225533762-225533762"
       ]
      },
      {
       "output_type": "stream",
       "stream": "stdout",
       "text": [
        " DNAH14\t1:225533756-225533762\n",
        "DNAH14\t1:225534348-225534348"
       ]
      },
      {
       "output_type": "stream",
       "stream": "stdout",
       "text": [
        " DNAH14\t1:225534342-225534348\n",
        "DNAH14\t1:225546213-225546213"
       ]
      },
      {
       "output_type": "stream",
       "stream": "stdout",
       "text": [
        " DNAH14\t1:225546207-225546213\n",
        "DNAH14\t1:225568025-225568025"
       ]
      },
      {
       "output_type": "stream",
       "stream": "stdout",
       "text": [
        " DNAH14\t1:225568019-225568025\n",
        "DNAH14\t1:225140371-225140371"
       ]
      },
      {
       "output_type": "stream",
       "stream": "stdout",
       "text": [
        " DNAH14\t1:225140365-225140371\n",
        "DNAH14\t1:225266935-225266935"
       ]
      },
      {
       "output_type": "stream",
       "stream": "stdout",
       "text": [
        " DNAH14\t1:225266929-225266935\n",
        "DNAH14\t1:225306960-225306960"
       ]
      },
      {
       "output_type": "stream",
       "stream": "stdout",
       "text": [
        " DNAH14\t1:225306954-225306960\n",
        "DNAH14\t1:225306960-225306960"
       ]
      },
      {
       "output_type": "stream",
       "stream": "stdout",
       "text": [
        " DNAH14\t1:225306954-225306960\n",
        "DNAH14\t1:225306960-225306960"
       ]
      },
      {
       "output_type": "stream",
       "stream": "stdout",
       "text": [
        " DNAH14\t1:225306954-225306960\n",
        "DNAH14\t1:225306960-225306960"
       ]
      },
      {
       "output_type": "stream",
       "stream": "stdout",
       "text": [
        " DNAH14\t1:225306954-225306960\n",
        "DNAH14\t1:225306960-225306960"
       ]
      },
      {
       "output_type": "stream",
       "stream": "stdout",
       "text": [
        " DNAH14\t1:225306954-225306960\n",
        "DNAH14\t1:225328430-225328431"
       ]
      },
      {
       "output_type": "stream",
       "stream": "stdout",
       "text": [
        " DNAH14\t1:225328424-225328430\n",
        "DNAH14\t1:225334860-225334860"
       ]
      },
      {
       "output_type": "stream",
       "stream": "stdout",
       "text": [
        " DNAH14\t1:225334854-225334860\n",
        "DNAH14\t1:225488627-225488627 DNAH14\t1:225488621-225488627\n",
        "DNAH14\t1:225546213-225546213"
       ]
      },
      {
       "output_type": "stream",
       "stream": "stdout",
       "text": [
        " DNAH14\t1:225546207-225546213\n",
        "DNAH14\t1:225568025-225568025"
       ]
      },
      {
       "output_type": "stream",
       "stream": "stdout",
       "text": [
        " DNAH14\t1:225568019-225568025\n",
        "14100"
       ]
      },
      {
       "output_type": "stream",
       "stream": "stdout",
       "text": [
        "\n",
        "ITPKB\t1:226924426-226924426 ITPKB\t1:226924423-226924429\n",
        "ITPKB\t1:226924456-226924456 ITPKB\t1:226924455-226924461\n",
        "OBSCN\t1:228400246-228400246"
       ]
      },
      {
       "output_type": "stream",
       "stream": "stdout",
       "text": [
        " OBSCN\t1:228400240-228400246\n",
        "OBSCN\t1:228402101-228402101 OBSCN\t1:228402095-228402101\n",
        "OBSCN\t1:228402602-228402602 OBSCN\t1:228402596-228402602\n",
        "OBSCN\t1:228412169-228412169 OBSCN\t1:228412163-228412169\n",
        "OBSCN\t1:228430947-228430947"
       ]
      },
      {
       "output_type": "stream",
       "stream": "stdout",
       "text": [
        " OBSCN\t1:228430941-228430947\n",
        "OBSCN\t1:228432150-228432150 OBSCN\t1:228432144-228432150\n",
        "OBSCN\t1:228432172-228432172 OBSCN\t1:228432166-228432172\n",
        "OBSCN\t1:228432211-228432211"
       ]
      },
      {
       "output_type": "stream",
       "stream": "stdout",
       "text": [
        " OBSCN\t1:228432205-228432211\n",
        "OBSCN\t1:228451893-228451893 OBSCN\t1:228451887-228451893\n",
        "OBSCN\t1:228452078-228452078"
       ]
      },
      {
       "output_type": "stream",
       "stream": "stdout",
       "text": [
        " OBSCN\t1:228452072-228452078\n",
        "OBSCN\t1:228459879-228459879"
       ]
      },
      {
       "output_type": "stream",
       "stream": "stdout",
       "text": [
        " OBSCN\t1:228459873-228459879\n",
        "OBSCN\t1:228462358-228462358"
       ]
      },
      {
       "output_type": "stream",
       "stream": "stdout",
       "text": [
        " OBSCN\t1:228462352-228462358\n",
        "OBSCN\t1:228463619-228463619 OBSCN\t1:228463613-228463619\n",
        "OBSCN\t1:228464221-228464221"
       ]
      },
      {
       "output_type": "stream",
       "stream": "stdout",
       "text": [
        " OBSCN\t1:228464215-228464221\n",
        "OBSCN\t1:228464225-228464226 OBSCN\t1:228464219-228464225\n",
        "OBSCN\t1:228464249-228464250"
       ]
      },
      {
       "output_type": "stream",
       "stream": "stdout",
       "text": [
        " OBSCN\t1:228464243-228464249\n",
        "OBSCN\t1:228464252-228464252 OBSCN\t1:228464246-228464252\n",
        "OBSCN\t1:228464918-228464918"
       ]
      },
      {
       "output_type": "stream",
       "stream": "stdout",
       "text": [
        " OBSCN\t1:228464912-228464918\n",
        "OBSCN\t1:228465346-228465346 OBSCN\t1:228465340-228465346\n",
        "OBSCN\t1:228467646-228467646"
       ]
      },
      {
       "output_type": "stream",
       "stream": "stdout",
       "text": [
        " OBSCN\t1:228467640-228467646\n",
        "OBSCN\t1:228471278-228471278 OBSCN\t1:228471272-228471278\n",
        "OBSCN\t1:228473949-228473949"
       ]
      },
      {
       "output_type": "stream",
       "stream": "stdout",
       "text": [
        " OBSCN\t1:228473943-228473949\n",
        "OBSCN\t1:228475592-228475592"
       ]
      },
      {
       "output_type": "stream",
       "stream": "stdout",
       "text": [
        " OBSCN\t1:228475586-228475592\n",
        "OBSCN\t1:228476543-228476544"
       ]
      },
      {
       "output_type": "stream",
       "stream": "stdout",
       "text": [
        " OBSCN\t1:228476537-228476543\n",
        "OBSCN\t1:228479785-228479785"
       ]
      },
      {
       "output_type": "stream",
       "stream": "stdout",
       "text": [
        " OBSCN\t1:228479779-228479785\n",
        "OBSCN\t1:228480325-228480325"
       ]
      },
      {
       "output_type": "stream",
       "stream": "stdout",
       "text": [
        " OBSCN\t1:228480319-228480325\n",
        "OBSCN\t1:228482539-228482539"
       ]
      },
      {
       "output_type": "stream",
       "stream": "stdout",
       "text": [
        " OBSCN\t1:228482533-228482539\n",
        "OBSCN\t1:228486227-228486227"
       ]
      },
      {
       "output_type": "stream",
       "stream": "stdout",
       "text": [
        " OBSCN\t1:228486221-228486227\n",
        "OBSCN\t1:228486289-228486289"
       ]
      },
      {
       "output_type": "stream",
       "stream": "stdout",
       "text": [
        " OBSCN\t1:228486283-228486289\n",
        "OBSCN\t1:228486990-228486990"
       ]
      },
      {
       "output_type": "stream",
       "stream": "stdout",
       "text": [
        " OBSCN\t1:228486984-228486990\n",
        "OBSCN\t1:228487757-228487757"
       ]
      },
      {
       "output_type": "stream",
       "stream": "stdout",
       "text": [
        " OBSCN\t1:228487751-228487757\n",
        "OBSCN\t1:228491624-228491625"
       ]
      },
      {
       "output_type": "stream",
       "stream": "stdout",
       "text": [
        " OBSCN\t1:228491618-228491624\n",
        "OBSCN\t1:228492905-228492905"
       ]
      },
      {
       "output_type": "stream",
       "stream": "stdout",
       "text": [
        " OBSCN\t1:228492899-228492905\n",
        "OBSCN\t1:228494273-228494273"
       ]
      },
      {
       "output_type": "stream",
       "stream": "stdout",
       "text": [
        " OBSCN\t1:228494267-228494273\n",
        "OBSCN\t1:228494729-228494729"
       ]
      },
      {
       "output_type": "stream",
       "stream": "stdout",
       "text": [
        " OBSCN\t1:228494723-228494729\n",
        "OBSCN\t1:228494979-228494979"
       ]
      },
      {
       "output_type": "stream",
       "stream": "stdout",
       "text": [
        " OBSCN\t1:228494973-228494979\n",
        "OBSCN\t1:228495195-228495195"
       ]
      },
      {
       "output_type": "stream",
       "stream": "stdout",
       "text": [
        " OBSCN\t1:228495189-228495195\n",
        "OBSCN\t1:228495850-228495850"
       ]
      },
      {
       "output_type": "stream",
       "stream": "stdout",
       "text": [
        " OBSCN\t1:228495844-228495850\n",
        "OBSCN\t1:228496062-228496062"
       ]
      },
      {
       "output_type": "stream",
       "stream": "stdout",
       "text": [
        " OBSCN\t1:228496056-228496062\n",
        "OBSCN\t1:228497221-228497221"
       ]
      },
      {
       "output_type": "stream",
       "stream": "stdout",
       "text": [
        " OBSCN\t1:228497215-228497221\n",
        "OBSCN\t1:228506585-228506585"
       ]
      },
      {
       "output_type": "stream",
       "stream": "stdout",
       "text": [
        " OBSCN\t1:228506579-228506585\n",
        "OBSCN\t1:228506947-228506947"
       ]
      },
      {
       "output_type": "stream",
       "stream": "stdout",
       "text": [
        " OBSCN\t1:228506941-228506947\n",
        "OBSCN\t1:228509154-228509154"
       ]
      },
      {
       "output_type": "stream",
       "stream": "stdout",
       "text": [
        " OBSCN\t1:228509148-228509154\n",
        "OBSCN\t1:228509242-228509242"
       ]
      },
      {
       "output_type": "stream",
       "stream": "stdout",
       "text": [
        " OBSCN\t1:228509236-228509242\n",
        "OBSCN\t1:228509882-228509882"
       ]
      },
      {
       "output_type": "stream",
       "stream": "stdout",
       "text": [
        " OBSCN\t1:228509876-228509882\n",
        "OBSCN\t1:228511202-228511202"
       ]
      },
      {
       "output_type": "stream",
       "stream": "stdout",
       "text": [
        " OBSCN\t1:228511196-228511202\n",
        "OBSCN\t1:228521392-228521392"
       ]
      },
      {
       "output_type": "stream",
       "stream": "stdout",
       "text": [
        " OBSCN\t1:228521386-228521392\n",
        "OBSCN\t1:228521396-228521396"
       ]
      },
      {
       "output_type": "stream",
       "stream": "stdout",
       "text": [
        " OBSCN\t1:228521390-228521396\n",
        "OBSCN\t1:228521466-228521466"
       ]
      },
      {
       "output_type": "stream",
       "stream": "stdout",
       "text": [
        " OBSCN\t1:228521460-228521466\n",
        "OBSCN\t1:228525020-228525020"
       ]
      },
      {
       "output_type": "stream",
       "stream": "stdout",
       "text": [
        " OBSCN\t1:228525014-228525020\n",
        "OBSCN\t1:228527796-228527796"
       ]
      },
      {
       "output_type": "stream",
       "stream": "stdout",
       "text": [
        " OBSCN\t1:228527790-228527796\n",
        "OBSCN\t1:228528891-228528891"
       ]
      },
      {
       "output_type": "stream",
       "stream": "stdout",
       "text": [
        " OBSCN\t1:228528885-228528891\n",
        "OBSCN\t1:228529166-228529166"
       ]
      },
      {
       "output_type": "stream",
       "stream": "stdout",
       "text": [
        " OBSCN\t1:228529160-228529166\n",
        "OBSCN\t1:228537694-228537695"
       ]
      },
      {
       "output_type": "stream",
       "stream": "stdout",
       "text": [
        " OBSCN\t1:228537688-228537694\n",
        "OBSCN\t1:228538601-228538601"
       ]
      },
      {
       "output_type": "stream",
       "stream": "stdout",
       "text": [
        " OBSCN\t1:228538595-228538601\n",
        "OBSCN\t1:228547542-228547542"
       ]
      },
      {
       "output_type": "stream",
       "stream": "stdout",
       "text": [
        " OBSCN\t1:228547536-228547542\n",
        "OBSCN\t1:228402602-228402602"
       ]
      },
      {
       "output_type": "stream",
       "stream": "stdout",
       "text": [
        " OBSCN\t1:228402596-228402602\n",
        "OBSCN\t1:228432172-228432172 OBSCN\t1:228432166-228432172\n",
        "OBSCN\t1:228444554-228444554 OBSCN\t1:228444548-228444554\n",
        "OBSCN\t1:228451893-228451893"
       ]
      },
      {
       "output_type": "stream",
       "stream": "stdout",
       "text": [
        " OBSCN\t1:228451887-228451893\n",
        "OBSCN\t1:228464221-228464221 OBSCN\t1:228464215-228464221\n",
        "OBSCN\t1:228464225-228464226"
       ]
      },
      {
       "output_type": "stream",
       "stream": "stdout",
       "text": [
        " OBSCN\t1:228464219-228464225\n",
        "OBSCN\t1:228464918-228464918 OBSCN\t1:228464912-228464918\n",
        "OBSCN\t1:228467646-228467646"
       ]
      },
      {
       "output_type": "stream",
       "stream": "stdout",
       "text": [
        " OBSCN\t1:228467640-228467646\n",
        "OBSCN\t1:228479785-228479785 OBSCN\t1:228479779-228479785\n",
        "OBSCN\t1:228480325-228480325"
       ]
      },
      {
       "output_type": "stream",
       "stream": "stdout",
       "text": [
        " OBSCN\t1:228480319-228480325\n",
        "OBSCN\t1:228481236-228481236 OBSCN\t1:228481230-228481236\n",
        "OBSCN\t1:228482539-228482539"
       ]
      },
      {
       "output_type": "stream",
       "stream": "stdout",
       "text": [
        " OBSCN\t1:228482533-228482539\n",
        "OBSCN\t1:228491624-228491625"
       ]
      },
      {
       "output_type": "stream",
       "stream": "stdout",
       "text": [
        " OBSCN\t1:228491618-228491624\n",
        "OBSCN\t1:228492905-228492905"
       ]
      },
      {
       "output_type": "stream",
       "stream": "stdout",
       "text": [
        " OBSCN\t1:228492899-228492905\n",
        "OBSCN\t1:228495195-228495195"
       ]
      },
      {
       "output_type": "stream",
       "stream": "stdout",
       "text": [
        " OBSCN\t1:228495189-228495195\n",
        "OBSCN\t1:228497221-228497221"
       ]
      },
      {
       "output_type": "stream",
       "stream": "stdout",
       "text": [
        " OBSCN\t1:228497215-228497221\n",
        "OBSCN\t1:228497229-228497229"
       ]
      },
      {
       "output_type": "stream",
       "stream": "stdout",
       "text": [
        " OBSCN\t1:228497223-228497229\n",
        "OBSCN\t1:228503574-228503574"
       ]
      },
      {
       "output_type": "stream",
       "stream": "stdout",
       "text": [
        " OBSCN\t1:228503568-228503574\n",
        "OBSCN\t1:228506585-228506585"
       ]
      },
      {
       "output_type": "stream",
       "stream": "stdout",
       "text": [
        " OBSCN\t1:228506579-228506585\n",
        "OBSCN\t1:228506947-228506947"
       ]
      },
      {
       "output_type": "stream",
       "stream": "stdout",
       "text": [
        " OBSCN\t1:228506941-228506947\n",
        "OBSCN\t1:228509882-228509882"
       ]
      },
      {
       "output_type": "stream",
       "stream": "stdout",
       "text": [
        " OBSCN\t1:228509876-228509882\n",
        "OBSCN\t1:228521396-228521396"
       ]
      },
      {
       "output_type": "stream",
       "stream": "stdout",
       "text": [
        " OBSCN\t1:228521390-228521396\n",
        "OBSCN\t1:228521466-228521466"
       ]
      },
      {
       "output_type": "stream",
       "stream": "stdout",
       "text": [
        " OBSCN\t1:228521460-228521466\n",
        "OBSCN\t1:228537694-228537695"
       ]
      },
      {
       "output_type": "stream",
       "stream": "stdout",
       "text": [
        " OBSCN\t1:228537688-228537694\n",
        "OBSCN\t1:228538601-228538601"
       ]
      },
      {
       "output_type": "stream",
       "stream": "stdout",
       "text": [
        " OBSCN\t1:228538595-228538601\n",
        "OBSCN\t1:228547542-228547542"
       ]
      },
      {
       "output_type": "stream",
       "stream": "stdout",
       "text": [
        " OBSCN\t1:228547536-228547542\n",
        "DISC1\t1:231829666-231829666"
       ]
      },
      {
       "output_type": "stream",
       "stream": "stdout",
       "text": [
        " DISC1\t1:231829660-231829666\n",
        "DISC1\t1:231830117-231830117 DISC1\t1:231830111-231830117\n",
        "DISC1\t1:231830350-231830350"
       ]
      },
      {
       "output_type": "stream",
       "stream": "stdout",
       "text": [
        " DISC1\t1:231830344-231830350\n",
        "DISC1\t1:231830382-231830382 DISC1\t1:231830376-231830382\n",
        "DISC1\t1:231885724-231885724"
       ]
      },
      {
       "output_type": "stream",
       "stream": "stdout",
       "text": [
        " DISC1\t1:231885718-231885724\n",
        "DISC1\t1:231935862-231935862"
       ]
      },
      {
       "output_type": "stream",
       "stream": "stdout",
       "text": [
        " DISC1\t1:231935856-231935862\n",
        "DISC1\t1:231935862-231935862"
       ]
      },
      {
       "output_type": "stream",
       "stream": "stdout",
       "text": [
        " DISC1\t1:231935856-231935862\n",
        "DISC1\t1:231885724-231885724"
       ]
      },
      {
       "output_type": "stream",
       "stream": "stdout",
       "text": [
        " DISC1\t1:231885718-231885724\n",
        "SIPA1L2\t1:232650538-232650538"
       ]
      },
      {
       "output_type": "stream",
       "stream": "stdout",
       "text": [
        " SIPA1L2\t1:232650532-232650538\n",
        "SIPA1L2\t1:232650900-232650900 SIPA1L2\t1:232650898-232650904\n",
        "SIPA1L2\t1:232650538-232650538 SIPA1L2\t1:232650532-232650538\n",
        "ADSS\t1:244615099-244615099"
       ]
      },
      {
       "output_type": "stream",
       "stream": "stdout",
       "text": [
        " ADSS\t1:244615096-244615102\n",
        "14200"
       ]
      },
      {
       "output_type": "stream",
       "stream": "stdout",
       "text": [
        "\n",
        "TRIB2\t2:12882823-12882824"
       ]
      },
      {
       "output_type": "stream",
       "stream": "stdout",
       "text": [
        " TRIB2\t2:12882817-12882823\n",
        "14300"
       ]
      },
      {
       "output_type": "stream",
       "stream": "stdout",
       "text": [
        "\n",
        "PTRHD1\t2:25016138-25016138"
       ]
      },
      {
       "output_type": "stream",
       "stream": "stdout",
       "text": [
        " PTRHD1\t2:25016133-25016139\n",
        "CENPO\t2:25042510-25042510 CENPO\t2:25042508-25042514\n",
        "GPR113\t2:26533779-26533779"
       ]
      },
      {
       "output_type": "stream",
       "stream": "stdout",
       "text": [
        " GPR113\t2:26533773-26533779\n",
        "GPR113\t2:26534175-26534175 GPR113\t2:26534169-26534175\n",
        "GPR113\t2:26534505-26534505 GPR113\t2:26534499-26534505\n",
        "GPR113\t2:26536705-26536705 GPR113\t2:26536699-26536705\n",
        "GPR113\t2:26538505-26538505 GPR113\t2:26538499-26538505\n",
        "GPR113\t2:26541774-26541774 GPR113\t2:26541768-26541774\n",
        "GPR113\t2:26533779-26533779 GPR113\t2:26533773-26533779\n",
        "GPR113\t2:26534505-26534505 GPR113\t2:26534499-26534505\n",
        "GPR113\t2:26534831-26534831 GPR113\t2:26534825-26534831\n",
        "GPR113\t2:26538505-26538505 GPR113\t2:26538499-26538505\n",
        "OTOF\t2:26687737-26687737"
       ]
      },
      {
       "output_type": "stream",
       "stream": "stdout",
       "text": [
        " OTOF\t2:26687731-26687737\n",
        "OTOF\t2:26687737-26687737 OTOF\t2:26687731-26687737\n",
        "OTOF\t2:26687737-26687737"
       ]
      },
      {
       "output_type": "stream",
       "stream": "stdout",
       "text": [
        " OTOF\t2:26687731-26687737\n",
        "OTOF\t2:26688892-26688892 OTOF\t2:26688886-26688892\n",
        "OTOF\t2:26688938-26688938"
       ]
      },
      {
       "output_type": "stream",
       "stream": "stdout",
       "text": [
        " OTOF\t2:26688932-26688938\n",
        "OTOF\t2:26690299-26690299 OTOF\t2:26690293-26690299\n",
        "OTOF\t2:26693475-26693475"
       ]
      },
      {
       "output_type": "stream",
       "stream": "stdout",
       "text": [
        " OTOF\t2:26693469-26693475\n",
        "OTOF\t2:26693990-26693990 OTOF\t2:26693984-26693990\n",
        "OTOF\t2:26695482-26695482"
       ]
      },
      {
       "output_type": "stream",
       "stream": "stdout",
       "text": [
        " OTOF\t2:26695476-26695482\n",
        "OTOF\t2:26696085-26696085 OTOF\t2:26696079-26696085\n",
        "OTOF\t2:26696148-26696148"
       ]
      },
      {
       "output_type": "stream",
       "stream": "stdout",
       "text": [
        " OTOF\t2:26696142-26696148\n",
        "OTOF\t2:26696942-26696942 OTOF\t2:26696936-26696942\n",
        "OTOF\t2:26697524-26697524"
       ]
      },
      {
       "output_type": "stream",
       "stream": "stdout",
       "text": [
        " OTOF\t2:26697518-26697524\n",
        "OTOF\t2:26698897-26698897 OTOF\t2:26698891-26698897\n",
        "OTOF\t2:26700694-26700695"
       ]
      },
      {
       "output_type": "stream",
       "stream": "stdout",
       "text": [
        " OTOF\t2:26700688-26700694\n",
        "OTOF\t2:26706481-26706481"
       ]
      },
      {
       "output_type": "stream",
       "stream": "stdout",
       "text": [
        " OTOF\t2:26706475-26706481\n",
        "OTOF\t2:26707384-26707384 OTOF\t2:26707378-26707384\n",
        "OTOF\t2:26707384-26707384"
       ]
      },
      {
       "output_type": "stream",
       "stream": "stdout",
       "text": [
        " OTOF\t2:26707378-26707384\n",
        "OTOF\t2:26739336-26739336 OTOF\t2:26739330-26739336\n",
        "OTOF\t2:26781363-26781363 OTOF\t2:26781357-26781363\n",
        "OTOF\t2:26688892-26688892"
       ]
      },
      {
       "output_type": "stream",
       "stream": "stdout",
       "text": [
        " OTOF\t2:26688886-26688892\n",
        "OTOF\t2:26688938-26688938 OTOF\t2:26688932-26688938\n",
        "OTOF\t2:26690299-26690299"
       ]
      },
      {
       "output_type": "stream",
       "stream": "stdout",
       "text": [
        " OTOF\t2:26690293-26690299\n",
        "OTOF\t2:26693990-26693990 OTOF\t2:26693984-26693990\n",
        "OTOF\t2:26697524-26697524"
       ]
      },
      {
       "output_type": "stream",
       "stream": "stdout",
       "text": [
        " OTOF\t2:26697518-26697524\n",
        "OTOF\t2:26698897-26698897 OTOF\t2:26698891-26698897\n",
        "OTOF\t2:26706481-26706481"
       ]
      },
      {
       "output_type": "stream",
       "stream": "stdout",
       "text": [
        " OTOF\t2:26706475-26706481\n",
        "OTOF\t2:26707384-26707384 OTOF\t2:26707378-26707384\n",
        "OTOF\t2:26707384-26707384"
       ]
      },
      {
       "output_type": "stream",
       "stream": "stdout",
       "text": [
        " OTOF\t2:26707378-26707384\n",
        "OTOF\t2:26739336-26739336 OTOF\t2:26739330-26739336\n",
        "AGBL5\t2:27275875-27275875"
       ]
      },
      {
       "output_type": "stream",
       "stream": "stdout",
       "text": [
        " AGBL5\t2:27275869-27275875\n",
        "AGBL5\t2:27276397-27276397 AGBL5\t2:27276391-27276397\n",
        "AGBL5\t2:27277556-27277556 AGBL5\t2:27277550-27277556\n",
        "AGBL5\t2:27277999-27277999 AGBL5\t2:27277993-27277999\n",
        "AGBL5\t2:27280266-27280266 AGBL5\t2:27280260-27280266\n",
        "AGBL5\t2:27275875-27275875 AGBL5\t2:27275869-27275875\n",
        "BRE\t2:28117484-28117484"
       ]
      },
      {
       "output_type": "stream",
       "stream": "stdout",
       "text": [
        " BRE\t2:28117478-28117484\n",
        "BRE\t2:28248273-28248273"
       ]
      },
      {
       "output_type": "stream",
       "stream": "stdout",
       "text": [
        " BRE\t2:28248267-28248273\n",
        "BRE\t2:28268663-28268663"
       ]
      },
      {
       "output_type": "stream",
       "stream": "stdout",
       "text": [
        " BRE\t2:28268657-28268663\n",
        "BRE\t2:28464261-28464261"
       ]
      },
      {
       "output_type": "stream",
       "stream": "stdout",
       "text": [
        " BRE\t2:28464255-28464261\n",
        "BRE\t2:28521317-28521317"
       ]
      },
      {
       "output_type": "stream",
       "stream": "stdout",
       "text": [
        " BRE\t2:28521311-28521317\n",
        "BRE\t2:28521330-28521330"
       ]
      },
      {
       "output_type": "stream",
       "stream": "stdout",
       "text": [
        " BRE\t2:28521324-28521330\n",
        "BRE\t2:28561332-28561333"
       ]
      },
      {
       "output_type": "stream",
       "stream": "stdout",
       "text": [
        " BRE\t2:28561326-28561332\n",
        "BRE\t2:28117484-28117484"
       ]
      },
      {
       "output_type": "stream",
       "stream": "stdout",
       "text": [
        " BRE\t2:28117478-28117484\n",
        "BRE\t2:28464261-28464261"
       ]
      },
      {
       "output_type": "stream",
       "stream": "stdout",
       "text": [
        " BRE\t2:28464255-28464261\n",
        "BRE\t2:28521317-28521317"
       ]
      },
      {
       "output_type": "stream",
       "stream": "stdout",
       "text": [
        " BRE\t2:28521311-28521317\n",
        "BRE\t2:28521330-28521330"
       ]
      },
      {
       "output_type": "stream",
       "stream": "stdout",
       "text": [
        " BRE\t2:28521324-28521330\n",
        "14400"
       ]
      },
      {
       "output_type": "stream",
       "stream": "stdout",
       "text": [
        "\n",
        "ATL2\t2:38523229-38523229"
       ]
      },
      {
       "output_type": "stream",
       "stream": "stdout",
       "text": [
        " ATL2\t2:38523223-38523229\n",
        "ATL2\t2:38525438-38525438 ATL2\t2:38525432-38525438\n",
        "ATL2\t2:38527429-38527429"
       ]
      },
      {
       "output_type": "stream",
       "stream": "stdout",
       "text": [
        " ATL2\t2:38527423-38527429\n",
        "ATL2\t2:38537462-38537462 ATL2\t2:38537456-38537462\n",
        "ATL2\t2:38570580-38570580 ATL2\t2:38570574-38570580\n",
        "ATL2\t2:38527429-38527429"
       ]
      },
      {
       "output_type": "stream",
       "stream": "stdout",
       "text": [
        " ATL2\t2:38527423-38527429\n",
        "PPM1B\t2:44396108-44396108"
       ]
      },
      {
       "output_type": "stream",
       "stream": "stdout",
       "text": [
        " PPM1B\t2:44396102-44396108\n",
        "PPM1B\t2:44428733-44428733 PPM1B\t2:44428727-44428733\n",
        "PPM1B\t2:44429052-44429052"
       ]
      },
      {
       "output_type": "stream",
       "stream": "stdout",
       "text": [
        " PPM1B\t2:44429046-44429052\n",
        "PPM1B\t2:44457659-44457659 PPM1B\t2:44457653-44457659\n",
        "PPM1B\t2:44457678-44457678 PPM1B\t2:44457672-44457678\n",
        "PPM1B\t2:44428733-44428733"
       ]
      },
      {
       "output_type": "stream",
       "stream": "stdout",
       "text": [
        " PPM1B\t2:44428727-44428733\n",
        "PPM1B\t2:44429052-44429052 PPM1B\t2:44429046-44429052\n",
        "PPM1B\t2:44457659-44457659 PPM1B\t2:44457653-44457659\n",
        "PPM1B\t2:44457678-44457678"
       ]
      },
      {
       "output_type": "stream",
       "stream": "stdout",
       "text": [
        " PPM1B\t2:44457672-44457678\n",
        "CALM2\t2:47403600-47403600"
       ]
      },
      {
       "output_type": "stream",
       "stream": "stdout",
       "text": [
        " CALM2\t2:47403595-47403601\n",
        "KIAA1841\t2:61297579-61297579"
       ]
      },
      {
       "output_type": "stream",
       "stream": "stdout",
       "text": [
        " KIAA1841\t2:61297573-61297579\n",
        "KIAA1841\t2:61315524-61315524 KIAA1841\t2:61315518-61315524\n",
        "KIAA1841\t2:61315532-61315534 KIAA1841\t2:61315526-61315532\n",
        "KIAA1841\t2:61324843-61324843"
       ]
      },
      {
       "output_type": "stream",
       "stream": "stdout",
       "text": [
        " KIAA1841\t2:61324837-61324843\n",
        "KIAA1841\t2:61343192-61343192 KIAA1841\t2:61343186-61343192\n",
        "KIAA1841\t2:61343192-61343192 KIAA1841\t2:61343186-61343192\n",
        "KIAA1841\t2:61297579-61297579 KIAA1841\t2:61297573-61297579\n",
        "KIAA1841\t2:61343192-61343192 KIAA1841\t2:61343186-61343192\n",
        "14500"
       ]
      },
      {
       "output_type": "stream",
       "stream": "stdout",
       "text": [
        "\n",
        "14600"
       ]
      },
      {
       "output_type": "stream",
       "stream": "stdout",
       "text": [
        "\n",
        "RNF103\t2:86831014-86831014"
       ]
      },
      {
       "output_type": "stream",
       "stream": "stdout",
       "text": [
        " RNF103\t2:86831008-86831014\n",
        "RNF103\t2:86831287-86831287 RNF103\t2:86831281-86831287\n",
        "RNF103\t2:86831694-86831694 RNF103\t2:86831688-86831694\n",
        "RNF103\t2:86832076-86832076 RNF103\t2:86832070-86832076\n",
        "RNF103\t2:86832518-86832518 RNF103\t2:86832512-86832518\n",
        "RNF103\t2:86847539-86847539 RNF103\t2:86847533-86847539\n",
        "RNF103\t2:86831287-86831287"
       ]
      },
      {
       "output_type": "stream",
       "stream": "stdout",
       "text": [
        " RNF103\t2:86831281-86831287\n",
        "RNF103\t2:86832076-86832076 RNF103\t2:86832070-86832076\n",
        "CD8A\t2:87017658-87017658 CD8A\t2:87017656-87017662\n",
        "PROM2\t2:95942342-95942342"
       ]
      },
      {
       "output_type": "stream",
       "stream": "stdout",
       "text": [
        " PROM2\t2:95942336-95942342\n",
        "PROM2\t2:95944749-95944749 PROM2\t2:95944743-95944749\n",
        "PROM2\t2:95945629-95945629 PROM2\t2:95945623-95945629\n",
        "PROM2\t2:95946989-95946989 PROM2\t2:95946983-95946989\n",
        "PROM2\t2:95951442-95951442 PROM2\t2:95951436-95951442\n",
        "PROM2\t2:95952919-95952919 PROM2\t2:95952913-95952919\n",
        "PROM2\t2:95944749-95944749 PROM2\t2:95944743-95944749\n",
        "PROM2\t2:95945629-95945629 PROM2\t2:95945623-95945629\n",
        "PROM2\t2:95952919-95952919 PROM2\t2:95952913-95952919\n",
        "MGAT4A\t2:99242246-99242246"
       ]
      },
      {
       "output_type": "stream",
       "stream": "stdout",
       "text": [
        " MGAT4A\t2:99242240-99242246\n",
        "MGAT4A\t2:99253041-99253041 MGAT4A\t2:99253035-99253041\n",
        "MGAT4A\t2:99256589-99256590 MGAT4A\t2:99256583-99256589\n",
        "MGAT4A\t2:99256673-99256676 MGAT4A\t2:99256667-99256673\n",
        "MGAT4A\t2:99272904-99272904"
       ]
      },
      {
       "output_type": "stream",
       "stream": "stdout",
       "text": [
        " MGAT4A\t2:99272898-99272904\n",
        "MGAT4A\t2:99274686-99274686 MGAT4A\t2:99274680-99274686\n",
        "MGAT4A\t2:99279578-99279578"
       ]
      },
      {
       "output_type": "stream",
       "stream": "stdout",
       "text": [
        " MGAT4A\t2:99279572-99279578\n",
        "MGAT4A\t2:99279578-99279578 MGAT4A\t2:99279572-99279578\n",
        "MGAT4A\t2:99279812-99279812"
       ]
      },
      {
       "output_type": "stream",
       "stream": "stdout",
       "text": [
        " MGAT4A\t2:99279806-99279812\n",
        "MGAT4A\t2:99256673-99256676 MGAT4A\t2:99256667-99256673\n",
        "MGAT4A\t2:99272904-99272904"
       ]
      },
      {
       "output_type": "stream",
       "stream": "stdout",
       "text": [
        " MGAT4A\t2:99272898-99272904\n",
        "MGAT4A\t2:99279578-99279578 MGAT4A\t2:99279572-99279578\n",
        "14700\n",
        "IL1RL1\t2:102954653-102954653"
       ]
      },
      {
       "output_type": "stream",
       "stream": "stdout",
       "text": [
        " IL1RL1\t2:102954647-102954653\n",
        "IL1RL1\t2:102955408-102955408 IL1RL1\t2:102955402-102955408\n",
        "IL1RL1\t2:102957716-102957716 IL1RL1\t2:102957710-102957716\n",
        "IL1RL1\t2:102959639-102959639"
       ]
      },
      {
       "output_type": "stream",
       "stream": "stdout",
       "text": [
        " IL1RL1\t2:102959633-102959639\n",
        "EPB41L5\t2:120799675-120799675"
       ]
      },
      {
       "output_type": "stream",
       "stream": "stdout",
       "text": [
        " EPB41L5\t2:120799669-120799675\n",
        "EPB41L5\t2:120831738-120831738"
       ]
      },
      {
       "output_type": "stream",
       "stream": "stdout",
       "text": [
        " EPB41L5\t2:120831732-120831738\n",
        "EPB41L5\t2:120831738-120831738"
       ]
      },
      {
       "output_type": "stream",
       "stream": "stdout",
       "text": [
        " EPB41L5\t2:120831732-120831738\n",
        "EPB41L5\t2:120836080-120836080"
       ]
      },
      {
       "output_type": "stream",
       "stream": "stdout",
       "text": [
        " EPB41L5\t2:120836074-120836080\n",
        "EPB41L5\t2:120848015-120848015"
       ]
      },
      {
       "output_type": "stream",
       "stream": "stdout",
       "text": [
        " EPB41L5\t2:120848009-120848015\n",
        "EPB41L5\t2:120848067-120848067"
       ]
      },
      {
       "output_type": "stream",
       "stream": "stdout",
       "text": [
        " EPB41L5\t2:120848061-120848067\n",
        "EPB41L5\t2:120903830-120903830 EPB41L5\t2:120903824-120903830\n",
        "EPB41L5\t2:120918261-120918261"
       ]
      },
      {
       "output_type": "stream",
       "stream": "stdout",
       "text": [
        " EPB41L5\t2:120918255-120918261\n",
        "EPB41L5\t2:120918514-120918514 EPB41L5\t2:120918508-120918514\n",
        "EPB41L5\t2:120918514-120918514"
       ]
      },
      {
       "output_type": "stream",
       "stream": "stdout",
       "text": [
        " EPB41L5\t2:120918508-120918514\n",
        "EPB41L5\t2:120799675-120799675"
       ]
      },
      {
       "output_type": "stream",
       "stream": "stdout",
       "text": [
        " EPB41L5\t2:120799669-120799675\n",
        "EPB41L5\t2:120831738-120831738"
       ]
      },
      {
       "output_type": "stream",
       "stream": "stdout",
       "text": [
        " EPB41L5\t2:120831732-120831738\n",
        "EPB41L5\t2:120848015-120848015"
       ]
      },
      {
       "output_type": "stream",
       "stream": "stdout",
       "text": [
        " EPB41L5\t2:120848009-120848015\n",
        "EPB41L5\t2:120903830-120903830 EPB41L5\t2:120903824-120903830\n",
        "EPB41L5\t2:120918514-120918514"
       ]
      },
      {
       "output_type": "stream",
       "stream": "stdout",
       "text": [
        " EPB41L5\t2:120918508-120918514\n",
        "14800\n",
        "CYTIP\t2:158300389-158300389"
       ]
      },
      {
       "output_type": "stream",
       "stream": "stdout",
       "text": [
        " CYTIP\t2:158300389-158300395\n",
        "14900"
       ]
      },
      {
       "output_type": "stream",
       "stream": "stdout",
       "text": [
        "\n",
        "KCNH7\t2:163228505-163228505"
       ]
      },
      {
       "output_type": "stream",
       "stream": "stdout",
       "text": [
        " KCNH7\t2:163228499-163228505\n",
        "KCNH7\t2:163236470-163236470"
       ]
      },
      {
       "output_type": "stream",
       "stream": "stdout",
       "text": [
        " KCNH7\t2:163236464-163236470\n",
        "KCNH7\t2:163241275-163241275"
       ]
      },
      {
       "output_type": "stream",
       "stream": "stdout",
       "text": [
        " KCNH7\t2:163241269-163241275\n",
        "KCNH7\t2:163241399-163241399"
       ]
      },
      {
       "output_type": "stream",
       "stream": "stdout",
       "text": [
        " KCNH7\t2:163241393-163241399\n",
        "KCNH7\t2:163256808-163256808"
       ]
      },
      {
       "output_type": "stream",
       "stream": "stdout",
       "text": [
        " KCNH7\t2:163256802-163256808\n",
        "KCNH7\t2:163256927-163256928"
       ]
      },
      {
       "output_type": "stream",
       "stream": "stdout",
       "text": [
        " KCNH7\t2:163256921-163256927\n",
        "KCNH7\t2:163291796-163291796"
       ]
      },
      {
       "output_type": "stream",
       "stream": "stdout",
       "text": [
        " KCNH7\t2:163291790-163291796\n",
        "KCNH7\t2:163291915-163291915"
       ]
      },
      {
       "output_type": "stream",
       "stream": "stdout",
       "text": [
        " KCNH7\t2:163291909-163291915\n",
        "KCNH7\t2:163291988-163291988"
       ]
      },
      {
       "output_type": "stream",
       "stream": "stdout",
       "text": [
        " KCNH7\t2:163291982-163291988\n",
        "KCNH7\t2:163302698-163302698"
       ]
      },
      {
       "output_type": "stream",
       "stream": "stdout",
       "text": [
        " KCNH7\t2:163302692-163302698\n",
        "KCNH7\t2:163302895-163302895"
       ]
      },
      {
       "output_type": "stream",
       "stream": "stdout",
       "text": [
        " KCNH7\t2:163302889-163302895\n",
        "KCNH7\t2:163374255-163374255"
       ]
      },
      {
       "output_type": "stream",
       "stream": "stdout",
       "text": [
        " KCNH7\t2:163374249-163374255\n",
        "KCNH7\t2:163374255-163374255"
       ]
      },
      {
       "output_type": "stream",
       "stream": "stdout",
       "text": [
        " KCNH7\t2:163374249-163374255\n",
        "KCNH7\t2:163374255-163374255"
       ]
      },
      {
       "output_type": "stream",
       "stream": "stdout",
       "text": [
        " KCNH7\t2:163374249-163374255\n",
        "KCNH7\t2:163693210-163693210"
       ]
      },
      {
       "output_type": "stream",
       "stream": "stdout",
       "text": [
        " KCNH7\t2:163693204-163693210\n",
        "KCNH7\t2:163694986-163694986"
       ]
      },
      {
       "output_type": "stream",
       "stream": "stdout",
       "text": [
        " KCNH7\t2:163694980-163694986\n",
        "KCNH7\t2:163236470-163236470"
       ]
      },
      {
       "output_type": "stream",
       "stream": "stdout",
       "text": [
        " KCNH7\t2:163236464-163236470\n",
        "KCNH7\t2:163241275-163241275"
       ]
      },
      {
       "output_type": "stream",
       "stream": "stdout",
       "text": [
        " KCNH7\t2:163241269-163241275\n",
        "KCNH7\t2:163291915-163291915"
       ]
      },
      {
       "output_type": "stream",
       "stream": "stdout",
       "text": [
        " KCNH7\t2:163291909-163291915\n",
        "KCNH7\t2:163302698-163302698"
       ]
      },
      {
       "output_type": "stream",
       "stream": "stdout",
       "text": [
        " KCNH7\t2:163302692-163302698\n",
        "KCNH7\t2:163302895-163302895"
       ]
      },
      {
       "output_type": "stream",
       "stream": "stdout",
       "text": [
        " KCNH7\t2:163302889-163302895\n",
        "KCNH7\t2:163693155-163693155"
       ]
      },
      {
       "output_type": "stream",
       "stream": "stdout",
       "text": [
        " KCNH7\t2:163693149-163693155\n",
        "KCNH7\t2:163694986-163694986"
       ]
      },
      {
       "output_type": "stream",
       "stream": "stdout",
       "text": [
        " KCNH7\t2:163694980-163694986\n",
        "XIRP2\t2:167760060-167760060"
       ]
      },
      {
       "output_type": "stream",
       "stream": "stdout",
       "text": [
        " XIRP2\t2:167760054-167760060\n",
        "XIRP2\t2:167760086-167760086"
       ]
      },
      {
       "output_type": "stream",
       "stream": "stdout",
       "text": [
        " XIRP2\t2:167760080-167760086\n",
        "XIRP2\t2:167760155-167760155"
       ]
      },
      {
       "output_type": "stream",
       "stream": "stdout",
       "text": [
        " XIRP2\t2:167760149-167760155\n",
        "XIRP2\t2:168074694-168074694"
       ]
      },
      {
       "output_type": "stream",
       "stream": "stdout",
       "text": [
        " XIRP2\t2:168074688-168074694\n",
        "XIRP2\t2:168074744-168074744"
       ]
      },
      {
       "output_type": "stream",
       "stream": "stdout",
       "text": [
        " XIRP2\t2:168074738-168074744\n",
        "XIRP2\t2:168099266-168099266"
       ]
      },
      {
       "output_type": "stream",
       "stream": "stdout",
       "text": [
        " XIRP2\t2:168099260-168099266\n",
        "XIRP2\t2:168099578-168099578"
       ]
      },
      {
       "output_type": "stream",
       "stream": "stdout",
       "text": [
        " XIRP2\t2:168099572-168099578\n",
        "XIRP2\t2:168100303-168100303"
       ]
      },
      {
       "output_type": "stream",
       "stream": "stdout",
       "text": [
        " XIRP2\t2:168100297-168100303\n",
        "XIRP2\t2:168100820-168100820"
       ]
      },
      {
       "output_type": "stream",
       "stream": "stdout",
       "text": [
        " XIRP2\t2:168100814-168100820\n",
        "XIRP2\t2:168100929-168100929"
       ]
      },
      {
       "output_type": "stream",
       "stream": "stdout",
       "text": [
        " XIRP2\t2:168100923-168100929\n",
        "XIRP2\t2:168101260-168101260"
       ]
      },
      {
       "output_type": "stream",
       "stream": "stdout",
       "text": [
        " XIRP2\t2:168101254-168101260\n",
        "XIRP2\t2:168101657-168101657"
       ]
      },
      {
       "output_type": "stream",
       "stream": "stdout",
       "text": [
        " XIRP2\t2:168101651-168101657\n",
        "XIRP2\t2:168101752-168101752"
       ]
      },
      {
       "output_type": "stream",
       "stream": "stdout",
       "text": [
        " XIRP2\t2:168101746-168101752\n",
        "XIRP2\t2:168101809-168101809"
       ]
      },
      {
       "output_type": "stream",
       "stream": "stdout",
       "text": [
        " XIRP2\t2:168101803-168101809\n",
        "XIRP2\t2:168101984-168101984"
       ]
      },
      {
       "output_type": "stream",
       "stream": "stdout",
       "text": [
        " XIRP2\t2:168101978-168101984\n",
        "XIRP2\t2:168102294-168102294"
       ]
      },
      {
       "output_type": "stream",
       "stream": "stdout",
       "text": [
        " XIRP2\t2:168102288-168102294\n",
        "XIRP2\t2:168102346-168102346"
       ]
      },
      {
       "output_type": "stream",
       "stream": "stdout",
       "text": [
        " XIRP2\t2:168102340-168102346\n",
        "XIRP2\t2:168102468-168102468"
       ]
      },
      {
       "output_type": "stream",
       "stream": "stdout",
       "text": [
        " XIRP2\t2:168102462-168102468\n",
        "XIRP2\t2:168102873-168102873"
       ]
      },
      {
       "output_type": "stream",
       "stream": "stdout",
       "text": [
        " XIRP2\t2:168102867-168102873\n",
        "XIRP2\t2:168103264-168103264"
       ]
      },
      {
       "output_type": "stream",
       "stream": "stdout",
       "text": [
        " XIRP2\t2:168103258-168103264\n",
        "XIRP2\t2:168103371-168103371"
       ]
      },
      {
       "output_type": "stream",
       "stream": "stdout",
       "text": [
        " XIRP2\t2:168103365-168103371\n",
        "XIRP2\t2:168103377-168103377"
       ]
      },
      {
       "output_type": "stream",
       "stream": "stdout",
       "text": [
        " XIRP2\t2:168103371-168103377\n",
        "XIRP2\t2:168103495-168103495"
       ]
      },
      {
       "output_type": "stream",
       "stream": "stdout",
       "text": [
        " XIRP2\t2:168103489-168103495\n",
        "XIRP2\t2:168103710-168103710"
       ]
      },
      {
       "output_type": "stream",
       "stream": "stdout",
       "text": [
        " XIRP2\t2:168103704-168103710\n",
        "XIRP2\t2:168104572-168104572"
       ]
      },
      {
       "output_type": "stream",
       "stream": "stdout",
       "text": [
        " XIRP2\t2:168104566-168104572\n",
        "XIRP2\t2:168104724-168104724"
       ]
      },
      {
       "output_type": "stream",
       "stream": "stdout",
       "text": [
        " XIRP2\t2:168104718-168104724\n",
        "XIRP2\t2:168104843-168104843"
       ]
      },
      {
       "output_type": "stream",
       "stream": "stdout",
       "text": [
        " XIRP2\t2:168104837-168104843\n",
        "XIRP2\t2:168104946-168104946"
       ]
      },
      {
       "output_type": "stream",
       "stream": "stdout",
       "text": [
        " XIRP2\t2:168104940-168104946\n",
        "XIRP2\t2:168105004-168105004"
       ]
      },
      {
       "output_type": "stream",
       "stream": "stdout",
       "text": [
        " XIRP2\t2:168104998-168105004\n",
        "XIRP2\t2:168105391-168105391"
       ]
      },
      {
       "output_type": "stream",
       "stream": "stdout",
       "text": [
        " XIRP2\t2:168105385-168105391\n",
        "XIRP2\t2:168105425-168105425"
       ]
      },
      {
       "output_type": "stream",
       "stream": "stdout",
       "text": [
        " XIRP2\t2:168105419-168105425\n",
        "XIRP2\t2:168106123-168106123"
       ]
      },
      {
       "output_type": "stream",
       "stream": "stdout",
       "text": [
        " XIRP2\t2:168106117-168106123\n",
        "XIRP2\t2:168106216-168106216"
       ]
      },
      {
       "output_type": "stream",
       "stream": "stdout",
       "text": [
        " XIRP2\t2:168106210-168106216\n",
        "XIRP2\t2:168106293-168106293"
       ]
      },
      {
       "output_type": "stream",
       "stream": "stdout",
       "text": [
        " XIRP2\t2:168106287-168106293\n",
        "XIRP2\t2:168106546-168106546"
       ]
      },
      {
       "output_type": "stream",
       "stream": "stdout",
       "text": [
        " XIRP2\t2:168106540-168106546\n",
        "XIRP2\t2:168106560-168106560"
       ]
      },
      {
       "output_type": "stream",
       "stream": "stdout",
       "text": [
        " XIRP2\t2:168106554-168106560\n",
        "XIRP2\t2:168106882-168106882"
       ]
      },
      {
       "output_type": "stream",
       "stream": "stdout",
       "text": [
        " XIRP2\t2:168106876-168106882\n",
        "XIRP2\t2:168107125-168107125"
       ]
      },
      {
       "output_type": "stream",
       "stream": "stdout",
       "text": [
        " XIRP2\t2:168107119-168107125\n",
        "XIRP2\t2:168107180-168107180"
       ]
      },
      {
       "output_type": "stream",
       "stream": "stdout",
       "text": [
        " XIRP2\t2:168107174-168107180\n",
        "XIRP2\t2:168107195-168107195"
       ]
      },
      {
       "output_type": "stream",
       "stream": "stdout",
       "text": [
        " XIRP2\t2:168107189-168107195\n",
        "XIRP2\t2:168107319-168107319"
       ]
      },
      {
       "output_type": "stream",
       "stream": "stdout",
       "text": [
        " XIRP2\t2:168107313-168107319\n",
        "XIRP2\t2:168107363-168107363"
       ]
      },
      {
       "output_type": "stream",
       "stream": "stdout",
       "text": [
        " XIRP2\t2:168107357-168107363\n",
        "XIRP2\t2:168107692-168107692"
       ]
      },
      {
       "output_type": "stream",
       "stream": "stdout",
       "text": [
        " XIRP2\t2:168107686-168107692\n",
        "XIRP2\t2:168107830-168107830"
       ]
      },
      {
       "output_type": "stream",
       "stream": "stdout",
       "text": [
        " XIRP2\t2:168107824-168107830\n",
        "XIRP2\t2:168108454-168108454"
       ]
      },
      {
       "output_type": "stream",
       "stream": "stdout",
       "text": [
        " XIRP2\t2:168108448-168108454\n",
        "XIRP2\t2:168110571-168110571"
       ]
      },
      {
       "output_type": "stream",
       "stream": "stdout",
       "text": [
        " XIRP2\t2:168110565-168110571\n",
        "XIRP2\t2:168114995-168114995"
       ]
      },
      {
       "output_type": "stream",
       "stream": "stdout",
       "text": [
        " XIRP2\t2:168114989-168114995\n",
        "XIRP2\t2:168115459-168115459"
       ]
      },
      {
       "output_type": "stream",
       "stream": "stdout",
       "text": [
        " XIRP2\t2:168115453-168115459\n",
        "XIRP2\t2:168115717-168115717"
       ]
      },
      {
       "output_type": "stream",
       "stream": "stdout",
       "text": [
        " XIRP2\t2:168115711-168115717\n",
        "XIRP2\t2:168115717-168115717"
       ]
      },
      {
       "output_type": "stream",
       "stream": "stdout",
       "text": [
        " XIRP2\t2:168115711-168115717\n",
        "XIRP2\t2:168115850-168115850"
       ]
      },
      {
       "output_type": "stream",
       "stream": "stdout",
       "text": [
        " XIRP2\t2:168115844-168115850\n",
        "XIRP2\t2:167760155-167760155"
       ]
      },
      {
       "output_type": "stream",
       "stream": "stdout",
       "text": [
        " XIRP2\t2:167760149-167760155\n",
        "XIRP2\t2:167760302-167760302"
       ]
      },
      {
       "output_type": "stream",
       "stream": "stdout",
       "text": [
        " XIRP2\t2:167760296-167760302\n",
        "XIRP2\t2:167760306-167760306"
       ]
      },
      {
       "output_type": "stream",
       "stream": "stdout",
       "text": [
        " XIRP2\t2:167760300-167760306\n",
        "XIRP2\t2:168074694-168074694"
       ]
      },
      {
       "output_type": "stream",
       "stream": "stdout",
       "text": [
        " XIRP2\t2:168074688-168074694\n",
        "XIRP2\t2:168074744-168074744"
       ]
      },
      {
       "output_type": "stream",
       "stream": "stdout",
       "text": [
        " XIRP2\t2:168074738-168074744\n",
        "XIRP2\t2:168099578-168099578"
       ]
      },
      {
       "output_type": "stream",
       "stream": "stdout",
       "text": [
        " XIRP2\t2:168099572-168099578\n",
        "XIRP2\t2:168100303-168100303"
       ]
      },
      {
       "output_type": "stream",
       "stream": "stdout",
       "text": [
        " XIRP2\t2:168100297-168100303\n",
        "XIRP2\t2:168101657-168101657"
       ]
      },
      {
       "output_type": "stream",
       "stream": "stdout",
       "text": [
        " XIRP2\t2:168101651-168101657\n",
        "XIRP2\t2:168101752-168101752"
       ]
      },
      {
       "output_type": "stream",
       "stream": "stdout",
       "text": [
        " XIRP2\t2:168101746-168101752\n",
        "XIRP2\t2:168102346-168102346"
       ]
      },
      {
       "output_type": "stream",
       "stream": "stdout",
       "text": [
        " XIRP2\t2:168102340-168102346\n",
        "XIRP2\t2:168102468-168102468"
       ]
      },
      {
       "output_type": "stream",
       "stream": "stdout",
       "text": [
        " XIRP2\t2:168102462-168102468\n",
        "XIRP2\t2:168103476-168103476"
       ]
      },
      {
       "output_type": "stream",
       "stream": "stdout",
       "text": [
        " XIRP2\t2:168103470-168103476\n",
        "XIRP2\t2:168104572-168104572"
       ]
      },
      {
       "output_type": "stream",
       "stream": "stdout",
       "text": [
        " XIRP2\t2:168104566-168104572\n",
        "XIRP2\t2:168104724-168104724"
       ]
      },
      {
       "output_type": "stream",
       "stream": "stdout",
       "text": [
        " XIRP2\t2:168104718-168104724\n",
        "XIRP2\t2:168104843-168104843"
       ]
      },
      {
       "output_type": "stream",
       "stream": "stdout",
       "text": [
        " XIRP2\t2:168104837-168104843\n",
        "XIRP2\t2:168105425-168105425"
       ]
      },
      {
       "output_type": "stream",
       "stream": "stdout",
       "text": [
        " XIRP2\t2:168105419-168105425\n",
        "XIRP2\t2:168106216-168106216"
       ]
      },
      {
       "output_type": "stream",
       "stream": "stdout",
       "text": [
        " XIRP2\t2:168106210-168106216\n",
        "XIRP2\t2:168106882-168106882"
       ]
      },
      {
       "output_type": "stream",
       "stream": "stdout",
       "text": [
        " XIRP2\t2:168106876-168106882\n",
        "XIRP2\t2:168107195-168107195"
       ]
      },
      {
       "output_type": "stream",
       "stream": "stdout",
       "text": [
        " XIRP2\t2:168107189-168107195\n",
        "XIRP2\t2:168107363-168107363"
       ]
      },
      {
       "output_type": "stream",
       "stream": "stdout",
       "text": [
        " XIRP2\t2:168107357-168107363\n",
        "XIRP2\t2:168107692-168107692"
       ]
      },
      {
       "output_type": "stream",
       "stream": "stdout",
       "text": [
        " XIRP2\t2:168107686-168107692\n",
        "XIRP2\t2:168108454-168108454"
       ]
      },
      {
       "output_type": "stream",
       "stream": "stdout",
       "text": [
        " XIRP2\t2:168108448-168108454\n",
        "XIRP2\t2:168114995-168114995"
       ]
      },
      {
       "output_type": "stream",
       "stream": "stdout",
       "text": [
        " XIRP2\t2:168114989-168114995\n",
        "XIRP2\t2:168115717-168115717"
       ]
      },
      {
       "output_type": "stream",
       "stream": "stdout",
       "text": [
        " XIRP2\t2:168115711-168115717\n",
        "XIRP2\t2:168115850-168115850"
       ]
      },
      {
       "output_type": "stream",
       "stream": "stdout",
       "text": [
        " XIRP2\t2:168115844-168115850\n",
        "GAD1\t2:171685996-171685996"
       ]
      },
      {
       "output_type": "stream",
       "stream": "stdout",
       "text": [
        " GAD1\t2:171685990-171685996\n",
        "GAD1\t2:171685996-171685996 GAD1\t2:171685990-171685996\n",
        "ZAK\t2:173955764-173955764"
       ]
      },
      {
       "output_type": "stream",
       "stream": "stdout",
       "text": [
        " ZAK\t2:173955758-173955764\n",
        "ZAK\t2:173955864-173955864 ZAK\t2:173955858-173955864\n",
        "ZAK\t2:174055653-174055653"
       ]
      },
      {
       "output_type": "stream",
       "stream": "stdout",
       "text": [
        " ZAK\t2:174055647-174055653\n",
        "ZAK\t2:174085999-174085999 ZAK\t2:174085993-174085999\n",
        "ZAK\t2:174086217-174086219 ZAK\t2:174086211-174086217\n",
        "ZAK\t2:174130809-174130809"
       ]
      },
      {
       "output_type": "stream",
       "stream": "stdout",
       "text": [
        " ZAK\t2:174130803-174130809\n",
        "ZAK\t2:174131293-174131293 ZAK\t2:174131287-174131293\n",
        "ZAK\t2:174131293-174131293"
       ]
      },
      {
       "output_type": "stream",
       "stream": "stdout",
       "text": [
        " ZAK\t2:174131287-174131293\n",
        "ZAK\t2:173955764-173955764 ZAK\t2:173955758-173955764\n",
        "ZAK\t2:174130809-174130809"
       ]
      },
      {
       "output_type": "stream",
       "stream": "stdout",
       "text": [
        " ZAK\t2:174130803-174130809\n",
        "ZAK\t2:174131293-174131293 ZAK\t2:174131287-174131293\n",
        "ZAK\t2:174131293-174131293"
       ]
      },
      {
       "output_type": "stream",
       "stream": "stdout",
       "text": [
        " ZAK\t2:174131287-174131293\n",
        "15000"
       ]
      },
      {
       "output_type": "stream",
       "stream": "stdout",
       "text": [
        "\n",
        "CCDC150\t2:197597463-197597463"
       ]
      },
      {
       "output_type": "stream",
       "stream": "stdout",
       "text": [
        " CCDC150\t2:197597460-197597466\n",
        "CCDC150\t2:197597463-197597463 CCDC150\t2:197597460-197597466\n",
        "CASP10\t2:202050503-202050503"
       ]
      },
      {
       "output_type": "stream",
       "stream": "stdout",
       "text": [
        " CASP10\t2:202050497-202050503\n",
        "ALS2CR11\t2:202352429-202352429"
       ]
      },
      {
       "output_type": "stream",
       "stream": "stdout",
       "text": [
        " ALS2CR11\t2:202352423-202352429\n",
        "ALS2CR11\t2:202356492-202356492"
       ]
      },
      {
       "output_type": "stream",
       "stream": "stdout",
       "text": [
        " ALS2CR11\t2:202356486-202356492\n",
        "ALS2CR11\t2:202356525-202356525 ALS2CR11\t2:202356519-202356525\n",
        "ALS2CR11\t2:202357128-202357128"
       ]
      },
      {
       "output_type": "stream",
       "stream": "stdout",
       "text": [
        " ALS2CR11\t2:202357122-202357128\n",
        "ALS2CR11\t2:202357559-202357559 ALS2CR11\t2:202357553-202357559\n",
        "ALS2CR11\t2:202357912-202357912"
       ]
      },
      {
       "output_type": "stream",
       "stream": "stdout",
       "text": [
        " ALS2CR11\t2:202357906-202357912\n",
        "ALS2CR11\t2:202358222-202358222 ALS2CR11\t2:202358216-202358222\n",
        "ALS2CR11\t2:202358408-202358408"
       ]
      },
      {
       "output_type": "stream",
       "stream": "stdout",
       "text": [
        " ALS2CR11\t2:202358402-202358408\n",
        "ALS2CR11\t2:202358579-202358579"
       ]
      },
      {
       "output_type": "stream",
       "stream": "stdout",
       "text": [
        " ALS2CR11\t2:202358573-202358579\n",
        "ALS2CR11\t2:202358909-202358909"
       ]
      },
      {
       "output_type": "stream",
       "stream": "stdout",
       "text": [
        " ALS2CR11\t2:202358903-202358909\n",
        "ALS2CR11\t2:202402194-202402194 ALS2CR11\t2:202402188-202402194\n",
        "ALS2CR11\t2:202410312-202410312 ALS2CR11\t2:202410306-202410312\n",
        "ALS2CR11\t2:202446931-202446931"
       ]
      },
      {
       "output_type": "stream",
       "stream": "stdout",
       "text": [
        " ALS2CR11\t2:202446925-202446931\n",
        "ALS2CR11\t2:202483705-202483705"
       ]
      },
      {
       "output_type": "stream",
       "stream": "stdout",
       "text": [
        " ALS2CR11\t2:202483699-202483705\n",
        "ALS2CR11\t2:202483806-202483806"
       ]
      },
      {
       "output_type": "stream",
       "stream": "stdout",
       "text": [
        " ALS2CR11\t2:202483800-202483806\n",
        "ALS2CR11\t2:202356492-202356492"
       ]
      },
      {
       "output_type": "stream",
       "stream": "stdout",
       "text": [
        " ALS2CR11\t2:202356486-202356492\n",
        "ALS2CR11\t2:202356525-202356525 ALS2CR11\t2:202356519-202356525\n",
        "ALS2CR11\t2:202357912-202357912"
       ]
      },
      {
       "output_type": "stream",
       "stream": "stdout",
       "text": [
        " ALS2CR11\t2:202357906-202357912\n",
        "ALS2CR11\t2:202358909-202358909"
       ]
      },
      {
       "output_type": "stream",
       "stream": "stdout",
       "text": [
        " ALS2CR11\t2:202358903-202358909\n",
        "ALS2CR11\t2:202410298-202410298 ALS2CR11\t2:202410292-202410298\n",
        "ALS2CR11\t2:202410312-202410312 ALS2CR11\t2:202410306-202410312\n",
        "ALS2CR11\t2:202446931-202446931"
       ]
      },
      {
       "output_type": "stream",
       "stream": "stdout",
       "text": [
        " ALS2CR11\t2:202446925-202446931\n",
        "ICA1L\t2:203653586-203653586"
       ]
      },
      {
       "output_type": "stream",
       "stream": "stdout",
       "text": [
        " ICA1L\t2:203653580-203653586\n",
        "ICA1L\t2:203653623-203653623 ICA1L\t2:203653617-203653623\n",
        "ICA1L\t2:203661619-203661619"
       ]
      },
      {
       "output_type": "stream",
       "stream": "stdout",
       "text": [
        " ICA1L\t2:203661613-203661619\n",
        "ICA1L\t2:203676513-203676513 ICA1L\t2:203676507-203676513\n",
        "ICA1L\t2:203693719-203693719 ICA1L\t2:203693713-203693719\n",
        "ICA1L\t2:203653586-203653586"
       ]
      },
      {
       "output_type": "stream",
       "stream": "stdout",
       "text": [
        " ICA1L\t2:203653580-203653586\n",
        "ICA1L\t2:203661619-203661619 ICA1L\t2:203661613-203661619\n",
        "15100"
       ]
      },
      {
       "output_type": "stream",
       "stream": "stdout",
       "text": [
        "\n",
        "CRYGC\t2:208994511-208994511 CRYGC\t2:208994509-208994515\n",
        "CRYGC\t2:208994511-208994511 CRYGC\t2:208994509-208994515\n",
        "PIKFYVE\t2:209136284-209136284"
       ]
      },
      {
       "output_type": "stream",
       "stream": "stdout",
       "text": [
        " PIKFYVE\t2:209136278-209136284\n",
        "PIKFYVE\t2:209136299-209136299 PIKFYVE\t2:209136293-209136299\n",
        "PIKFYVE\t2:209150459-209150459 PIKFYVE\t2:209150453-209150459\n",
        "PIKFYVE\t2:209163367-209163367"
       ]
      },
      {
       "output_type": "stream",
       "stream": "stdout",
       "text": [
        " PIKFYVE\t2:209163361-209163367\n",
        "PIKFYVE\t2:209163498-209163498 PIKFYVE\t2:209163492-209163498\n",
        "PIKFYVE\t2:209165661-209165661"
       ]
      },
      {
       "output_type": "stream",
       "stream": "stdout",
       "text": [
        " PIKFYVE\t2:209165655-209165661\n",
        "PIKFYVE\t2:209180075-209180075 PIKFYVE\t2:209180069-209180075\n",
        "PIKFYVE\t2:209190360-209190360"
       ]
      },
      {
       "output_type": "stream",
       "stream": "stdout",
       "text": [
        " PIKFYVE\t2:209190354-209190360\n",
        "PIKFYVE\t2:209190674-209190674 PIKFYVE\t2:209190668-209190674\n",
        "PIKFYVE\t2:209190734-209190734"
       ]
      },
      {
       "output_type": "stream",
       "stream": "stdout",
       "text": [
        " PIKFYVE\t2:209190728-209190734\n",
        "PIKFYVE\t2:209201654-209201654 PIKFYVE\t2:209201648-209201654\n",
        "PIKFYVE\t2:209212650-209212650 PIKFYVE\t2:209212644-209212650\n",
        "PIKFYVE\t2:209215532-209215532 PIKFYVE\t2:209215526-209215532\n",
        "PIKFYVE\t2:209218801-209218801 PIKFYVE\t2:209218795-209218801\n",
        "PIKFYVE\t2:209136284-209136284"
       ]
      },
      {
       "output_type": "stream",
       "stream": "stdout",
       "text": [
        " PIKFYVE\t2:209136278-209136284\n",
        "PIKFYVE\t2:209136299-209136299 PIKFYVE\t2:209136293-209136299\n",
        "PIKFYVE\t2:209163498-209163498 PIKFYVE\t2:209163492-209163498\n",
        "PIKFYVE\t2:209190253-209190253"
       ]
      },
      {
       "output_type": "stream",
       "stream": "stdout",
       "text": [
        " PIKFYVE\t2:209190247-209190253\n",
        "PIKFYVE\t2:209190360-209190360 PIKFYVE\t2:209190354-209190360\n",
        "PIKFYVE\t2:209190674-209190674"
       ]
      },
      {
       "output_type": "stream",
       "stream": "stdout",
       "text": [
        " PIKFYVE\t2:209190668-209190674\n",
        "PIKFYVE\t2:209190734-209190734 PIKFYVE\t2:209190728-209190734\n",
        "PIKFYVE\t2:209212650-209212650"
       ]
      },
      {
       "output_type": "stream",
       "stream": "stdout",
       "text": [
        " PIKFYVE\t2:209212644-209212650\n",
        "PIKFYVE\t2:209218801-209218801 PIKFYVE\t2:209218795-209218801\n",
        "IKZF2\t2:214013359-214013359"
       ]
      },
      {
       "output_type": "stream",
       "stream": "stdout",
       "text": [
        " IKZF2\t2:214013355-214013361\n",
        "FN1\t2:216236841-216236841"
       ]
      },
      {
       "output_type": "stream",
       "stream": "stdout",
       "text": [
        " FN1\t2:216236835-216236841\n",
        "FN1\t2:216257689-216257689 FN1\t2:216257683-216257689\n",
        "FN1\t2:216262532-216262532"
       ]
      },
      {
       "output_type": "stream",
       "stream": "stdout",
       "text": [
        " FN1\t2:216262526-216262532\n",
        "FN1\t2:216262561-216262561 FN1\t2:216262555-216262561\n",
        "FN1\t2:216262561-216262561"
       ]
      },
      {
       "output_type": "stream",
       "stream": "stdout",
       "text": [
        " FN1\t2:216262555-216262561\n",
        "FN1\t2:216264037-216264037 FN1\t2:216264031-216264037\n",
        "FN1\t2:216271007-216271007 FN1\t2:216271001-216271007\n",
        "FN1\t2:216271893-216271893 FN1\t2:216271887-216271893\n",
        "FN1\t2:216272861-216272861 FN1\t2:216272855-216272861\n",
        "FN1\t2:216274748-216274748 FN1\t2:216274742-216274748\n",
        "FN1\t2:216284067-216284067"
       ]
      },
      {
       "output_type": "stream",
       "stream": "stdout",
       "text": [
        " FN1\t2:216284061-216284067\n",
        "FN1\t2:216288147-216288147 FN1\t2:216288141-216288147\n",
        "FN1\t2:216288147-216288147 FN1\t2:216288141-216288147\n",
        "FN1\t2:216289885-216289885 FN1\t2:216289879-216289885\n",
        "FN1\t2:216298144-216298144"
       ]
      },
      {
       "output_type": "stream",
       "stream": "stdout",
       "text": [
        " FN1\t2:216298138-216298144\n",
        "FN1\t2:216299422-216299422 FN1\t2:216299416-216299422\n",
        "FN1\t2:216299422-216299422 FN1\t2:216299416-216299422\n",
        "FN1\t2:216262532-216262532"
       ]
      },
      {
       "output_type": "stream",
       "stream": "stdout",
       "text": [
        " FN1\t2:216262526-216262532\n",
        "FN1\t2:216262561-216262561 FN1\t2:216262555-216262561\n",
        "FN1\t2:216264037-216264037"
       ]
      },
      {
       "output_type": "stream",
       "stream": "stdout",
       "text": [
        " FN1\t2:216264031-216264037\n",
        "FN1\t2:216271007-216271007 FN1\t2:216271001-216271007\n",
        "FN1\t2:216271160-216271160 FN1\t2:216271154-216271160\n",
        "FN1\t2:216284067-216284067 FN1\t2:216284061-216284067\n",
        "FN1\t2:216288147-216288147 FN1\t2:216288141-216288147\n",
        "FN1\t2:216288147-216288147 FN1\t2:216288141-216288147\n",
        "TNP1\t2:217724753-217724753"
       ]
      },
      {
       "output_type": "stream",
       "stream": "stdout",
       "text": [
        " TNP1\t2:217724747-217724753\n",
        "PNKD\t2:219137293-219137293"
       ]
      },
      {
       "output_type": "stream",
       "stream": "stdout",
       "text": [
        " PNKD\t2:219137287-219137293\n",
        "PNKD\t2:219206859-219206859 PNKD\t2:219206853-219206859\n",
        "PNKD\t2:219209287-219209287"
       ]
      },
      {
       "output_type": "stream",
       "stream": "stdout",
       "text": [
        " PNKD\t2:219209281-219209287\n",
        "PNKD\t2:219209616-219209616 PNKD\t2:219209610-219209616\n",
        "SPEG\t2:220312892-220312892"
       ]
      },
      {
       "output_type": "stream",
       "stream": "stdout",
       "text": [
        " SPEG\t2:220312886-220312892\n",
        "SPEG\t2:220312900-220312901 SPEG\t2:220312894-220312900\n",
        "SPEG\t2:220326764-220326764 SPEG\t2:220326758-220326764\n",
        "SPEG\t2:220330976-220330976"
       ]
      },
      {
       "output_type": "stream",
       "stream": "stdout",
       "text": [
        " SPEG\t2:220330970-220330976\n",
        "SPEG\t2:220333726-220333726 SPEG\t2:220333720-220333726\n",
        "SPEG\t2:220333886-220333886 SPEG\t2:220333880-220333886\n",
        "SPEG\t2:220337000-220337000 SPEG\t2:220336994-220337000\n",
        "SPEG\t2:220338317-220338317 SPEG\t2:220338311-220338317\n",
        "SPEG\t2:220338317-220338317 SPEG\t2:220338311-220338317\n",
        "SPEG\t2:220341673-220341673 SPEG\t2:220341667-220341673\n",
        "SPEG\t2:220348875-220348876 SPEG\t2:220348869-220348875\n",
        "SPEG\t2:220353572-220353572 SPEG\t2:220353566-220353572\n",
        "SPEG\t2:220354392-220354392"
       ]
      },
      {
       "output_type": "stream",
       "stream": "stdout",
       "text": [
        " SPEG\t2:220354386-220354392\n",
        "SPEG\t2:220354580-220354580 SPEG\t2:220354574-220354580\n",
        "SPEG\t2:220354586-220354586 SPEG\t2:220354580-220354586\n",
        "SPEG\t2:220356570-220356570 SPEG\t2:220356564-220356570\n",
        "SPEG\t2:220329218-220329229"
       ]
      },
      {
       "output_type": "stream",
       "stream": "stdout",
       "text": [
        " SPEG\t2:220329212-220329218\n",
        "SPEG\t2:220332106-220332128 SPEG\t2:220332100-220332106\n",
        "SPEG\t2:220333726-220333726 SPEG\t2:220333720-220333726\n",
        "SPEG\t2:220333886-220333886 SPEG\t2:220333880-220333886\n",
        "SPEG\t2:220337000-220337000 SPEG\t2:220336994-220337000\n",
        "SPEG\t2:220338317-220338317 SPEG\t2:220338311-220338317\n",
        "SPEG\t2:220354339-220354339 SPEG\t2:220354333-220354339\n",
        "SPEG\t2:220354392-220354392 SPEG\t2:220354386-220354392\n",
        "SPEG\t2:220354586-220354586"
       ]
      },
      {
       "output_type": "stream",
       "stream": "stdout",
       "text": [
        " SPEG\t2:220354580-220354586\n",
        "OBSL1\t2:220416900-220416900"
       ]
      },
      {
       "output_type": "stream",
       "stream": "stdout",
       "text": [
        " OBSL1\t2:220416894-220416900\n",
        "OBSL1\t2:220418356-220418356 OBSL1\t2:220418350-220418356\n",
        "OBSL1\t2:220421323-220421323 OBSL1\t2:220421317-220421323\n",
        "OBSL1\t2:220427277-220427277 OBSL1\t2:220427271-220427277\n",
        "OBSL1\t2:220427290-220427292 OBSL1\t2:220427284-220427290\n",
        "OBSL1\t2:220427360-220427360 OBSL1\t2:220427354-220427360\n",
        "OBSL1\t2:220428119-220428119"
       ]
      },
      {
       "output_type": "stream",
       "stream": "stdout",
       "text": [
        " OBSL1\t2:220428113-220428119\n",
        "OBSL1\t2:220428132-220428132 OBSL1\t2:220428126-220428132\n",
        "OBSL1\t2:220430106-220430106 OBSL1\t2:220430100-220430106\n",
        "OBSL1\t2:220431781-220431781 OBSL1\t2:220431775-220431781\n",
        "OBSL1\t2:220432006-220432006 OBSL1\t2:220432000-220432006\n",
        "OBSL1\t2:220432023-220432023 OBSL1\t2:220432017-220432023\n",
        "OBSL1\t2:220433035-220433035 OBSL1\t2:220433029-220433035\n",
        "OBSL1\t2:220435007-220435007 OBSL1\t2:220435001-220435007\n",
        "OBSL1\t2:220416900-220416900 OBSL1\t2:220416894-220416900\n",
        "OBSL1\t2:220418356-220418356 OBSL1\t2:220418350-220418356\n",
        "OBSL1\t2:220427290-220427292"
       ]
      },
      {
       "output_type": "stream",
       "stream": "stdout",
       "text": [
        " OBSL1\t2:220427284-220427290\n",
        "OBSL1\t2:220430106-220430106 OBSL1\t2:220430100-220430106\n",
        "OBSL1\t2:220432006-220432006 OBSL1\t2:220432000-220432006\n",
        "OBSL1\t2:220432023-220432023 OBSL1\t2:220432017-220432023\n",
        "PAX3\t2:223065949-223065949"
       ]
      },
      {
       "output_type": "stream",
       "stream": "stdout",
       "text": [
        " PAX3\t2:223065943-223065949\n",
        "PAX3\t2:223084885-223084885 PAX3\t2:223084879-223084885\n",
        "PAX3\t2:223086014-223086014 PAX3\t2:223086008-223086014\n",
        "PAX3\t2:223158894-223158894 PAX3\t2:223158888-223158894\n",
        "PAX3\t2:223160256-223160256"
       ]
      },
      {
       "output_type": "stream",
       "stream": "stdout",
       "text": [
        " PAX3\t2:223160250-223160256\n",
        "PAX3\t2:223065949-223065949 PAX3\t2:223065943-223065949\n",
        "PAX3\t2:223158461-223158461"
       ]
      },
      {
       "output_type": "stream",
       "stream": "stdout",
       "text": [
        " PAX3\t2:223158455-223158461\n",
        "15200\n",
        "SP100\t2:231307769-231307769"
       ]
      },
      {
       "output_type": "stream",
       "stream": "stdout",
       "text": [
        " SP100\t2:231307763-231307769\n",
        "SP100\t2:231307769-231307769 SP100\t2:231307763-231307769\n",
        "SP100\t2:231308967-231308967 SP100\t2:231308961-231308967\n",
        "SP100\t2:231309023-231309023 SP100\t2:231309017-231309023\n",
        "SP100\t2:231331031-231331031"
       ]
      },
      {
       "output_type": "stream",
       "stream": "stdout",
       "text": [
        " SP100\t2:231331025-231331031\n",
        "SP100\t2:231334496-231334496 SP100\t2:231334490-231334496\n",
        "SP100\t2:231334496-231334496"
       ]
      },
      {
       "output_type": "stream",
       "stream": "stdout",
       "text": [
        " SP100\t2:231334490-231334496\n",
        "SP100\t2:231307660-231307660"
       ]
      },
      {
       "output_type": "stream",
       "stream": "stdout",
       "text": [
        " SP100\t2:231307654-231307660\n",
        "SP100\t2:231331031-231331031 SP100\t2:231331025-231331031\n",
        "SP100\t2:231334505-231334508"
       ]
      },
      {
       "output_type": "stream",
       "stream": "stdout",
       "text": [
        " SP100\t2:231334499-231334505\n",
        "COL6A3\t2:238234210-238234210"
       ]
      },
      {
       "output_type": "stream",
       "stream": "stdout",
       "text": [
        " COL6A3\t2:238234204-238234210\n",
        "COL6A3\t2:238245104-238245104 COL6A3\t2:238245098-238245104\n",
        "COL6A3\t2:238253387-238253387"
       ]
      },
      {
       "output_type": "stream",
       "stream": "stdout",
       "text": [
        " COL6A3\t2:238253381-238253387\n",
        "COL6A3\t2:238253585-238253585 COL6A3\t2:238253579-238253585\n",
        "COL6A3\t2:238253712-238253712"
       ]
      },
      {
       "output_type": "stream",
       "stream": "stdout",
       "text": [
        " COL6A3\t2:238253706-238253712\n",
        "COL6A3\t2:238262027-238262027 COL6A3\t2:238262021-238262027\n",
        "COL6A3\t2:238268800-238268800"
       ]
      },
      {
       "output_type": "stream",
       "stream": "stdout",
       "text": [
        " COL6A3\t2:238268794-238268800\n",
        "COL6A3\t2:238271947-238271947 COL6A3\t2:238271941-238271947\n",
        "COL6A3\t2:238271948-238271948"
       ]
      },
      {
       "output_type": "stream",
       "stream": "stdout",
       "text": [
        " COL6A3\t2:238271942-238271948\n",
        "COL6A3\t2:238271949-238271949 COL6A3\t2:238271943-238271949\n",
        "COL6A3\t2:238274657-238274657"
       ]
      },
      {
       "output_type": "stream",
       "stream": "stdout",
       "text": [
        " COL6A3\t2:238274651-238274657\n",
        "COL6A3\t2:238275363-238275363 COL6A3\t2:238275357-238275363\n",
        "COL6A3\t2:238275816-238275816"
       ]
      },
      {
       "output_type": "stream",
       "stream": "stdout",
       "text": [
        " COL6A3\t2:238275810-238275816\n",
        "COL6A3\t2:238277616-238277616 COL6A3\t2:238277610-238277616\n",
        "COL6A3\t2:238280436-238280436"
       ]
      },
      {
       "output_type": "stream",
       "stream": "stdout",
       "text": [
        " COL6A3\t2:238280430-238280436\n",
        "COL6A3\t2:238280722-238280722 COL6A3\t2:238280716-238280722\n",
        "COL6A3\t2:238280902-238280902"
       ]
      },
      {
       "output_type": "stream",
       "stream": "stdout",
       "text": [
        " COL6A3\t2:238280896-238280902\n",
        "COL6A3\t2:238283134-238283134"
       ]
      },
      {
       "output_type": "stream",
       "stream": "stdout",
       "text": [
        " COL6A3\t2:238283128-238283134\n",
        "COL6A3\t2:238283233-238283233"
       ]
      },
      {
       "output_type": "stream",
       "stream": "stdout",
       "text": [
        " COL6A3\t2:238283227-238283233\n",
        "COL6A3\t2:238283417-238283417"
       ]
      },
      {
       "output_type": "stream",
       "stream": "stdout",
       "text": [
        " COL6A3\t2:238283411-238283417\n",
        "COL6A3\t2:238285970-238285970"
       ]
      },
      {
       "output_type": "stream",
       "stream": "stdout",
       "text": [
        " COL6A3\t2:238285964-238285970\n",
        "COL6A3\t2:238290024-238290024 COL6A3\t2:238290018-238290024\n",
        "COL6A3\t2:238290029-238290029 COL6A3\t2:238290023-238290029\n",
        "COL6A3\t2:238303252-238303252 COL6A3\t2:238303246-238303252\n",
        "COL6A3\t2:238303516-238303516 COL6A3\t2:238303510-238303516\n",
        "COL6A3\t2:238303764-238303764 COL6A3\t2:238303758-238303764\n",
        "COL6A3\t2:238243265-238243270"
       ]
      },
      {
       "output_type": "stream",
       "stream": "stdout",
       "text": [
        " COL6A3\t2:238243259-238243265\n",
        "COL6A3\t2:238245104-238245104 COL6A3\t2:238245098-238245104\n",
        "COL6A3\t2:238253387-238253387"
       ]
      },
      {
       "output_type": "stream",
       "stream": "stdout",
       "text": [
        " COL6A3\t2:238253381-238253387\n",
        "COL6A3\t2:238253836-238253836 COL6A3\t2:238253830-238253836\n",
        "COL6A3\t2:238262027-238262027"
       ]
      },
      {
       "output_type": "stream",
       "stream": "stdout",
       "text": [
        " COL6A3\t2:238262021-238262027\n",
        "COL6A3\t2:238275816-238275816 COL6A3\t2:238275810-238275816\n",
        "COL6A3\t2:238277616-238277616"
       ]
      },
      {
       "output_type": "stream",
       "stream": "stdout",
       "text": [
        " COL6A3\t2:238277610-238277616\n",
        "COL6A3\t2:238280722-238280722 COL6A3\t2:238280716-238280722\n",
        "COL6A3\t2:238280902-238280902"
       ]
      },
      {
       "output_type": "stream",
       "stream": "stdout",
       "text": [
        " COL6A3\t2:238280896-238280902\n",
        "COL6A3\t2:238283233-238283233 COL6A3\t2:238283227-238283233\n",
        "COL6A3\t2:238283417-238283417"
       ]
      },
      {
       "output_type": "stream",
       "stream": "stdout",
       "text": [
        " COL6A3\t2:238283411-238283417\n",
        "COL6A3\t2:238290029-238290029 COL6A3\t2:238290023-238290029\n",
        "COL6A3\t2:238303252-238303252 COL6A3\t2:238303246-238303252\n",
        "15300\n",
        "OGG1\t3:9791867-9791867"
       ]
      },
      {
       "output_type": "stream",
       "stream": "stdout",
       "text": [
        " OGG1\t3:9791861-9791867\n",
        "OGG1\t3:9792081-9792081 OGG1\t3:9792075-9792081\n",
        "OGG1\t3:9798276-9798276 OGG1\t3:9798270-9798276\n",
        "OGG1\t3:9798825-9798825 OGG1\t3:9798819-9798825\n",
        "OGG1\t3:9798849-9798849 OGG1\t3:9798843-9798849\n",
        "OGG1\t3:9798825-9798825 OGG1\t3:9798819-9798825\n",
        "IQSEC1\t3:12950804-12950804"
       ]
      },
      {
       "output_type": "stream",
       "stream": "stdout",
       "text": [
        " IQSEC1\t3:12950798-12950804\n",
        "IQSEC1\t3:12963630-12963630 IQSEC1\t3:12963624-12963630\n",
        "IQSEC1\t3:12977013-12977013 IQSEC1\t3:12977007-12977013\n",
        "IQSEC1\t3:12977058-12977058 IQSEC1\t3:12977052-12977058\n",
        "IQSEC1\t3:12977153-12977153 IQSEC1\t3:12977147-12977153\n",
        "IQSEC1\t3:12977712-12977712 IQSEC1\t3:12977706-12977712\n",
        "IQSEC1\t3:12977058-12977058 IQSEC1\t3:12977052-12977058\n",
        "IQSEC1\t3:12977153-12977153 IQSEC1\t3:12977147-12977153\n",
        "SLC6A6\t3:14485283-14485283"
       ]
      },
      {
       "output_type": "stream",
       "stream": "stdout",
       "text": [
        " SLC6A6\t3:14485277-14485283\n",
        "SLC6A6\t3:14487331-14487331 SLC6A6\t3:14487325-14487331\n",
        "15400"
       ]
      },
      {
       "output_type": "stream",
       "stream": "stdout",
       "text": [
        "\n",
        "ARPP21\t3:35723355-35723355"
       ]
      },
      {
       "output_type": "stream",
       "stream": "stdout",
       "text": [
        " ARPP21\t3:35723349-35723355\n",
        "ARPP21\t3:35724361-35724361 ARPP21\t3:35724355-35724361\n",
        "ARPP21\t3:35725220-35725220"
       ]
      },
      {
       "output_type": "stream",
       "stream": "stdout",
       "text": [
        " ARPP21\t3:35725214-35725220\n",
        "ARPP21\t3:35724361-35724361"
       ]
      },
      {
       "output_type": "stream",
       "stream": "stdout",
       "text": [
        " ARPP21\t3:35724355-35724361\n",
        "ARPP21\t3:35725220-35725220 ARPP21\t3:35725214-35725220\n",
        "DLEC1\t3:38080927-38080927"
       ]
      },
      {
       "output_type": "stream",
       "stream": "stdout",
       "text": [
        " DLEC1\t3:38080921-38080927\n",
        "DLEC1\t3:38104228-38104228 DLEC1\t3:38104222-38104228\n",
        "DLEC1\t3:38127748-38127749"
       ]
      },
      {
       "output_type": "stream",
       "stream": "stdout",
       "text": [
        " DLEC1\t3:38127742-38127748\n",
        "DLEC1\t3:38138087-38138087 DLEC1\t3:38138081-38138087\n",
        "DLEC1\t3:38139081-38139081"
       ]
      },
      {
       "output_type": "stream",
       "stream": "stdout",
       "text": [
        " DLEC1\t3:38139075-38139081\n",
        "DLEC1\t3:38141824-38141824 DLEC1\t3:38141818-38141824\n",
        "DLEC1\t3:38153821-38153821"
       ]
      },
      {
       "output_type": "stream",
       "stream": "stdout",
       "text": [
        " DLEC1\t3:38153815-38153821\n",
        "DLEC1\t3:38158352-38158352 DLEC1\t3:38158346-38158352\n",
        "DLEC1\t3:38159298-38159298 DLEC1\t3:38159292-38159298\n",
        "DLEC1\t3:38080927-38080927 DLEC1\t3:38080921-38080927\n",
        "DLEC1\t3:38137329-38137338"
       ]
      },
      {
       "output_type": "stream",
       "stream": "stdout",
       "text": [
        " DLEC1\t3:38137323-38137329\n",
        "DLEC1\t3:38163187-38163187 DLEC1\t3:38163181-38163187\n",
        "15500"
       ]
      },
      {
       "output_type": "stream",
       "stream": "stdout",
       "text": [
        "\n",
        "TRAK1\t3:42166958-42166958"
       ]
      },
      {
       "output_type": "stream",
       "stream": "stdout",
       "text": [
        " TRAK1\t3:42166952-42166958\n",
        "TRAK1\t3:42226205-42226205 TRAK1\t3:42226199-42226205\n",
        "TRAK1\t3:42229603-42229603 TRAK1\t3:42229597-42229603\n",
        "TRAK1\t3:42230525-42230525 TRAK1\t3:42230519-42230525\n",
        "TRAK1\t3:42230525-42230525"
       ]
      },
      {
       "output_type": "stream",
       "stream": "stdout",
       "text": [
        " TRAK1\t3:42230519-42230525\n",
        "TRAK1\t3:42233068-42233068 TRAK1\t3:42233062-42233068\n",
        "TRAK1\t3:42233127-42233127 TRAK1\t3:42233121-42233127\n",
        "TRAK1\t3:42234667-42234667"
       ]
      },
      {
       "output_type": "stream",
       "stream": "stdout",
       "text": [
        " TRAK1\t3:42234661-42234667\n",
        "TRAK1\t3:42244336-42244336 TRAK1\t3:42244330-42244336\n",
        "TRAK1\t3:42251618-42251618 TRAK1\t3:42251612-42251618\n",
        "TRAK1\t3:42226205-42226205"
       ]
      },
      {
       "output_type": "stream",
       "stream": "stdout",
       "text": [
        " TRAK1\t3:42226199-42226205\n",
        "TRAK1\t3:42229603-42229603 TRAK1\t3:42229597-42229603\n",
        "TRAK1\t3:42230525-42230525 TRAK1\t3:42230519-42230525\n",
        "TRAK1\t3:42230525-42230525"
       ]
      },
      {
       "output_type": "stream",
       "stream": "stdout",
       "text": [
        " TRAK1\t3:42230519-42230525\n",
        "USP19\t3:49147699-49147699"
       ]
      },
      {
       "output_type": "stream",
       "stream": "stdout",
       "text": [
        " USP19\t3:49147693-49147699\n",
        "USP19\t3:49148221-49148221 USP19\t3:49148215-49148221\n",
        "USP19\t3:49148493-49148493 USP19\t3:49148487-49148493\n",
        "USP19\t3:49152539-49152539 USP19\t3:49152533-49152539\n",
        "USP19\t3:49153206-49153206 USP19\t3:49153200-49153206\n",
        "USP19\t3:49154009-49154009 USP19\t3:49154003-49154009\n",
        "USP19\t3:49148221-49148221 USP19\t3:49148215-49148221\n",
        "USP19\t3:49152539-49152539 USP19\t3:49152533-49152539\n",
        "USP19\t3:49153206-49153206 USP19\t3:49153200-49153206\n",
        "15600\n",
        "15700"
       ]
      },
      {
       "output_type": "stream",
       "stream": "stdout",
       "text": [
        "\n",
        "FAM208A\t3:56657553-56657553"
       ]
      },
      {
       "output_type": "stream",
       "stream": "stdout",
       "text": [
        " FAM208A\t3:56657547-56657553\n",
        "FAM208A\t3:56667120-56667120 FAM208A\t3:56667114-56667120\n",
        "FAM208A\t3:56667416-56667416 FAM208A\t3:56667410-56667416\n",
        "FAM208A\t3:56667431-56667431 FAM208A\t3:56667425-56667431\n",
        "FAM208A\t3:56667448-56667448 FAM208A\t3:56667442-56667448\n",
        "FAM208A\t3:56667531-56667531"
       ]
      },
      {
       "output_type": "stream",
       "stream": "stdout",
       "text": [
        " FAM208A\t3:56667525-56667531\n",
        "FAM208A\t3:56667593-56667593 FAM208A\t3:56667587-56667593\n",
        "FAM208A\t3:56667624-56667624 FAM208A\t3:56667618-56667624\n",
        "FAM208A\t3:56675495-56675495"
       ]
      },
      {
       "output_type": "stream",
       "stream": "stdout",
       "text": [
        " FAM208A\t3:56675489-56675495\n",
        "FAM208A\t3:56681156-56681156 FAM208A\t3:56681150-56681156\n",
        "ATXN7\t3:63898572-63898572"
       ]
      },
      {
       "output_type": "stream",
       "stream": "stdout",
       "text": [
        " ATXN7\t3:63898566-63898572\n",
        "ATXN7\t3:63965690-63965690 ATXN7\t3:63965684-63965690\n",
        "ATXN7\t3:63965739-63965739 ATXN7\t3:63965733-63965739\n",
        "ATXN7\t3:63973893-63973893 ATXN7\t3:63973887-63973893\n",
        "ATXN7\t3:63976462-63976462 ATXN7\t3:63976456-63976462\n",
        "ATXN7\t3:63976471-63976471 ATXN7\t3:63976465-63976471\n",
        "ATXN7\t3:63981414-63981414 ATXN7\t3:63981408-63981414\n",
        "ATXN7\t3:63965690-63965690 ATXN7\t3:63965684-63965690\n",
        "ATXN7\t3:63965739-63965739 ATXN7\t3:63965733-63965739\n",
        "ATXN7\t3:63981414-63981414"
       ]
      },
      {
       "output_type": "stream",
       "stream": "stdout",
       "text": [
        " ATXN7\t3:63981408-63981414\n",
        "EPHA3\t3:89176423-89176423"
       ]
      },
      {
       "output_type": "stream",
       "stream": "stdout",
       "text": [
        " EPHA3\t3:89176417-89176423\n",
        "EPHA3\t3:89390198-89390198"
       ]
      },
      {
       "output_type": "stream",
       "stream": "stdout",
       "text": [
        " EPHA3\t3:89390192-89390198\n",
        "EPHA3\t3:89390198-89390198"
       ]
      },
      {
       "output_type": "stream",
       "stream": "stdout",
       "text": [
        " EPHA3\t3:89390192-89390198\n",
        "EPHA3\t3:89391074-89391074"
       ]
      },
      {
       "output_type": "stream",
       "stream": "stdout",
       "text": [
        " EPHA3\t3:89391068-89391074\n",
        "EPHA3\t3:89448493-89448493"
       ]
      },
      {
       "output_type": "stream",
       "stream": "stdout",
       "text": [
        " EPHA3\t3:89448487-89448493\n",
        "EPHA3\t3:89448571-89448571"
       ]
      },
      {
       "output_type": "stream",
       "stream": "stdout",
       "text": [
        " EPHA3\t3:89448565-89448571\n",
        "EPHA3\t3:89176423-89176423"
       ]
      },
      {
       "output_type": "stream",
       "stream": "stdout",
       "text": [
        " EPHA3\t3:89176417-89176423\n",
        "EPHA3\t3:89390198-89390198"
       ]
      },
      {
       "output_type": "stream",
       "stream": "stdout",
       "text": [
        " EPHA3\t3:89390192-89390198\n",
        "EPHA3\t3:89391074-89391074"
       ]
      },
      {
       "output_type": "stream",
       "stream": "stdout",
       "text": [
        " EPHA3\t3:89391068-89391074\n",
        "EPHA3\t3:89448571-89448571"
       ]
      },
      {
       "output_type": "stream",
       "stream": "stdout",
       "text": [
        " EPHA3\t3:89448565-89448571\n",
        "FILIP1L\t3:99567225-99567225"
       ]
      },
      {
       "output_type": "stream",
       "stream": "stdout",
       "text": [
        " FILIP1L\t3:99567219-99567225\n",
        "FILIP1L\t3:99567539-99567539"
       ]
      },
      {
       "output_type": "stream",
       "stream": "stdout",
       "text": [
        " FILIP1L\t3:99567533-99567539\n",
        "FILIP1L\t3:99568867-99568867"
       ]
      },
      {
       "output_type": "stream",
       "stream": "stdout",
       "text": [
        " FILIP1L\t3:99568861-99568867\n",
        "FILIP1L\t3:99569408-99569408"
       ]
      },
      {
       "output_type": "stream",
       "stream": "stdout",
       "text": [
        " FILIP1L\t3:99569402-99569408\n",
        "FILIP1L\t3:99567698-99567698"
       ]
      },
      {
       "output_type": "stream",
       "stream": "stdout",
       "text": [
        " FILIP1L\t3:99567692-99567698\n",
        "FILIP1L\t3:99568867-99568867"
       ]
      },
      {
       "output_type": "stream",
       "stream": "stdout",
       "text": [
        " FILIP1L\t3:99568861-99568867\n",
        "FILIP1L\t3:99569408-99569408"
       ]
      },
      {
       "output_type": "stream",
       "stream": "stdout",
       "text": [
        " FILIP1L\t3:99569402-99569408\n",
        "FILIP1L\t3:99648853-99648871 FILIP1L\t3:99648847-99648853\n",
        "15800"
       ]
      },
      {
       "output_type": "stream",
       "stream": "stdout",
       "text": [
        "\n",
        "COX17\t3:119396138-119396138"
       ]
      },
      {
       "output_type": "stream",
       "stream": "stdout",
       "text": [
        " COX17\t3:119396134-119396140\n",
        "GSK3B\t3:119812255-119812255 GSK3B\t3:119812250-119812256\n",
        "15900"
       ]
      },
      {
       "output_type": "stream",
       "stream": "stdout",
       "text": [
        "\n",
        "ACAD11\t3:132378462-132378462"
       ]
      },
      {
       "output_type": "stream",
       "stream": "stdout",
       "text": [
        " ACAD11\t3:132378461-132378467\n",
        "ACAD11\t3:132378462-132378462 ACAD11\t3:132378461-132378467\n",
        "BFSP2\t3:133193849-133193849 BFSP2\t3:133193848-133193854\n",
        "16000"
       ]
      },
      {
       "output_type": "stream",
       "stream": "stdout",
       "text": [
        "\n",
        "PAQR9\t3:142681942-142681942"
       ]
      },
      {
       "output_type": "stream",
       "stream": "stdout",
       "text": [
        " PAQR9\t3:142681938-142681944\n",
        "PAQR9\t3:142681942-142681942 PAQR9\t3:142681938-142681944\n",
        "HLTF\t3:148750037-148750037"
       ]
      },
      {
       "output_type": "stream",
       "stream": "stdout",
       "text": [
        " HLTF\t3:148750031-148750037\n",
        "HLTF\t3:148750037-148750037 HLTF\t3:148750031-148750037\n",
        "HLTF\t3:148750058-148750058 HLTF\t3:148750052-148750058\n",
        "HLTF\t3:148782631-148782631"
       ]
      },
      {
       "output_type": "stream",
       "stream": "stdout",
       "text": [
        " HLTF\t3:148782625-148782631\n",
        "HLTF\t3:148793804-148793806 HLTF\t3:148793798-148793804\n",
        "HLTF\t3:148750037-148750037 HLTF\t3:148750031-148750037\n",
        "HLTF\t3:148750058-148750058"
       ]
      },
      {
       "output_type": "stream",
       "stream": "stdout",
       "text": [
        " HLTF\t3:148750052-148750058\n",
        "HLTF\t3:148793804-148793806 HLTF\t3:148793798-148793804\n",
        "LEKR1\t3:156544156-156544156"
       ]
      },
      {
       "output_type": "stream",
       "stream": "stdout",
       "text": [
        " LEKR1\t3:156544150-156544156\n",
        "LEKR1\t3:156547155-156547155 LEKR1\t3:156547149-156547155\n",
        "LEKR1\t3:156570747-156570747 LEKR1\t3:156570741-156570747\n",
        "LEKR1\t3:156710875-156710875"
       ]
      },
      {
       "output_type": "stream",
       "stream": "stdout",
       "text": [
        " LEKR1\t3:156710869-156710875\n",
        "LEKR1\t3:156710888-156710888"
       ]
      },
      {
       "output_type": "stream",
       "stream": "stdout",
       "text": [
        " LEKR1\t3:156710882-156710888\n",
        "LEKR1\t3:156710975-156710975"
       ]
      },
      {
       "output_type": "stream",
       "stream": "stdout",
       "text": [
        " LEKR1\t3:156710969-156710975\n",
        "LEKR1\t3:156742606-156742606"
       ]
      },
      {
       "output_type": "stream",
       "stream": "stdout",
       "text": [
        " LEKR1\t3:156742600-156742606\n",
        "LEKR1\t3:156763225-156763225 LEKR1\t3:156763219-156763225\n",
        "LEKR1\t3:156763253-156763253 LEKR1\t3:156763247-156763253\n",
        "LEKR1\t3:156710975-156710975"
       ]
      },
      {
       "output_type": "stream",
       "stream": "stdout",
       "text": [
        " LEKR1\t3:156710969-156710975\n",
        "LEKR1\t3:156742606-156742606"
       ]
      },
      {
       "output_type": "stream",
       "stream": "stdout",
       "text": [
        " LEKR1\t3:156742600-156742606\n",
        "C3orf55\t3:157261177-157261177"
       ]
      },
      {
       "output_type": "stream",
       "stream": "stdout",
       "text": [
        " C3orf55\t3:157261171-157261177\n",
        "C3orf55\t3:157289743-157289743 C3orf55\t3:157289737-157289743\n",
        "C3orf55\t3:157289743-157289743 C3orf55\t3:157289737-157289743\n",
        "16100"
       ]
      },
      {
       "output_type": "stream",
       "stream": "stdout",
       "text": [
        "\n",
        "TNFSF10\t3:172224441-172224441"
       ]
      },
      {
       "output_type": "stream",
       "stream": "stdout",
       "text": [
        " TNFSF10\t3:172224435-172224441\n",
        "TNFSF10\t3:172241142-172241142 TNFSF10\t3:172241136-172241142\n",
        "TNFSF10\t3:172224441-172224441 TNFSF10\t3:172224435-172224441\n",
        "TNFSF10\t3:172241142-172241142 TNFSF10\t3:172241136-172241142\n",
        "KCNMB3\t3:178968569-178968569"
       ]
      },
      {
       "output_type": "stream",
       "stream": "stdout",
       "text": [
        " KCNMB3\t3:178968564-178968570\n",
        "KCNMB3\t3:178968844-178968844 KCNMB3\t3:178968838-178968844\n",
        "KCNMB3\t3:178968569-178968569 KCNMB3\t3:178968564-178968570\n",
        "TTC14\t3:180320056-180320056"
       ]
      },
      {
       "output_type": "stream",
       "stream": "stdout",
       "text": [
        " TTC14\t3:180320050-180320056\n",
        "TTC14\t3:180322642-180322642 TTC14\t3:180322636-180322642\n",
        "TTC14\t3:180324055-180324055 TTC14\t3:180324049-180324055\n",
        "TTC14\t3:180327846-180327846 TTC14\t3:180327840-180327846\n",
        "TTC14\t3:180328183-180328183 TTC14\t3:180328177-180328183\n",
        "TTC14\t3:180320056-180320056 TTC14\t3:180320050-180320056\n",
        "TTC14\t3:180322642-180322642 TTC14\t3:180322636-180322642\n",
        "TTC14\t3:180324055-180324055 TTC14\t3:180324049-180324055\n",
        "TTC14\t3:180327846-180327846 TTC14\t3:180327840-180327846\n",
        "TTC14\t3:180328183-180328183 TTC14\t3:180328177-180328183\n",
        "MCCC1\t3:182817227-182817228 MCCC1\t3:182817221-182817227\n",
        "MCCC1\t3:182817227-182817228 MCCC1\t3:182817221-182817227\n",
        "16200"
       ]
      },
      {
       "output_type": "stream",
       "stream": "stdout",
       "text": [
        "\n",
        "IGF2BP2\t3:185542725-185542725 IGF2BP2\t3:185542719-185542725\n",
        "TP63\t3:189526302-189526302"
       ]
      },
      {
       "output_type": "stream",
       "stream": "stdout",
       "text": [
        " TP63\t3:189526296-189526302\n",
        "TP63\t3:189582203-189582203"
       ]
      },
      {
       "output_type": "stream",
       "stream": "stdout",
       "text": [
        " TP63\t3:189582197-189582203\n",
        "TP63\t3:189582203-189582203"
       ]
      },
      {
       "output_type": "stream",
       "stream": "stdout",
       "text": [
        " TP63\t3:189582197-189582203\n",
        "GP5\t3:194118419-194118419"
       ]
      },
      {
       "output_type": "stream",
       "stream": "stdout",
       "text": [
        " GP5\t3:194118414-194118420\n",
        "MFI2\t3:196730792-196730792"
       ]
      },
      {
       "output_type": "stream",
       "stream": "stdout",
       "text": [
        " MFI2\t3:196730786-196730792\n",
        "MFI2\t3:196735702-196735702 MFI2\t3:196735696-196735702\n",
        "MFI2\t3:196735739-196735739 MFI2\t3:196735733-196735739\n",
        "MFI2\t3:196736542-196736542 MFI2\t3:196736536-196736542\n",
        "MFI2\t3:196736612-196736612"
       ]
      },
      {
       "output_type": "stream",
       "stream": "stdout",
       "text": [
        " MFI2\t3:196736606-196736612\n",
        "MFI2\t3:196743992-196743993 MFI2\t3:196743986-196743992\n",
        "MFI2\t3:196744075-196744075 MFI2\t3:196744069-196744075\n",
        "MFI2\t3:196748288-196748288 MFI2\t3:196748282-196748288\n",
        "MFI2\t3:196749945-196749946 MFI2\t3:196749939-196749945\n",
        "MFI2\t3:196749976-196749976 MFI2\t3:196749970-196749976\n",
        "MFI2\t3:196754653-196754653 MFI2\t3:196754647-196754653\n",
        "MFI2\t3:196735702-196735702"
       ]
      },
      {
       "output_type": "stream",
       "stream": "stdout",
       "text": [
        " MFI2\t3:196735696-196735702\n",
        "MFI2\t3:196736580-196736580 MFI2\t3:196736574-196736580\n",
        "MFI2\t3:196744075-196744075 MFI2\t3:196744069-196744075\n",
        "MFI2\t3:196748288-196748288 MFI2\t3:196748282-196748288\n",
        "MFI2\t3:196751207-196751207 MFI2\t3:196751201-196751207\n",
        "MFI2\t3:196754653-196754653 MFI2\t3:196754647-196754653\n",
        "DLG1\t3:197024060-197024060 DLG1\t3:197024054-197024060\n",
        "DLG1\t3:197024060-197024060 DLG1\t3:197024054-197024060\n",
        "SLC26A1\t4:985117-985117"
       ]
      },
      {
       "output_type": "stream",
       "stream": "stdout",
       "text": [
        " SLC26A1\t4:985111-985117\n",
        "SLC26A1\t4:982720-982720 SLC26A1\t4:982714-982720\n",
        "16300"
       ]
      },
      {
       "output_type": "stream",
       "stream": "stdout",
       "text": [
        "\n",
        "ADD1\t4:2900189-2900189"
       ]
      },
      {
       "output_type": "stream",
       "stream": "stdout",
       "text": [
        " ADD1\t4:2900183-2900189\n",
        "ADD1\t4:2906605-2906605 ADD1\t4:2906599-2906605\n",
        "ADD1\t4:2927786-2927786 ADD1\t4:2927780-2927786\n",
        "ADD1\t4:2929942-2929942"
       ]
      },
      {
       "output_type": "stream",
       "stream": "stdout",
       "text": [
        " ADD1\t4:2929936-2929942\n",
        "ADD1\t4:2930127-2930127 ADD1\t4:2930121-2930127\n",
        "ADD1\t4:2930167-2930167"
       ]
      },
      {
       "output_type": "stream",
       "stream": "stdout",
       "text": [
        " ADD1\t4:2930161-2930167\n",
        "ADD1\t4:2930220-2930220 ADD1\t4:2930214-2930220\n",
        "ADD1\t4:2877718-2877718"
       ]
      },
      {
       "output_type": "stream",
       "stream": "stdout",
       "text": [
        " ADD1\t4:2877712-2877718\n",
        "ADD1\t4:2906605-2906605 ADD1\t4:2906599-2906605\n",
        "ADD1\t4:2930220-2930220 ADD1\t4:2930214-2930220\n",
        "RGS12\t4:3318059-3318059"
       ]
      },
      {
       "output_type": "stream",
       "stream": "stdout",
       "text": [
        " RGS12\t4:3318053-3318059\n",
        "RGS12\t4:3318650-3318650 RGS12\t4:3318644-3318650\n",
        "RGS12\t4:3319691-3319691 RGS12\t4:3319685-3319691\n",
        "RGS12\t4:3344159-3344159"
       ]
      },
      {
       "output_type": "stream",
       "stream": "stdout",
       "text": [
        " RGS12\t4:3344153-3344159\n",
        "RGS12\t4:3344728-3344728 RGS12\t4:3344722-3344728\n",
        "RGS12\t4:3432479-3432479 RGS12\t4:3432473-3432479\n",
        "RGS12\t4:3441258-3441258"
       ]
      },
      {
       "output_type": "stream",
       "stream": "stdout",
       "text": [
        " RGS12\t4:3441252-3441258\n",
        "RGS12\t4:3441334-3441334 RGS12\t4:3441328-3441334\n",
        "RGS12\t4:3318059-3318059 RGS12\t4:3318053-3318059\n",
        "RGS12\t4:3318650-3318650"
       ]
      },
      {
       "output_type": "stream",
       "stream": "stdout",
       "text": [
        " RGS12\t4:3318644-3318650\n",
        "RGS12\t4:3344728-3344728 RGS12\t4:3344722-3344728\n",
        "RGS12\t4:3441258-3441258"
       ]
      },
      {
       "output_type": "stream",
       "stream": "stdout",
       "text": [
        " RGS12\t4:3441252-3441258\n",
        "MRFAP1L1\t4:6711224-6711224"
       ]
      },
      {
       "output_type": "stream",
       "stream": "stdout",
       "text": [
        " MRFAP1L1\t4:6711222-6711228\n",
        "MRFAP1L1\t4:6711224-6711224 MRFAP1L1\t4:6711222-6711228\n",
        "CC2D2A\t4:15482442-15482442"
       ]
      },
      {
       "output_type": "stream",
       "stream": "stdout",
       "text": [
        " CC2D2A\t4:15482436-15482442\n",
        "FGFBP2\t4:15964689-15964689"
       ]
      },
      {
       "output_type": "stream",
       "stream": "stdout",
       "text": [
        " FGFBP2\t4:15964683-15964689\n",
        "FGFBP2\t4:15964689-15964689 FGFBP2\t4:15964683-15964689\n",
        "LDB2\t4:16504298-16504298"
       ]
      },
      {
       "output_type": "stream",
       "stream": "stdout",
       "text": [
        " LDB2\t4:16504292-16504298\n",
        "LDB2\t4:16504398-16504398"
       ]
      },
      {
       "output_type": "stream",
       "stream": "stdout",
       "text": [
        " LDB2\t4:16504392-16504398\n",
        "LDB2\t4:16504411-16504411"
       ]
      },
      {
       "output_type": "stream",
       "stream": "stdout",
       "text": [
        " LDB2\t4:16504405-16504411\n",
        "LDB2\t4:16504486-16504486"
       ]
      },
      {
       "output_type": "stream",
       "stream": "stdout",
       "text": [
        " LDB2\t4:16504480-16504486\n",
        "LDB2\t4:16507531-16507531"
       ]
      },
      {
       "output_type": "stream",
       "stream": "stdout",
       "text": [
        " LDB2\t4:16507525-16507531\n",
        "LDB2\t4:16507532-16507532"
       ]
      },
      {
       "output_type": "stream",
       "stream": "stdout",
       "text": [
        " LDB2\t4:16507526-16507532\n",
        "LDB2\t4:16587601-16587601"
       ]
      },
      {
       "output_type": "stream",
       "stream": "stdout",
       "text": [
        " LDB2\t4:16587595-16587601\n",
        "LDB2\t4:16587601-16587601"
       ]
      },
      {
       "output_type": "stream",
       "stream": "stdout",
       "text": [
        " LDB2\t4:16587595-16587601\n",
        "LDB2\t4:16597371-16597371"
       ]
      },
      {
       "output_type": "stream",
       "stream": "stdout",
       "text": [
        " LDB2\t4:16597365-16597371\n",
        "LDB2\t4:16597474-16597474"
       ]
      },
      {
       "output_type": "stream",
       "stream": "stdout",
       "text": [
        " LDB2\t4:16597468-16597474\n",
        "LDB2\t4:16899985-16899985"
       ]
      },
      {
       "output_type": "stream",
       "stream": "stdout",
       "text": [
        " LDB2\t4:16899979-16899985\n",
        "LDB2\t4:16504298-16504298"
       ]
      },
      {
       "output_type": "stream",
       "stream": "stdout",
       "text": [
        " LDB2\t4:16504292-16504298\n",
        "LDB2\t4:16504398-16504398"
       ]
      },
      {
       "output_type": "stream",
       "stream": "stdout",
       "text": [
        " LDB2\t4:16504392-16504398\n",
        "LDB2\t4:16504411-16504411"
       ]
      },
      {
       "output_type": "stream",
       "stream": "stdout",
       "text": [
        " LDB2\t4:16504405-16504411\n",
        "LDB2\t4:16587601-16587601"
       ]
      },
      {
       "output_type": "stream",
       "stream": "stdout",
       "text": [
        " LDB2\t4:16587595-16587601\n",
        "LDB2\t4:16597371-16597371"
       ]
      },
      {
       "output_type": "stream",
       "stream": "stdout",
       "text": [
        " LDB2\t4:16597365-16597371\n",
        "LDB2\t4:16597474-16597474"
       ]
      },
      {
       "output_type": "stream",
       "stream": "stdout",
       "text": [
        " LDB2\t4:16597468-16597474\n",
        "LDB2\t4:16899985-16899985"
       ]
      },
      {
       "output_type": "stream",
       "stream": "stdout",
       "text": [
        " LDB2\t4:16899979-16899985\n",
        "16400"
       ]
      },
      {
       "output_type": "stream",
       "stream": "stdout",
       "text": [
        "\n",
        "PCDH7\t4:30724370-30724370"
       ]
      },
      {
       "output_type": "stream",
       "stream": "stdout",
       "text": [
        " PCDH7\t4:30724364-30724370\n",
        "PCDH7\t4:30724797-30724797 PCDH7\t4:30724791-30724797\n",
        "PCDH7\t4:30725306-30725306 PCDH7\t4:30725300-30725306\n",
        "PCDH7\t4:30725334-30725334 PCDH7\t4:30725328-30725334\n",
        "PCDH7\t4:30725361-30725361 PCDH7\t4:30725355-30725361\n",
        "PCDH7\t4:30725361-30725361 PCDH7\t4:30725355-30725361\n",
        "PCDH7\t4:30725361-30725361 PCDH7\t4:30725355-30725361\n",
        "PCDH7\t4:30725361-30725361 PCDH7\t4:30725355-30725361\n",
        "PCDH7\t4:30725334-30725334 PCDH7\t4:30725328-30725334\n",
        "PCDH7\t4:30725361-30725361 PCDH7\t4:30725355-30725361\n",
        "PDS5A\t4:39846302-39846302"
       ]
      },
      {
       "output_type": "stream",
       "stream": "stdout",
       "text": [
        " PDS5A\t4:39846296-39846302\n",
        "PDS5A\t4:39865035-39865035 PDS5A\t4:39865029-39865035\n",
        "PDS5A\t4:39871074-39871074 PDS5A\t4:39871068-39871074\n",
        "PDS5A\t4:39915337-39915337"
       ]
      },
      {
       "output_type": "stream",
       "stream": "stdout",
       "text": [
        " PDS5A\t4:39915331-39915337\n",
        "PDS5A\t4:39924337-39924337 PDS5A\t4:39924331-39924337\n",
        "PDS5A\t4:39839575-39839600"
       ]
      },
      {
       "output_type": "stream",
       "stream": "stdout",
       "text": [
        " PDS5A\t4:39839569-39839575\n",
        "PDS5A\t4:39846302-39846302 PDS5A\t4:39846296-39846302\n",
        "PDS5A\t4:39864689-39864689 PDS5A\t4:39864683-39864689\n",
        "PDS5A\t4:39865035-39865035 PDS5A\t4:39865029-39865035\n",
        "PDS5A\t4:39881426-39881426 PDS5A\t4:39881420-39881426\n",
        "PDS5A\t4:39924337-39924337"
       ]
      },
      {
       "output_type": "stream",
       "stream": "stdout",
       "text": [
        " PDS5A\t4:39924331-39924337\n",
        "PHOX2B\t4:41749389-41749389 PHOX2B\t4:41749388-41749394\n",
        "PHOX2B\t4:41750604-41750605 PHOX2B\t4:41750599-41750605\n",
        "PHOX2B\t4:41749389-41749389 PHOX2B\t4:41749388-41749394\n",
        "16500"
       ]
      },
      {
       "output_type": "stream",
       "stream": "stdout",
       "text": [
        "\n",
        "UGT2B15\t4:69536210-69536210 UGT2B15\t4:69536204-69536210\n",
        "UGT2B15\t4:69536210-69536210 UGT2B15\t4:69536204-69536210\n",
        "RUFY3\t4:71588300-71588300"
       ]
      },
      {
       "output_type": "stream",
       "stream": "stdout",
       "text": [
        " RUFY3\t4:71588294-71588300\n",
        "RUFY3\t4:71639285-71639285 RUFY3\t4:71639279-71639285\n",
        "RUFY3\t4:71650590-71650590"
       ]
      },
      {
       "output_type": "stream",
       "stream": "stdout",
       "text": [
        " RUFY3\t4:71650584-71650590\n",
        "RUFY3\t4:71650591-71650591 RUFY3\t4:71650585-71650591\n",
        "RUFY3\t4:71654523-71654524"
       ]
      },
      {
       "output_type": "stream",
       "stream": "stdout",
       "text": [
        " RUFY3\t4:71654517-71654523\n",
        "RUFY3\t4:71654529-71654529"
       ]
      },
      {
       "output_type": "stream",
       "stream": "stdout",
       "text": [
        " RUFY3\t4:71654523-71654529\n",
        "RUFY3\t4:71639285-71639285"
       ]
      },
      {
       "output_type": "stream",
       "stream": "stdout",
       "text": [
        " RUFY3\t4:71639279-71639285\n",
        "RUFY3\t4:71654523-71654524"
       ]
      },
      {
       "output_type": "stream",
       "stream": "stdout",
       "text": [
        " RUFY3\t4:71654517-71654523\n",
        "RUFY3\t4:71654529-71654529"
       ]
      },
      {
       "output_type": "stream",
       "stream": "stdout",
       "text": [
        " RUFY3\t4:71654523-71654529\n",
        "SLC4A4\t4:72102346-72102346"
       ]
      },
      {
       "output_type": "stream",
       "stream": "stdout",
       "text": [
        " SLC4A4\t4:72102340-72102346\n",
        "SLC4A4\t4:72121014-72121014"
       ]
      },
      {
       "output_type": "stream",
       "stream": "stdout",
       "text": [
        " SLC4A4\t4:72121008-72121014\n",
        "SLC4A4\t4:72205101-72205101"
       ]
      },
      {
       "output_type": "stream",
       "stream": "stdout",
       "text": [
        " SLC4A4\t4:72205095-72205101\n",
        "SLC4A4\t4:72205157-72205157"
       ]
      },
      {
       "output_type": "stream",
       "stream": "stdout",
       "text": [
        " SLC4A4\t4:72205151-72205157\n",
        "SLC4A4\t4:72205191-72205191"
       ]
      },
      {
       "output_type": "stream",
       "stream": "stdout",
       "text": [
        " SLC4A4\t4:72205185-72205191\n",
        "SLC4A4\t4:72316952-72316953"
       ]
      },
      {
       "output_type": "stream",
       "stream": "stdout",
       "text": [
        " SLC4A4\t4:72316946-72316952\n",
        "SLC4A4\t4:72316953-72316953"
       ]
      },
      {
       "output_type": "stream",
       "stream": "stdout",
       "text": [
        " SLC4A4\t4:72316947-72316953\n",
        "SLC4A4\t4:72363368-72363368 SLC4A4\t4:72363362-72363368\n",
        "SLC4A4\t4:72400045-72400045 SLC4A4\t4:72400039-72400045\n",
        "SLC4A4\t4:72429510-72429510"
       ]
      },
      {
       "output_type": "stream",
       "stream": "stdout",
       "text": [
        " SLC4A4\t4:72429504-72429510\n",
        "SLC4A4\t4:72432765-72432765 SLC4A4\t4:72432759-72432765\n",
        "SLC4A4\t4:72121014-72121014"
       ]
      },
      {
       "output_type": "stream",
       "stream": "stdout",
       "text": [
        " SLC4A4\t4:72121008-72121014\n",
        "SLC4A4\t4:72205101-72205101"
       ]
      },
      {
       "output_type": "stream",
       "stream": "stdout",
       "text": [
        " SLC4A4\t4:72205095-72205101\n",
        "SLC4A4\t4:72205191-72205191"
       ]
      },
      {
       "output_type": "stream",
       "stream": "stdout",
       "text": [
        " SLC4A4\t4:72205185-72205191\n",
        "SLC4A4\t4:72316953-72316953"
       ]
      },
      {
       "output_type": "stream",
       "stream": "stdout",
       "text": [
        " SLC4A4\t4:72316947-72316953\n",
        "SLC4A4\t4:72429510-72429510"
       ]
      },
      {
       "output_type": "stream",
       "stream": "stdout",
       "text": [
        " SLC4A4\t4:72429504-72429510\n",
        "SLC4A4\t4:72432765-72432765"
       ]
      },
      {
       "output_type": "stream",
       "stream": "stdout",
       "text": [
        " SLC4A4\t4:72432759-72432765\n",
        "FRAS1\t4:79173629-79173629"
       ]
      },
      {
       "output_type": "stream",
       "stream": "stdout",
       "text": [
        " FRAS1\t4:79173623-79173629\n",
        "FRAS1\t4:79188077-79188077"
       ]
      },
      {
       "output_type": "stream",
       "stream": "stdout",
       "text": [
        " FRAS1\t4:79188071-79188077\n",
        "FRAS1\t4:79188530-79188530"
       ]
      },
      {
       "output_type": "stream",
       "stream": "stdout",
       "text": [
        " FRAS1\t4:79188524-79188530\n",
        "FRAS1\t4:79188530-79188530"
       ]
      },
      {
       "output_type": "stream",
       "stream": "stdout",
       "text": [
        " FRAS1\t4:79188524-79188530\n",
        "FRAS1\t4:79199824-79199824"
       ]
      },
      {
       "output_type": "stream",
       "stream": "stdout",
       "text": [
        " FRAS1\t4:79199818-79199824\n",
        "FRAS1\t4:79229317-79229317"
       ]
      },
      {
       "output_type": "stream",
       "stream": "stdout",
       "text": [
        " FRAS1\t4:79229311-79229317\n",
        "FRAS1\t4:79236807-79236807"
       ]
      },
      {
       "output_type": "stream",
       "stream": "stdout",
       "text": [
        " FRAS1\t4:79236801-79236807\n",
        "FRAS1\t4:79236807-79236807"
       ]
      },
      {
       "output_type": "stream",
       "stream": "stdout",
       "text": [
        " FRAS1\t4:79236801-79236807\n",
        "FRAS1\t4:79238583-79238583"
       ]
      },
      {
       "output_type": "stream",
       "stream": "stdout",
       "text": [
        " FRAS1\t4:79238577-79238583\n",
        "FRAS1\t4:79291043-79291043"
       ]
      },
      {
       "output_type": "stream",
       "stream": "stdout",
       "text": [
        " FRAS1\t4:79291037-79291043\n",
        "FRAS1\t4:79321966-79321966"
       ]
      },
      {
       "output_type": "stream",
       "stream": "stdout",
       "text": [
        " FRAS1\t4:79321960-79321966\n",
        "FRAS1\t4:79322001-79322001"
       ]
      },
      {
       "output_type": "stream",
       "stream": "stdout",
       "text": [
        " FRAS1\t4:79321995-79322001\n",
        "FRAS1\t4:79328836-79328836"
       ]
      },
      {
       "output_type": "stream",
       "stream": "stdout",
       "text": [
        " FRAS1\t4:79328830-79328836\n",
        "FRAS1\t4:79340212-79340212"
       ]
      },
      {
       "output_type": "stream",
       "stream": "stdout",
       "text": [
        " FRAS1\t4:79340206-79340212\n",
        "FRAS1\t4:79343117-79343117"
       ]
      },
      {
       "output_type": "stream",
       "stream": "stdout",
       "text": [
        " FRAS1\t4:79343111-79343117\n",
        "FRAS1\t4:79353539-79353539"
       ]
      },
      {
       "output_type": "stream",
       "stream": "stdout",
       "text": [
        " FRAS1\t4:79353533-79353539\n",
        "FRAS1\t4:79353723-79353723"
       ]
      },
      {
       "output_type": "stream",
       "stream": "stdout",
       "text": [
        " FRAS1\t4:79353717-79353723\n",
        "FRAS1\t4:79359817-79359817"
       ]
      },
      {
       "output_type": "stream",
       "stream": "stdout",
       "text": [
        " FRAS1\t4:79359811-79359817\n",
        "FRAS1\t4:79362418-79362418"
       ]
      },
      {
       "output_type": "stream",
       "stream": "stdout",
       "text": [
        " FRAS1\t4:79362412-79362418\n",
        "FRAS1\t4:79366729-79366729"
       ]
      },
      {
       "output_type": "stream",
       "stream": "stdout",
       "text": [
        " FRAS1\t4:79366723-79366729\n",
        "FRAS1\t4:79188077-79188077"
       ]
      },
      {
       "output_type": "stream",
       "stream": "stdout",
       "text": [
        " FRAS1\t4:79188071-79188077\n",
        "FRAS1\t4:79188530-79188530"
       ]
      },
      {
       "output_type": "stream",
       "stream": "stdout",
       "text": [
        " FRAS1\t4:79188524-79188530\n",
        "FRAS1\t4:79236807-79236807"
       ]
      },
      {
       "output_type": "stream",
       "stream": "stdout",
       "text": [
        " FRAS1\t4:79236801-79236807\n",
        "FRAS1\t4:79322001-79322001"
       ]
      },
      {
       "output_type": "stream",
       "stream": "stdout",
       "text": [
        " FRAS1\t4:79321995-79322001\n",
        "FRAS1\t4:79328836-79328836"
       ]
      },
      {
       "output_type": "stream",
       "stream": "stdout",
       "text": [
        " FRAS1\t4:79328830-79328836\n",
        "FRAS1\t4:79340212-79340212"
       ]
      },
      {
       "output_type": "stream",
       "stream": "stdout",
       "text": [
        " FRAS1\t4:79340206-79340212\n",
        "FRAS1\t4:79351561-79351561"
       ]
      },
      {
       "output_type": "stream",
       "stream": "stdout",
       "text": [
        " FRAS1\t4:79351555-79351561\n",
        "FRAS1\t4:79353539-79353539"
       ]
      },
      {
       "output_type": "stream",
       "stream": "stdout",
       "text": [
        " FRAS1\t4:79353533-79353539\n",
        "16600"
       ]
      },
      {
       "output_type": "stream",
       "stream": "stdout",
       "text": [
        "\n",
        "BMP2K\t4:79780777-79780777"
       ]
      },
      {
       "output_type": "stream",
       "stream": "stdout",
       "text": [
        " BMP2K\t4:79780771-79780777\n",
        "BMP2K\t4:79782550-79782550 BMP2K\t4:79782544-79782550\n",
        "BMP2K\t4:79792109-79792109"
       ]
      },
      {
       "output_type": "stream",
       "stream": "stdout",
       "text": [
        " BMP2K\t4:79792103-79792109\n",
        "BMP2K\t4:79792136-79792137"
       ]
      },
      {
       "output_type": "stream",
       "stream": "stdout",
       "text": [
        " BMP2K\t4:79792130-79792136\n",
        "BMP2K\t4:79780777-79780777"
       ]
      },
      {
       "output_type": "stream",
       "stream": "stdout",
       "text": [
        " BMP2K\t4:79780771-79780777\n",
        "BMP2K\t4:79792136-79792137"
       ]
      },
      {
       "output_type": "stream",
       "stream": "stdout",
       "text": [
        " BMP2K\t4:79792130-79792136\n",
        "SCD5\t4:83552510-83552510"
       ]
      },
      {
       "output_type": "stream",
       "stream": "stdout",
       "text": [
        " SCD5\t4:83552504-83552510\n",
        "SCD5\t4:83552510-83552510 SCD5\t4:83552504-83552510\n",
        "SCD5\t4:83601945-83601945"
       ]
      },
      {
       "output_type": "stream",
       "stream": "stdout",
       "text": [
        " SCD5\t4:83601939-83601945\n",
        "SCD5\t4:83626523-83626523 SCD5\t4:83626517-83626523\n",
        "SCD5\t4:83626534-83626534 SCD5\t4:83626528-83626534\n",
        "SCD5\t4:83719603-83719603"
       ]
      },
      {
       "output_type": "stream",
       "stream": "stdout",
       "text": [
        " SCD5\t4:83719597-83719603\n",
        "SCD5\t4:83719603-83719603"
       ]
      },
      {
       "output_type": "stream",
       "stream": "stdout",
       "text": [
        " SCD5\t4:83719597-83719603\n",
        "SLC10A6\t4:87770240-87770240"
       ]
      },
      {
       "output_type": "stream",
       "stream": "stdout",
       "text": [
        " SLC10A6\t4:87770237-87770243\n",
        "TET2\t4:106155230-106155230"
       ]
      },
      {
       "output_type": "stream",
       "stream": "stdout",
       "text": [
        " TET2\t4:106155224-106155230\n",
        "TET2\t4:106155363-106155363 TET2\t4:106155357-106155363\n",
        "TET2\t4:106155404-106155406"
       ]
      },
      {
       "output_type": "stream",
       "stream": "stdout",
       "text": [
        " TET2\t4:106155398-106155404\n",
        "TET2\t4:106156375-106156375 TET2\t4:106156369-106156375\n",
        "TET2\t4:106157065-106157065"
       ]
      },
      {
       "output_type": "stream",
       "stream": "stdout",
       "text": [
        " TET2\t4:106157059-106157065\n",
        "TET2\t4:106157246-106157246 TET2\t4:106157240-106157246\n",
        "TET2\t4:106155363-106155363"
       ]
      },
      {
       "output_type": "stream",
       "stream": "stdout",
       "text": [
        " TET2\t4:106155357-106155363\n",
        "TET2\t4:106155404-106155406 TET2\t4:106155398-106155404\n",
        "GSTCD\t4:106640362-106640362"
       ]
      },
      {
       "output_type": "stream",
       "stream": "stdout",
       "text": [
        " GSTCD\t4:106640356-106640362\n",
        "GSTCD\t4:106746941-106746941 GSTCD\t4:106746935-106746941\n",
        "GSTCD\t4:106746874-106746896"
       ]
      },
      {
       "output_type": "stream",
       "stream": "stdout",
       "text": [
        " GSTCD\t4:106746868-106746874\n",
        "16700\n",
        "COL25A1\t4:109767306-109767307"
       ]
      },
      {
       "output_type": "stream",
       "stream": "stdout",
       "text": [
        " COL25A1\t4:109767300-109767306\n",
        "COL25A1\t4:109782110-109782110"
       ]
      },
      {
       "output_type": "stream",
       "stream": "stdout",
       "text": [
        " COL25A1\t4:109782104-109782110\n",
        "COL25A1\t4:109784541-109784541"
       ]
      },
      {
       "output_type": "stream",
       "stream": "stdout",
       "text": [
        " COL25A1\t4:109784535-109784541\n",
        "COL25A1\t4:109817822-109817822"
       ]
      },
      {
       "output_type": "stream",
       "stream": "stdout",
       "text": [
        " COL25A1\t4:109817816-109817822\n",
        "COL25A1\t4:109817828-109817828"
       ]
      },
      {
       "output_type": "stream",
       "stream": "stdout",
       "text": [
        " COL25A1\t4:109817822-109817828\n",
        "COL25A1\t4:110221778-110221778"
       ]
      },
      {
       "output_type": "stream",
       "stream": "stdout",
       "text": [
        " COL25A1\t4:110221772-110221778\n",
        "COL25A1\t4:110222887-110222887"
       ]
      },
      {
       "output_type": "stream",
       "stream": "stdout",
       "text": [
        " COL25A1\t4:110222881-110222887\n",
        "COL25A1\t4:109767306-109767307"
       ]
      },
      {
       "output_type": "stream",
       "stream": "stdout",
       "text": [
        " COL25A1\t4:109767300-109767306\n",
        "COL25A1\t4:109817822-109817822"
       ]
      },
      {
       "output_type": "stream",
       "stream": "stdout",
       "text": [
        " COL25A1\t4:109817816-109817822\n",
        "COL25A1\t4:110221778-110221778"
       ]
      },
      {
       "output_type": "stream",
       "stream": "stdout",
       "text": [
        " COL25A1\t4:110221772-110221778\n",
        "COL25A1\t4:110222887-110222887"
       ]
      },
      {
       "output_type": "stream",
       "stream": "stdout",
       "text": [
        " COL25A1\t4:110222881-110222887\n",
        "LARP1B\t4:129003346-129003346"
       ]
      },
      {
       "output_type": "stream",
       "stream": "stdout",
       "text": [
        " LARP1B\t4:129003340-129003346\n",
        "LARP1B\t4:129019458-129019458 LARP1B\t4:129019452-129019458\n",
        "LARP1B\t4:129043104-129043104"
       ]
      },
      {
       "output_type": "stream",
       "stream": "stdout",
       "text": [
        " LARP1B\t4:129043098-129043104\n",
        "LARP1B\t4:129043387-129043387 LARP1B\t4:129043381-129043387\n",
        "LARP1B\t4:129121815-129121815"
       ]
      },
      {
       "output_type": "stream",
       "stream": "stdout",
       "text": [
        " LARP1B\t4:129121809-129121815\n",
        "LARP1B\t4:129043387-129043387"
       ]
      },
      {
       "output_type": "stream",
       "stream": "stdout",
       "text": [
        " LARP1B\t4:129043381-129043387\n",
        "PCDH18\t4:138451790-138451790"
       ]
      },
      {
       "output_type": "stream",
       "stream": "stdout",
       "text": [
        " PCDH18\t4:138451790-138451796\n",
        "PCDH18\t4:138452231-138452231 PCDH18\t4:138452228-138452234\n",
        "PCDH18\t4:138452231-138452231 PCDH18\t4:138452228-138452234\n",
        "16800\n",
        "DCHS2\t4:155156012-155156012"
       ]
      },
      {
       "output_type": "stream",
       "stream": "stdout",
       "text": [
        " DCHS2\t4:155156006-155156012\n",
        "DCHS2\t4:155156862-155156862"
       ]
      },
      {
       "output_type": "stream",
       "stream": "stdout",
       "text": [
        " DCHS2\t4:155156856-155156862\n",
        "DCHS2\t4:155157392-155157392"
       ]
      },
      {
       "output_type": "stream",
       "stream": "stdout",
       "text": [
        " DCHS2\t4:155157386-155157392\n",
        "DCHS2\t4:155157976-155157976"
       ]
      },
      {
       "output_type": "stream",
       "stream": "stdout",
       "text": [
        " DCHS2\t4:155157970-155157976\n",
        "DCHS2\t4:155160373-155160373"
       ]
      },
      {
       "output_type": "stream",
       "stream": "stdout",
       "text": [
        " DCHS2\t4:155160367-155160373\n",
        "DCHS2\t4:155160378-155160378"
       ]
      },
      {
       "output_type": "stream",
       "stream": "stdout",
       "text": [
        " DCHS2\t4:155160372-155160378\n",
        "DCHS2\t4:155161799-155161799"
       ]
      },
      {
       "output_type": "stream",
       "stream": "stdout",
       "text": [
        " DCHS2\t4:155161793-155161799\n",
        "DCHS2\t4:155180776-155180776"
       ]
      },
      {
       "output_type": "stream",
       "stream": "stdout",
       "text": [
        " DCHS2\t4:155180770-155180776\n",
        "DCHS2\t4:155219117-155219117 DCHS2\t4:155219111-155219117\n",
        "DCHS2\t4:155219190-155219190 DCHS2\t4:155219184-155219190\n",
        "DCHS2\t4:155219212-155219212"
       ]
      },
      {
       "output_type": "stream",
       "stream": "stdout",
       "text": [
        " DCHS2\t4:155219206-155219212\n",
        "DCHS2\t4:155219402-155219402 DCHS2\t4:155219396-155219402\n",
        "DCHS2\t4:155225823-155225823 DCHS2\t4:155225817-155225823\n",
        "DCHS2\t4:155237076-155237076"
       ]
      },
      {
       "output_type": "stream",
       "stream": "stdout",
       "text": [
        " DCHS2\t4:155237070-155237076\n",
        "DCHS2\t4:155241643-155241643 DCHS2\t4:155241637-155241643\n",
        "DCHS2\t4:155241942-155241942"
       ]
      },
      {
       "output_type": "stream",
       "stream": "stdout",
       "text": [
        " DCHS2\t4:155241936-155241942\n",
        "DCHS2\t4:155242003-155242003 DCHS2\t4:155241997-155242003\n",
        "DCHS2\t4:155242031-155242031"
       ]
      },
      {
       "output_type": "stream",
       "stream": "stdout",
       "text": [
        " DCHS2\t4:155242025-155242031\n",
        "DCHS2\t4:155242033-155242033 DCHS2\t4:155242027-155242033\n",
        "DCHS2\t4:155242040-155242040"
       ]
      },
      {
       "output_type": "stream",
       "stream": "stdout",
       "text": [
        " DCHS2\t4:155242034-155242040\n",
        "DCHS2\t4:155242117-155242117 DCHS2\t4:155242111-155242117\n",
        "DCHS2\t4:155253827-155253827"
       ]
      },
      {
       "output_type": "stream",
       "stream": "stdout",
       "text": [
        " DCHS2\t4:155253821-155253827\n",
        "DCHS2\t4:155254014-155254014 DCHS2\t4:155254008-155254014\n",
        "DCHS2\t4:155254228-155254228"
       ]
      },
      {
       "output_type": "stream",
       "stream": "stdout",
       "text": [
        " DCHS2\t4:155254222-155254228\n",
        "DCHS2\t4:155287566-155287566"
       ]
      },
      {
       "output_type": "stream",
       "stream": "stdout",
       "text": [
        " DCHS2\t4:155287560-155287566\n",
        "DCHS2\t4:155156862-155156862"
       ]
      },
      {
       "output_type": "stream",
       "stream": "stdout",
       "text": [
        " DCHS2\t4:155156856-155156862\n",
        "DCHS2\t4:155157392-155157392"
       ]
      },
      {
       "output_type": "stream",
       "stream": "stdout",
       "text": [
        " DCHS2\t4:155157386-155157392\n",
        "DCHS2\t4:155157976-155157976"
       ]
      },
      {
       "output_type": "stream",
       "stream": "stdout",
       "text": [
        " DCHS2\t4:155157970-155157976\n",
        "DCHS2\t4:155160373-155160373"
       ]
      },
      {
       "output_type": "stream",
       "stream": "stdout",
       "text": [
        " DCHS2\t4:155160367-155160373\n",
        "DCHS2\t4:155160378-155160378"
       ]
      },
      {
       "output_type": "stream",
       "stream": "stdout",
       "text": [
        " DCHS2\t4:155160372-155160378\n",
        "DCHS2\t4:155161799-155161799"
       ]
      },
      {
       "output_type": "stream",
       "stream": "stdout",
       "text": [
        " DCHS2\t4:155161793-155161799\n",
        "DCHS2\t4:155180776-155180776"
       ]
      },
      {
       "output_type": "stream",
       "stream": "stdout",
       "text": [
        " DCHS2\t4:155180770-155180776\n",
        "DCHS2\t4:155191053-155191057 DCHS2\t4:155191047-155191053\n",
        "DCHS2\t4:155219117-155219117 DCHS2\t4:155219111-155219117\n",
        "DCHS2\t4:155241643-155241643 DCHS2\t4:155241637-155241643\n",
        "DCHS2\t4:155242003-155242003"
       ]
      },
      {
       "output_type": "stream",
       "stream": "stdout",
       "text": [
        " DCHS2\t4:155241997-155242003\n",
        "DCHS2\t4:155242117-155242117 DCHS2\t4:155242111-155242117\n",
        "DCHS2\t4:155253827-155253827"
       ]
      },
      {
       "output_type": "stream",
       "stream": "stdout",
       "text": [
        " DCHS2\t4:155253821-155253827\n",
        "DCHS2\t4:155254228-155254228 DCHS2\t4:155254222-155254228\n",
        "DCHS2\t4:155287566-155287566"
       ]
      },
      {
       "output_type": "stream",
       "stream": "stdout",
       "text": [
        " DCHS2\t4:155287560-155287566\n",
        "GUCY1A3\t4:156618138-156618138"
       ]
      },
      {
       "output_type": "stream",
       "stream": "stdout",
       "text": [
        " GUCY1A3\t4:156618132-156618138\n",
        "GUCY1A3\t4:156629403-156629403 GUCY1A3\t4:156629397-156629403\n",
        "GUCY1A3\t4:156634276-156634276 GUCY1A3\t4:156634270-156634276\n",
        "GUCY1A3\t4:156634276-156634276 GUCY1A3\t4:156634270-156634276\n",
        "SPOCK3\t4:168155291-168155292"
       ]
      },
      {
       "output_type": "stream",
       "stream": "stdout",
       "text": [
        " SPOCK3\t4:168155287-168155293\n",
        "16900"
       ]
      },
      {
       "output_type": "stream",
       "stream": "stdout",
       "text": [
        "\n",
        "DNAH5\t5:13944506-13944506"
       ]
      },
      {
       "output_type": "stream",
       "stream": "stdout",
       "text": [
        " DNAH5\t5:13944500-13944506\n",
        "17000"
       ]
      },
      {
       "output_type": "stream",
       "stream": "stdout",
       "text": [
        "\n",
        "PDZD2\t5:32108269-32108269 PDZD2\t5:32108267-32108273\n",
        "NPR3\t5:32712623-32712623"
       ]
      },
      {
       "output_type": "stream",
       "stream": "stdout",
       "text": [
        " NPR3\t5:32712617-32712623\n",
        "NPR3\t5:32724819-32724819 NPR3\t5:32724813-32724819\n",
        "NPR3\t5:32780845-32780847 NPR3\t5:32780839-32780845\n",
        "NPR3\t5:32786414-32786414 NPR3\t5:32786408-32786414\n",
        "NPR3\t5:32712623-32712623"
       ]
      },
      {
       "output_type": "stream",
       "stream": "stdout",
       "text": [
        " NPR3\t5:32712617-32712623\n",
        "NPR3\t5:32724819-32724819 NPR3\t5:32724813-32724819\n",
        "NPR3\t5:32780845-32780847 NPR3\t5:32780839-32780845\n",
        "NPR3\t5:32786414-32786414 NPR3\t5:32786408-32786414\n",
        "SPEF2\t5:35646801-35646801"
       ]
      },
      {
       "output_type": "stream",
       "stream": "stdout",
       "text": [
        " SPEF2\t5:35646795-35646801\n",
        "SPEF2\t5:35654760-35654760 SPEF2\t5:35654754-35654760\n",
        "SPEF2\t5:35628657-35628657"
       ]
      },
      {
       "output_type": "stream",
       "stream": "stdout",
       "text": [
        " SPEF2\t5:35628651-35628657\n",
        "SLC1A3\t5:36608580-36608580"
       ]
      },
      {
       "output_type": "stream",
       "stream": "stdout",
       "text": [
        " SLC1A3\t5:36608574-36608580\n",
        "SLC1A3\t5:36608580-36608580 SLC1A3\t5:36608574-36608580\n",
        "OSMR\t5:38881757-38881757"
       ]
      },
      {
       "output_type": "stream",
       "stream": "stdout",
       "text": [
        " OSMR\t5:38881751-38881757\n",
        "OSMR\t5:38884114-38884114 OSMR\t5:38884108-38884114\n",
        "OSMR\t5:38885552-38885552"
       ]
      },
      {
       "output_type": "stream",
       "stream": "stdout",
       "text": [
        " OSMR\t5:38885546-38885552\n",
        "OSMR\t5:38886285-38886285 OSMR\t5:38886279-38886285\n",
        "OSMR\t5:38881757-38881757"
       ]
      },
      {
       "output_type": "stream",
       "stream": "stdout",
       "text": [
        " OSMR\t5:38881751-38881757\n",
        "OSMR\t5:38885552-38885552 OSMR\t5:38885546-38885552\n",
        "OSMR\t5:38886285-38886285 OSMR\t5:38886279-38886285\n",
        "DDX4\t5:55042014-55042014"
       ]
      },
      {
       "output_type": "stream",
       "stream": "stdout",
       "text": [
        " DDX4\t5:55042008-55042014\n",
        "DDX4\t5:55056082-55056082 DDX4\t5:55056076-55056082\n",
        "DDX4\t5:55081583-55081583 DDX4\t5:55081577-55081583\n",
        "DDX4\t5:55081639-55081639 DDX4\t5:55081633-55081639\n",
        "DDX4\t5:55082490-55082490"
       ]
      },
      {
       "output_type": "stream",
       "stream": "stdout",
       "text": [
        " DDX4\t5:55082484-55082490\n",
        "DDX4\t5:55094277-55094277 DDX4\t5:55094271-55094277\n",
        "DDX4\t5:55042014-55042014"
       ]
      },
      {
       "output_type": "stream",
       "stream": "stdout",
       "text": [
        " DDX4\t5:55042008-55042014\n",
        "DDX4\t5:55056082-55056082 DDX4\t5:55056076-55056082\n",
        "DDX4\t5:55094277-55094277 DDX4\t5:55094271-55094277\n",
        "17100"
       ]
      },
      {
       "output_type": "stream",
       "stream": "stdout",
       "text": [
        "\n",
        "RNF180\t5:63510190-63510190"
       ]
      },
      {
       "output_type": "stream",
       "stream": "stdout",
       "text": [
        " RNF180\t5:63510184-63510190\n",
        "RNF180\t5:63510190-63510190"
       ]
      },
      {
       "output_type": "stream",
       "stream": "stdout",
       "text": [
        " RNF180\t5:63510184-63510190\n",
        "SLC30A5\t5:68410315-68410315"
       ]
      },
      {
       "output_type": "stream",
       "stream": "stdout",
       "text": [
        " SLC30A5\t5:68410309-68410315\n",
        "SLC30A5\t5:68413160-68413160 SLC30A5\t5:68413154-68413160\n",
        "SLC30A5\t5:68414339-68414339 SLC30A5\t5:68414333-68414339\n",
        "SLC30A5\t5:68414426-68414426"
       ]
      },
      {
       "output_type": "stream",
       "stream": "stdout",
       "text": [
        " SLC30A5\t5:68414420-68414426\n",
        "SLC30A5\t5:68414432-68414432 SLC30A5\t5:68414426-68414432\n",
        "SLC30A5\t5:68419174-68419174 SLC30A5\t5:68419168-68419174\n",
        "SLC30A5\t5:68419174-68419174"
       ]
      },
      {
       "output_type": "stream",
       "stream": "stdout",
       "text": [
        " SLC30A5\t5:68419168-68419174\n",
        "SLC30A5\t5:68419204-68419204 SLC30A5\t5:68419198-68419204\n",
        "SLC30A5\t5:68419223-68419223 SLC30A5\t5:68419217-68419223\n",
        "SLC30A5\t5:68425349-68425349 SLC30A5\t5:68425343-68425349\n",
        "SLC30A5\t5:68410315-68410315"
       ]
      },
      {
       "output_type": "stream",
       "stream": "stdout",
       "text": [
        " SLC30A5\t5:68410309-68410315\n",
        "SLC30A5\t5:68413160-68413160 SLC30A5\t5:68413154-68413160\n",
        "SLC30A5\t5:68414426-68414426 SLC30A5\t5:68414420-68414426\n",
        "SLC30A5\t5:68419174-68419174"
       ]
      },
      {
       "output_type": "stream",
       "stream": "stdout",
       "text": [
        " SLC30A5\t5:68419168-68419174\n",
        "SLC30A5\t5:68419204-68419204 SLC30A5\t5:68419198-68419204\n",
        "17200"
       ]
      },
      {
       "output_type": "stream",
       "stream": "stdout",
       "text": [
        "\n",
        "PCSK1\t5:95768600-95768600"
       ]
      },
      {
       "output_type": "stream",
       "stream": "stdout",
       "text": [
        " PCSK1\t5:95768597-95768603\n",
        "TSSK1B\t5:112770420-112770420"
       ]
      },
      {
       "output_type": "stream",
       "stream": "stdout",
       "text": [
        " TSSK1B\t5:112770417-112770423\n",
        "TSSK1B\t5:112770420-112770420 TSSK1B\t5:112770417-112770423\n",
        "CDO1\t5:115152249-115152249"
       ]
      },
      {
       "output_type": "stream",
       "stream": "stdout",
       "text": [
        " CDO1\t5:115152247-115152253\n",
        "17300\n",
        "LOX\t5:121412813-121412813 LOX\t5:121412808-121412814\n",
        "ZNF608\t5:124080354-124080354 ZNF608\t5:124080350-124080356\n",
        "ZNF608\t5:124080411-124080411 ZNF608\t5:124080408-124080414\n",
        "ZNF608\t5:124080411-124080411 ZNF608\t5:124080408-124080414\n",
        "LMNB1\t5:126172195-126172195 LMNB1\t5:126172189-126172195\n",
        "17400"
       ]
      },
      {
       "output_type": "stream",
       "stream": "stdout",
       "text": [
        "\n",
        "mutations find in tf binding area:\t 3756"
       ]
      },
      {
       "output_type": "stream",
       "stream": "stdout",
       "text": [
        "\n"
       ]
      }
     ],
     "prompt_number": 46
    },
    {
     "cell_type": "code",
     "collapsed": false,
     "input": [],
     "language": "python",
     "metadata": {},
     "outputs": []
    },
    {
     "cell_type": "code",
     "collapsed": false,
     "input": [],
     "language": "python",
     "metadata": {},
     "outputs": [
      {
       "metadata": {},
       "output_type": "pyout",
       "prompt_number": 37,
       "text": [
        "False"
       ]
      }
     ],
     "prompt_number": 37
    },
    {
     "cell_type": "code",
     "collapsed": false,
     "input": [],
     "language": "python",
     "metadata": {},
     "outputs": []
    }
   ],
   "metadata": {}
  }
 ]
}