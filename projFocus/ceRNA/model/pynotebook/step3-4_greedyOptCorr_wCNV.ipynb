{
 "metadata": {
  "name": ""
 },
 "nbformat": 3,
 "nbformat_minor": 0,
 "worksheets": [
  {
   "cells": [
    {
     "cell_type": "raw",
     "metadata": {},
     "source": [
      "This is to use greedy methods to identify a subset of ceRNA regulator * mutated samples for one target cancer gene. \n",
      "This subset should optimized the correlation between sum-up ceRNA driver expression and target expression.\n",
      "steps involved:\n",
      "\n",
      "Python code:\n",
      "-1 extract exp, mutMatrix, tarexp data\n",
      "-2 run greedy(by submitting a job to cluster, with 1000 random starting), Call R code.\n",
      "-3 permuat mutMatrix, and do step 2\n",
      "-4 do step3 1000 times\n",
      "-5 fire a job to moniter the finishing status of the submitted job\n",
      "-5 integrate data for step1, step4\n",
      "-6 generate summarized result. \n",
      "-7 clean folder\n",
      "\n",
      "'Cell method'\n",
      "-1 prepareData\n",
      "-2 calculated fullMatrix correlation corr_0, fisher transformed \n",
      "-3 set corr_k-1 = corr_prev, flip one mutation from 1 to 0(deactive it)\n",
      "-4 calculate corr_k, fisher transformed, \n",
      "-5 if corr_k - corr_k-1 > tolenrance: deactivate mutation , otherwise filp it back to 1 (active mutation) \n",
      "-6 repeat step4-5 until all mutations have been visited.\n",
      "\n",
      "'select optimal tolenrance'- flex, combine both p-value\n",
      "The idea: the more stringent tol produce less mutation.\n",
      "select the tolerance which produe maxi correlation, with significant p-value compare to full matrix and permut matrix\n",
      "\n",
      "'select optimal over all random initiation' \n",
      "The idea: random initiation will proceduce slight different result, so try to approximate to global optmization by randomization.\n",
      "-1 Ran multiply random initization ( n = 100), select the one with optimized correlation, with qualify p-values\n",
      "-2 count the number of mutations being selected, output the final mutation"
     ]
    },
    {
     "cell_type": "code",
     "collapsed": false,
     "input": [
      "cnvfile = \"/Volumes//ifs/data/c2b2/ac_lab/jh3283/projFocus/result/03102014/cnv/brca_cnv_l3_tumor_Mar-23-2014.matrix.uniq.matrix\""
     ],
     "language": "python",
     "metadata": {},
     "outputs": [],
     "prompt_number": 1
    },
    {
     "cell_type": "code",
     "collapsed": false,
     "input": [
      "keyRegSumfile=\"/Volumes/ifs/data/c2b2/ac_lab/jh3283/projFocus/result/05012014/sigMut/runMay5/keyRegSummary_donejob_05172014_0.01\"\n",
      "expfile=\"/Volumes/ifs/data/c2b2/ac_lab/jh3283/projFocus/result/03102014/exp/brca_exp_l3_tumor_Mar-21-2014.matrix_Mar-26-2014.voomNormed.matrix\"\n",
      "gslistfile=\"/Volumes//ifs/data/c2b2/ac_lab/jh3283/projFocus/result/05012014/gslist/gslist_CnvMethSomFree.10smapMore.deg_20140430.txt.hasReg.list\"\n",
      "mutfile=\"/Volumes/ifs/data/c2b2/ac_lab/jh3283/projFocus/result/05012014/tcgal2som/brca_somlevel2_byGene.matrix.inExpSmp.matrix.nonzero\"\n",
      "output=\"/Users/jh3283/HOME/DATA/projFocus/result/05012014/sigMut/test/test_optCorr_wCNV\"\n",
      "figd=\"/Volumes/ifs/data/c2b2/ac_lab/jh3283/projFocus/report/Jul2014/fig/\""
     ],
     "language": "python",
     "metadata": {},
     "outputs": [],
     "prompt_number": 2
    },
    {
     "cell_type": "code",
     "collapsed": false,
     "input": [
      "import  sys,getopt\n",
      "from    collections     import defaultdict\n",
      "from    parseKeyRegFile import parseKeyRegFile\n",
      "from    collections     import Counter, Sequence\n",
      "from    parseGslistFile import parseGslistFile\n",
      "import  numpy           as np\n",
      "import  subprocess\n",
      "\n",
      "from     pandas       import DataFrame\n",
      "import   pandas       as pd\n",
      "from scipy import stats\n",
      "import scipy as sp"
     ],
     "language": "python",
     "metadata": {},
     "outputs": [
      {
       "ename": "SyntaxError",
       "evalue": "invalid syntax (<ipython-input-68-db7fba2d88f2>, line 14)",
       "output_type": "pyerr",
       "traceback": [
        "\u001b[0;36m  File \u001b[0;32m\"<ipython-input-68-db7fba2d88f2>\"\u001b[0;36m, line \u001b[0;32m14\u001b[0m\n\u001b[0;31m    from\u001b[0m\n\u001b[0m         ^\u001b[0m\n\u001b[0;31mSyntaxError\u001b[0m\u001b[0;31m:\u001b[0m invalid syntax\n"
       ]
      }
     ],
     "prompt_number": 68
    },
    {
     "cell_type": "code",
     "collapsed": false,
     "input": [
      "def formatSampleName(code19):\n",
      "    if len(code19) >16:\n",
      "        return code19[5:16].replace(\"-\",\".\")\n",
      "    else :\n",
      "        return code19.replace(\"-\", \".\")\n"
     ],
     "language": "python",
     "metadata": {},
     "outputs": [],
     "prompt_number": 4
    },
    {
     "cell_type": "code",
     "collapsed": false,
     "input": [
      "def loadTarReg(keyRegSumfile):\n",
      "    resD = defaultdict(list)\n",
      "    with open(keyRegSumfile) as f:\n",
      "        line = f.readline()\n",
      "        while line:\n",
      "            crt_t, ctr_r = line.strip().split(\"\\t\")\n",
      "            resD[crt_t] = ctr_r.split(\";\")\n",
      "            line = f.readline()\n",
      "    return(resD)"
     ],
     "language": "python",
     "metadata": {},
     "outputs": [],
     "prompt_number": 5
    },
    {
     "cell_type": "code",
     "collapsed": false,
     "input": [
      "def getMutExpSmp(expfile, mutfile):\n",
      "    resL = []\n",
      "    with open(expfile) as f:\n",
      "        resL = f.readline().strip().split(\"\\t\")\n",
      "        resL = map(formatSampleName, resL)\n",
      "    with open(mutfile) as f:\n",
      "        allMutSmp = f.readline().strip().split(\"\\t\")\n",
      "        resL = [a for a in map(formatSampleName, allMutSmp) if a in resL]\n",
      "    return resL"
     ],
     "language": "python",
     "metadata": {},
     "outputs": [],
     "prompt_number": 6
    },
    {
     "cell_type": "code",
     "collapsed": false,
     "input": [
      "def loadTarIntSmp(gslistfile):\n",
      "    resD = defaultdict(list)\n",
      "    with open(gslistfile) as f:\n",
      "        line = f.readline()\n",
      "        while line:\n",
      "            crt_t, crt_s = line.strip().split(\"\\t\")\n",
      "            resD[crt_t] = crt_s.split(\";\")\n",
      "            line = f.readline()\n",
      "    return(resD)"
     ],
     "language": "python",
     "metadata": {},
     "outputs": [],
     "prompt_number": 7
    },
    {
     "cell_type": "code",
     "collapsed": false,
     "input": [
      "def loadExp(expfile, smpsL):\n",
      "    resD = defaultdict(list)\n",
      "    with open(expfile) as f:\n",
      "        allExpSmp = map(formatSampleName, f.readline().strip().split(\"\\t\"))\n",
      "        smpIndx = [id for (id, v) in enumerate(allExpSmp) if v in smpsL]\n",
      "        resD['gene'] = map(allExpSmp.__getitem__, smpIndx)\n",
      "        line = f.readline()\n",
      "        while line:\n",
      "            crt_g, crt_e = line.strip().split(\"\\t\",1)\n",
      "            temp = map(float,crt_e.split(\"\\t\"))\n",
      "            resD[crt_g] = map(temp.__getitem__, smpIndx)\n",
      "            line = f.readline()\n",
      "    return resD"
     ],
     "language": "python",
     "metadata": {},
     "outputs": [],
     "prompt_number": 8
    },
    {
     "cell_type": "code",
     "collapsed": false,
     "input": [
      "def loadMut(mutfile, smpsL):\n",
      "    resD = defaultdict(list)\n",
      "    with open(mutfile) as f:\n",
      "        _, allMutSmp = f.readline().strip().split(\"\\t\",1)\n",
      "        allMutSmp = map(formatSampleName, allMutSmp.split(\"\\t\"))\n",
      "        smpIndx = [id for (id, v) in enumerate(allMutSmp) if v in smpsL]\n",
      "        resD['gene'] = map(allMutSmp.__getitem__, smpIndx)\n",
      "        line = f.readline()\n",
      "        while line:\n",
      "            crt_g, crt_v = line.strip().split(\"\\t\",1)\n",
      "            temp =  map(int,crt_v.split(\"\\t\"))\n",
      "            resD[crt_g] = map(temp.__getitem__, smpIndx)\n",
      "            line = f.readline()\n",
      "    return resD"
     ],
     "language": "python",
     "metadata": {},
     "outputs": [],
     "prompt_number": 9
    },
    {
     "cell_type": "code",
     "collapsed": false,
     "input": [
      "def loadCNV(cnvfile, smpsL):\n",
      "    '''\n",
      "    load cnv matrix; and convert to binary 1/0\n",
      "    '''\n",
      "    resD = defaultdict(list)\n",
      "    with open(cnvfile) as f:\n",
      "        _, allMutSmp = f.readline().strip().split(\"\\t\",1)\n",
      "        allMutSmp = map(formatSampleName, allMutSmp.split(\"\\t\"))\n",
      "        smpIndx = [id for (id, v) in enumerate(allMutSmp) if v in smpsL]\n",
      "        resD['gene'] = map(allMutSmp.__getitem__, smpIndx)\n",
      "        line = f.readline()\n",
      "        while line:\n",
      "            crt_g, crt_v = line.strip().split(\"\\t\",1)                                  \n",
      "            temp =  map(lambda x: int(float(x) != 0), crt_v.split(\"\\t\"))\n",
      "            resD[crt_g] = map(temp.__getitem__, smpIndx)\n",
      "            line = f.readline()\n",
      "    return resD"
     ],
     "language": "python",
     "metadata": {},
     "outputs": [],
     "prompt_number": 10
    },
    {
     "cell_type": "code",
     "collapsed": false,
     "input": [
      "# def sortDictValBySmp(mutD):\n",
      "#     smp = mutD['gene']\n",
      "#     del mutD['gene']\n",
      "#     for k, v in mutD.items():\n",
      "#         mutD[k] = v.sort(key = dict(zip(v, smp)).get)\n",
      "#     mutD['gene'] = sorted(smp)\n",
      "#     return mutD"
     ],
     "language": "python",
     "metadata": {},
     "outputs": [],
     "prompt_number": 14
    },
    {
     "cell_type": "code",
     "collapsed": false,
     "input": [
      "\n",
      "\n"
     ],
     "language": "python",
     "metadata": {},
     "outputs": [],
     "prompt_number": 69
    },
    {
     "cell_type": "code",
     "collapsed": false,
     "input": [
      "tarRegD = loadTarReg(keyRegSumfile)\n",
      "tarIntSmpD = loadTarIntSmp(gslistfile)\n",
      "mutExpsmpL = getMutExpSmp(expfile, mutfile)\n",
      "# expD = loadExp(expfile, mutExpsmpL)"
     ],
     "language": "python",
     "metadata": {},
     "outputs": [],
     "prompt_number": 11
    },
    {
     "cell_type": "code",
     "collapsed": false,
     "input": [
      "cnvD = loadCNV(cnvfile, mutExpsmpL)\n",
      "mutD = loadMut(mutfile, mutExpsmpL)\n",
      "smpCnv = cnvD['gene']\n",
      "smpMut = mutD['gene']\n"
     ],
     "language": "python",
     "metadata": {},
     "outputs": [],
     "prompt_number": 12
    },
    {
     "cell_type": "code",
     "collapsed": false,
     "input": [
      "mutD['gene'] = mutSmp; cnvD['gene'] = cnvSmp"
     ],
     "language": "python",
     "metadata": {},
     "outputs": [],
     "prompt_number": 162
    },
    {
     "cell_type": "code",
     "collapsed": false,
     "input": [
      "def mergeMutCnv(mutD, cnvD):\n",
      "    '''\n",
      "        sum up mutation matrix with cnv matrix, binary sum up, \n",
      "        1-0, 0-1, 1-1 ==> 1; 0-0 ==> 0\n",
      "        sample order follo\n",
      "    '''\n",
      "    mutSmp = mutD['gene']; cnvSmp = cnvD['gene']\n",
      "    sample = list(set(mutSmp).intersection(set(cnvSmp)))\n",
      "    del mutD['gene'];del cnvD['gene']\n",
      "\n",
      "    \n",
      "    mutGene = mutD.keys(); cnvGene = cnvD.keys()\n",
      "    gene = list(set(mutGene).intersection(set(cnvGene)))\n",
      "    mutOnlyGene = list(set(mutGene) - set(gene))\n",
      "    cnvOnlyGene = list(set(cnvGene) - set(gene))\n",
      "    \n",
      "    mutDF = pd.DataFrame(mutD, index=mutSmp).T\n",
      "    cnvDF = pd.DataFrame(cnvD, index=cnvSmp).T\n",
      "    \n",
      "    #should concatenating two list union of all genes\n",
      "    vartDF = mutDF.loc[gene,sample] + cnvDF.loc[gene, sample]  \n",
      "    vartDF = concat([vartDF, mutDF.loc[mutOnlyGene,sample], \\\n",
      "                     cnvDF.loc[cnvOnlyGene, sample]])\n",
      "    \n",
      "    \n",
      "#     print mutDF.loc[gene[100:105],sample[20:25]]\n",
      "#     print cnvDF.loc[gene[100:105],sample[20:25]]\n",
      "#     print vartDF.loc[gene[100:105],sample[20:25]]\n",
      "    \n",
      "    \n",
      "    mutD['gene'] = mutSmp; cnvD['gene'] = cnvSmp\n",
      "    \n",
      "    vartDF = vartDF.where(vartDF == 0, 1)\n",
      "    vartD = vartDF.T.to_dict(outtype='list')\n",
      "    vartD['gene'] = sample\n",
      "    return vartD\n"
     ],
     "language": "python",
     "metadata": {},
     "outputs": [],
     "prompt_number": 173
    },
    {
     "cell_type": "code",
     "collapsed": false,
     "input": [
      "vartD = mergeMutCnv(mutD, cnvD)\n"
     ],
     "language": "python",
     "metadata": {},
     "outputs": [],
     "prompt_number": 174
    },
    {
     "cell_type": "code",
     "collapsed": false,
     "input": [
      "def matchMutCnv(mutD, cnvD):\n",
      "    mutSmp = mutD['gene']; cnvSmp = cnvD['gene']\n",
      "    sample = list(set(mutSmp).intersection(set(cnvSmp)))\n",
      "#     del mutD['gene'];del cnvD['gene']\n",
      "    print len(sample)\n",
      "    mutDF = pd.DataFrame(mutD, index=mutSmp).T\n",
      "    cnvDF = pd.DataFrame(cnvD, index=cnvSmp).T\n",
      "    \n",
      "    mutD = mutDF[sample].T.to_dict(outtype='list')\n",
      "    cnvD = cnvDF[sample].T.to_dict(outtype='list')\n",
      "    mutD['gene'] = sample; cnvD['gene'] = sample\n",
      "\n",
      "    print len(mutD.values()[1])\n",
      "    print len(cnvD.values()[1])\n",
      "    return mutD, cnvD\n"
     ],
     "language": "python",
     "metadata": {},
     "outputs": [],
     "prompt_number": 38
    },
    {
     "cell_type": "code",
     "collapsed": false,
     "input": [
      "siggenelist = \"/Volumes//ifs/data/c2b2/ac_lab/jh3283/projFocus/result/05012014/sigMut/runJul1/optCorr.result_flex_max_1000.tsv.significant.summary.regulators\"\n",
      "genelist = []\n",
      "with(open(siggenelist)) as f:\n",
      "    line = f.readline()\n",
      "    while line:\n",
      "        genelist.append(line.strip())\n",
      "        line = f.readline()\n",
      "        "
     ],
     "language": "python",
     "metadata": {},
     "outputs": [],
     "prompt_number": 83
    },
    {
     "cell_type": "code",
     "collapsed": false,
     "input": [
      "mut2D, cnv2D = matchMutCnv(mutD, cnvD)"
     ],
     "language": "python",
     "metadata": {},
     "outputs": [
      {
       "output_type": "stream",
       "stream": "stdout",
       "text": [
        "766\n",
        "766"
       ]
      },
      {
       "output_type": "stream",
       "stream": "stdout",
       "text": [
        "\n",
        "766\n"
       ]
      }
     ],
     "prompt_number": 39
    },
    {
     "cell_type": "code",
     "collapsed": false,
     "input": [
      "def jaccardCoeff(lista, listb):\n",
      "    cnti = 0.0; cntj = 0.0; cntmatch = 0.0 \n",
      "    if len(lista) == 0 and len(listb) == 0:\n",
      "        return 0\n",
      "    else:\n",
      "        for i,j in zip(lista, listb):\n",
      "            if i !=0:\n",
      "                cnti = cnti + 1\n",
      "                if j != 0:\n",
      "                    cntj = cntj + 1\n",
      "                    if i == j:\n",
      "                        cntmatch = cntmatch + 1\n",
      "    if (cnti + cntj) > 0 :    \n",
      "        return cntmatch / (cnti + cntj - cntmatch)        \n",
      "    else :\n",
      "        return 0"
     ],
     "language": "python",
     "metadata": {},
     "outputs": [],
     "prompt_number": 58
    },
    {
     "cell_type": "code",
     "collapsed": false,
     "input": [
      "len(genelist)"
     ],
     "language": "python",
     "metadata": {},
     "outputs": [
      {
       "metadata": {},
       "output_type": "pyout",
       "prompt_number": 94,
       "text": [
        "2632"
       ]
      }
     ],
     "prompt_number": 94
    },
    {
     "cell_type": "code",
     "collapsed": false,
     "input": [
      "import matplotlib.pyplot as plt\n",
      "jacdCoeffD = defaultdict(float)\n",
      "for k in genelist:\n",
      "    jacdCoeffD[k] = jaccardCoeff(mutD[k], cnvD[k])\n"
     ],
     "language": "python",
     "metadata": {},
     "outputs": [],
     "prompt_number": 84
    },
    {
     "cell_type": "code",
     "collapsed": false,
     "input": [
      "stats.describe(jacdCoeffD.values())\n",
      "sorted(zip(jacdCoeffD.values(),jacdCoeffD.keys()),reverse = True)\n",
      "print len([i for i in jacdCoeffD.values() if i > 0.5])\n",
      "\n",
      "print float(len([i for i in jacdCoeffD.values() if i > 0.5]))/float(len(jacdCoeffD.values())) * 100"
     ],
     "language": "python",
     "metadata": {},
     "outputs": [
      {
       "output_type": "stream",
       "stream": "stdout",
       "text": [
        "361\n",
        "13.7158054711\n"
       ]
      }
     ],
     "prompt_number": 87
    },
    {
     "cell_type": "code",
     "collapsed": false,
     "input": [],
     "language": "python",
     "metadata": {},
     "outputs": [
      {
       "output_type": "stream",
       "stream": "stdout",
       "text": [
        "Help on built-in function sorted in module __builtin__:\n",
        "\n",
        "sorted(...)\n",
        "    sorted(iterable, cmp=None, key=None, reverse=False) --> new sorted list\n",
        "\n"
       ]
      }
     ],
     "prompt_number": 75
    },
    {
     "cell_type": "code",
     "collapsed": false,
     "input": [
      "\n",
      "from matplotlib.backends.backend_pdf import PdfPages\n",
      "pp = PdfPages(figd + '/hist_JaccardCoeff_somaticWcnv_070921014.pdf')\n",
      "\n",
      "fig = plt.figure()\n",
      "# plot Jaccard Coefficient\n",
      "n, bins, pathces = plt.hist(jacdCoeffD.values(), 50,  \\\n",
      "                            normed=1,facecolor = 'g', alpha = 0.75)\n",
      "plt.xlabel('Jaccard Coeff')\n",
      "plt.title('Density of Jaccard coeff \\n between SM and CNV for each gene')\n",
      "# plt.text(60, .025, r'$\\mu=100,\\ \\sigma=15$')\n",
      "# plt.axis([0, 1, 0, 20])\n",
      "plt.ylabel('Percentage %')\n",
      "plt.grid(True)\n",
      "# plt.show()\n",
      "\n",
      "# plt.savefig(pp, format='pdf')\n",
      "pp.savefig(fig)\n",
      "\n",
      "## plot CNV samples\n",
      "fig = plt.figure()\n",
      "cnvSmp = cnvD['gene']\n",
      "del cnvD['gene']\n",
      "n, bins, pathes = plt.hist(map(sum, cnvD.values()), 50,\\\n",
      "                            normed = 1, facecolor = 'r', alpha = 0.75)\n",
      "plt.xlabel('CNV samples')\n",
      "plt.ylabel('Percentage %')\n",
      "plt.title('Density of CNV sample ')\n",
      "plt.grid(True)\n",
      "plt.show()\n",
      "# plt.savefig(pp, format='pdf')\n",
      "pp.savefig(fig)\n",
      "\n",
      "## plot somatic mutation samples\n",
      "fig = plt.figure()\n",
      "mutSmp = mutD['gene']\n",
      "del mutD['gene']\n",
      "n, bins, pathes = plt.hist(map(sum, mutD.values()), 50,\\\n",
      "                            normed = 1, facecolor = 'b', alpha = 0.75)\n",
      "\n",
      "plt.xlabel('Somatic Mutation samples')\n",
      "plt.ylabel('Percentage %')\n",
      "plt.title('Density of Somatic Mutation sample ')\n",
      "plt.grid(True)\n",
      "plt.show()\n",
      "# plt.savefig(pp, format='pdf')\n",
      "pp.savefig(fig)\n",
      "\n",
      "pp.close()\n",
      "\n",
      "mutD['gene'] = mutSmp\n",
      "cnvD['gene'] = cnvSmp"
     ],
     "language": "python",
     "metadata": {},
     "outputs": [
      {
       "metadata": {},
       "output_type": "display_data",
       "png": "[encoded data removed]",
       "text": [
        "<matplotlib.figure.Figure at 0x1220e4ad0>"
       ]
      },
      {
       "metadata": {},
       "output_type": "display_data",
       "png": "[encoded data removed]",
       "text": [
        "<matplotlib.figure.Figure at 0x122057810>"
       ]
      },
      {
       "metadata": {},
       "output_type": "display_data",
       "png": "[encoded data removed]",
       "text": [
        "<matplotlib.figure.Figure at 0x1207bce10>"
       ]
      }
     ],
     "prompt_number": 93
    },
    {
     "cell_type": "code",
     "collapsed": false,
     "input": [],
     "language": "python",
     "metadata": {},
     "outputs": []
    },
    {
     "cell_type": "code",
     "collapsed": false,
     "input": [
      "####----main function debugging mode\n",
      "\n",
      "# for tgene in tarRegD.keys()[:1]: \n",
      "tgene = \"GRK5\"\n",
      "# def startOpt4Gene(tgene, tarIntSmpD, tarRegD, mutD, expD, outputDir):\n",
      "tIntSmp = tarIntSmpD[tgene]\n",
      "allRegsL = tarRegD[tgene]\n",
      "intMutSmpIdL = [id for (id, s) in enumerate(vartD['gene']) if s in tIntSmp]\n",
      "intExpSmpIdL = [id for (id, s) in enumerate(expD['gene']) if s in tIntSmp]\n",
      "\n",
      "## the regMutD here includes both mut and cnv\n",
      "regMutD = {k:map(v.__getitem__, intMutSmpIdL) for (k,v) in vartD.items() if k in allRegsL}\n",
      "\n",
      "regExpD = {k:map(v.__getitem__, intExpSmpIdL) for (k,v) in expD.items() if k in allRegsL}\n",
      "\n",
      "expMutRegL = set(regExpD.keys()).intersection(set(regMutD.keys()))\n",
      "outTempMut = output + \"_\" + tgene + \"_regMut\"\n",
      "outTempExp = output + \"_\" + tgene + \"_exp\"\n",
      "\n",
      "outTempMutH = open(outTempMut,'w')\n",
      "outTempExpH = open(outTempExp,'w')\n",
      "\n",
      "outTempMutH.write('gene\\t'+\"\\t\".join( map(mutD['gene'].__getitem__, intMutSmpIdL)) + \"\\n\")\n",
      "for k,v in regMutD.items():\n",
      "    if k in expMutRegL: \n",
      "        outTempMutH.write(k + \"\\t\" + \"\\t\".join(map(str,v)) + \"\\n\")\n",
      "\n",
      "debugSmp = expD['gene']\n",
      "outTempExpH.write('gene\\t')\n",
      "for i in intExpSmpIdL:\n",
      "#     print debugSmp[i]\n",
      "    outTempExpH.write( debugSmp[i] + \"\\t\" )\n",
      "outTempExpH.write(\"\\n\")\n",
      "\n",
      "# outTempExpH.write('gene\\t'+\"\\t\".join(map(expD['gene'].__getitem__, intExpSmpIdL)) + \"\\n\")\n",
      "\n",
      "## target expession in the first row\n",
      "\n",
      "debugSmp = expD[tgene]\n",
      "outTempExpH.write(tgene + '\\t')\n",
      "# for i in intExpSmpIdL:\n",
      "#     print i\n",
      "#     print debugSmp[i]\n",
      "# #     outTempExpH.write( debugSmp[i] + \"\\t\" )\n",
      "outTempExpH.write(\"\\n\")\n",
      "\n",
      "# outTempExpH.write(tgene + \"\\t\" + \"\\t\".join(map(str,map(expD[tgene].__getitem__, intExpSmpIdL))) +\"\\n\")\n",
      "\n",
      "for k,v in regExpD.items():\n",
      "    if k in expMutRegL:\n",
      "        outTempExpH.write(k + \"\\t\" + \"\\t\".join(map(str,v)) + \"\\n\")  \n",
      "outTempMutH.close()\n",
      "outTempExpH.close()\n",
      "\n",
      "outTemp = output + \"/\" + tgene + \".tsv\"\n",
      "#     cmd = \"/ifs/home/c2b2/ac_lab/jh3283/tools/R/R-3-02/bin/Rscript \\\n",
      "#     /ifs/home/c2b2/ac_lab/jh3283/scripts/projFocus/ceRNA/model/step2-2_regKeyRegulators_v5.r\\\n",
      "#     --vanilla --exp \" +  outTempExp + \" --mut \" + outTempMut + \" --output \" + outTemp \n",
      "\n",
      "\n",
      "# cmd = \"~/tools/R/R_current/bin/Rscript /ifs/home/c2b2/ac_lab/jh3283/scripts/projFocus/ceRNA/model/step3-4_greedyOptCorr.r \\\n",
      "# --vanilla --exp \" +  outTempExp + \" --mut \" + outTempMut + \" --output \" + outTemp \n",
      "# print cmd\n",
      "# subprocess.Popen(cmd, shell = True)\n",
      "\n",
      "\n",
      "\n",
      "#     rtncode  = subprocess.call(cmd, shell = True)\n",
      "#     if rtncode != 0 :\n",
      "#         print \"Error in regression!\"\n",
      "#         sys.exit()\n",
      "#     print tgene + \" Done\"\n"
     ],
     "language": "python",
     "metadata": {},
     "outputs": [],
     "prompt_number": 46
    },
    {
     "cell_type": "code",
     "collapsed": false,
     "input": [],
     "language": "python",
     "metadata": {},
     "outputs": []
    },
    {
     "cell_type": "code",
     "collapsed": false,
     "input": [
      "          \n",
      "help(plt.hist)\n"
     ],
     "language": "python",
     "metadata": {},
     "outputs": [
      {
       "output_type": "stream",
       "stream": "stdout",
       "text": [
        "Help on function hist in module matplotlib.pyplot:\n",
        "\n",
        "hist(x, bins=10, range=None, normed=False, weights=None, cumulative=False, bottom=None, histtype='bar', align='mid', orientation='vertical', rwidth=None, log=False, color=None, label=None, stacked=False, hold=None, **kwargs)\n",
        "    Plot a histogram.\n",
        "    \n",
        "    Compute and draw the histogram of *x*. The return value is a\n",
        "    tuple (*n*, *bins*, *patches*) or ([*n0*, *n1*, ...], *bins*,\n",
        "    [*patches0*, *patches1*,...]) if the input contains multiple\n",
        "    data.\n",
        "    \n",
        "    Multiple data can be provided via *x* as a list of datasets\n",
        "    of potentially different length ([*x0*, *x1*, ...]), or as\n",
        "    a 2-D ndarray in which each column is a dataset.  Note that\n",
        "    the ndarray form is transposed relative to the list form.\n",
        "    \n",
        "    Masked arrays are not supported at present.\n",
        "    \n",
        "    Parameters\n",
        "    ----------\n",
        "    x : array_like, shape (n, )\n",
        "        Input values.\n",
        "    \n",
        "    bins : integer or array_like, optional, default: 10\n",
        "        If an integer is given, `bins + 1` bin edges are returned,\n",
        "        consistently with :func:`numpy.histogram` for numpy version >=\n",
        "        1.3.\n",
        "    \n",
        "        Unequally spaced bins are supported if `bins` is a sequence.\n",
        "    \n",
        "    range : tuple, optional, default: None\n",
        "        The lower and upper range of the bins. Lower and upper outliers\n",
        "        are ignored. If not provided, `range` is (x.min(), x.max()). Range\n",
        "        has no effect if `bins` is a sequence.\n",
        "    \n",
        "        If `bins` is a sequence or `range` is specified, autoscaling\n",
        "        is based on the specified bin range instead of the\n",
        "        range of x.\n",
        "    \n",
        "    normed : boolean, optional, default: False\n",
        "        If `True`, the first element of the return tuple will\n",
        "        be the counts normalized to form a probability density, i.e.,\n",
        "        ``n/(len(x)`dbin)``, ie the integral of the histogram will sum to\n",
        "        1. If *stacked* is also *True*, the sum of the histograms is\n",
        "        normalized to 1.\n",
        "    \n",
        "    weights : array_like, shape (n, ), optional, default: None\n",
        "        An array of weights, of the same shape as `x`.  Each value in `x`\n",
        "        only contributes its associated weight towards the bin count\n",
        "        (instead of 1).  If `normed` is True, the weights are normalized,\n",
        "        so that the integral of the density over the range remains 1.\n",
        "    \n",
        "    cumulative : boolean, optional, default : True\n",
        "        If `True`, then a histogram is computed where each bin gives the\n",
        "        counts in that bin plus all bins for smaller values. The last bin\n",
        "        gives the total number of datapoints.  If `normed` is also `True`\n",
        "        then the histogram is normalized such that the last bin equals 1.\n",
        "        If `cumulative` evaluates to less than 0 (e.g., -1), the direction\n",
        "        of accumulation is reversed.  In this case, if `normed` is also\n",
        "        `True`, then the histogram is normalized such that the first bin\n",
        "        equals 1.\n",
        "    \n",
        "    histtype : ['bar' | 'barstacked' | 'step' | 'stepfilled'], optional\n",
        "        The type of histogram to draw.\n",
        "    \n",
        "        - 'bar' is a traditional bar-type histogram.  If multiple data\n",
        "          are given the bars are aranged side by side.\n",
        "    \n",
        "        - 'barstacked' is a bar-type histogram where multiple\n",
        "          data are stacked on top of each other.\n",
        "    \n",
        "        - 'step' generates a lineplot that is by default\n",
        "          unfilled.\n",
        "    \n",
        "        - 'stepfilled' generates a lineplot that is by default\n",
        "          filled.\n",
        "    \n",
        "    align : ['left' | 'mid' | 'right'], optional, default: 'mid'\n",
        "        Controls how the histogram is plotted.\n",
        "    \n",
        "            - 'left': bars are centered on the left bin edges.\n",
        "    \n",
        "            - 'mid': bars are centered between the bin edges.\n",
        "    \n",
        "            - 'right': bars are centered on the right bin edges.\n",
        "    \n",
        "    orientation : ['horizontal' | 'vertical'], optional\n",
        "        If 'horizontal', `~matplotlib.pyplot.barh` will be used for\n",
        "        bar-type histograms and the *bottom* kwarg will be the left edges.\n",
        "    \n",
        "    rwidth : scalar, optional, default: None\n",
        "        The relative width of the bars as a fraction of the bin width.  If\n",
        "        `None`, automatically compute the width. Ignored if `histtype` =\n",
        "        'step' or 'stepfilled'.\n",
        "    \n",
        "    log : boolean, optional, default : False\n",
        "        If `True`, the histogram axis will be set to a log scale. If `log`\n",
        "        is `True` and `x` is a 1D array, empty bins will be filtered out\n",
        "        and only the non-empty (`n`, `bins`, `patches`) will be returned.\n",
        "    \n",
        "    color : color or array_like of colors, optional, default: None\n",
        "        Color spec or sequence of color specs, one per dataset.  Default\n",
        "        (`None`) uses the standard line color sequence.\n",
        "    \n",
        "    label : string, optional, default: ''\n",
        "        String, or sequence of strings to match multiple datasets.  Bar\n",
        "        charts yield multiple patches per dataset, but only the first gets\n",
        "        the label, so that the legend command will work as expected.\n",
        "    \n",
        "    stacked : boolean, optional, default : False\n",
        "        If `True`, multiple data are stacked on top of each other If\n",
        "        `False` multiple data are aranged side by side if histtype is\n",
        "        'bar' or on top of each other if histtype is 'step'\n",
        "    \n",
        "    Returns\n",
        "    -------\n",
        "    tuple : (n, bins, patches) or ([n0, n1, ...], bins, [patches0, patches1,...])\n",
        "    \n",
        "    Other Parameters\n",
        "    ----------------\n",
        "    kwargs : `~matplotlib.patches.Patch` properties\n",
        "    \n",
        "    See also\n",
        "    --------\n",
        "    hist2d : 2D histograms\n",
        "    \n",
        "    Notes\n",
        "    -----\n",
        "    Until numpy release 1.5, the underlying numpy histogram function was\n",
        "    incorrect with `normed`=`True` if bin sizes were unequal.  MPL\n",
        "    inherited that error.  It is now corrected within MPL when using\n",
        "    earlier numpy versions.\n",
        "    \n",
        "    Examples\n",
        "    --------\n",
        "    .. plot:: mpl_examples/statistics/histogram_demo_features.py\n",
        "    \n",
        "    Additional kwargs: hold = [True|False] overrides default hold state\n",
        "\n"
       ]
      }
     ],
     "prompt_number": 47
    },
    {
     "cell_type": "code",
     "collapsed": false,
     "input": [],
     "language": "python",
     "metadata": {},
     "outputs": [],
     "prompt_number": 156
    },
    {
     "cell_type": "code",
     "collapsed": false,
     "input": [],
     "language": "python",
     "metadata": {},
     "outputs": []
    },
    {
     "cell_type": "code",
     "collapsed": false,
     "input": [],
     "language": "python",
     "metadata": {},
     "outputs": []
    },
    {
     "cell_type": "code",
     "collapsed": false,
     "input": [
      "    "
     ],
     "language": "python",
     "metadata": {},
     "outputs": []
    },
    {
     "cell_type": "code",
     "collapsed": false,
     "input": [
      "### test module 2 \n",
      "xx = [2,0,3]\n",
      "xxlab = ['b','a','c']\n",
      "yy = [0,2,6]\n",
      "xD = {'xx' : xx, 'yy': yy}\n",
      "\n",
      "from pandas import DataFrame\n",
      "import pandas as pd\n",
      "print df\n",
      "df = pd.DataFrame(xD, index=xxlab).T\n",
      "xx = [0,1,0,0]\n",
      "xxlab = ['b','a','d','c']\n",
      "yy = [0,0,1,0]\n",
      "xD = {'xx' : xx, 'yy': yy}\n",
      "\n",
      "df2 = pd.DataFrame(xD, index=xxlab).T\n",
      "# print df2\n",
      "mycol = ['a', 'b']\n",
      "# print df[mycol]\n",
      "# print df2[mycol]\n",
      "df3 = df.loc[['xx','yy'],mycol] + df2.loc[['xx','yy'], mycol]\n",
      "print df3\n",
      "# print df.T.to_dict(outtype='list')\n",
      "df3 = df3.where(df3 == 0, 1)\n",
      "# print df3\n",
      "print df3.loc[['xx', 'yy'],['a','b']]\n",
      "df3['zz'] = -1\n",
      "concat([df3, df3.loc[['xx'],:]])\n"
     ],
     "language": "python",
     "metadata": {},
     "outputs": [
      {
       "output_type": "stream",
       "stream": "stdout",
       "text": [
        "    b  a  c\n",
        "xx  2  0  3\n",
        "yy  0  2  6\n",
        "    a  b\n",
        "xx  1  2\n",
        "yy  2  0\n",
        "    a  b\n",
        "xx  1  1\n",
        "yy  1  0\n"
       ]
      },
      {
       "html": [
        "<div style=\"max-height:1000px;max-width:1500px;overflow:auto;\">\n",
        "<table border=\"1\" class=\"dataframe\">\n",
        "  <thead>\n",
        "    <tr style=\"text-align: right;\">\n",
        "      <th></th>\n",
        "      <th>a</th>\n",
        "      <th>b</th>\n",
        "      <th>zz</th>\n",
        "    </tr>\n",
        "  </thead>\n",
        "  <tbody>\n",
        "    <tr>\n",
        "      <th>xx</th>\n",
        "      <td> 1</td>\n",
        "      <td> 1</td>\n",
        "      <td>-1</td>\n",
        "    </tr>\n",
        "    <tr>\n",
        "      <th>yy</th>\n",
        "      <td> 1</td>\n",
        "      <td> 0</td>\n",
        "      <td>-1</td>\n",
        "    </tr>\n",
        "    <tr>\n",
        "      <th>xx</th>\n",
        "      <td> 1</td>\n",
        "      <td> 1</td>\n",
        "      <td>-1</td>\n",
        "    </tr>\n",
        "  </tbody>\n",
        "</table>\n",
        "</div>"
       ],
       "metadata": {},
       "output_type": "pyout",
       "prompt_number": 176,
       "text": [
        "    a  b  zz\n",
        "xx  1  1  -1\n",
        "yy  1  0  -1\n",
        "xx  1  1  -1"
       ]
      }
     ],
     "prompt_number": 176
    },
    {
     "cell_type": "code",
     "collapsed": false,
     "input": [
      "\n"
     ],
     "language": "python",
     "metadata": {},
     "outputs": []
    },
    {
     "cell_type": "code",
     "collapsed": false,
     "input": [
      "\n",
      "\n"
     ],
     "language": "python",
     "metadata": {},
     "outputs": []
    },
    {
     "cell_type": "code",
     "collapsed": false,
     "input": [
      "\n"
     ],
     "language": "python",
     "metadata": {},
     "outputs": []
    },
    {
     "cell_type": "code",
     "collapsed": false,
     "input": [
      "def __test__():\n",
      "    from collections import defaultdict\n",
      "    seqSet  = {'G1':['S2','S4','S6'],\n",
      "                'G2':['S1','S3'],\n",
      "                'G3':['S1'],\n",
      "                'G4':['S1'],\n",
      "                'G5':['S5'],\n",
      "                'G6':['S3']}\n",
      "    seq     = ['S1', 'S2', 'S3', 'S4', 'S5','S6']\n",
      "    weightSet = {'G1':[1.0,0.5,1.5],\n",
      "                 'G2':[2.0, 2.5],\n",
      "                 'G3':[2.3],\n",
      "                 'G4':[1.2],\n",
      "                 'G5':[2.5],\n",
      "                 'G6':[3.0]}\n",
      "    setObjL = []\n",
      "    for sk, ss in seqSet.items():\n",
      "        setObjL.append(MutSet(sk,ss,weightSet[sk]))\n",
      "    geneL, smpL, costL = wgsc(setObjL, seq, wtype = \"mean\")\n",
      "    geneL, smpL, costL = wgsc(setObjL, seq, wtype = \"total\")\n",
      "    geneL, smpL, costL =  wgsc(setObjL, seq, wtype = \"max\")"
     ],
     "language": "python",
     "metadata": {},
     "outputs": []
    },
    {
     "cell_type": "code",
     "collapsed": false,
     "input": [],
     "language": "python",
     "metadata": {},
     "outputs": []
    },
    {
     "cell_type": "code",
     "collapsed": false,
     "input": [],
     "language": "python",
     "metadata": {},
     "outputs": []
    },
    {
     "cell_type": "code",
     "collapsed": false,
     "input": [],
     "language": "python",
     "metadata": {},
     "outputs": []
    },
    {
     "cell_type": "code",
     "collapsed": false,
     "input": [],
     "language": "python",
     "metadata": {},
     "outputs": []
    },
    {
     "cell_type": "code",
     "collapsed": false,
     "input": [],
     "language": "python",
     "metadata": {},
     "outputs": []
    },
    {
     "cell_type": "code",
     "collapsed": false,
     "input": [],
     "language": "python",
     "metadata": {},
     "outputs": []
    },
    {
     "cell_type": "code",
     "collapsed": false,
     "input": [],
     "language": "python",
     "metadata": {},
     "outputs": []
    },
    {
     "cell_type": "code",
     "collapsed": false,
     "input": [],
     "language": "python",
     "metadata": {},
     "outputs": []
    },
    {
     "cell_type": "code",
     "collapsed": false,
     "input": [
      "\n"
     ],
     "language": "python",
     "metadata": {},
     "outputs": []
    },
    {
     "cell_type": "code",
     "collapsed": false,
     "input": [],
     "language": "python",
     "metadata": {},
     "outputs": []
    },
    {
     "cell_type": "code",
     "collapsed": false,
     "input": [],
     "language": "python",
     "metadata": {},
     "outputs": []
    },
    {
     "cell_type": "code",
     "collapsed": false,
     "input": [
      "def format2Dlist(l2d):\n",
      "    out = []\n",
      "    for i in l2d:\n",
      "        out.append(\"[\"+\",\".join(map(str,i)) + \"]\")\n",
      "    return \";\".join(out)\n"
     ],
     "language": "python",
     "metadata": {},
     "outputs": []
    },
    {
     "cell_type": "code",
     "collapsed": false,
     "input": [
      "\n"
     ],
     "language": "python",
     "metadata": {},
     "outputs": []
    },
    {
     "cell_type": "code",
     "collapsed": false,
     "input": [],
     "language": "python",
     "metadata": {},
     "outputs": []
    },
    {
     "cell_type": "code",
     "collapsed": false,
     "input": [],
     "language": "python",
     "metadata": {},
     "outputs": []
    },
    {
     "cell_type": "code",
     "collapsed": false,
     "input": [],
     "language": "python",
     "metadata": {},
     "outputs": []
    },
    {
     "cell_type": "code",
     "collapsed": false,
     "input": [],
     "language": "python",
     "metadata": {},
     "outputs": []
    }
   ],
   "metadata": {}
  }
 ]
}