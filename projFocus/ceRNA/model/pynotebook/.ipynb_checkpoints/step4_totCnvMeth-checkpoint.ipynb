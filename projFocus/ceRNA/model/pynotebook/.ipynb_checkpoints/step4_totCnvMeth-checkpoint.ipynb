{
 "metadata": {
  "name": ""
 },
 "nbformat": 3,
 "nbformat_minor": 0,
 "worksheets": [
  {
   "cells": [
    {
     "cell_type": "raw",
     "metadata": {},
     "source": [
      "\n",
      "This is to incorperate CNV and methylation to check the correlation of them with the target expression.\n",
      "Simplely to align with the previous work\n",
      "This script including 2 sections\n",
      "- prepare CNV, methylation , expression data\n",
      "- generate a simple stats about the data\n",
      "- output all the target correlation with total meth and total CNV."
     ]
    },
    {
     "cell_type": "code",
     "collapsed": false,
     "input": [
      "expfile=\"/Volumes/ifs/data/c2b2/ac_lab/jh3283/projFocus/result/03102014/exp/brca_exp_l3_tumor_Mar-21-2014.matrix_Mar-26-2014.voomNormed.matrix\"\n",
      "cnvfile=\"/Volumes/ifs/data/c2b2/ac_lab/jh3283/projFocus/result/03102014/cnv/brca_cnv_l3_tumor_Mar-23-2014.matrix.uniq.matrix\"\n",
      "methfile=\"/Volumes//ifs/data/c2b2/ac_lab/jh3283/projFocus/result/03102014/meth/brca_meth_l3_tumor_normlized_05122014.matrix\"\n",
      "\n",
      "gslistfile=\"/Volumes//ifs/data/c2b2/ac_lab/jh3283/projFocus/result/05012014/gslist/gslist_CnvMethSomFree.10smapMore.deg_20140430.txt.hasReg.list\"\n",
      "keyRegSumfile = \"/Volumes//ifs/data/c2b2/ac_lab/jh3283/projFocus/result/05012014/candiReg/runApr30/summary/candiReg_summary_05072014_v2.txt_0.01\"\n",
      "\n",
      "output=\"/Users/jh3283/HOME/DATA/projFocus/result/05012014/totCnvMeth/test/totCM_test.out\"\n"
     ],
     "language": "python",
     "metadata": {},
     "outputs": [],
     "prompt_number": 1
    },
    {
     "cell_type": "code",
     "collapsed": false,
     "input": [
      "import  sys,getopt\n",
      "from    collections     import defaultdict\n",
      "from    parseKeyRegFile import parseKeyRegFile\n",
      "from    collections     import Counter, Sequence\n",
      "from    parseGslistFile import parseGslistFile\n",
      "import  numpy           as np\n",
      "import  subprocess"
     ],
     "language": "python",
     "metadata": {},
     "outputs": [],
     "prompt_number": 2
    },
    {
     "cell_type": "code",
     "collapsed": false,
     "input": [
      "def formatSampleName(code19):\n",
      "    if len(code19) >11:\n",
      "        return code19[5:16].replace(\"-\",\".\")\n",
      "    else :\n",
      "        return code19.replace(\"-\", \".\")\n"
     ],
     "language": "python",
     "metadata": {},
     "outputs": [],
     "prompt_number": 3
    },
    {
     "cell_type": "code",
     "collapsed": false,
     "input": [
      "def loadTarReg(keyRegSumfile):\n",
      "    resD = defaultdict(list)\n",
      "    with open(keyRegSumfile) as f:\n",
      "        line = f.readline()\n",
      "        while line:\n",
      "            crt_t, ctr_r = line.strip().split(\"\\t\")\n",
      "            resD[crt_t] = ctr_r.split(\";\")\n",
      "            line = f.readline()\n",
      "    return(resD)"
     ],
     "language": "python",
     "metadata": {},
     "outputs": [],
     "prompt_number": 4
    },
    {
     "cell_type": "code",
     "collapsed": false,
     "input": [],
     "language": "python",
     "metadata": {},
     "outputs": [],
     "prompt_number": 4
    },
    {
     "cell_type": "code",
     "collapsed": false,
     "input": [
      "def getCnvExpSmp(expfile, cnvfile, methfile):\n",
      "    resL = []\n",
      "    with open(expfile) as f:\n",
      "        resL = f.readline().strip().split(\"\\t\")\n",
      "        resL = map(formatSampleName, resL)\n",
      "    with open(cnvfile) as f:\n",
      "        allMutSmp = f.readline().strip().split(\"\\t\")\n",
      "        resL = [s for s in map(formatSampleName, allMutSmp) if s in resL]\n",
      "    with open(methfile) as f:\n",
      "        allMutSmp = f.readline().strip().split(\"\\t\")\n",
      "        resL = [s for s in map(formatSampleName, allMutSmp) if s in resL]\n",
      "    return resL"
     ],
     "language": "python",
     "metadata": {},
     "outputs": [],
     "prompt_number": 5
    },
    {
     "cell_type": "code",
     "collapsed": false,
     "input": [],
     "language": "python",
     "metadata": {},
     "outputs": [],
     "prompt_number": 5
    },
    {
     "cell_type": "code",
     "collapsed": false,
     "input": [
      "def loadTarIntSmp(gslistfile):\n",
      "    resD = defaultdict(list)\n",
      "    with open(gslistfile) as f:\n",
      "        line = f.readline()\n",
      "        while line:\n",
      "            crt_t, crt_s = line.strip().split(\"\\t\")\n",
      "            resD[crt_t] = crt_s.split(\";\")\n",
      "            line = f.readline()\n",
      "    return(resD)"
     ],
     "language": "python",
     "metadata": {},
     "outputs": [],
     "prompt_number": 6
    },
    {
     "cell_type": "code",
     "collapsed": false,
     "input": [
      "def loadExp(expfile, smpsL):\n",
      "    resD = defaultdict(list)\n",
      "    with open(expfile) as f:\n",
      "        allExpSmp = map(formatSampleName, f.readline().strip().split(\"\\t\"))\n",
      "        smpIndx = [id for (id, v) in enumerate(allExpSmp) if v in smpsL]\n",
      "        resD['gene'] = map(allExpSmp.__getitem__, smpIndx)\n",
      "\n",
      "        line = f.readline()\n",
      "        while line:\n",
      "            crt_g, crt_e = line.strip().split(\"\\t\",1)\n",
      "            temp = map(float,crt_e.split(\"\\t\"))\n",
      "            resD[crt_g] = map(temp.__getitem__, smpIndx)\n",
      "            line = f.readline()\n",
      "    return resD"
     ],
     "language": "python",
     "metadata": {},
     "outputs": [],
     "prompt_number": 7
    },
    {
     "cell_type": "code",
     "collapsed": false,
     "input": [
      "def loadMut(mutfile, smpsL, rout = \"\"):\n",
      "    resD = defaultdict(list)\n",
      "    with open(mutfile) as f:\n",
      "        if rout:\n",
      "            print(\"Headers are all smps\")\n",
      "            allMutSmp = f.readline().strip()\n",
      "        else:\n",
      "            _, allMutSmp = f.readline().strip().split(\"\\t\",1)\n",
      "        allMutSmp = map(formatSampleName, allMutSmp.split(\"\\t\"))\n",
      "        smpIndx = [id for (id, v) in enumerate(allMutSmp) if v in smpsL]\n",
      "        resD['gene'] = map(allMutSmp.__getitem__, smpIndx)\n",
      "        line = f.readline()\n",
      "        while line:\n",
      "            crt_g, crt_v = line.strip().split(\"\\t\",1)\n",
      "            temp =  map(float,crt_v.split(\"\\t\"))\n",
      "            resD[crt_g] = map(temp.__getitem__, smpIndx)\n",
      "            line = f.readline()\n",
      "    return resD"
     ],
     "language": "python",
     "metadata": {},
     "outputs": [],
     "prompt_number": 8
    },
    {
     "cell_type": "code",
     "collapsed": false,
     "input": [
      "tarRegD = loadTarReg(keyRegSumfile)\n",
      "tarIntSmpD = loadTarIntSmp(gslistfile)\n",
      "smpCnvExpMethL = getCnvExpSmp(expfile, cnvfile, methfile)\n",
      "expD = loadExp(expfile, smpCnvExpMethL)\n",
      "cnvD = loadMut(cnvfile, smpCnvExpMethL)\n",
      "metD = loadMut(methfile, smpCnvExpMethL, rout=\"True\")"
     ],
     "language": "python",
     "metadata": {},
     "outputs": [
      {
       "output_type": "stream",
       "stream": "stdout",
       "text": [
        "Headers are all smps\n"
       ]
      }
     ],
     "prompt_number": 9
    },
    {
     "cell_type": "code",
     "collapsed": false,
     "input": [
      "def sliceRegSmp(D, smp, reg):\n",
      "    outL = []\n",
      "    for k,v in cnvD.items():\n",
      "        if k in allRegsL :\n",
      "            outL.append(map(v.__getitem__, smp))\n",
      "    return outL"
     ],
     "language": "python",
     "metadata": {},
     "outputs": [],
     "prompt_number": 10
    },
    {
     "cell_type": "code",
     "collapsed": false,
     "input": [
      "from scipy.stats.stats import pearsonr\n",
      "\n",
      "allTar = tarRegD.keys()\n",
      "allRegsL = tarRegD[tgene]\n",
      "\n",
      "tgene = allTar[1]\n",
      "tIntSmp = tarIntSmpD[tgene]\n",
      "intExpSmpIdL = [id for (id, s) in enumerate(expD['gene']) if s in tIntSmp]\n",
      "intCnvSmpIdL = [id for (id, s) in enumerate(cnvD['gene']) if s in tIntSmp]\n",
      "intMethSmpIdL = [id for (id, s) in enumerate(metD['gene']) if s in tIntSmp]\n",
      "\n",
      "expTgeneA = array(map(expD[tgene].__getitem__, intExpSmpIdL))\n",
      "cnvTgeneA = array(map(cnvD[tgene].__getitem__, intCnvSmpIdL))\n",
      "methTgeneA = array(map(metD[tgene].__getitem__, intMethSmpIdL))\n",
      "\n",
      "regVarA   = exp(array(sliceRegSmp(cnvD, intCnvSmpIdL, allRegsL))).sum(axis=0)\n",
      "print([\"total cnv corr\" ] + list(pearsonr(expTgeneA,regVarA)))\n",
      "regVarA   = array(sliceRegSmp(metD, intMethSmpIdL, allRegsL)).sum(axis=0)\n",
      "print([\"total meth corr\"] + list(pearsonr(expTgeneA,regVarA)))\n",
      "print(['self cnv'] + list(pearsonr(expTgeneA,cnvTgeneA)))\n",
      "print(['self meth'] + list(pearsonr(expTgeneA,methTgeneA)))\n"
     ],
     "language": "python",
     "metadata": {},
     "outputs": [
      {
       "output_type": "stream",
       "stream": "stdout",
       "text": [
        "['total cnv corr', -0.013082786298827594, 0.75341727435173955]\n",
        "['total meth corr', 0.022346586909347779, 0.59153155958196113]\n",
        "['self cnv', nan, 1.0]\n",
        "['self meth', 0.023566670589407673, 0.57144528640434289]\n"
       ]
      }
     ],
     "prompt_number": 21
    },
    {
     "cell_type": "code",
     "collapsed": false,
     "input": [],
     "language": "python",
     "metadata": {},
     "outputs": [],
     "prompt_number": 75
    },
    {
     "cell_type": "code",
     "collapsed": false,
     "input": [
      "def writeOut( outf, outD, outSmp, outReg, tgene=\"\"): \n",
      "    outH = open(outf,'w')\n",
      "    outH.write('gene\\t'+\"\\t\".join( map(outD['gene'].__getitem__, outSmp)) + \"\\n\")\n",
      "    if tgene:\n",
      "            outH.write(tgene + \"\\t\" + \"\\t\".join(map(str,map(outD[tgene].__getitem__, outSmp))) +\"\\n\")\n",
      "    for k,v in outD.items():\n",
      "        if k in outReg: \n",
      "            outH.write(k + \"\\t\" + \"\\t\".join(map(str,v)) + \"\\n\")\n",
      "    outH.close()"
     ],
     "language": "python",
     "metadata": {},
     "outputs": [],
     "prompt_number": 46
    },
    {
     "cell_type": "code",
     "collapsed": false,
     "input": [
      "# def writeOutFiles(tarRegD, tarIntSmpD, expD, cnvD, metD, output):\n",
      "for tgene in tarRegD.keys()[:3]: \n",
      "    # def startOpt4Gene(tgene, tarIntSmpD, tarRegD, mutD, expD, outputDir):\n",
      "    tIntSmp = tarIntSmpD[tgene]\n",
      "    allRegsL = tarRegD[tgene]\n",
      "    intCnvSmpIdL = [id for (id, s) in enumerate(cnvD['gene']) if s in tIntSmp]\n",
      "    intMethSmpIdL = [id for (id, s) in enumerate(metD['gene']) if s in tIntSmp]\n",
      "    intExpSmpIdL = [id for (id, s) in enumerate(expD['gene']) if s in tIntSmp]\n",
      "    \n",
      "#     regCnvD = {k:map(v.__getitem__, intCnvSmpIdL) for (k,v) in cnvD.items() if k in allRegsL}\n",
      "#     regMethD = {k:map(v.__getitem__, intMethSmpIdL) for (k,v) in metD.items() if k in allRegsL}\n",
      "#     regExpD = {k:map(v.__getitem__, intExpSmpIdL) for (k,v) in expD.items() if k in allRegsL}\n",
      "    \n",
      "#     expCnvMethRegL = set(regExpD.keys()).intersection(set(regCnvD.keys())).intersection(set(regMethD.keys()))\n",
      "    outRegL = regExpD.keys()\n",
      "    \n",
      "    outTempCnv = output + \"_\" +  tgene + \"_regCNV\"\n",
      "    outTempMeth = output + \"_\" +  tgene + \"_regMeth\"\n",
      "    outTempExp = output + \"_\" + tgene + \"_exp\"\n",
      "    \n",
      "    writeOut(outTempCnv, cnvD, intCnvSmpIdL, outRegL)\n",
      "    writeOut(outTempMeth, metD, intMethSmpIdL, outRegL)\n",
      "    writeOut(outTempExp, expD, intExpSmpIdL, outRegL,tgene)\n",
      "    \n",
      "    \n",
      "\n",
      "#     outTemp = output + \"/\" + tgene + \".outTolCM\"\n",
      "#     LOGDIR=\"\"\n",
      "#     JOBNAME=\"\"\n",
      "#     RSCRIPT=\"/ifs/home/c2b2/ac_lab/jh3283/tools/R/R-3-02/bin/Rscript\"\n",
      "#     RCODE=\"/ifs/home/c2b2/ac_lab/jh3283/scripts/projFocus/ceRNA/model/test.r\"\n",
      "#     cmd = \"qsub -l mem=5g,time=4:: -S RSCRIPT \\\n",
      "#     -e LOGDIR/ -o LOGDIR -N JOBNAME -cwd \\\n",
      "#     RCODE --vanilla --exp \" +  outTempExp + \\\n",
      "#     \" --cnv \" + outTempCNV + \\\n",
      "#     \" --meth \" + outTempMeth + \\\n",
      "#     \" --output \" + outTemp \n",
      "#     print cmd\n",
      "#     subprocess.Popen(cmd, shell = True)\n",
      "\n",
      "#     rtncode  = subprocess.call(cmd, shell = True)\n",
      "#     if rtncode != 0 :\n",
      "#         print \"Error in regression!\"\n",
      "#         sys.exit()\n",
      "#     print tgene + \" Done\"\n"
     ],
     "language": "python",
     "metadata": {},
     "outputs": [],
     "prompt_number": 57
    },
    {
     "cell_type": "code",
     "collapsed": false,
     "input": [
      "%%bash\n",
      "pwd"
     ],
     "language": "python",
     "metadata": {},
     "outputs": [
      {
       "output_type": "stream",
       "stream": "stdout",
       "text": [
        "/Users/jh3283/HOME/scripts/projFocus/ceRNA/model/pynotebook\n"
       ]
      }
     ],
     "prompt_number": 44
    },
    {
     "cell_type": "code",
     "collapsed": false,
     "input": [],
     "language": "python",
     "metadata": {},
     "outputs": [],
     "prompt_number": 84
    },
    {
     "cell_type": "code",
     "collapsed": false,
     "input": [],
     "language": "python",
     "metadata": {},
     "outputs": [],
     "prompt_number": 75
    },
    {
     "cell_type": "code",
     "collapsed": false,
     "input": [],
     "language": "python",
     "metadata": {},
     "outputs": []
    },
    {
     "cell_type": "code",
     "collapsed": false,
     "input": [
      "    "
     ],
     "language": "python",
     "metadata": {},
     "outputs": [],
     "prompt_number": 14
    },
    {
     "cell_type": "code",
     "collapsed": false,
     "input": [],
     "language": "python",
     "metadata": {},
     "outputs": [],
     "prompt_number": 251
    },
    {
     "cell_type": "code",
     "collapsed": false,
     "input": [
      "\n"
     ],
     "language": "python",
     "metadata": {},
     "outputs": []
    },
    {
     "cell_type": "code",
     "collapsed": false,
     "input": [
      "\n",
      "\n"
     ],
     "language": "python",
     "metadata": {},
     "outputs": [],
     "prompt_number": 139
    },
    {
     "cell_type": "code",
     "collapsed": false,
     "input": [
      "\n"
     ],
     "language": "python",
     "metadata": {},
     "outputs": []
    },
    {
     "cell_type": "code",
     "collapsed": false,
     "input": [
      "def __test__():\n",
      "    from collections import defaultdict\n",
      "    seqSet  = {'G1':['S2','S4','S6'],\n",
      "                'G2':['S1','S3'],\n",
      "                'G3':['S1'],\n",
      "                'G4':['S1'],\n",
      "                'G5':['S5'],\n",
      "                'G6':['S3']}\n",
      "    seq     = ['S1', 'S2', 'S3', 'S4', 'S5','S6']\n",
      "    weightSet = {'G1':[1.0,0.5,1.5],\n",
      "                 'G2':[2.0, 2.5],\n",
      "                 'G3':[2.3],\n",
      "                 'G4':[1.2],\n",
      "                 'G5':[2.5],\n",
      "                 'G6':[3.0]}\n",
      "    setObjL = []\n",
      "    for sk, ss in seqSet.items():\n",
      "        setObjL.append(MutSet(sk,ss,weightSet[sk]))\n",
      "    geneL, smpL, costL = wgsc(setObjL, seq, wtype = \"mean\")\n",
      "    geneL, smpL, costL = wgsc(setObjL, seq, wtype = \"total\")\n",
      "    geneL, smpL, costL =  wgsc(setObjL, seq, wtype = \"max\")"
     ],
     "language": "python",
     "metadata": {},
     "outputs": [],
     "prompt_number": 147
    },
    {
     "cell_type": "code",
     "collapsed": false,
     "input": [
      "array([[1,2,3],[2,3,7]]) * array([[1,2,3],[2,3,7]])"
     ],
     "language": "python",
     "metadata": {},
     "outputs": [
      {
       "metadata": {},
       "output_type": "pyout",
       "prompt_number": 82,
       "text": [
        "array([[ 1,  4,  9],\n",
        "       [ 4,  9, 49]])"
       ]
      }
     ],
     "prompt_number": 82
    },
    {
     "cell_type": "code",
     "collapsed": false,
     "input": [],
     "language": "python",
     "metadata": {},
     "outputs": [],
     "prompt_number": 171
    },
    {
     "cell_type": "code",
     "collapsed": false,
     "input": [],
     "language": "python",
     "metadata": {},
     "outputs": []
    },
    {
     "cell_type": "code",
     "collapsed": false,
     "input": [],
     "language": "python",
     "metadata": {},
     "outputs": [
      {
       "output_type": "stream",
       "stream": "stdout",
       "text": [
        " input target genes:\t842\n"
       ]
      }
     ],
     "prompt_number": 210
    },
    {
     "cell_type": "code",
     "collapsed": false,
     "input": [],
     "language": "python",
     "metadata": {},
     "outputs": [
      {
       "output_type": "stream",
       "stream": "stdout",
       "text": [
        "422\n"
       ]
      }
     ],
     "prompt_number": 203
    },
    {
     "cell_type": "code",
     "collapsed": false,
     "input": [],
     "language": "python",
     "metadata": {},
     "outputs": [],
     "prompt_number": 222
    },
    {
     "cell_type": "code",
     "collapsed": false,
     "input": [],
     "language": "python",
     "metadata": {},
     "outputs": [],
     "prompt_number": 225
    },
    {
     "cell_type": "code",
     "collapsed": false,
     "input": [],
     "language": "python",
     "metadata": {},
     "outputs": [],
     "prompt_number": 282
    },
    {
     "cell_type": "code",
     "collapsed": false,
     "input": [
      "\n"
     ],
     "language": "python",
     "metadata": {},
     "outputs": [
      {
       "metadata": {},
       "output_type": "pyout",
       "prompt_number": 291,
       "text": [
        "['EW.A1PD.01A',\n",
        " 'A8.A08S.01A',\n",
        " 'E9.A1NG.01A',\n",
        " 'BH.A0BO.01A',\n",
        " 'AN.A046.01A',\n",
        " 'BH.A0HB.01A',\n",
        " 'GM.A2DD.01A',\n",
        " 'AO.A12E.01A',\n",
        " 'BH.A0HA.01A',\n",
        " 'A2.A0CW.01A']"
       ]
      }
     ],
     "prompt_number": 291
    },
    {
     "cell_type": "code",
     "collapsed": false,
     "input": [],
     "language": "python",
     "metadata": {},
     "outputs": [
      {
       "output_type": "stream",
       "stream": "stdout",
       "text": [
        "(['CSRNP2', 'CDK12', 'UBQLN2', 'SETD1B', 'TMCC1'], [['A2.A0CW.01A'], ['GM.A2DD.01A', 'BH.A0HB.01A'], ['AN.A046.01A'], ['E9.A1NG.01A', 'AO.A12E.01A', 'A8.A08S.01A', 'BH.A0HA.01A'], ['BH.A0BO.01A', 'EW.A1PD.01A']], [0.22678097632349867, 0.47801847547892262, 0.58651648765212494, 0.69708026907404175, 1.4724447766797057])\n",
        "(['SETD1B', 'CSRNP2', 'CDK12', 'UBQLN2', 'TMCC1'], [['E9.A1NG.01A', 'AO.A12E.01A', 'A8.A08S.01A', 'BH.A0HA.01A'], ['A2.A0CW.01A'], ['GM.A2DD.01A', 'BH.A0HB.01A'], ['AN.A046.01A'], ['BH.A0BO.01A', 'EW.A1PD.01A']], [0.17427006726851044, 0.22678097632349867, 0.23900923773946131, 0.58651648765212494, 0.73622238833985287])\n",
        "(['CSRNP2', 'CDK12', 'SETD1B', 'UBQLN2', 'TMCC1'], [['A2.A0CW.01A'], ['GM.A2DD.01A', 'BH.A0HB.01A'], ['E9.A1NG.01A', 'AO.A12E.01A', 'A8.A08S.01A', 'BH.A0HA.01A'], ['AN.A046.01A'], ['BH.A0BO.01A', 'EW.A1PD.01A']], [0.22678097632349867, 0.3092780017372066, 0.39382533293447364, 0.58651648765212494, 1.0169741156273191])\n"
       ]
      }
     ],
     "prompt_number": 295
    },
    {
     "cell_type": "code",
     "collapsed": false,
     "input": [],
     "language": "python",
     "metadata": {},
     "outputs": [],
     "prompt_number": 294
    },
    {
     "cell_type": "code",
     "collapsed": false,
     "input": [
      "def format2Dlist(l2d):\n",
      "    out = []\n",
      "    for i in l2d:\n",
      "        out.append(\"[\"+\",\".join(map(str,i)) + \"]\")\n",
      "    return \";\".join(out)\n"
     ],
     "language": "python",
     "metadata": {},
     "outputs": [],
     "prompt_number": 5
    },
    {
     "cell_type": "code",
     "collapsed": false,
     "input": [
      "\n"
     ],
     "language": "python",
     "metadata": {},
     "outputs": [
      {
       "metadata": {},
       "output_type": "pyout",
       "prompt_number": 6,
       "text": [
        "'[1,2];[5,6]'"
       ]
      }
     ],
     "prompt_number": 6
    },
    {
     "cell_type": "code",
     "collapsed": false,
     "input": [],
     "language": "python",
     "metadata": {},
     "outputs": [],
     "prompt_number": 266
    },
    {
     "cell_type": "code",
     "collapsed": false,
     "input": [],
     "language": "python",
     "metadata": {},
     "outputs": [
      {
       "metadata": {},
       "output_type": "pyout",
       "prompt_number": 267,
       "text": [
        "dict"
       ]
      }
     ],
     "prompt_number": 267
    },
    {
     "cell_type": "code",
     "collapsed": false,
     "input": [],
     "language": "python",
     "metadata": {},
     "outputs": [],
     "prompt_number": 268
    },
    {
     "cell_type": "code",
     "collapsed": false,
     "input": [],
     "language": "python",
     "metadata": {},
     "outputs": []
    }
   ],
   "metadata": {}
  }
 ]
}