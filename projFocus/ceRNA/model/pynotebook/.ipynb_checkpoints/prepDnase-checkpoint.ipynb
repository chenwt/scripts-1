{
 "metadata": {
  "name": ""
 },
 "nbformat": 3,
 "nbformat_minor": 0,
 "worksheets": [
  {
   "cells": [
    {
     "cell_type": "raw",
     "metadata": {},
     "source": [
      "Giveing ENCODE DNase peak file, prepare one file which show the region: chr:start-end signial \n",
      "Input: broad peak treated 2 replicates, broad peak control 2 replicated\n",
      "output: signical diffrential for each region\n",
      "\n"
     ]
    },
    {
     "cell_type": "code",
     "collapsed": false,
     "input": [
      "from generalUtils import *\n",
      "from collections  import defaultdict"
     ],
     "language": "python",
     "metadata": {},
     "outputs": [],
     "prompt_number": 5
    },
    {
     "cell_type": "code",
     "collapsed": false,
     "input": [
      "tfile1 = \"/Volumes//ifs/data/c2b2/ac_lab/jh3283/projFocus/data/encode/dnaseBS/wgEncodeUwDnaseMcf7Est100nm1hHotspotsRep1.broadPeak\"\n",
      "tfile2 = \"/Volumes//ifs/data/c2b2/ac_lab/jh3283/projFocus/data/encode/dnaseBS/wgEncodeUwDnaseMcf7Est100nm1hHotspotsRep2.broadPeak\"\n",
      "cfile1 = \"/Volumes//ifs/data/c2b2/ac_lab/jh3283/projFocus/data/encode/dnaseBS/wgEncodeUwDnaseMcf7Estctrl0hHotspotsRep1.broadPeak\"\n",
      "cfile2 = \"/Volumes//ifs/data/c2b2/ac_lab/jh3283/projFocus/data/encode/dnaseBS/wgEncodeUwDnaseMcf7Estctrl0hHotspotsRep2.broadPeak\"\n",
      "\n",
      "tfile1n = \"/Volumes//ifs/data/c2b2/ac_lab/jh3283/projFocus/data/encode/dnaseBS/wgEncodeUwDnaseMcf7Est100nm1hPkRep1.narrowPeak\"\n",
      "tfile2n = \"/Volumes//ifs/data/c2b2/ac_lab/jh3283/projFocus/data/encode/dnaseBS/wgEncodeUwDnaseMcf7Est100nm1hPkRep2.narrowPeak\"\n",
      "cfile1n = \"/Volumes//ifs/data/c2b2/ac_lab/jh3283/projFocus/data/encode/dnaseBS/wgEncodeUwDnaseMcf7Estctrl0hPkRep1.narrowPeak\"\n",
      "cfile2n = \"/Volumes//ifs/data/c2b2/ac_lab/jh3283/projFocus/data/encode/dnaseBS/wgEncodeUwDnaseMcf7Estctrl0hPkRep2.narrowPeak\""
     ],
     "language": "python",
     "metadata": {},
     "outputs": [],
     "prompt_number": 2
    },
    {
     "cell_type": "code",
     "collapsed": false,
     "input": [
      "def loadFile(file):\n",
      "    from collections  import defaultdict\n",
      "    dataD = defaultdict(list)\n",
      "    \n",
      "    with open(file) as f:\n",
      "        line = f.readline()\n",
      "        while line:\n",
      "            chr_crt, ps_crt, pe_crt, _, _, _, signal_crt, pval_crt, _ = \\\n",
      "                    line.strip().split(\"\\t\")\n",
      "    \n",
      "            if pval_crt < 2: \n",
      "                line = f.readline()\n",
      "                continue\n",
      "                \n",
      "            chr_crt = chr2Num(chr_crt.replace(\"chr\", \"\"))\n",
      "            rgn_crt = Region(chr_crt, ps_crt, pe_crt)\n",
      "            rgn_crt.signal = signal_crt\n",
      "            rgn_crt.pval = pval_crt\n",
      "            \n",
      "            dataD[chr_crt].append(rgn_crt)\n",
      "            \n",
      "            line = f.readline()\n",
      "    return dataD\n",
      "            "
     ],
     "language": "python",
     "metadata": {},
     "outputs": [],
     "prompt_number": 15
    },
    {
     "cell_type": "code",
     "collapsed": false,
     "input": [
      "t1D = loadFile(tfile1)\n",
      "c1D = loadFile(cfile1)"
     ],
     "language": "python",
     "metadata": {},
     "outputs": [],
     "prompt_number": "*"
    },
    {
     "cell_type": "code",
     "collapsed": false,
     "input": [],
     "language": "python",
     "metadata": {},
     "outputs": [
      {
       "metadata": {},
       "output_type": "pyout",
       "prompt_number": 7,
       "text": [
        "[defaultdict(<type 'list'>, {}),\n",
        " defaultdict(<type 'list'>, {}),\n",
        " defaultdict(<type 'list'>, {}),\n",
        " defaultdict(<type 'list'>, {}),\n",
        " defaultdict(<type 'list'>, {}),\n",
        " defaultdict(<type 'list'>, {}),\n",
        " defaultdict(<type 'list'>, {}),\n",
        " defaultdict(<type 'list'>, {}),\n",
        " defaultdict(<type 'list'>, {}),\n",
        " defaultdict(<type 'list'>, {}),\n",
        " defaultdict(<type 'list'>, {}),\n",
        " defaultdict(<type 'list'>, {}),\n",
        " defaultdict(<type 'list'>, {}),\n",
        " defaultdict(<type 'list'>, {}),\n",
        " defaultdict(<type 'list'>, {}),\n",
        " defaultdict(<type 'list'>, {}),\n",
        " defaultdict(<type 'list'>, {}),\n",
        " defaultdict(<type 'list'>, {}),\n",
        " defaultdict(<type 'list'>, {}),\n",
        " defaultdict(<type 'list'>, {}),\n",
        " defaultdict(<type 'list'>, {}),\n",
        " defaultdict(<type 'list'>, {}),\n",
        " defaultdict(<type 'list'>, {})]"
       ]
      }
     ],
     "prompt_number": 7
    },
    {
     "cell_type": "code",
     "collapsed": false,
     "input": [],
     "language": "python",
     "metadata": {},
     "outputs": []
    }
   ],
   "metadata": {}
  }
 ]
}