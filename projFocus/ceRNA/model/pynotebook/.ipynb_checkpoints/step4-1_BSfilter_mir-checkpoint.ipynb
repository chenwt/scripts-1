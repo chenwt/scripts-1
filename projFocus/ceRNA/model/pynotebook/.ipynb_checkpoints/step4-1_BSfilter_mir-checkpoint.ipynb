{
 "metadata": {
  "name": ""
 },
 "nbformat": 3,
 "nbformat_minor": 0,
 "worksheets": [
  {
   "cells": [
    {
     "cell_type": "raw",
     "metadata": {},
     "source": [
      "input : 1> the predicted binding site genomic coordinates, \n",
      "       2> somatic mutation site genomic coordinate\n",
      "output: 1> the mutations occurs in binding site, and the target gene, as well as the modulator(TF/miRNA)"
     ]
    },
    {
     "cell_type": "code",
     "collapsed": false,
     "input": [
      "#!/usr/bin/python\n",
      "#J.HE\n",
      "#Desp.: given predicted binding site, find the mutations that are in the binding\n",
      "#sites for each gene\n",
      "\n",
      "import sys,getopt\n",
      "import re\n",
      "from collections import defaultdict\n",
      "from generalUtils import *\n",
      "\n",
      "# argv = sys.argv[1:]\n",
      "# input = ''\n",
      "# output = ''\n",
      "# usage = 'python ' + sys.argv[0] + ' -s <binding site file> \\\n",
      "# -m <mutations> -o <output> '\n",
      "# example = 'python ' + sys.argv[0] + ' -i <input>  -o <output>'\n",
      "# try:\n",
      "#     opts,args = getopt.getopt(argv,\"hs:m:o:\")\n",
      "# except getopt.GetoptError:\n",
      "#     print usage + \"\\n\" + example\n",
      "#     sys.exit(2)\n",
      "# for opt, arg in opts:\n",
      "#     if opt == '-h':\n",
      "#         print usage + \"\\n\" + example\n",
      "#         sys.exit()\n",
      "#     elif opt in (\"-s\"):\n",
      "#         bsfile = arg\n",
      "#     elif opt in (\"-m\"):\n",
      "#         mutfile = arg\n",
      "#     elif opt in (\"-o\"):\n",
      "#         output = arg\n",
      "# print('Script path:\\t'+ sys.argv[0])\n",
      "# print('Input file:\\t' + bsfile)\n",
      "# print('Input file:\\t' + mutfile)\n",
      "# print('Output file:\\t'+ output)\n",
      "\n"
     ],
     "language": "python",
     "metadata": {},
     "outputs": [],
     "prompt_number": 13
    },
    {
     "cell_type": "code",
     "collapsed": false,
     "input": [
      "##test file\n",
      "mutfile=\"/Volumes//ifs/data/c2b2/ac_lab/jh3283/projFocus/data/03102014/tcgal2som/genome.wustl.edu__Illumina_All.maf\"\n",
      "outputfile=\"/Volumes//ifs/data/c2b2/ac_lab/jh3283/projFocus/result/05012014/fucFilt/mut_in_TFBindSite_05142014.hg19\""
     ],
     "language": "python",
     "metadata": {},
     "outputs": [],
     "prompt_number": 14
    },
    {
     "cell_type": "code",
     "collapsed": false,
     "input": [
      "class GeneRegion:\n",
      "    def __init__(self, gene, chr, ps, pe, strand):\n",
      "        self.gene = gene\n",
      "        self.chr = chr\n",
      "        self.ps = int(ps)\n",
      "        self.pe = int(pe)\n",
      "        self.strand = strand\n",
      "    def __eq__(self,other):\n",
      "        return self.gene == other.gene and \\\n",
      "                self.chr == other.chr and \\\n",
      "                self.ps == other.ps and  \\\n",
      "                self.pe == other.pe\n",
      "                \n",
      "    def __ne__(self, other):\n",
      "        return self.gene == other.gene or \\\n",
      "                self.chr == other.chr or \\\n",
      "                self.ps == other.ps or \\\n",
      "                self.pe == other.pe\n",
      "     \n",
      "    def __str__(self):\n",
      "        return '%s\\t%s:%s-%s' % (self.gene, self.chr, self.ps, self.pe )\n",
      "    \n",
      "    def __expr__(self):\n",
      "        return '%s\\t%s:%s-%s' % (self.gene, self.chr, self.ps, self.pe )\n",
      "    \n",
      "    def __cmp__(self, grObj):\n",
      "        if self.chr == grObj.chr:\n",
      "            if self.pe < grObj.ps:\n",
      "                return -1\n",
      "            elif self.ps > grObj.pe:\n",
      "                return 1\n",
      "            else :\n",
      "                return 0\n",
      "        else:\n",
      "            return -2\n",
      "    \n",
      "    def __intersect__(self, gRObj):\n",
      "        if self.chr == gRObj.chr:\n",
      "            if self.pe < gRObj.ps or self.ps > gRObj.pe:\n",
      "                return 0\n",
      "            else:\n",
      "                return 1\n",
      "        else:\n",
      "            return 0\n",
      "    def info(self):\n",
      "        return(self.gene + \"\\t\" + self.chr + \":\" + \"-\".join(map(str),[self.ps, self.pe]))\n"
     ],
     "language": "python",
     "metadata": {},
     "outputs": [],
     "prompt_number": 15
    },
    {
     "cell_type": "code",
     "collapsed": false,
     "input": [
      "def __test_GRObj():\n",
      "    testGG1 = GeneRegion('ZYX', 1, 23, 23 + 1, '+')\n",
      "    testGG2 = GeneRegion('X', 1, 23, 30, '+')\n",
      "    testGG3 = GeneRegion('Z', 1, 10, 22,'-')\n",
      "    testGG4 = GeneRegion('X', 1, 23, 30, '+')\n",
      "    \n",
      "    print testGG1 == testGG2\n",
      "    print testGG2 == testGG4\n",
      "    print testGG1.__intersect__(testGG2)\n",
      "    print testGG1.__intersect__(testGG3)"
     ],
     "language": "python",
     "metadata": {},
     "outputs": [],
     "prompt_number": 16
    },
    {
     "cell_type": "code",
     "collapsed": false,
     "input": [],
     "language": "python",
     "metadata": {},
     "outputs": [],
     "prompt_number": 16
    },
    {
     "cell_type": "code",
     "collapsed": false,
     "input": [
      "###load mutation info\n",
      "mutDict = defaultdict(list)\n",
      "cnt = 0\n",
      "with(open(mutfile)) as f:\n",
      "    head = f.readline()\n",
      "    line = f.readline()\n",
      "    while line:\n",
      "        g_crt, _, _,  _, chr_crt, ps_crt, pe_crt, strand_crt = \\\n",
      "                line.strip().split(\"\\t\",7)\n",
      "        crtMut = GeneRegion(g_crt, chr_crt, ps_crt, pe_crt, strand_crt)\n",
      "        mutDict[g_crt].append(crtMut)\n",
      "        cnt = cnt + 1\n",
      "        line = f.readline()\n",
      "print \"mutations loaded : %s\" % cnt\n"
     ],
     "language": "python",
     "metadata": {},
     "outputs": [
      {
       "output_type": "stream",
       "stream": "stdout",
       "text": [
        "mutations loaded : 137732\n"
       ]
      }
     ],
     "prompt_number": 17
    },
    {
     "cell_type": "code",
     "collapsed": false,
     "input": [],
     "language": "python",
     "metadata": {},
     "outputs": [],
     "prompt_number": 17
    },
    {
     "cell_type": "code",
     "collapsed": false,
     "input": [
      "\n",
      "def find_intersect(mutObj, bsObjList):\n",
      "    if mutObj.pe < bsObjList[0].ps or \\\n",
      "        mutObj.ps > bsObjList[-1].pe:\n",
      "        return 0\n",
      "    for bsObj_crt in bsObjList :\n",
      "        if mutObj.__intersect__(bsObj_crt):\n",
      "            return(bsObj_crt) \n",
      "    return 0\n"
     ],
     "language": "python",
     "metadata": {},
     "outputs": [],
     "prompt_number": 25
    },
    {
     "cell_type": "code",
     "collapsed": false,
     "input": [
      "mutOrigDict = mutDict"
     ],
     "language": "python",
     "metadata": {},
     "outputs": []
    },
    {
     "cell_type": "code",
     "collapsed": false,
     "input": [
      "mirBSfile = \"/Volumes//ifs/data/c2b2/ac_lab/jh3283/projFocus/data/cupidPrediction/cupid.GenomicCoord\"\n",
      "outputfile=\"/Volumes//ifs/data/c2b2/ac_lab/jh3283/projFocus/result/05012014/fucFilt/mut_in_MiRNABindSite_05152014.hg19\""
     ],
     "language": "python",
     "metadata": {},
     "outputs": [],
     "prompt_number": 45
    },
    {
     "cell_type": "code",
     "collapsed": false,
     "input": [
      "def writeLine(fileH, grObj1, grObj2):\n",
      "    fileH.write( grObj1.gene + \"\\t\" + grObj1.chr + \\\n",
      "                \":\" + \"-\".join(map(str,[grObj1.ps, grObj1.pe])) + \\\n",
      "                \"\\t\" + grObj2.gene + \"\\t\" + grObj2.chr + \\\n",
      "                \":\" + \"-\".join(map(str,[grObj2.ps, grObj2.pe]))  + \"\\n\" ) \n",
      "   \n",
      "bsDict = defaultdict(list)\n",
      "\n",
      "outputH = open(outputfile, 'wt')\n",
      "cnt = 0\n",
      "cntFind = 0 \n",
      "mutDict = mutOrigDict \n",
      "with(open(mirBSfile)) as f:\n",
      "    modType = f.readline().strip().split(\"\\t\")[0]\n",
      "    outHeader = [\"mutGene\", \"mutChr:mutPs-mutPe\",\"targetGene\",\"bsChr:bsPs-bsPe\", \"modulator\" + modType]\n",
      "    outputH.write(\"\\t\".join(outHeader) + \"\\n\" )\n",
      "    line = f.readline()\n",
      "    while line:\n",
      "        cnt  = cnt + 1\n",
      "        if cnt % 100 == 0:\n",
      "            print cnt\n",
      "        g_crt, chr_crt, coor_crt = re.split(r\"\\t|:\", line.strip())\n",
      "        ps_crtL = [pos for pos in re.split(\";\", coor_crt) if pos]\n",
      "        if not ps_crtL:\n",
      "            line = f.readline()\n",
      "            continue\n",
      "        \n",
      "        mutObj_crtL = [m for m in mutDict[g_crt] if m ]\n",
      "        if not mutObj_crtL:\n",
      "            line = f.readline()\n",
      "            continue\n",
      "\n",
      "        bsObj_crtL = map(lambda x: GeneRegion(g_crt, chr_crt, x, int(x) + 6,'+'), ps_crtL)\n",
      "\n",
      "        if min(map(lambda x:x.ps,mutObj_crtL))  > bsObj_crtL[-1].pe or \\\n",
      "            max(map(lambda x:x.pe,mutObj_crtL)) < bsObj_crtL[-1].ps:\n",
      "            line = f.readline()\n",
      "            continue\n",
      "        else:\n",
      "            for crtmut in mutObj_crtL:\n",
      "                bsObj_crt = find_intersect(crtmut, bsObj_crtL)\n",
      "                if bsObj_crt :\n",
      "                    print crtmut, bsObj_crt\n",
      "                    cntFind = cntFind  + 1\n",
      "                    writeLine(outputH, crtmut, bsObj_crt)\n",
      "                    continue\n",
      "        del mutDict[g_crt]\n",
      "        line = f.readline()\n",
      "\n",
      "print \"mutations find in tf binding area:\\t %s\" % cntFind\n",
      "outputH.close()"
     ],
     "language": "python",
     "metadata": {},
     "outputs": [
      {
       "output_type": "stream",
       "stream": "stdout",
       "text": [
        "100\n",
        "200"
       ]
      },
      {
       "output_type": "stream",
       "stream": "stdout",
       "text": [
        "\n",
        "300"
       ]
      },
      {
       "output_type": "stream",
       "stream": "stdout",
       "text": [
        "\n",
        "400"
       ]
      },
      {
       "output_type": "stream",
       "stream": "stdout",
       "text": [
        "\n",
        "500"
       ]
      },
      {
       "output_type": "stream",
       "stream": "stdout",
       "text": [
        "\n",
        "600"
       ]
      },
      {
       "output_type": "stream",
       "stream": "stdout",
       "text": [
        "\n",
        "700"
       ]
      },
      {
       "output_type": "stream",
       "stream": "stdout",
       "text": [
        "\n",
        "800"
       ]
      },
      {
       "output_type": "stream",
       "stream": "stdout",
       "text": [
        "\n",
        "900"
       ]
      },
      {
       "output_type": "stream",
       "stream": "stdout",
       "text": [
        "\n",
        "1000"
       ]
      },
      {
       "output_type": "stream",
       "stream": "stdout",
       "text": [
        "\n",
        "1100"
       ]
      },
      {
       "output_type": "stream",
       "stream": "stdout",
       "text": [
        "\n",
        "1200"
       ]
      },
      {
       "output_type": "stream",
       "stream": "stdout",
       "text": [
        "\n",
        "1300"
       ]
      },
      {
       "output_type": "stream",
       "stream": "stdout",
       "text": [
        "\n",
        "1400"
       ]
      },
      {
       "output_type": "stream",
       "stream": "stdout",
       "text": [
        "\n",
        "1500"
       ]
      },
      {
       "output_type": "stream",
       "stream": "stdout",
       "text": [
        "\n",
        "1600"
       ]
      },
      {
       "output_type": "stream",
       "stream": "stdout",
       "text": [
        "\n",
        "1700"
       ]
      },
      {
       "output_type": "stream",
       "stream": "stdout",
       "text": [
        "\n",
        "1800"
       ]
      },
      {
       "output_type": "stream",
       "stream": "stdout",
       "text": [
        "\n",
        "1900"
       ]
      },
      {
       "output_type": "stream",
       "stream": "stdout",
       "text": [
        "\n",
        "2000"
       ]
      },
      {
       "output_type": "stream",
       "stream": "stdout",
       "text": [
        "\n",
        "2100"
       ]
      },
      {
       "output_type": "stream",
       "stream": "stdout",
       "text": [
        "\n",
        "2200"
       ]
      },
      {
       "output_type": "stream",
       "stream": "stdout",
       "text": [
        "\n",
        "2300"
       ]
      },
      {
       "output_type": "stream",
       "stream": "stdout",
       "text": [
        "\n",
        "2400"
       ]
      },
      {
       "output_type": "stream",
       "stream": "stdout",
       "text": [
        "\n",
        "2500"
       ]
      },
      {
       "ename": "KeyboardInterrupt",
       "evalue": "",
       "output_type": "pyerr",
       "traceback": [
        "\u001b[0;31m---------------------------------------------------------------------------\u001b[0m\n\u001b[0;31mKeyboardInterrupt\u001b[0m                         Traceback (most recent call last)",
        "\u001b[0;32m<ipython-input-44-060de687a98e>\u001b[0m in \u001b[0;36m<module>\u001b[0;34m()\u001b[0m\n\u001b[1;32m     25\u001b[0m         \u001b[0mmutObj_crtL\u001b[0m \u001b[0;34m=\u001b[0m \u001b[0;34m[\u001b[0m\u001b[0mm\u001b[0m \u001b[0;32mfor\u001b[0m \u001b[0mm\u001b[0m \u001b[0;32min\u001b[0m \u001b[0mmutDict\u001b[0m\u001b[0;34m[\u001b[0m\u001b[0mg_crt\u001b[0m\u001b[0;34m]\u001b[0m \u001b[0;32mif\u001b[0m \u001b[0mm\u001b[0m \u001b[0;34m]\u001b[0m\u001b[0;34m\u001b[0m\u001b[0m\n\u001b[1;32m     26\u001b[0m         \u001b[0;32mif\u001b[0m \u001b[0;32mnot\u001b[0m \u001b[0mmutObj_crtL\u001b[0m\u001b[0;34m:\u001b[0m\u001b[0;34m\u001b[0m\u001b[0m\n\u001b[0;32m---> 27\u001b[0;31m             \u001b[0mline\u001b[0m \u001b[0;34m=\u001b[0m \u001b[0mf\u001b[0m\u001b[0;34m.\u001b[0m\u001b[0mreadline\u001b[0m\u001b[0;34m(\u001b[0m\u001b[0;34m)\u001b[0m\u001b[0;34m\u001b[0m\u001b[0m\n\u001b[0m\u001b[1;32m     28\u001b[0m             \u001b[0;32mcontinue\u001b[0m\u001b[0;34m\u001b[0m\u001b[0m\n\u001b[1;32m     29\u001b[0m \u001b[0;34m\u001b[0m\u001b[0m\n",
        "\u001b[0;31mKeyboardInterrupt\u001b[0m: "
       ]
      },
      {
       "output_type": "stream",
       "stream": "stdout",
       "text": [
        "\n"
       ]
      }
     ],
     "prompt_number": 44
    },
    {
     "cell_type": "code",
     "collapsed": false,
     "input": [],
     "language": "python",
     "metadata": {},
     "outputs": []
    },
    {
     "cell_type": "code",
     "collapsed": false,
     "input": [],
     "language": "python",
     "metadata": {},
     "outputs": [
      {
       "metadata": {},
       "output_type": "pyout",
       "prompt_number": 37,
       "text": [
        "False"
       ]
      }
     ],
     "prompt_number": 37
    },
    {
     "cell_type": "code",
     "collapsed": false,
     "input": [],
     "language": "python",
     "metadata": {},
     "outputs": []
    }
   ],
   "metadata": {}
  }
 ]
}