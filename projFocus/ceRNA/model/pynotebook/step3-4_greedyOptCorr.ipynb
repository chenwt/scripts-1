{
 "metadata": {
  "name": ""
 },
 "nbformat": 3,
 "nbformat_minor": 0,
 "worksheets": [
  {
   "cells": [
    {
     "cell_type": "raw",
     "metadata": {},
     "source": [
      "This is to use greedy methods to identify a subset of ceRNA regulator * mutated samples for one target cancer gene. \n",
      "This subset should optimized the correlation between sum-up ceRNA driver expression and target expression.\n",
      "steps involved:\n",
      "\n",
      "Python code:\n",
      "-1 extract exp, mutMatrix, tarexp data\n",
      "-2 run greedy(by submitting a job to cluster, with 1000 random starting), Call R code.\n",
      "-3 permuat mutMatrix, and do step 2\n",
      "-4 do step3 1000 times\n",
      "-5 fire a job to moniter the finishing status of the submitted job\n",
      "-5 integrate data for step1, step4\n",
      "-6 generate summarized result. \n",
      "-7 clean folder\n",
      "\n",
      "'Cell method'\n",
      "-1 prepareData\n",
      "-2 calculated fullMatrix correlation corr_0, fisher transformed \n",
      "-3 set corr_k-1 = corr_prev, flip one mutation from 1 to 0(deactive it)\n",
      "-4 calculate corr_k, fisher transformed, \n",
      "-5 if corr_k - corr_k-1 > tolenrance: deactivate mutation , otherwise filp it back to 1 (active mutation) \n",
      "-6 repeat step4-5 until all mutations have been visited.\n",
      "\n",
      "'select optimal tolenrance'- flex, combine both p-value\n",
      "The idea: the more stringent tol produce less mutation.\n",
      "select the tolerance which produe maxi correlation, with significant p-value compare to full matrix and permut matrix\n",
      "\n",
      "'select optimal over all random initiation' \n",
      "The idea: random initiation will proceduce slight different result, so try to approximate to global optmization by randomization.\n",
      "-1 Ran multiply random initization ( n = 100), select the one with optimized correlation, with qualify p-values\n",
      "-2 count the number of mutations being selected, output the final mutation"
     ]
    },
    {
     "cell_type": "code",
     "collapsed": false,
     "input": [
      "keyRegSumfile=\"/Volumes/ifs/data/c2b2/ac_lab/jh3283/projFocus/result/05012014/sigMut/runMay5/keyRegSummary_donejob_05172014_0.01\"\n",
      "expfile=\"/Volumes/ifs/data/c2b2/ac_lab/jh3283/projFocus/result/03102014/exp/brca_exp_l3_tumor_Mar-21-2014.matrix_Mar-26-2014.voomNormed.matrix\"\n",
      "gslistfile=\"/Volumes//ifs/data/c2b2/ac_lab/jh3283/projFocus/result/05012014/gslist/gslist_CnvMethSomFree.10smapMore.deg_20140430.txt.hasReg.list\"\n",
      "mutfile=\"/Volumes/ifs/data/c2b2/ac_lab/jh3283/projFocus/result/05012014/tcgal2som/brca_somlevel2_byGene.matrix.inExpSmp.matrix.nonzero\"\n",
      "output=\"/Users/jh3283/HOME/DATA/projFocus/result/05012014/sigMut/test/test_optCorr_debug\"\n"
     ],
     "language": "python",
     "metadata": {},
     "outputs": [],
     "prompt_number": 3
    },
    {
     "cell_type": "code",
     "collapsed": false,
     "input": [
      "import  sys,getopt\n",
      "from    collections     import defaultdict\n",
      "from    parseKeyRegFile import parseKeyRegFile\n",
      "from    collections     import Counter, Sequence\n",
      "from    parseGslistFile import parseGslistFile\n",
      "import  numpy           as np\n",
      "import  subprocess"
     ],
     "language": "python",
     "metadata": {},
     "outputs": [],
     "prompt_number": 4
    },
    {
     "cell_type": "code",
     "collapsed": false,
     "input": [
      "def formatSampleName(code19):\n",
      "    if len(code19) >16:\n",
      "        return code19[5:16].replace(\"-\",\".\")\n",
      "    else :\n",
      "        return code19.replace(\"-\", \".\")\n"
     ],
     "language": "python",
     "metadata": {},
     "outputs": [],
     "prompt_number": 5
    },
    {
     "cell_type": "code",
     "collapsed": false,
     "input": [
      "def loadTarReg(keyRegSumfile):\n",
      "    resD = defaultdict(list)\n",
      "    with open(keyRegSumfile) as f:\n",
      "        line = f.readline()\n",
      "        while line:\n",
      "            crt_t, ctr_r = line.strip().split(\"\\t\")\n",
      "            resD[crt_t] = ctr_r.split(\";\")\n",
      "            line = f.readline()\n",
      "    return(resD)"
     ],
     "language": "python",
     "metadata": {},
     "outputs": [],
     "prompt_number": 6
    },
    {
     "cell_type": "code",
     "collapsed": false,
     "input": [
      "def getMutExpSmp(expfile, mutfile):\n",
      "    resL = []\n",
      "    with open(expfile) as f:\n",
      "        resL = f.readline().strip().split(\"\\t\")\n",
      "        resL = map(formatSampleName, resL)\n",
      "    with open(mutfile) as f:\n",
      "        allMutSmp = f.readline().strip().split(\"\\t\")\n",
      "        resL = [a for a in map(formatSampleName, allMutSmp) if a in resL]\n",
      "    return resL"
     ],
     "language": "python",
     "metadata": {},
     "outputs": [],
     "prompt_number": 7
    },
    {
     "cell_type": "code",
     "collapsed": false,
     "input": [
      "def loadTarIntSmp(gslistfile):\n",
      "    resD = defaultdict(list)\n",
      "    with open(gslistfile) as f:\n",
      "        line = f.readline()\n",
      "        while line:\n",
      "            crt_t, crt_s = line.strip().split(\"\\t\")\n",
      "            resD[crt_t] = crt_s.split(\";\")\n",
      "            line = f.readline()\n",
      "    return(resD)"
     ],
     "language": "python",
     "metadata": {},
     "outputs": [],
     "prompt_number": 8
    },
    {
     "cell_type": "code",
     "collapsed": false,
     "input": [
      "def loadExp(expfile, smpsL):\n",
      "    resD = defaultdict(list)\n",
      "    with open(expfile) as f:\n",
      "        allExpSmp = map(formatSampleName, f.readline().strip().split(\"\\t\"))\n",
      "        smpIndx = [id for (id, v) in enumerate(allExpSmp) if v in smpsL]\n",
      "        resD['gene'] = map(allExpSmp.__getitem__, smpIndx)\n",
      "        line = f.readline()\n",
      "        while line:\n",
      "            crt_g, crt_e = line.strip().split(\"\\t\",1)\n",
      "            temp = map(float,crt_e.split(\"\\t\"))\n",
      "            resD[crt_g] = map(temp.__getitem__, smpIndx)\n",
      "            line = f.readline()\n",
      "    return resD"
     ],
     "language": "python",
     "metadata": {},
     "outputs": [],
     "prompt_number": 9
    },
    {
     "cell_type": "code",
     "collapsed": false,
     "input": [
      "def loadMut(mutfile, smpsL):\n",
      "    resD = defaultdict(list)\n",
      "    with open(mutfile) as f:\n",
      "        _, allMutSmp = f.readline().strip().split(\"\\t\",1)\n",
      "        allMutSmp = map(formatSampleName, allMutSmp.split(\"\\t\"))\n",
      "        smpIndx = [id for (id, v) in enumerate(allMutSmp) if v in smpsL]\n",
      "        resD['gene'] = map(allMutSmp.__getitem__, smpIndx)\n",
      "        line = f.readline()\n",
      "        while line:\n",
      "            crt_g, crt_v = line.strip().split(\"\\t\",1)\n",
      "            temp =  map(int,crt_v.split(\"\\t\"))\n",
      "            resD[crt_g] = map(temp.__getitem__, smpIndx)\n",
      "            line = f.readline()\n",
      "    return resD"
     ],
     "language": "python",
     "metadata": {},
     "outputs": [],
     "prompt_number": 10
    },
    {
     "cell_type": "code",
     "collapsed": false,
     "input": [
      "tarRegD = loadTarReg(keyRegSumfile)\n",
      "tarIntSmpD = loadTarIntSmp(gslistfile)\n",
      "mutExpsmpL = getMutExpSmp(expfile, mutfile)\n",
      "expD = loadExp(expfile, mutExpsmpL)\n",
      "mutD = loadMut(mutfile, mutExpsmpL)\n"
     ],
     "language": "python",
     "metadata": {},
     "outputs": [],
     "prompt_number": 11
    },
    {
     "cell_type": "code",
     "collapsed": false,
     "input": [],
     "language": "python",
     "metadata": {},
     "outputs": [],
     "prompt_number": 1
    },
    {
     "cell_type": "code",
     "collapsed": false,
     "input": [],
     "language": "python",
     "metadata": {},
     "outputs": [
      {
       "metadata": {},
       "output_type": "pyout",
       "prompt_number": 12,
       "text": [
        "[]"
       ]
      }
     ],
     "prompt_number": 12
    },
    {
     "cell_type": "code",
     "collapsed": false,
     "input": [
      "# for tgene in tarRegD.keys()[:1]: \n",
      "tgene = \"TRAPPC8\"\n",
      "# def startOpt4Gene(tgene, tarIntSmpD, tarRegD, mutD, expD, outputDir):\n",
      "tIntSmp = tarIntSmpD[tgene]\n",
      "allRegsL = tarRegD[tgene]\n",
      "intMutSmpIdL = [id for (id, s) in enumerate(mutD['gene']) if s in tIntSmp]\n",
      "intExpSmpIdL = [id for (id, s) in enumerate(expD['gene']) if s in tIntSmp]\n",
      "\n",
      "regMutD = {k:map(v.__getitem__, intMutSmpIdL) for (k,v) in mutD.items() if k in allRegsL}\n",
      "regExpD = {k:map(v.__getitem__, intExpSmpIdL) for (k,v) in expD.items() if k in allRegsL}\n",
      "\n",
      "expMutRegL = set(regExpD.keys()).intersection(set(regMutD.keys()))\n",
      "outTempMut = output + \"_\" + tgene + \"_regMut\"\n",
      "outTempExp = output + \"_\" + tgene + \"_exp\"\n",
      "\n",
      "outTempMutH = open(outTempMut,'w')\n",
      "outTempExpH = open(outTempExp,'w')\n",
      "\n",
      "outTempMutH.write('gene\\t'+\"\\t\".join( map(mutD['gene'].__getitem__, intMutSmpIdL)) + \"\\n\")\n",
      "for k,v in regMutD.items():\n",
      "    if k in expMutRegL: \n",
      "        outTempMutH.write(k + \"\\t\" + \"\\t\".join(map(str,v)) + \"\\n\")\n",
      "\n",
      "debugSmp = expD['gene']\n",
      "outTempExpH.write('gene\\t')\n",
      "for i in intExpSmpIdL:\n",
      "#     print debugSmp[i]\n",
      "    outTempExpH.write( debugSmp[i] + \"\\t\" )\n",
      "outTempExpH.write(\"\\n\")\n",
      "\n",
      "# outTempExpH.write('gene\\t'+\"\\t\".join(map(expD['gene'].__getitem__, intExpSmpIdL)) + \"\\n\")\n",
      "\n",
      "## target expession in the first row\n",
      "\n",
      "debugSmp = expD[tgene]\n",
      "print debugSmp\n",
      "outTempExpH.write(tgene + '\\t')\n",
      "for i in intExpSmpIdL:\n",
      "    print i\n",
      "    print debugSmp[i]\n",
      "#     outTempExpH.write( debugSmp[i] + \"\\t\" )\n",
      "outTempExpH.write(\"\\n\")\n",
      "\n",
      "# outTempExpH.write(tgene + \"\\t\" + \"\\t\".join(map(str,map(expD[tgene].__getitem__, intExpSmpIdL))) +\"\\n\")\n",
      "\n",
      "for k,v in regExpD.items():\n",
      "    if k in expMutRegL:\n",
      "        outTempExpH.write(k + \"\\t\" + \"\\t\".join(map(str,v)) + \"\\n\")  \n",
      "outTempMutH.close()\n",
      "outTempExpH.close()\n",
      "\n",
      "outTemp = output + \"/\" + tgene + \".tsv\"\n",
      "#     cmd = \"/ifs/home/c2b2/ac_lab/jh3283/tools/R/R-3-02/bin/Rscript \\\n",
      "#     /ifs/home/c2b2/ac_lab/jh3283/scripts/projFocus/ceRNA/model/step2-2_regKeyRegulators_v5.r\\\n",
      "#     --vanilla --exp \" +  outTempExp + \" --mut \" + outTempMut + \" --output \" + outTemp \n",
      "\n",
      "\n",
      "# cmd = \"~/tools/R/R_current/bin/Rscript /ifs/home/c2b2/ac_lab/jh3283/scripts/projFocus/ceRNA/model/step3-4_greedyOptCorr.r \\\n",
      "# --vanilla --exp \" +  outTempExp + \" --mut \" + outTempMut + \" --output \" + outTemp \n",
      "# print cmd\n",
      "# subprocess.Popen(cmd, shell = True)\n",
      "\n",
      "\n",
      "\n",
      "#     rtncode  = subprocess.call(cmd, shell = True)\n",
      "#     if rtncode != 0 :\n",
      "#         print \"Error in regression!\"\n",
      "#         sys.exit()\n",
      "#     print tgene + \" Done\"\n"
     ],
     "language": "python",
     "metadata": {},
     "outputs": [
      {
       "ename": "IndexError",
       "evalue": "list index out of range",
       "output_type": "pyerr",
       "traceback": [
        "\u001b[0;31m---------------------------------------------------------------------------\u001b[0m\n\u001b[0;31mIndexError\u001b[0m                                Traceback (most recent call last)",
        "\u001b[0;32m<ipython-input-17-2b19528e5726>\u001b[0m in \u001b[0;36m<module>\u001b[0;34m()\u001b[0m\n\u001b[1;32m     38\u001b[0m \u001b[0;32mfor\u001b[0m \u001b[0mi\u001b[0m \u001b[0;32min\u001b[0m \u001b[0mintExpSmpIdL\u001b[0m\u001b[0;34m:\u001b[0m\u001b[0;34m\u001b[0m\u001b[0m\n\u001b[1;32m     39\u001b[0m     \u001b[0;32mprint\u001b[0m \u001b[0mi\u001b[0m\u001b[0;34m\u001b[0m\u001b[0m\n\u001b[0;32m---> 40\u001b[0;31m     \u001b[0;32mprint\u001b[0m \u001b[0mdebugSmp\u001b[0m\u001b[0;34m[\u001b[0m\u001b[0mi\u001b[0m\u001b[0;34m]\u001b[0m\u001b[0;34m\u001b[0m\u001b[0m\n\u001b[0m\u001b[1;32m     41\u001b[0m \u001b[0;31m#     outTempExpH.write( debugSmp[i] + \"\\t\" )\u001b[0m\u001b[0;34m\u001b[0m\u001b[0;34m\u001b[0m\u001b[0m\n\u001b[1;32m     42\u001b[0m \u001b[0moutTempExpH\u001b[0m\u001b[0;34m.\u001b[0m\u001b[0mwrite\u001b[0m\u001b[0;34m(\u001b[0m\u001b[0;34m\"\\n\"\u001b[0m\u001b[0;34m)\u001b[0m\u001b[0;34m\u001b[0m\u001b[0m\n",
        "\u001b[0;31mIndexError\u001b[0m: list index out of range"
       ]
      },
      {
       "output_type": "stream",
       "stream": "stdout",
       "text": [
        "[]\n",
        "1\n"
       ]
      }
     ],
     "prompt_number": 17
    },
    {
     "cell_type": "code",
     "collapsed": false,
     "input": [
      "expD.items()[10369]"
     ],
     "language": "python",
     "metadata": {},
     "outputs": [
      {
       "metadata": {},
       "output_type": "pyout",
       "prompt_number": 23,
       "text": [
        "('TRAPPC8', [])"
       ]
      }
     ],
     "prompt_number": 23
    },
    {
     "cell_type": "code",
     "collapsed": false,
     "input": [],
     "language": "python",
     "metadata": {},
     "outputs": [],
     "prompt_number": 84
    },
    {
     "cell_type": "code",
     "collapsed": false,
     "input": [],
     "language": "python",
     "metadata": {},
     "outputs": [],
     "prompt_number": 75
    },
    {
     "cell_type": "code",
     "collapsed": false,
     "input": [],
     "language": "python",
     "metadata": {},
     "outputs": []
    },
    {
     "cell_type": "code",
     "collapsed": false,
     "input": [
      "    "
     ],
     "language": "python",
     "metadata": {},
     "outputs": [],
     "prompt_number": 14
    },
    {
     "cell_type": "code",
     "collapsed": false,
     "input": [],
     "language": "python",
     "metadata": {},
     "outputs": [],
     "prompt_number": 251
    },
    {
     "cell_type": "code",
     "collapsed": false,
     "input": [
      "\n"
     ],
     "language": "python",
     "metadata": {},
     "outputs": []
    },
    {
     "cell_type": "code",
     "collapsed": false,
     "input": [
      "\n",
      "\n"
     ],
     "language": "python",
     "metadata": {},
     "outputs": [],
     "prompt_number": 139
    },
    {
     "cell_type": "code",
     "collapsed": false,
     "input": [
      "\n"
     ],
     "language": "python",
     "metadata": {},
     "outputs": []
    },
    {
     "cell_type": "code",
     "collapsed": false,
     "input": [
      "def __test__():\n",
      "    from collections import defaultdict\n",
      "    seqSet  = {'G1':['S2','S4','S6'],\n",
      "                'G2':['S1','S3'],\n",
      "                'G3':['S1'],\n",
      "                'G4':['S1'],\n",
      "                'G5':['S5'],\n",
      "                'G6':['S3']}\n",
      "    seq     = ['S1', 'S2', 'S3', 'S4', 'S5','S6']\n",
      "    weightSet = {'G1':[1.0,0.5,1.5],\n",
      "                 'G2':[2.0, 2.5],\n",
      "                 'G3':[2.3],\n",
      "                 'G4':[1.2],\n",
      "                 'G5':[2.5],\n",
      "                 'G6':[3.0]}\n",
      "    setObjL = []\n",
      "    for sk, ss in seqSet.items():\n",
      "        setObjL.append(MutSet(sk,ss,weightSet[sk]))\n",
      "    geneL, smpL, costL = wgsc(setObjL, seq, wtype = \"mean\")\n",
      "    geneL, smpL, costL = wgsc(setObjL, seq, wtype = \"total\")\n",
      "    geneL, smpL, costL =  wgsc(setObjL, seq, wtype = \"max\")"
     ],
     "language": "python",
     "metadata": {},
     "outputs": [],
     "prompt_number": 147
    },
    {
     "cell_type": "code",
     "collapsed": false,
     "input": [],
     "language": "python",
     "metadata": {},
     "outputs": []
    },
    {
     "cell_type": "code",
     "collapsed": false,
     "input": [],
     "language": "python",
     "metadata": {},
     "outputs": [],
     "prompt_number": 171
    },
    {
     "cell_type": "code",
     "collapsed": false,
     "input": [],
     "language": "python",
     "metadata": {},
     "outputs": []
    },
    {
     "cell_type": "code",
     "collapsed": false,
     "input": [],
     "language": "python",
     "metadata": {},
     "outputs": [
      {
       "output_type": "stream",
       "stream": "stdout",
       "text": [
        " input target genes:\t842\n"
       ]
      }
     ],
     "prompt_number": 210
    },
    {
     "cell_type": "code",
     "collapsed": false,
     "input": [],
     "language": "python",
     "metadata": {},
     "outputs": [
      {
       "output_type": "stream",
       "stream": "stdout",
       "text": [
        "422\n"
       ]
      }
     ],
     "prompt_number": 203
    },
    {
     "cell_type": "code",
     "collapsed": false,
     "input": [],
     "language": "python",
     "metadata": {},
     "outputs": [],
     "prompt_number": 222
    },
    {
     "cell_type": "code",
     "collapsed": false,
     "input": [],
     "language": "python",
     "metadata": {},
     "outputs": [],
     "prompt_number": 225
    },
    {
     "cell_type": "code",
     "collapsed": false,
     "input": [],
     "language": "python",
     "metadata": {},
     "outputs": [],
     "prompt_number": 282
    },
    {
     "cell_type": "code",
     "collapsed": false,
     "input": [
      "\n"
     ],
     "language": "python",
     "metadata": {},
     "outputs": [
      {
       "metadata": {},
       "output_type": "pyout",
       "prompt_number": 291,
       "text": [
        "['EW.A1PD.01A',\n",
        " 'A8.A08S.01A',\n",
        " 'E9.A1NG.01A',\n",
        " 'BH.A0BO.01A',\n",
        " 'AN.A046.01A',\n",
        " 'BH.A0HB.01A',\n",
        " 'GM.A2DD.01A',\n",
        " 'AO.A12E.01A',\n",
        " 'BH.A0HA.01A',\n",
        " 'A2.A0CW.01A']"
       ]
      }
     ],
     "prompt_number": 291
    },
    {
     "cell_type": "code",
     "collapsed": false,
     "input": [],
     "language": "python",
     "metadata": {},
     "outputs": [
      {
       "output_type": "stream",
       "stream": "stdout",
       "text": [
        "(['CSRNP2', 'CDK12', 'UBQLN2', 'SETD1B', 'TMCC1'], [['A2.A0CW.01A'], ['GM.A2DD.01A', 'BH.A0HB.01A'], ['AN.A046.01A'], ['E9.A1NG.01A', 'AO.A12E.01A', 'A8.A08S.01A', 'BH.A0HA.01A'], ['BH.A0BO.01A', 'EW.A1PD.01A']], [0.22678097632349867, 0.47801847547892262, 0.58651648765212494, 0.69708026907404175, 1.4724447766797057])\n",
        "(['SETD1B', 'CSRNP2', 'CDK12', 'UBQLN2', 'TMCC1'], [['E9.A1NG.01A', 'AO.A12E.01A', 'A8.A08S.01A', 'BH.A0HA.01A'], ['A2.A0CW.01A'], ['GM.A2DD.01A', 'BH.A0HB.01A'], ['AN.A046.01A'], ['BH.A0BO.01A', 'EW.A1PD.01A']], [0.17427006726851044, 0.22678097632349867, 0.23900923773946131, 0.58651648765212494, 0.73622238833985287])\n",
        "(['CSRNP2', 'CDK12', 'SETD1B', 'UBQLN2', 'TMCC1'], [['A2.A0CW.01A'], ['GM.A2DD.01A', 'BH.A0HB.01A'], ['E9.A1NG.01A', 'AO.A12E.01A', 'A8.A08S.01A', 'BH.A0HA.01A'], ['AN.A046.01A'], ['BH.A0BO.01A', 'EW.A1PD.01A']], [0.22678097632349867, 0.3092780017372066, 0.39382533293447364, 0.58651648765212494, 1.0169741156273191])\n"
       ]
      }
     ],
     "prompt_number": 295
    },
    {
     "cell_type": "code",
     "collapsed": false,
     "input": [],
     "language": "python",
     "metadata": {},
     "outputs": [],
     "prompt_number": 294
    },
    {
     "cell_type": "code",
     "collapsed": false,
     "input": [
      "def format2Dlist(l2d):\n",
      "    out = []\n",
      "    for i in l2d:\n",
      "        out.append(\"[\"+\",\".join(map(str,i)) + \"]\")\n",
      "    return \";\".join(out)\n"
     ],
     "language": "python",
     "metadata": {},
     "outputs": [],
     "prompt_number": 5
    },
    {
     "cell_type": "code",
     "collapsed": false,
     "input": [
      "\n"
     ],
     "language": "python",
     "metadata": {},
     "outputs": [
      {
       "metadata": {},
       "output_type": "pyout",
       "prompt_number": 6,
       "text": [
        "'[1,2];[5,6]'"
       ]
      }
     ],
     "prompt_number": 6
    },
    {
     "cell_type": "code",
     "collapsed": false,
     "input": [],
     "language": "python",
     "metadata": {},
     "outputs": [],
     "prompt_number": 266
    },
    {
     "cell_type": "code",
     "collapsed": false,
     "input": [],
     "language": "python",
     "metadata": {},
     "outputs": [
      {
       "metadata": {},
       "output_type": "pyout",
       "prompt_number": 267,
       "text": [
        "dict"
       ]
      }
     ],
     "prompt_number": 267
    },
    {
     "cell_type": "code",
     "collapsed": false,
     "input": [],
     "language": "python",
     "metadata": {},
     "outputs": [],
     "prompt_number": 268
    },
    {
     "cell_type": "code",
     "collapsed": false,
     "input": [],
     "language": "python",
     "metadata": {},
     "outputs": []
    }
   ],
   "metadata": {}
  }
 ]
}