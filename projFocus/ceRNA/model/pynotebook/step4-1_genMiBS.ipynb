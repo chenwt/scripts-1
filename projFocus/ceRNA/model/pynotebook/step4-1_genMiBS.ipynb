{
 "metadata": {
  "name": ""
 },
 "nbformat": 3,
 "nbformat_minor": 0,
 "worksheets": [
  {
   "cells": [
    {
     "cell_type": "raw",
     "metadata": {},
     "source": [
      "given cupid predicted microRNA binding sites,\n",
      "download 3'UTR sequence,\n",
      "generate the predicted genomic coordinate of binding sites"
     ]
    },
    {
     "cell_type": "code",
     "collapsed": false,
     "input": [
      "import os, sys\n",
      "import re\n",
      "from   collections import defaultdict\n",
      "import sys,getopt\n",
      "import sys,getopt\n",
      "import re\n",
      "from collections import defaultdict\n",
      "from searchStr import bruteSearch\n",
      "from searchStr import searchUTR\n",
      "\n",
      "# argv = sys.argv[1:]\n",
      "# input = ''\n",
      "# output = ''\n",
      "# usage = 'python ' + sys.argv[0] + ' -i <input>  -o <output>'\n",
      "# example = 'python ' + sys.argv[0] + ' -i <input>  -o <output>'\n",
      "# try:\n",
      "#     opts,args = getopt.getopt(argv,\"hp:s:o:\")\n",
      "# except getopt.GetoptError:\n",
      "#     print usage + \"\\n\" + example\n",
      "#     sys.exit(2)\n",
      "# for opt, arg in opts:\n",
      "#     if opt == '-h':\n",
      "#         print usage + \"\\n\" + example\n",
      "#         sys.exit()\n",
      "#     elif opt in (\"-c\"):\n",
      "#         cupidfile = arg\n",
      "#     elif opt in (\"-u\"):\n",
      "#         seqfile = arg\n",
      "#     elif opt in (\"-d\"):\n",
      "#         dnaseqfile = arg\n",
      "#     elif opt in (\"-o\"):\n",
      "#         outputfile = arg\n",
      "        \n",
      "# print('Input file--------------------:')\n",
      "# print(cupidfile)\n",
      "# print(seqfile)\n",
      "# print(dnaseqfile)\n",
      "# print('Output file---------')\n",
      "# print(outputfile)\n"
     ],
     "language": "python",
     "metadata": {},
     "outputs": [],
     "prompt_number": 2
    },
    {
     "cell_type": "code",
     "collapsed": false,
     "input": [
      "#-test\n",
      "seqfile = \"/Volumes//ifs/data/c2b2/ac_lab/jh3283/projFocus/data/cupidPrediction/3PrimeUTR\"\n",
      "cupidfile = \"/Volumes//ifs/data/c2b2/ac_lab/jh3283/projFocus/data/cupidPrediction/CupidPred\"\n",
      "dnaseqfile = \"/Volumes//ifs/data/c2b2/ac_lab/jh3283/projFocus/data/cupidPrediction/tempfile/refseq_hg19_refflat_cupid3pGene.fasta_Apr4.tsv_1\"\n",
      "outputfile = \"/Volumes//ifs/data/c2b2/ac_lab/jh3283/projFocus/data/miBS/mircoRNA_BindSite_cupidPredict.hg19.test\""
     ],
     "language": "python",
     "metadata": {},
     "outputs": [],
     "prompt_number": 3
    },
    {
     "cell_type": "code",
     "collapsed": false,
     "input": [
      "##load 3'UTR seqinfor\n",
      "seq3pUTR = defaultdict(list)\n",
      "cnt = 0\n",
      "with(open(seqfile)) as f:\n",
      "    line = f.readline()\n",
      "    while line:\n",
      "        if not re.match(\"^Symbol\", line):\n",
      "            _, genename, refseqid, _, seq  = re.split(r\":|\\s+\",line.strip())\n",
      "            seq3pUTR[genename].append(seq)\n",
      "            cnt = cnt+1\n",
      "        line = f.readline()\n",
      "print \"%s sequence for %s genes\" % (cnt, len(seq3pUTR.keys()) )"
     ],
     "language": "python",
     "metadata": {},
     "outputs": [
      {
       "output_type": "stream",
       "stream": "stdout",
       "text": [
        "20491 sequence for 18093 genes\n"
       ]
      }
     ],
     "prompt_number": 4
    },
    {
     "cell_type": "code",
     "collapsed": false,
     "input": [],
     "language": "python",
     "metadata": {},
     "outputs": [],
     "prompt_number": 9
    },
    {
     "cell_type": "code",
     "collapsed": false,
     "input": [
      "##get cupid prediction 57 bp seq\n",
      "miReBSD = defaultdict(list)\n",
      "\n",
      "cnt = 0\n",
      "with(open(cupidfile)) as f:\n",
      "    head = f.readline()\n",
      "    line = f.readline()\n",
      "    while line:\n",
      "        _, genename, refseqid, mir_crt, ps_crt, pe_crt = \\\n",
      "                re.split(r\":|\\s+|,\", line.strip().replace(\"[\",\"\").replace(\"]\",\"\"))\n",
      "        ps_crt = int(ps_crt)\n",
      "        pe_crt = int(pe_crt)\n",
      "        for gSeq in  seq3pUTR[genename]:\n",
      "            ps = max(ps_crt  - 1 - 25, 0)\n",
      "            pe = min(pe_crt + 25, len(gSeq) )\n",
      "            str(ps_crt - ps) + \":\" + gSeq[ps:pe] \n",
      "#             print genename, refseqid, mir_crt, ps_crt, pe_crt, ps, pe, gSeq[ps:pe]\n",
      "            miReBSD[genename].append([mir_crt, ps_crt - ps, pe_crt - ps , gSeq[ps:pe]])\n",
      "            cnt = cnt + 1\n",
      "        line = f.readline()"
     ],
     "language": "python",
     "metadata": {},
     "outputs": [],
     "prompt_number": 20
    },
    {
     "cell_type": "code",
     "collapsed": false,
     "input": [
      "##process DNA seq by gene\n",
      "cnt = 0\n",
      "\n",
      "def writeline(fileH, gene, mir, chr, ps, pe):\n",
      "    outRecord = mir + \"\\t\" + gene + \"\\t\" + \\\n",
      "                str(chr) + \":\" + str(ps) + \"-\" + str(pe)\n",
      "    fileH.write(outRecord + \"\\n\")\n",
      "\n",
      "outH = open(outputfile, 'wt')\n",
      "writeline(outH, \"targetGene\", \"microRNA\", \"chr\", \"bindStart\", \"bindEnd\")\n",
      "\n",
      "cntout = 0\n",
      "with(open(dnaseqfile)) as f:\n",
      "    line = f.readline()\n",
      "    while line:\n",
      "        cnt = cnt + 1\n",
      "        if cnt % 100 == 0 :\n",
      "            print \" %s line processed\" % cnt\n",
      "        gene, coord, seq  = line.strip().split(\"\\t\")\n",
      "        chrom, tss, tse = re.split(\":|-\", coord)\n",
      "        tss = int(tss)\n",
      "        miBSseq_crt = miReBSD.get(gene, '')\n",
      "        if miBSseq_crt:\n",
      "            for mir, bps, bpe, querySeq in miBSseq_crt:\n",
      "                for bsindex in searchUTR(querySeq, seq):\n",
      "                    coord_bps = tss + bsindex  + bps \n",
      "                    coord_bpe = tss + bsindex  + bpe\n",
      "                    writeline(outH, gene, mir, chrom, coord_bps, coord_bpe)\n",
      "                    cntout = cntout + 1\n",
      "            del miReBSD[gene]\n",
      "\n",
      "        if cnt > 2:\n",
      "            break\n",
      "        line = f.readline()\n",
      "      \n",
      "outH.close()\n",
      "\n",
      "print \"mir-target pair\" , cntout"
     ],
     "language": "python",
     "metadata": {},
     "outputs": [
      {
       "output_type": "stream",
       "stream": "stdout",
       "text": [
        "mir-target pair 216528\n"
       ]
      }
     ],
     "prompt_number": 26
    },
    {
     "cell_type": "code",
     "collapsed": false,
     "input": [],
     "language": "python",
     "metadata": {},
     "outputs": [
      {
       "output_type": "stream",
       "stream": "stdout",
       "text": [
        "/Users/jh3283/HOME/scripts/projFocus/ceRNA/model/pynotebook\n"
       ]
      }
     ],
     "prompt_number": 5
    },
    {
     "cell_type": "code",
     "collapsed": false,
     "input": [
      "\n"
     ],
     "language": "python",
     "metadata": {},
     "outputs": [],
     "prompt_number": 13
    },
    {
     "cell_type": "code",
     "collapsed": false,
     "input": [],
     "language": "python",
     "metadata": {},
     "outputs": []
    }
   ],
   "metadata": {}
  }
 ]
}