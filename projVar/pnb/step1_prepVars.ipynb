{
 "metadata": {
  "name": ""
 },
 "nbformat": 3,
 "nbformat_minor": 0,
 "worksheets": [
  {
   "cells": [
    {
     "cell_type": "code",
     "collapsed": false,
     "input": [
      "from Bio import SeqIO\n"
     ],
     "language": "python",
     "metadata": {},
     "outputs": [],
     "prompt_number": 6
    },
    {
     "cell_type": "code",
     "collapsed": false,
     "input": [
      "%%bash\n",
      "head -100000 /Volumes//ifs/data/c2b2/ngs_lab/ngs/resources/bwa_samtools_gatk_DB/wu_build36.fasta > test.ncbi36.fasta\n",
      "pwd"
     ],
     "language": "python",
     "metadata": {},
     "outputs": [
      {
       "output_type": "stream",
       "stream": "stdout",
       "text": [
        "/Users/jh3283/HOME/scripts/projVar/pnb\n"
       ]
      }
     ],
     "prompt_number": 15
    },
    {
     "cell_type": "code",
     "collapsed": false,
     "input": [
      "## extract header line of fasta file\n",
      "from time import time\n",
      "t0 = time()\n",
      "file = \"/Volumes//ifs/data/c2b2/ngs_lab/ngs/resources/bwa_samtools_gatk_DB/wu_build36.fasta\"\n",
      "file = \"/Users/jh3283/HOME/scripts/projVar/pnb/test.ncbi36.fasta\"\n",
      "hg_ncbi36_coord = []\n",
      "for seq_record in SeqIO.parse(file, \"fasta\"):\n",
      "     hg_ncbi36_coord.append(seq_record.description.split(\":\")[-4:-1])\n",
      "t1 = time()\n",
      "print hg_ncbi36_coord\n",
      "print t1-t0"
     ],
     "language": "python",
     "metadata": {},
     "outputs": [
      {
       "output_type": "stream",
       "stream": "stdout",
       "text": [
        "[['1', '1', '247249719']]\n",
        "0.792675971985\n"
       ]
      }
     ],
     "prompt_number": 31
    },
    {
     "cell_type": "code",
     "collapsed": false,
     "input": [
      "## extract header line of fasta file \n",
      "import re\n",
      "t0 = time()\n",
      "file = \"/Volumes//ifs/data/c2b2/ngs_lab/ngs/resources/bwa_samtools_gatk_DB/wu_build36.fasta.chrom_length\"\n"
     ],
     "language": "python",
     "metadata": {},
     "outputs": [],
     "prompt_number": 36
    },
    {
     "cell_type": "code",
     "collapsed": false,
     "input": [
      "## store chrom length\n",
      "chromL = map(str, range(1,23) ) + ['X', 'Y']\n",
      "\n",
      "from collections import defaultdict\n",
      "chromLenD = defaultdict(int)\n",
      "\n",
      "with open(file) as f:\n",
      "    line = f.readline()\n",
      "    while line:\n",
      "        if line[0] in ['M', 'N']:\n",
      "            line = f.readline()\n",
      "            continue\n",
      "        chrom, ps, pe = line.strip().split(\"\\t\")\n",
      "        chromLenD[chromL.index(chrom) + 1] = int(pe) + 1\n",
      "        line = f.readline()\n"
     ],
     "language": "python",
     "metadata": {},
     "outputs": [],
     "prompt_number": 86
    },
    {
     "cell_type": "code",
     "collapsed": false,
     "input": [
      "def genRandPtMut(n):\n",
      "    rdMut = defaultdict(list)\n",
      "    for i in range(n):\n",
      "        rdChr = randint(1,25)\n",
      "        rdPos = randint(1,chromLenD[rdChr])\n",
      "        rdMut[rdChr].append(rdPos)\n",
      "    return rdMut\n",
      "    "
     ],
     "language": "python",
     "metadata": {},
     "outputs": [],
     "prompt_number": 113
    },
    {
     "cell_type": "code",
     "collapsed": false,
     "input": [
      "rdMut1D = genRandPtMut(20)\n",
      "somMut1D = genRandPtMut(4)"
     ],
     "language": "python",
     "metadata": {},
     "outputs": [],
     "prompt_number": 125
    },
    {
     "cell_type": "code",
     "collapsed": false,
     "input": [
      "print rdMut1D\n",
      "somMut1D[rdMut1D.keys()[1]].extend(rdMut1D.values()[:])\n",
      "print somMut1D"
     ],
     "language": "python",
     "metadata": {},
     "outputs": [
      {
       "output_type": "stream",
       "stream": "stdout",
       "text": [
        "defaultdict(<type 'list'>, {2: [23359156, 73452919, 106707085], 5: [46510736, 79591766], 6: [12846858], 8: [86617395], 9: [32754579, 78596737], 10: [32655177], 14: [59616307], 15: [97014640], 16: [33023219, 10412912], 21: [23202908, 7680924], 22: [31264365]})\n",
        "defaultdict(<type 'list'>, {1: [31182800], 4: [74149730, 139857907, 126693118], 5: [46510736, 79591766, [23359156, 73452919, 106707085], [46510736, 79591766], [12846858], [86617395], [32754579, 78596737], [32655177], [59616307], [97014640], [33023219, 10412912], [23202908, 7680924], [31264365]], 6: [68346221], 22: [45491671], 23: [100564595]})\n"
       ]
      }
     ],
     "prompt_number": 145
    },
    {
     "cell_type": "code",
     "collapsed": false,
     "input": [
      "def rmSomFromRandMut(rdMut, smMut):\n",
      "    '''\n",
      "    work on list of each algorithm\n",
      "    '''\n",
      "    for k,vL in rdMut.items():\n",
      "        if smMut.get(k, 0) == 0: \n",
      "           continue \n",
      "        vNewL = [ v for v in vL if v not in smMut[k]]\n",
      "        if vNewL:\n",
      "            rdMut[k] = vNewL\n",
      "        else:\n",
      "            del rdMut[k]     \n",
      "    return rdMut\n",
      "#     return dict((k,v) for k,v in rdMut.iteritems() if v)"
     ],
     "language": "python",
     "metadata": {},
     "outputs": [],
     "prompt_number": 143
    },
    {
     "cell_type": "code",
     "collapsed": false,
     "input": [
      "randMutD = rmSomFromRandMut(rdMut1D, somMut1D)\n",
      "import pickle \n",
      "pickle.dump(randMutD, open(output  +\".pkl\",\"rb\"))"
     ],
     "language": "python",
     "metadata": {},
     "outputs": [
      {
       "output_type": "stream",
       "stream": "stdout",
       "text": [
        "defaultdict(<type 'list'>, {2: [23359156, 73452919, 106707085], 6: [12846858], 8: [86617395], 9: [32754579, 78596737], 10: [32655177], 14: [59616307], 15: [97014640], 16: [33023219, 10412912], 21: [23202908, 7680924], 22: [31264365]})\n",
        "defaultdict(<type 'list'>, {1: [31182800], 4: [74149730, 139857907, 126693118], 5: [46510736, 79591766, [23359156, 73452919, 106707085], [46510736, 79591766], [12846858], [86617395], [32754579, 78596737], [32655177], [59616307], [97014640], [33023219, 10412912], [23202908, 7680924], [31264365]], 6: [68346221], 22: [45491671], 23: [100564595]})\n",
        "{2: [23359156, 73452919, 106707085], 6: [12846858], 8: [86617395], 9: [32754579, 78596737], 10: [32655177], 14: [59616307], 15: [97014640], 16: [33023219, 10412912], 21: [23202908, 7680924], 22: [31264365]}\n"
       ]
      }
     ],
     "prompt_number": 147
    },
    {
     "cell_type": "code",
     "collapsed": false,
     "input": [
      "somfile = "
     ],
     "language": "python",
     "metadata": {},
     "outputs": [],
     "prompt_number": 150
    },
    {
     "cell_type": "code",
     "collapsed": false,
     "input": [],
     "language": "python",
     "metadata": {},
     "outputs": []
    }
   ],
   "metadata": {}
  }
 ]
}